{
 "cells": [
  {
   "cell_type": "code",
   "execution_count": 2,
   "id": "b326fcfb",
   "metadata": {},
   "outputs": [],
   "source": [
    "import pandas as pd\n",
    "import numpy as np\n",
    "import glob"
   ]
  },
  {
   "cell_type": "code",
   "execution_count": null,
   "id": "f8d89800",
   "metadata": {},
   "outputs": [],
   "source": [
    "#WAR = (Batting Runs + Base Running Runs + Fielding Runs + Positional Adjustment + League Adjustment +Replacement Runs) / (Runs Per Win)\n",
    "#Need to calculate each indivudal statistic."
   ]
  },
  {
   "cell_type": "code",
   "execution_count": 1,
   "id": "eecf67c5",
   "metadata": {},
   "outputs": [
    {
     "name": "stdout",
     "output_type": "stream",
     "text": [
      "             Batter  Batting Runs  Replacement Runs       WAR\n",
      "0      Cole Freeman          4.46          1.133333  0.332667\n",
      "1     Kannon Kleine          2.73          0.866667  0.186333\n",
      "2    Zach Zychowski          4.99          1.400000  0.359000\n",
      "3      Ryan Colucci          2.71          0.600000  0.211000\n",
      "4     Michael Kuska          5.51          0.966667  0.454333\n",
      "5    Charlie Graham          2.40          0.533333  0.186667\n",
      "6       Caleb Royer          8.24          1.400000  0.684000\n",
      "7   Nolan McCrossin          6.98          1.166667  0.581333\n",
      "8        Jack Novak          8.07          1.266667  0.680333\n",
      "9      Shea Zbrozek          7.44          1.300000  0.614000\n",
      "10   Tyler Thompson          9.87          1.566667  0.830333\n",
      "11    Jackson Smith         11.19          1.700000  0.949000\n",
      "12   Jackson Stanek          6.69          0.933333  0.575667\n"
     ]
    }
   ],
   "source": [
    "import pandas as pd\n",
    "import numpy as np\n",
    "\n",
    "# Load your CSV\n",
    "bat_df = pd.read_csv('C:/Users/isu_mvquirk_admin/Documents/GitHub/Kernelytics-Projects/BaseballSavant/beltersStats.csv')\n",
    "\n",
    "# Ensure numeric columns\n",
    "bat_df['PA'] = pd.to_numeric(bat_df['PA'], errors='coerce').fillna(0)\n",
    "bat_df['H'] = pd.to_numeric(bat_df['H'], errors='coerce').fillna(0)\n",
    "bat_df['2B'] = pd.to_numeric(bat_df['2B'], errors='coerce').fillna(0)\n",
    "bat_df['3B'] = pd.to_numeric(bat_df['3B'], errors='coerce').fillna(0)\n",
    "bat_df['HR'] = pd.to_numeric(bat_df['HR'], errors='coerce').fillna(0)\n",
    "bat_df['BB'] = pd.to_numeric(bat_df['BB'], errors='coerce').fillna(0)\n",
    "bat_df['HBP'] = pd.to_numeric(bat_df['HBP'], errors='coerce').fillna(0)\n",
    "\n",
    "# Calculate singles\n",
    "bat_df['1B'] = bat_df['H'] - bat_df['2B'] - bat_df['3B'] - bat_df['HR']\n",
    "\n",
    "# Linear weights (approximate)\n",
    "lwts = {'1B': 0.47, '2B': 0.78, '3B': 1.09, 'HR': 1.40, 'BB': 0.33, 'HBP': 0.33}\n",
    "\n",
    "# Batting Runs\n",
    "bat_df['Batting Runs'] = (\n",
    "    bat_df['1B'] * lwts['1B'] +\n",
    "    bat_df['2B'] * lwts['2B'] +\n",
    "    bat_df['3B'] * lwts['3B'] +\n",
    "    bat_df['HR'] * lwts['HR'] +\n",
    "    bat_df['BB'] * lwts['BB'] +\n",
    "    bat_df['HBP'] * lwts['HBP']\n",
    ")\n",
    "\n",
    "# Base Running Runs and Fielding Runs disregarded (set to 0)\n",
    "bat_df['Base Running Runs'] = 0\n",
    "bat_df['Fielding Runs'] = 0\n",
    "\n",
    "# Replacement Runs (20 runs per 600 PA)\n",
    "bat_df['Replacement Runs'] = 20 * (bat_df['PA'] / 600)\n",
    "\n",
    "# Runs Per Win\n",
    "runs_per_win = 10\n",
    "\n",
    "# WAR calculation\n",
    "bat_df['WAR'] = (\n",
    "    bat_df['Batting Runs'] +\n",
    "    bat_df['Base Running Runs'] +\n",
    "    bat_df['Fielding Runs'] -\n",
    "    bat_df['Replacement Runs']\n",
    ") / runs_per_win\n",
    "\n",
    "# Show results\n",
    "print(bat_df[['Batter', 'Batting Runs', 'Replacement Runs', 'WAR']])"
   ]
  },
  {
   "cell_type": "code",
   "execution_count": null,
   "id": "aa549e9e",
   "metadata": {},
   "outputs": [],
   "source": []
  }
 ],
 "metadata": {
  "kernelspec": {
   "display_name": "Python 3",
   "language": "python",
   "name": "python3"
  },
  "language_info": {
   "codemirror_mode": {
    "name": "ipython",
    "version": 3
   },
   "file_extension": ".py",
   "mimetype": "text/x-python",
   "name": "python",
   "nbconvert_exporter": "python",
   "pygments_lexer": "ipython3",
   "version": "3.10.7"
  }
 },
 "nbformat": 4,
 "nbformat_minor": 5
}
