{
 "cells": [
  {
   "cell_type": "code",
   "execution_count": null,
   "id": "32000aa3",
   "metadata": {},
   "outputs": [],
   "source": [
    "import glob\n",
    "import pandas as pd\n",
    "cornbelters_files = glob.glob(\"../CornBeltersData/*.csv\")\n",
    "kcl_files = glob.glob(\"../kclData/*.csv\")\n",
    "all_files = cornbelters_files + kcl_files\n",
    "\n",
    "# Read and concatenate all CSVs into one DataFrame\n",
    "xba_data_list = [pd.read_csv(f) for f in all_files]\n",
    "df = pd.concat(xba_data_list, ignore_index=True)\n",
    "df.to_csv('2025.csv', index=False)"
   ]
  },
  {
   "cell_type": "code",
   "execution_count": null,
   "id": "ac155746",
   "metadata": {},
   "outputs": [],
   "source": []
  }
 ],
 "metadata": {
  "kernelspec": {
   "display_name": "Python 3",
   "language": "python",
   "name": "python3"
  },
  "language_info": {
   "codemirror_mode": {
    "name": "ipython",
    "version": 3
   },
   "file_extension": ".py",
   "mimetype": "text/x-python",
   "name": "python",
   "nbconvert_exporter": "python",
   "pygments_lexer": "ipython3",
   "version": "3.10.7"
  }
 },
 "nbformat": 4,
 "nbformat_minor": 5
}
