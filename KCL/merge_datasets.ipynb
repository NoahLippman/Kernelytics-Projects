{
 "cells": [
  {
   "cell_type": "code",
   "execution_count": null,
   "id": "32000aa3",
   "metadata": {},
   "outputs": [],
   "source": [
    "import pandas as pd\n",
    "import glob\n",
    "cornbelters_files = glob.glob(\"../KCLData/*.csv\")\n",
    "\n",
    "all_files = cornbelters_files \n",
    "\n",
    "# Read and concatenate all CSVs into one DataFrame\n",
    "xba_data_list = [pd.read_csv(f) for f in all_files]\n",
    "df = pd.concat(xba_data_list, ignore_index=True)\n",
    "df.to_csv('Data/2025.csv', index=False)"
   ]
  }
 ],
 "metadata": {
  "language_info": {
   "name": "python"
  }
 },
 "nbformat": 4,
 "nbformat_minor": 5
}
