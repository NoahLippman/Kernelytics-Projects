{
 "cells": [
  {
   "cell_type": "code",
   "execution_count": 2,
   "id": "6b5c3519",
   "metadata": {},
   "outputs": [],
   "source": [
    "import pandas as pd"
   ]
  },
  {
   "cell_type": "code",
   "execution_count": 3,
   "id": "aaf435b7",
   "metadata": {},
   "outputs": [],
   "source": [
    "df = pd.read_csv('modified_yakkertech_file.csv')"
   ]
  },
  {
   "cell_type": "code",
   "execution_count": null,
   "id": "0e2d86ca",
   "metadata": {},
   "outputs": [
    {
     "data": {
      "text/plain": [
       "['Roy Rolston',\n",
       " 'Devan Tupper',\n",
       " 'Nolan Bowles',\n",
       " 'Joe Stellano',\n",
       " 'Caleb Ochs',\n",
       " 'Payton Knoll',\n",
       " 'Marshall Ingold',\n",
       " 'Ethan Robbins',\n",
       " 'Cole Mcclusky',\n",
       " 'Connor Hale']"
      ]
     },
     "execution_count": 12,
     "metadata": {},
     "output_type": "execute_result"
    }
   ],
   "source": [
    "pitcher_names = df['Pitcher'].unique().tolist()"
   ]
  },
  {
   "cell_type": "code",
   "execution_count": 13,
   "id": "a62b8f59",
   "metadata": {},
   "outputs": [],
   "source": [
    "pitcher_teams = (df.sort_values('Date', ascending=False)\n",
    "                 .groupby('Pitcher')\n",
    "                 .agg({'PitcherTeam': 'first'})\n",
    "                 .reset_index())"
   ]
  },
  {
   "cell_type": "code",
   "execution_count": 14,
   "id": "5227b614",
   "metadata": {},
   "outputs": [],
   "source": [
    "pitcher_teams.columns = ['Pitcher', 'PitcherTeam']"
   ]
  },
  {
   "cell_type": "code",
   "execution_count": 15,
   "id": "f5a31a10",
   "metadata": {},
   "outputs": [
    {
     "data": {
      "text/html": [
       "<div>\n",
       "<style scoped>\n",
       "    .dataframe tbody tr th:only-of-type {\n",
       "        vertical-align: middle;\n",
       "    }\n",
       "\n",
       "    .dataframe tbody tr th {\n",
       "        vertical-align: top;\n",
       "    }\n",
       "\n",
       "    .dataframe thead th {\n",
       "        text-align: right;\n",
       "    }\n",
       "</style>\n",
       "<table border=\"1\" class=\"dataframe\">\n",
       "  <thead>\n",
       "    <tr style=\"text-align: right;\">\n",
       "      <th></th>\n",
       "      <th>Pitcher</th>\n",
       "      <th>PitcherTeam</th>\n",
       "    </tr>\n",
       "  </thead>\n",
       "  <tbody>\n",
       "    <tr>\n",
       "      <th>0</th>\n",
       "      <td>Caleb Ochs</td>\n",
       "      <td>Kcl merchants 2025</td>\n",
       "    </tr>\n",
       "    <tr>\n",
       "      <th>1</th>\n",
       "      <td>Cole Mcclusky</td>\n",
       "      <td>Kcl bluecaps 2025</td>\n",
       "    </tr>\n",
       "    <tr>\n",
       "      <th>2</th>\n",
       "      <td>Connor Hale</td>\n",
       "      <td>Kcl bobcats 2025</td>\n",
       "    </tr>\n",
       "    <tr>\n",
       "      <th>3</th>\n",
       "      <td>Devan Tupper</td>\n",
       "      <td>Kcl groundsloths 2025</td>\n",
       "    </tr>\n",
       "    <tr>\n",
       "      <th>4</th>\n",
       "      <td>Ethan Robbins</td>\n",
       "      <td>Kcl bluecaps 2025</td>\n",
       "    </tr>\n",
       "    <tr>\n",
       "      <th>5</th>\n",
       "      <td>Joe Stellano</td>\n",
       "      <td>Kcl merchants 2025</td>\n",
       "    </tr>\n",
       "    <tr>\n",
       "      <th>6</th>\n",
       "      <td>Marshall Ingold</td>\n",
       "      <td>Kcl bobcats 2025</td>\n",
       "    </tr>\n",
       "    <tr>\n",
       "      <th>7</th>\n",
       "      <td>Nolan Bowles</td>\n",
       "      <td>Kcl groundsloths 2025</td>\n",
       "    </tr>\n",
       "    <tr>\n",
       "      <th>8</th>\n",
       "      <td>Payton Knoll</td>\n",
       "      <td>Kcl bluecaps 2025</td>\n",
       "    </tr>\n",
       "    <tr>\n",
       "      <th>9</th>\n",
       "      <td>Roy Rolston</td>\n",
       "      <td>Kcl merchants 2025</td>\n",
       "    </tr>\n",
       "  </tbody>\n",
       "</table>\n",
       "</div>"
      ],
      "text/plain": [
       "           Pitcher            PitcherTeam\n",
       "0       Caleb Ochs     Kcl merchants 2025\n",
       "1    Cole Mcclusky      Kcl bluecaps 2025\n",
       "2      Connor Hale       Kcl bobcats 2025\n",
       "3     Devan Tupper  Kcl groundsloths 2025\n",
       "4    Ethan Robbins      Kcl bluecaps 2025\n",
       "5     Joe Stellano     Kcl merchants 2025\n",
       "6  Marshall Ingold       Kcl bobcats 2025\n",
       "7     Nolan Bowles  Kcl groundsloths 2025\n",
       "8     Payton Knoll      Kcl bluecaps 2025\n",
       "9      Roy Rolston     Kcl merchants 2025"
      ]
     },
     "execution_count": 15,
     "metadata": {},
     "output_type": "execute_result"
    }
   ],
   "source": [
    "pitcher_teams"
   ]
  },
  {
   "cell_type": "code",
   "execution_count": 2,
   "id": "7017836e",
   "metadata": {},
   "outputs": [],
   "source": [
    "import pandas as pd"
   ]
  },
  {
   "cell_type": "code",
   "execution_count": 3,
   "id": "8b3e3933",
   "metadata": {},
   "outputs": [],
   "source": [
    "df = pd.read_csv('Data/2025.csv')"
   ]
  },
  {
   "cell_type": "code",
   "execution_count": 4,
   "id": "838c85de",
   "metadata": {},
   "outputs": [],
   "source": [
    "df = df[df['BatterTeam'] =='Kcl bluecaps 2025']"
   ]
  },
  {
   "cell_type": "code",
   "execution_count": 5,
   "id": "68c41bca",
   "metadata": {},
   "outputs": [],
   "source": [
    "df = df[(df['Outs'] == 2) & (df['PlayResult'].isin(['Single', 'Double', 'Triple', 'HomeRun']))]"
   ]
  },
  {
   "cell_type": "code",
   "execution_count": 6,
   "id": "9102433e",
   "metadata": {},
   "outputs": [],
   "source": [
    "df = df[['Batter','PlayResult']]"
   ]
  },
  {
   "cell_type": "code",
   "execution_count": 7,
   "id": "37728407",
   "metadata": {},
   "outputs": [],
   "source": [
    "playresult_counts = df.groupby('Batter')['PlayResult'].count().reset_index(name='playresult_count')"
   ]
  },
  {
   "cell_type": "code",
   "execution_count": null,
   "id": "1f42a3c4",
   "metadata": {},
   "outputs": [
    {
     "data": {
      "text/html": [
       "<div>\n",
       "<style scoped>\n",
       "    .dataframe tbody tr th:only-of-type {\n",
       "        vertical-align: middle;\n",
       "    }\n",
       "\n",
       "    .dataframe tbody tr th {\n",
       "        vertical-align: top;\n",
       "    }\n",
       "\n",
       "    .dataframe thead th {\n",
       "        text-align: right;\n",
       "    }\n",
       "</style>\n",
       "<table border=\"1\" class=\"dataframe\">\n",
       "  <thead>\n",
       "    <tr style=\"text-align: right;\">\n",
       "      <th></th>\n",
       "      <th>Batter</th>\n",
       "      <th>playresult_count</th>\n",
       "    </tr>\n",
       "  </thead>\n",
       "  <tbody>\n",
       "    <tr>\n",
       "      <th>0</th>\n",
       "      <td>Braxton Waller</td>\n",
       "      <td>4</td>\n",
       "    </tr>\n",
       "    <tr>\n",
       "      <th>1</th>\n",
       "      <td>Cal Darling</td>\n",
       "      <td>1</td>\n",
       "    </tr>\n",
       "    <tr>\n",
       "      <th>2</th>\n",
       "      <td>Cameron Anderson</td>\n",
       "      <td>1</td>\n",
       "    </tr>\n",
       "    <tr>\n",
       "      <th>3</th>\n",
       "      <td>Chase Peterson</td>\n",
       "      <td>1</td>\n",
       "    </tr>\n",
       "    <tr>\n",
       "      <th>4</th>\n",
       "      <td>Ethan Hamrick</td>\n",
       "      <td>3</td>\n",
       "    </tr>\n",
       "    <tr>\n",
       "      <th>5</th>\n",
       "      <td>Grayson Schnierle</td>\n",
       "      <td>2</td>\n",
       "    </tr>\n",
       "    <tr>\n",
       "      <th>6</th>\n",
       "      <td>Jake Morrill</td>\n",
       "      <td>1</td>\n",
       "    </tr>\n",
       "    <tr>\n",
       "      <th>7</th>\n",
       "      <td>Josh Eisfelder</td>\n",
       "      <td>1</td>\n",
       "    </tr>\n",
       "    <tr>\n",
       "      <th>8</th>\n",
       "      <td>Michael Lucas</td>\n",
       "      <td>2</td>\n",
       "    </tr>\n",
       "    <tr>\n",
       "      <th>9</th>\n",
       "      <td>Owen Laroe</td>\n",
       "      <td>1</td>\n",
       "    </tr>\n",
       "    <tr>\n",
       "      <th>10</th>\n",
       "      <td>Riley Hendren</td>\n",
       "      <td>2</td>\n",
       "    </tr>\n",
       "    <tr>\n",
       "      <th>11</th>\n",
       "      <td>Trey Blanchette</td>\n",
       "      <td>7</td>\n",
       "    </tr>\n",
       "    <tr>\n",
       "      <th>12</th>\n",
       "      <td>Trey Schilling</td>\n",
       "      <td>2</td>\n",
       "    </tr>\n",
       "  </tbody>\n",
       "</table>\n",
       "</div>"
      ],
      "text/plain": [
       "               Batter  playresult_count\n",
       "0      Braxton Waller                 4\n",
       "1         Cal Darling                 1\n",
       "2    Cameron Anderson                 1\n",
       "3      Chase Peterson                 1\n",
       "4       Ethan Hamrick                 3\n",
       "5   Grayson Schnierle                 2\n",
       "6        Jake Morrill                 1\n",
       "7      Josh Eisfelder                 1\n",
       "8       Michael Lucas                 2\n",
       "9          Owen Laroe                 1\n",
       "10      Riley Hendren                 2\n",
       "11    Trey Blanchette                 7\n",
       "12     Trey Schilling                 2"
      ]
     },
     "execution_count": 8,
     "metadata": {},
     "output_type": "execute_result"
    },
    {
     "ename": "",
     "evalue": "",
     "output_type": "error",
     "traceback": [
      "\u001b[1;31mThe Kernel crashed while executing code in the current cell or a previous cell. \n",
      "\u001b[1;31mPlease review the code in the cell(s) to identify a possible cause of the failure. \n",
      "\u001b[1;31mClick <a href='https://aka.ms/vscodeJupyterKernelCrash'>here</a> for more info. \n",
      "\u001b[1;31mView Jupyter <a href='command:jupyter.viewOutput'>log</a> for further details."
     ]
    }
   ],
   "source": [
    "playresult_counts\n",
    "\n"
   ]
  },
  {
   "cell_type": "code",
   "execution_count": null,
   "id": "d80bd17e",
   "metadata": {},
   "outputs": [],
   "source": []
  }
 ],
 "metadata": {
  "kernelspec": {
   "display_name": "Python 3",
   "language": "python",
   "name": "python3"
  },
  "language_info": {
   "codemirror_mode": {
    "name": "ipython",
    "version": 3
   },
   "file_extension": ".py",
   "mimetype": "text/x-python",
   "name": "python",
   "nbconvert_exporter": "python",
   "pygments_lexer": "ipython3",
   "version": "3.10.7"
  }
 },
 "nbformat": 4,
 "nbformat_minor": 5
}
