{
 "cells": [
  {
   "cell_type": "code",
   "execution_count": 2,
   "id": "6b5c3519",
   "metadata": {},
   "outputs": [],
   "source": [
    "import pandas as pd"
   ]
  },
  {
   "cell_type": "code",
   "execution_count": 3,
   "id": "aaf435b7",
   "metadata": {},
   "outputs": [],
   "source": [
    "df = pd.read_csv('modified_yakkertech_file.csv')"
   ]
  },
  {
   "cell_type": "code",
   "execution_count": null,
   "id": "0e2d86ca",
   "metadata": {},
   "outputs": [
    {
     "data": {
      "text/plain": [
       "['Roy Rolston',\n",
       " 'Devan Tupper',\n",
       " 'Nolan Bowles',\n",
       " 'Joe Stellano',\n",
       " 'Caleb Ochs',\n",
       " 'Payton Knoll',\n",
       " 'Marshall Ingold',\n",
       " 'Ethan Robbins',\n",
       " 'Cole Mcclusky',\n",
       " 'Connor Hale']"
      ]
     },
     "execution_count": 12,
     "metadata": {},
     "output_type": "execute_result"
    }
   ],
   "source": [
    "pitcher_names = df['Pitcher'].unique().tolist()"
   ]
  },
  {
   "cell_type": "code",
   "execution_count": 13,
   "id": "a62b8f59",
   "metadata": {},
   "outputs": [],
   "source": [
    "pitcher_teams = (df.sort_values('Date', ascending=False)\n",
    "                 .groupby('Pitcher')\n",
    "                 .agg({'PitcherTeam': 'first'})\n",
    "                 .reset_index())"
   ]
  },
  {
   "cell_type": "code",
   "execution_count": 14,
   "id": "5227b614",
   "metadata": {},
   "outputs": [],
   "source": [
    "pitcher_teams.columns = ['Pitcher', 'PitcherTeam']"
   ]
  },
  {
   "cell_type": "code",
   "execution_count": 15,
   "id": "f5a31a10",
   "metadata": {},
   "outputs": [
    {
     "data": {
      "text/html": [
       "<div>\n",
       "<style scoped>\n",
       "    .dataframe tbody tr th:only-of-type {\n",
       "        vertical-align: middle;\n",
       "    }\n",
       "\n",
       "    .dataframe tbody tr th {\n",
       "        vertical-align: top;\n",
       "    }\n",
       "\n",
       "    .dataframe thead th {\n",
       "        text-align: right;\n",
       "    }\n",
       "</style>\n",
       "<table border=\"1\" class=\"dataframe\">\n",
       "  <thead>\n",
       "    <tr style=\"text-align: right;\">\n",
       "      <th></th>\n",
       "      <th>Pitcher</th>\n",
       "      <th>PitcherTeam</th>\n",
       "    </tr>\n",
       "  </thead>\n",
       "  <tbody>\n",
       "    <tr>\n",
       "      <th>0</th>\n",
       "      <td>Caleb Ochs</td>\n",
       "      <td>Kcl merchants 2025</td>\n",
       "    </tr>\n",
       "    <tr>\n",
       "      <th>1</th>\n",
       "      <td>Cole Mcclusky</td>\n",
       "      <td>Kcl bluecaps 2025</td>\n",
       "    </tr>\n",
       "    <tr>\n",
       "      <th>2</th>\n",
       "      <td>Connor Hale</td>\n",
       "      <td>Kcl bobcats 2025</td>\n",
       "    </tr>\n",
       "    <tr>\n",
       "      <th>3</th>\n",
       "      <td>Devan Tupper</td>\n",
       "      <td>Kcl groundsloths 2025</td>\n",
       "    </tr>\n",
       "    <tr>\n",
       "      <th>4</th>\n",
       "      <td>Ethan Robbins</td>\n",
       "      <td>Kcl bluecaps 2025</td>\n",
       "    </tr>\n",
       "    <tr>\n",
       "      <th>5</th>\n",
       "      <td>Joe Stellano</td>\n",
       "      <td>Kcl merchants 2025</td>\n",
       "    </tr>\n",
       "    <tr>\n",
       "      <th>6</th>\n",
       "      <td>Marshall Ingold</td>\n",
       "      <td>Kcl bobcats 2025</td>\n",
       "    </tr>\n",
       "    <tr>\n",
       "      <th>7</th>\n",
       "      <td>Nolan Bowles</td>\n",
       "      <td>Kcl groundsloths 2025</td>\n",
       "    </tr>\n",
       "    <tr>\n",
       "      <th>8</th>\n",
       "      <td>Payton Knoll</td>\n",
       "      <td>Kcl bluecaps 2025</td>\n",
       "    </tr>\n",
       "    <tr>\n",
       "      <th>9</th>\n",
       "      <td>Roy Rolston</td>\n",
       "      <td>Kcl merchants 2025</td>\n",
       "    </tr>\n",
       "  </tbody>\n",
       "</table>\n",
       "</div>"
      ],
      "text/plain": [
       "           Pitcher            PitcherTeam\n",
       "0       Caleb Ochs     Kcl merchants 2025\n",
       "1    Cole Mcclusky      Kcl bluecaps 2025\n",
       "2      Connor Hale       Kcl bobcats 2025\n",
       "3     Devan Tupper  Kcl groundsloths 2025\n",
       "4    Ethan Robbins      Kcl bluecaps 2025\n",
       "5     Joe Stellano     Kcl merchants 2025\n",
       "6  Marshall Ingold       Kcl bobcats 2025\n",
       "7     Nolan Bowles  Kcl groundsloths 2025\n",
       "8     Payton Knoll      Kcl bluecaps 2025\n",
       "9      Roy Rolston     Kcl merchants 2025"
      ]
     },
     "execution_count": 15,
     "metadata": {},
     "output_type": "execute_result"
    }
   ],
   "source": [
    "pitcher_teams"
   ]
  },
  {
   "cell_type": "code",
   "execution_count": null,
   "id": "8b3e3933",
   "metadata": {},
   "outputs": [],
   "source": []
  }
 ],
 "metadata": {
  "kernelspec": {
   "display_name": "Python 3",
   "language": "python",
   "name": "python3"
  },
  "language_info": {
   "codemirror_mode": {
    "name": "ipython",
    "version": 3
   },
   "file_extension": ".py",
   "mimetype": "text/x-python",
   "name": "python",
   "nbconvert_exporter": "python",
   "pygments_lexer": "ipython3",
   "version": "3.10.7"
  }
 },
 "nbformat": 4,
 "nbformat_minor": 5
}
