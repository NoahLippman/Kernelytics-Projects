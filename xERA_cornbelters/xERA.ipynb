{
 "cells": [
  {
   "cell_type": "code",
   "execution_count": null,
   "id": "187eedb8",
   "metadata": {},
   "outputs": [],
   "source": [
    "import pandas as pd\n",
    "import glob "
   ]
  },
  {
   "cell_type": "code",
   "execution_count": null,
   "id": "488804b7",
   "metadata": {},
   "outputs": [],
   "source": [
    "cornbelters_files = glob.glob(\"../CornBeltersData/*.csv\")\n",
    "kcl_files = glob.glob(\"../kclData/*.csv\")\n",
    "\n",
    "\n",
    "# Read and concatenate all CSVs into one DataFrame\n",
    "cornbelters  = [pd.read_csv(f) for f in cornbelters_files]\n",
    "kcl = [pd.read_csv(f) for f in kcl_files]\n",
    "kcl_df = pd.concat(kcl, ignore_index=True)\n",
    "cornbelters_df = pd.concat(cornbelters, ignore_index=True)\n"
   ]
  }
 ],
 "metadata": {
  "language_info": {
   "name": "python"
  }
 },
 "nbformat": 4,
 "nbformat_minor": 5
}
