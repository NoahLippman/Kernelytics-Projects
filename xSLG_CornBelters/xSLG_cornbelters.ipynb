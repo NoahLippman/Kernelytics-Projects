{
 "cells": [
  {
   "cell_type": "code",
   "execution_count": null,
   "id": "a67c8ecd",
   "metadata": {},
   "outputs": [
    {
     "name": "stdout",
     "output_type": "stream",
     "text": [
      "             Batter  xSLG_per_AB  xSLG_percentile  AB\n",
      "0       Caleb Royer     0.661376         1.000000  21\n",
      "2      Cole Freeman     0.484444         0.923077  25\n",
      "11   Tyler Thompson     0.469349         0.846154  29\n",
      "4     Jackson Smith     0.420420         0.769231  37\n",
      "3        Jack Novak     0.398467         0.692308  29\n",
      "10     Shea Zbrozek     0.318376         0.615385  26\n",
      "5    Jackson Stanek     0.312169         0.538462  21\n",
      "8   Nolan Mccrossin     0.291667         0.461538  24\n",
      "12   Zach Zychowski     0.284188         0.384615  26\n",
      "7     Michael Kuska     0.196970         0.307692  11\n",
      "1    Charlie Graham     0.161616         0.230769  11\n",
      "6     Kannan Kleine     0.111111         0.153846   6\n",
      "9      Ryan Colucci     0.072650         0.076923  13\n"
     ]
    },
    {
     "ename": "",
     "evalue": "",
     "output_type": "error",
     "traceback": [
      "\u001b[1;31mThe Kernel crashed while executing code in the current cell or a previous cell. \n",
      "\u001b[1;31mPlease review the code in the cell(s) to identify a possible cause of the failure. \n",
      "\u001b[1;31mClick <a href='https://aka.ms/vscodeJupyterKernelCrash'>here</a> for more info. \n",
      "\u001b[1;31mView Jupyter <a href='command:jupyter.viewOutput'>log</a> for further details."
     ]
    }
   ],
   "source": [
    "import pandas as pd\n",
    "\n",
    "# Load the CSV\n",
    "df = pd.read_csv(\"cornbelters_xSLG_data.csv\")\n",
    "df = df[df['BatterTeam'] == 'Normal cornbelters']\n",
    "# Define what counts as an AB (at-bat)\n",
    "# Exclude: Walks, HitByPitch, Sacrifice, CatcherInterference, IntentionalWalk, etc.\n",
    "# Include: Out, Error, FieldersChoice, Single, Double, Triple, HomeRun, etc.\n",
    "\n",
    "# You may need to adjust these based on your dataset's PlayResult or KorBB values\n",
    "not_ab = [\n",
    "    \"Walk\", \"IntentionalWalk\", \"HitByPitch\", \"SacrificeBunt\", \"SacrificeFly\", \"CatcherInterference\"\n",
    "]\n",
    "# If you have a column for PlayResult or KorBB, use it to filter\n",
    "ab_mask = ~df[\"PlayResult\"].isin(not_ab)\n",
    "\n",
    "# Group by batter and calculate xSLG/AB\n",
    "result = (\n",
    "    df[ab_mask]\n",
    "    .groupby(\"Batter\")\n",
    "    .agg(\n",
    "        AB=(\"PlayResult\", \"count\"),\n",
    "        xSLG_sum=(\"xSLG\", \"sum\")\n",
    "    )\n",
    "    .assign(xSLG_per_AB=lambda x: x[\"xSLG_sum\"] / x[\"AB\"])\n",
    "    .reset_index()\n",
    "    .sort_values(\"xSLG_per_AB\", ascending=False)\n",
    ")\n",
    "\n",
    "result[\"xSLG_percentile\"] = result[\"xSLG_per_AB\"].rank(pct=True)\n",
    "\n",
    "# Sort by xSLG_per_AB descending\n",
    "result = result.sort_values(\"xSLG_per_AB\", ascending=False)\n",
    "\n",
    "# Show the result\n",
    "print(result[[\"Batter\", \"xSLG_per_AB\", \"xSLG_percentile\", \"AB\"]])"
   ]
  },
  {
   "cell_type": "code",
   "execution_count": null,
   "id": "68e2ff8a",
   "metadata": {},
   "outputs": [],
   "source": [
    "import pandas as pd\n",
    "df = pd.read_csv('cornbelters_xSLG_data.csv')\n",
    "df = df[['PitchUUID','xSLG']]\n",
    "df.to_csv('cornbelters_xslg.csv',index = False)"
   ]
  }
 ],
 "metadata": {
  "kernelspec": {
   "display_name": "Python 3",
   "language": "python",
   "name": "python3"
  },
  "language_info": {
   "codemirror_mode": {
    "name": "ipython",
    "version": 3
   },
   "file_extension": ".py",
   "mimetype": "text/x-python",
   "name": "python",
   "nbconvert_exporter": "python",
   "pygments_lexer": "ipython3",
   "version": "3.10.7"
  }
 },
 "nbformat": 4,
 "nbformat_minor": 5
}
