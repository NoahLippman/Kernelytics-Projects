{
 "cells": [
  {
   "cell_type": "code",
   "execution_count": 1,
   "id": "f2862a5f",
   "metadata": {},
   "outputs": [],
   "source": [
    "import pandas as pd\n",
    "import matplotlib.pyplot as plt\n",
    "import seaborn as sns\n",
    "from sklearn.model_selection import KFold, cross_val_score\n",
    "from sklearn.neighbors import KNeighborsClassifier\n",
    "from sklearn.neighbors import KNeighborsRegressor\n",
    "import glob\n",
    "import numpy as np\n",
    "import xgboost as xgb\n"
   ]
  },
  {
   "cell_type": "code",
   "execution_count": 2,
   "id": "6b307c20",
   "metadata": {},
   "outputs": [],
   "source": [
    "cornbelters_files = glob.glob(\"../KCLData/*.csv\")\n",
    "other_files = glob.glob(\"../CornBeltersData/*.csv\")\n",
    "\n",
    "all_files = cornbelters_files + other_files\n",
    "\n",
    "# Read and concatenate all CSVs into one DataFrame\n",
    "stuff_plus = [pd.read_csv(f) for f in all_files]\n",
    "df = pd.concat(stuff_plus, ignore_index=True)\n"
   ]
  },
  {
   "cell_type": "code",
   "execution_count": 3,
   "id": "be4e0c9e",
   "metadata": {},
   "outputs": [],
   "source": [
    "#Combine PitchCall KorBB and PlayResult into one column\n",
    "def combined_columns(event):\n",
    "    #If there is a value in KorBB return that since PlayResult sometimes does not have KorBB\n",
    "    if not pd.isna(event['KorBB']):\n",
    "        return event['KorBB']\n",
    "    #If the ball is in play in pitchcall we want to return the result to map it\n",
    "    if event['PitchCall'] == 'InPlay':\n",
    "        return event['PlayResult']\n",
    "    #Since we already have if there's a strikeout or if there's an inplay\n",
    "    else:\n",
    "        return event['PitchCall']"
   ]
  },
  {
   "cell_type": "code",
   "execution_count": 4,
   "id": "ec80b491",
   "metadata": {},
   "outputs": [],
   "source": [
    "df['pitch_by_pitch'] = df.apply(combined_columns,axis=1)"
   ]
  },
  {
   "cell_type": "code",
   "execution_count": 5,
   "id": "d3cdd811",
   "metadata": {},
   "outputs": [],
   "source": [
    "mapping_data = pd.read_csv('mean_delta_run_exp_by_outcome_count.csv')\n",
    "\n",
    "# Map the data: Group by pitch_by_pitch, Balls, and Strikes, and calculate the mean of delta_run_exp_mean\n",
    "df = df.merge(mapping_data, on=['pitch_by_pitch', 'Balls', 'Strikes'], how='left')"
   ]
  },
  {
   "cell_type": "code",
   "execution_count": 6,
   "id": "93ca4377",
   "metadata": {},
   "outputs": [],
   "source": [
    "dft = df[['TaggedPitchType','delta_run_exp_mean','Pitcher','pitch_by_pitch','RelSpeed','SpinRate','RelHeight','RelSide','Extension','InducedVertBreak', 'HorzBreak','VertApprAngle','ZoneSpeed','VertRelAngle']]\n",
    "\n",
    "# Create dummy variables for TaggedPitchType\n",
    "dummies = pd.get_dummies(dft['TaggedPitchType'], prefix='PitchType',dtype=float)\n",
    "dft = pd.concat([dft, dummies], axis=1)\n",
    "pitch_type_dummies = [col for col in dft.columns if col.startswith('PitchType_')]\n"
   ]
  },
  {
   "cell_type": "code",
   "execution_count": 7,
   "id": "fa42be7e",
   "metadata": {},
   "outputs": [
    {
     "data": {
      "text/plain": [
       "['PitchType_Changeup',\n",
       " 'PitchType_Curveball',\n",
       " 'PitchType_Cutter',\n",
       " 'PitchType_Fastball',\n",
       " 'PitchType_Knuckleball',\n",
       " 'PitchType_Sinker',\n",
       " 'PitchType_Slider',\n",
       " 'PitchType_Splitter']"
      ]
     },
     "execution_count": 7,
     "metadata": {},
     "output_type": "execute_result"
    }
   ],
   "source": [
    "pitch_type_dummies"
   ]
  },
  {
   "cell_type": "code",
   "execution_count": 8,
   "id": "ada53e8f",
   "metadata": {},
   "outputs": [],
   "source": [
    "dft = dft.dropna()"
   ]
  },
  {
   "cell_type": "code",
   "execution_count": 9,
   "id": "5ab09e39",
   "metadata": {},
   "outputs": [],
   "source": [
    "offspeed_pitches = ['Sinker','Curveball','Slider','Cutter']\n",
    "\n",
    "def calculate_ff_diff(event):\n",
    "    \"\"\"Calculate fastball speed difference with error handling\"\"\"\n",
    "    if pd.notna(event['RelSpeed']) and pd.notna(event['TaggedPitchType']) and event['TaggedPitchType'] in offspeed_pitches:\n",
    "        fastball_avg = df[(df['Pitcher'] == event['Pitcher']) & \n",
    "                         (df['TaggedPitchType'] == 'Fastball')]['RelSpeed'].mean()\n",
    "        if pd.notna(fastball_avg):\n",
    "            return fastball_avg - event['RelSpeed']\n",
    "    return np.nan\n",
    "\n",
    "def calculate_ivb_diff(event):\n",
    "    \"\"\"Calculate induced vertical break difference with error handling\"\"\"\n",
    "    if pd.notna(event['InducedVertBreak']) and pd.notna(event['TaggedPitchType']) and event['TaggedPitchType'] in offspeed_pitches:\n",
    "        fastball_avg = df[(df['Pitcher'] == event['Pitcher']) & \n",
    "                         (df['TaggedPitchType'] == 'Fastball')]['InducedVertBreak'].mean()\n",
    "        if pd.notna(fastball_avg):\n",
    "            return fastball_avg - event['InducedVertBreak']\n",
    "    return np.nan\n",
    "\n",
    "def calculate_hb_diff(event):\n",
    "    \"\"\"Calculate horizontal break difference with error handling\"\"\"\n",
    "    if pd.notna(event['HorzBreak']) and pd.notna(event['TaggedPitchType']) and event['TaggedPitchType'] in offspeed_pitches:\n",
    "        fastball_avg = df[(df['Pitcher'] == event['Pitcher']) & \n",
    "                         (df['TaggedPitchType'] == 'Fastball')]['HorzBreak'].mean()\n",
    "        if pd.notna(fastball_avg):\n",
    "            return fastball_avg - event['HorzBreak']\n",
    "    return np.nan\n",
    "def calculate_angle_diff(event):\n",
    "    \"\"\"Calculate vertical approach angle difference with error handling\"\"\"\n",
    "    if pd.notna(event['VertRelAngle']) and pd.notna(event['TaggedPitchType']) and event['TaggedPitchType'] in offspeed_pitches:\n",
    "        fastball_avg = df[(df['Pitcher'] == event['Pitcher']) & \n",
    "                         (df['TaggedPitchType'] == 'Fastball')]['VertRelAngle'].mean()\n",
    "        if pd.notna(fastball_avg):\n",
    "            return fastball_avg - event['VertRelAngle']\n",
    "    return np.nan"
   ]
  },
  {
   "cell_type": "code",
   "execution_count": 10,
   "id": "93c0a581",
   "metadata": {},
   "outputs": [],
   "source": [
    "dft['ff_diff'] = dft.apply(calculate_ff_diff, axis=1)\n",
    "dft['ivb_diff'] = dft.apply(calculate_ivb_diff, axis=1)\n",
    "dft['hb_diff'] = dft.apply(calculate_hb_diff, axis=1)\n",
    "dft['ang_diff'] = dft.apply(calculate_angle_diff, axis=1)\n",
    "    "
   ]
  },
  {
   "cell_type": "code",
   "execution_count": 11,
   "id": "82168df3",
   "metadata": {},
   "outputs": [],
   "source": [
    "features = ['RelSpeed','SpinRate','RelHeight','RelSide','Extension','InducedVertBreak','VertRelAngle', 'HorzBreak','VertApprAngle','ZoneSpeed','ff_diff','ivb_diff','hb_diff','ang_diff'] + pitch_type_dummies"
   ]
  },
  {
   "cell_type": "code",
   "execution_count": 12,
   "id": "ec90604d",
   "metadata": {},
   "outputs": [],
   "source": [
    "dft['VertRelAngle'] = dft['VertRelAngle'].round(10)\n",
    "dft['ang_diff'] = dft['ang_diff'].round(10)"
   ]
  },
  {
   "cell_type": "code",
   "execution_count": null,
   "id": "60f2e219",
   "metadata": {},
   "outputs": [],
   "source": []
  },
  {
   "cell_type": "code",
   "execution_count": 13,
   "id": "f496e725",
   "metadata": {},
   "outputs": [],
   "source": [
    "from sklearn.pipeline import make_pipeline\n",
    "from sklearn.preprocessing import RobustScaler\n",
    "from sklearn.model_selection import RandomizedSearchCV, KFold, train_test_split\n",
    "from xgboost import XGBRegressor\n",
    "from sklearn.metrics import mean_squared_error\n",
    "from math import sqrt\n",
    "import numpy as np\n",
    "from scipy.stats import uniform, randint\n",
    "\n",
    "\n",
    "# Prepare data\n",
    "X = dft[features]\n",
    "y = dft['delta_run_exp_mean']\n",
    "X_train, X_test, y_train, y_test = train_test_split(X, y, test_size=0.3, random_state=42)\n",
    "\n"
   ]
  },
  {
   "cell_type": "code",
   "execution_count": 14,
   "id": "12a461b8",
   "metadata": {},
   "outputs": [
    {
     "name": "stdout",
     "output_type": "stream",
     "text": [
      "Test RMSE (RandomizedSearchCV Tuned): 0.18125439232654372\n",
      "Min Prediction: -0.9433108 Max Prediction: 3.9481463\n",
      "Mean Prediction: -0.046521418\n",
      "Baseline RMSE (Mean Prediction): 0.2559161976009283\n"
     ]
    }
   ],
   "source": [
    "# Create pipeline\n",
    "final_model = make_pipeline(\n",
    "    RobustScaler(),\n",
    "    XGBRegressor(\n",
    "        n_estimators=1000,\n",
    "        learning_rate=0.01,\n",
    "        max_depth=0,                  # Set this explicitly\n",
    "        min_child_weight=1,\n",
    "        subsample=0.8,\n",
    "        colsample_bytree=0.8,\n",
    "        colsample_bylevel=0.8,\n",
    "        colsample_bynode=0.8,\n",
    "        gamma=0.0,\n",
    "        reg_alpha=0.1,\n",
    "        reg_lambda=0.2,\n",
    "        tree_method='hist',           # Efficient for large datasets\n",
    "        random_state=42\n",
    "    )\n",
    ")\n",
    "\n",
    "\n",
    "# Set up RandomizedSearchCV\n",
    "\n",
    "\n",
    "# Run RandomizedSearchCV\n",
    "final_model.fit(X_train, y_train)\n",
    "\n",
    "# Final model training with best params\n",
    "\n",
    "\n",
    "# Predictions\n",
    "y_pred = final_model.predict(X_test)\n",
    "\n",
    "# Evaluate\n",
    "rmse = sqrt(mean_squared_error(y_test, y_pred))\n",
    "print(f\"Test RMSE (RandomizedSearchCV Tuned): {rmse}\")\n",
    "\n",
    "# Optional: Check prediction range\n",
    "print(\"Min Prediction:\", y_pred.min(), \"Max Prediction:\", y_pred.max())\n",
    "print(\"Mean Prediction:\", y_pred.mean())\n",
    "\n",
    "# Baseline comparison\n",
    "y_pred_baseline = np.full_like(y_test, y_train.mean())\n",
    "rmse_baseline = sqrt(mean_squared_error(y_test, y_pred_baseline))\n",
    "print(f\"Baseline RMSE (Mean Prediction): {rmse_baseline}\")\n"
   ]
  },
  {
   "cell_type": "code",
   "execution_count": 16,
   "id": "4e668d75",
   "metadata": {},
   "outputs": [
    {
     "data": {
      "text/plain": [
       "np.float32(0.22095497)"
      ]
     },
     "execution_count": 16,
     "metadata": {},
     "output_type": "execute_result"
    }
   ],
   "source": [
    "y_pred.std()"
   ]
  },
  {
   "cell_type": "code",
   "execution_count": 15,
   "id": "6632a9b7",
   "metadata": {},
   "outputs": [
    {
     "name": "stdout",
     "output_type": "stream",
     "text": [
      "Baseline RMSE (Mean Prediction): 0.2559161976009283\n"
     ]
    }
   ],
   "source": [
    "y_pred_baseline = np.full_like(y_test, y_train.mean())\n",
    "rmse_baseline = sqrt(mean_squared_error(y_test, y_pred_baseline))\n",
    "print(f\"Baseline RMSE (Mean Prediction): {rmse_baseline}\")"
   ]
  },
  {
   "cell_type": "code",
   "execution_count": 82,
   "id": "f45e93a8",
   "metadata": {},
   "outputs": [
    {
     "name": "stdout",
     "output_type": "stream",
     "text": [
      "Min Prediction: -0.22313371 Max Prediction: 0.67909855\n",
      "Mean Prediction: -0.021042198\n"
     ]
    }
   ],
   "source": [
    "print(\"Min Prediction:\", y_pred.min(), \"Max Prediction:\", y_pred.max())\n",
    "print(\"Mean Prediction:\", y_pred.mean())"
   ]
  },
  {
   "cell_type": "code",
   "execution_count": 83,
   "id": "3709fc29",
   "metadata": {},
   "outputs": [
    {
     "name": "stdout",
     "output_type": "stream",
     "text": [
      "X_train NaN: (1312,)\n",
      "y_train NaN: (1312,)\n",
      "y_train unique values: 83\n"
     ]
    }
   ],
   "source": [
    "print(\"X_train NaN:\", y_test.shape)\n",
    "print(\"y_train NaN:\", y_pred.shape)\n",
    "print(\"y_train unique values:\", y_train.nunique())"
   ]
  },
  {
   "cell_type": "code",
   "execution_count": 84,
   "id": "6cd168df",
   "metadata": {},
   "outputs": [
    {
     "data": {
      "image/png": "[encoded data removed]",
      "text/plain": [
       "<Figure size 640x480 with 1 Axes>"
      ]
     },
     "metadata": {},
     "output_type": "display_data"
    }
   ],
   "source": [
    "sns.kdeplot(y_test, label='Actual', fill=True)\n",
    "sns.kdeplot(y_pred, label='Predicted', fill=True, color='orange')\n",
    "plt.xlabel('PlayResult')\n",
    "plt.ylabel('Density')\n",
    "plt.title('Density Plot: Actual vs Predicted')\n",
    "plt.legend()\n",
    "plt.show()"
   ]
  },
  {
   "cell_type": "code",
   "execution_count": 91,
   "id": "eaec4446",
   "metadata": {},
   "outputs": [
    {
     "data": {
      "image/png": "[encoded data removed]",
      "text/plain": [
       "<Figure size 1000x600 with 1 Axes>"
      ]
     },
     "metadata": {},
     "output_type": "display_data"
    },
    {
     "name": "stdout",
     "output_type": "stream",
     "text": [
      "\n",
      "Feature Importances (Gain):\n",
      "RelSpeed: 0.0713\n",
      "PitchType_Slider: 0.0705\n",
      "Extension: 0.0700\n",
      "SpinRate: 0.0658\n",
      "hb_diff: 0.0653\n",
      "HorzBreak: 0.0587\n",
      "InducedVertBreak: 0.0577\n",
      "RelHeight: 0.0565\n",
      "VertRelAngle: 0.0549\n",
      "ZoneSpeed: 0.0541\n",
      "ivb_diff: 0.0527\n",
      "ff_diff: 0.0516\n",
      "RelSide: 0.0513\n",
      "ang_diff: 0.0497\n",
      "PitchType_Curveball: 0.0484\n",
      "VertApprAngle: 0.0471\n",
      "PitchType_Sinker: 0.0397\n",
      "PitchType_Cutter: 0.0348\n",
      "PitchType_Changeup: 0.0000\n",
      "PitchType_Fastball: 0.0000\n",
      "PitchType_Knuckleball: 0.0000\n",
      "PitchType_Splitter: 0.0000\n"
     ]
    }
   ],
   "source": [
    "import matplotlib.pyplot as plt\n",
    "import seaborn as sns\n",
    "import polars as pl\n",
    "import pandas as pd\n",
    "\n",
    "# Set seaborn theme\n",
    "sns.set_theme(style='whitegrid')\n",
    "\n",
    "# Access the XGBRegressor from the pipeline\n",
    "xgb_model = final_model.named_steps['xgbregressor']\n",
    "\n",
    "# Extract feature importances (default is 'gain', normalized)\n",
    "feature_importances = xgb_model.feature_importances_\n",
    "\n",
    "# Get feature names (assuming X_train is a pandas DataFrame)\n",
    "features = X_train.columns if isinstance(X_train, pd.DataFrame) else [f'feature_{i}' for i in range(X_train.shape[1])]\n",
    "\n",
    "# Create a Polars DataFrame for feature importances\n",
    "importance_df = pl.DataFrame({\n",
    "    'Feature': features,\n",
    "    'Importance': feature_importances\n",
    "})\n",
    "\n",
    "# Sort the DataFrame by importance\n",
    "importance_df = importance_df.sort(by='Importance', descending=True)\n",
    "\n",
    "# Plot the feature importances\n",
    "plt.figure(figsize=(10, 6))\n",
    "plt.barh(importance_df['Feature'], importance_df['Importance'], color='skyblue')\n",
    "plt.xlabel('Importance (Gain)')\n",
    "plt.ylabel('Feature')\n",
    "plt.title('XGBoost Feature Importances (Gain)')\n",
    "plt.gca().invert_yaxis()\n",
    "plt.show()\n",
    "\n",
    "# Print feature importances\n",
    "print(\"\\nFeature Importances (Gain):\")\n",
    "for row in importance_df.iter_rows(named=True):\n",
    "    print(f\"{row['Feature']}: {row['Importance']:.4f}\")"
   ]
  },
  {
   "cell_type": "code",
   "execution_count": 44,
   "id": "5c26457b",
   "metadata": {},
   "outputs": [
    {
     "data": {
      "text/plain": [
       "np.float64(-0.0158504144282841)"
      ]
     },
     "execution_count": 44,
     "metadata": {},
     "output_type": "execute_result"
    }
   ],
   "source": [
    "y.mean()"
   ]
  },
  {
   "cell_type": "code",
   "execution_count": 45,
   "id": "70cc2f9f",
   "metadata": {},
   "outputs": [
    {
     "data": {
      "text/plain": [
       "np.float64(-0.0021576512766823)"
      ]
     },
     "execution_count": 45,
     "metadata": {},
     "output_type": "execute_result"
    }
   ],
   "source": [
    "y.median()"
   ]
  },
  {
   "cell_type": "code",
   "execution_count": 88,
   "id": "add74f42",
   "metadata": {},
   "outputs": [
    {
     "data": {
      "text/plain": [
       "np.float64(0.1688992037777563)"
      ]
     },
     "execution_count": 88,
     "metadata": {},
     "output_type": "execute_result"
    }
   ],
   "source": [
    "y.std()"
   ]
  },
  {
   "cell_type": "code",
   "execution_count": 86,
   "id": "396c8e3c",
   "metadata": {},
   "outputs": [],
   "source": [
    "import pickle"
   ]
  },
  {
   "cell_type": "code",
   "execution_count": 87,
   "id": "b92da7dc",
   "metadata": {},
   "outputs": [],
   "source": [
    "with open(\"stuff_plus_model.pkl\", \"wb\") as f:\n",
    "    pickle.dump(final_model, f)"
   ]
  },
  {
   "cell_type": "code",
   "execution_count": null,
   "id": "994212a5",
   "metadata": {},
   "outputs": [],
   "source": []
  }
 ],
 "metadata": {
  "kernelspec": {
   "display_name": "Python 3",
   "language": "python",
   "name": "python3"
  },
  "language_info": {
   "codemirror_mode": {
    "name": "ipython",
    "version": 3
   },
   "file_extension": ".py",
   "mimetype": "text/x-python",
   "name": "python",
   "nbconvert_exporter": "python",
   "pygments_lexer": "ipython3",
   "version": "3.10.7"
  }
 },
 "nbformat": 4,
 "nbformat_minor": 5
}
