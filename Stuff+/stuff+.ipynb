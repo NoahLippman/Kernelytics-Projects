{
 "cells": [
  {
   "cell_type": "code",
   "execution_count": 4,
   "id": "f2862a5f",
   "metadata": {},
   "outputs": [],
   "source": [
    "import pandas as pd\n",
    "import matplotlib.pyplot as plt\n",
    "import seaborn as sns\n",
    "from sklearn.model_selection import KFold, cross_val_score\n",
    "from sklearn.neighbors import KNeighborsClassifier\n",
    "from sklearn.neighbors import KNeighborsRegressor\n",
    "import glob\n",
    "import numpy as np\n",
    "import xgboost as xgb\n"
   ]
  },
  {
   "cell_type": "code",
   "execution_count": 63,
   "id": "6b307c20",
   "metadata": {},
   "outputs": [],
   "source": [
    "cornbelters_files = glob.glob(\"../KCLData/*.csv\")\n",
    "other_files = glob.glob(\"../CornBeltersData/*.csv\")\n",
    "\n",
    "all_files = cornbelters_files + other_files\n",
    "\n",
    "# Read and concatenate all CSVs into one DataFrame\n",
    "stuff_plus = [pd.read_csv(f) for f in all_files]\n",
    "df = pd.concat(stuff_plus, ignore_index=True)\n"
   ]
  },
  {
   "cell_type": "code",
   "execution_count": 64,
   "id": "be4e0c9e",
   "metadata": {},
   "outputs": [],
   "source": [
    "#Combine PitchCall KorBB and PlayResult into one column\n",
    "def combined_columns(event):\n",
    "    #If there is a value in KorBB return that since PlayResult sometimes does not have KorBB\n",
    "    if not pd.isna(event['KorBB']):\n",
    "        return event['KorBB']\n",
    "    #If the ball is in play in pitchcall we want to return the result to map it\n",
    "    if event['PitchCall'] == 'InPlay':\n",
    "        return event['PlayResult']\n",
    "    #Since we already have if there's a strikeout or if there's an inplay\n",
    "    else:\n",
    "        return event['PitchCall']"
   ]
  },
  {
   "cell_type": "code",
   "execution_count": 65,
   "id": "ec80b491",
   "metadata": {},
   "outputs": [],
   "source": [
    "df['pitch_by_pitch'] = df.apply(combined_columns,axis=1)"
   ]
  },
  {
   "cell_type": "code",
   "execution_count": 66,
   "id": "d3cdd811",
   "metadata": {},
   "outputs": [],
   "source": [
    "mapping_data = pd.read_csv('mean_delta_run_exp_by_outcome_count.csv')\n",
    "\n",
    "# Map the data: Group by pitch_by_pitch, Balls, and Strikes, and calculate the mean of delta_run_exp_mean\n",
    "df = df.merge(mapping_data, on=['pitch_by_pitch', 'Balls', 'Strikes'], how='left')"
   ]
  },
  {
   "cell_type": "code",
   "execution_count": 67,
   "id": "be1e0dc3",
   "metadata": {},
   "outputs": [
    {
     "data": {
      "text/plain": [
       "(14942, 128)"
      ]
     },
     "execution_count": 67,
     "metadata": {},
     "output_type": "execute_result"
    }
   ],
   "source": [
    "df.shape"
   ]
  },
  {
   "cell_type": "code",
   "execution_count": 68,
   "id": "3f8e496b",
   "metadata": {},
   "outputs": [
    {
     "data": {
      "text/plain": [
       "delta_run_exp_mean\n",
       " 0.000000    2327\n",
       "-0.001508    1749\n",
       "-0.002366     939\n",
       "-0.002631     718\n",
       "-0.004735     709\n",
       "             ... \n",
       " 1.500000       2\n",
       "-0.063923       2\n",
       "-0.333733       1\n",
       " 3.000000       1\n",
       "-0.260868       1\n",
       "Name: count, Length: 101, dtype: int64"
      ]
     },
     "execution_count": 68,
     "metadata": {},
     "output_type": "execute_result"
    }
   ],
   "source": [
    "df['delta_run_exp_mean'].value_counts()"
   ]
  },
  {
   "cell_type": "code",
   "execution_count": 69,
   "id": "9860ca0e",
   "metadata": {},
   "outputs": [
    {
     "data": {
      "text/plain": [
       "pitch_by_pitch\n",
       "BallCalled           5533\n",
       "StrikeCalled         2252\n",
       "Foul                 2242\n",
       "Out                  1470\n",
       "StrikeSwinging        958\n",
       "Strikeout             708\n",
       "Single                695\n",
       "Walk                  515\n",
       "Double                157\n",
       "HitByPitch            136\n",
       "Error                  99\n",
       "FieldersChoice         47\n",
       "HomeRun                36\n",
       "Triple                 27\n",
       "Sacrifice              22\n",
       "FoulTip                 3\n",
       "IntentionalWalk         1\n",
       "StrikeoutSwinging       1\n",
       "Name: count, dtype: int64"
      ]
     },
     "execution_count": 69,
     "metadata": {},
     "output_type": "execute_result"
    }
   ],
   "source": [
    "df['pitch_by_pitch'].value_counts()"
   ]
  },
  {
   "cell_type": "code",
   "execution_count": 79,
   "id": "93ca4377",
   "metadata": {},
   "outputs": [],
   "source": [
    "dft = df[['TaggedPitchType','delta_run_exp_mean','Pitcher','pitch_by_pitch','RelSpeed','SpinRate','RelHeight','RelSide','Extension','InducedVertBreak', 'HorzBreak','VertApprAngle','ZoneSpeed']]\n",
    "\n",
    "# Create dummy variables for TaggedPitchType\n",
    "dummies = pd.get_dummies(dft['TaggedPitchType'], prefix='PitchType',dtype=float)\n",
    "dft = pd.concat([dft, dummies], axis=1)\n",
    "pitch_type_dummies = [col for col in dft.columns if col.startswith('PitchType_')]\n"
   ]
  },
  {
   "cell_type": "code",
   "execution_count": 80,
   "id": "ada53e8f",
   "metadata": {},
   "outputs": [],
   "source": [
    "dft = dft.dropna()"
   ]
  },
  {
   "cell_type": "code",
   "execution_count": 81,
   "id": "5ab09e39",
   "metadata": {},
   "outputs": [],
   "source": [
    "offspeed_pitches = ['Sinker','Curveball','Slider','Cutter','Cutter']\n",
    "\n",
    "def calculate_ff_diff(event):\n",
    "    \"\"\"Calculate fastball speed difference with error handling\"\"\"\n",
    "    if pd.notna(event['RelSpeed']) and pd.notna(event['TaggedPitchType']) and event['TaggedPitchType'] in offspeed_pitches:\n",
    "        fastball_avg = df[(df['Pitcher'] == event['Pitcher']) & \n",
    "                         (df['TaggedPitchType'] == 'Fastball')]['RelSpeed'].mean()\n",
    "        if pd.notna(fastball_avg):\n",
    "            return fastball_avg - event['RelSpeed']\n",
    "    return np.nan\n",
    "\n",
    "def calculate_ivb_diff(event):\n",
    "    \"\"\"Calculate induced vertical break difference with error handling\"\"\"\n",
    "    if pd.notna(event['InducedVertBreak']) and pd.notna(event['TaggedPitchType']) and event['TaggedPitchType'] in offspeed_pitches:\n",
    "        fastball_avg = df[(df['Pitcher'] == event['Pitcher']) & \n",
    "                         (df['TaggedPitchType'] == 'Fastball')]['InducedVertBreak'].mean()\n",
    "        if pd.notna(fastball_avg):\n",
    "            return fastball_avg - event['InducedVertBreak']\n",
    "    return np.nan\n",
    "\n",
    "def calculate_hb_diff(event):\n",
    "    \"\"\"Calculate horizontal break difference with error handling\"\"\"\n",
    "    if pd.notna(event['HorzBreak']) and pd.notna(event['TaggedPitchType']) and event['TaggedPitchType'] in offspeed_pitches:\n",
    "        fastball_avg = df[(df['Pitcher'] == event['Pitcher']) & \n",
    "                         (df['TaggedPitchType'] == 'Fastball')]['HorzBreak'].mean()\n",
    "        if pd.notna(fastball_avg):\n",
    "            return fastball_avg - event['HorzBreak']\n",
    "    return np.nan"
   ]
  },
  {
   "cell_type": "code",
   "execution_count": 82,
   "id": "93c0a581",
   "metadata": {},
   "outputs": [],
   "source": [
    "dft['ff_diff'] = dft.apply(calculate_ff_diff, axis=1)\n",
    "dft['ivb_diff'] = dft.apply(calculate_ivb_diff, axis=1)\n",
    "dft['hb_diff'] = dft.apply(calculate_hb_diff, axis=1)\n",
    "    "
   ]
  },
  {
   "cell_type": "code",
   "execution_count": null,
   "id": "82168df3",
   "metadata": {},
   "outputs": [],
   "source": [
    "features = ['RelSpeed','SpinRate','RelHeight','RelSide','Extension','InducedVertBreak', 'HorzBreak','VertApprAngle','ZoneSpeed','ff_diff','ivb_diff','hb_diff'] + pitch_type_dummies"
   ]
  },
  {
   "cell_type": "code",
   "execution_count": 119,
   "id": "f496e725",
   "metadata": {},
   "outputs": [],
   "source": [
    "from sklearn.pipeline import make_pipeline\n",
    "from sklearn.preprocessing import RobustScaler\n",
    "from sklearn.model_selection import RandomizedSearchCV, KFold, train_test_split\n",
    "from xgboost import XGBRegressor\n",
    "from sklearn.metrics import mean_squared_error\n",
    "from math import sqrt\n",
    "import numpy as np\n",
    "from scipy.stats import uniform, randint\n",
    "\n",
    "\n",
    "# Prepare data\n",
    "X = dft[features]\n",
    "y = dft['delta_run_exp_mean']\n",
    "X_train, X_test, y_train, y_test = train_test_split(X, y, test_size=0.3, random_state=42)\n",
    "\n",
    "# Define parameter distribution for RandomizedSearchCV"
   ]
  },
  {
   "cell_type": "code",
   "execution_count": 120,
   "id": "12a461b8",
   "metadata": {},
   "outputs": [
    {
     "name": "stdout",
     "output_type": "stream",
     "text": [
      "\n",
      "Starting RandomizedSearchCV Hyperparameter Optimization...\n",
      "Fitting 5 folds for each of 100 candidates, totalling 500 fits\n"
     ]
    },
    {
     "name": "stderr",
     "output_type": "stream",
     "text": [
      "c:\\Users\\isu_mvquirk\\AppData\\Local\\Programs\\Python\\Python310\\lib\\site-packages\\xgboost\\training.py:183: UserWarning: [13:37:12] WARNING: C:\\actions-runner\\_work\\xgboost\\xgboost\\src\\learner.cc:738: \n",
      "Parameters: { \"treemethod\" } are not used.\n",
      "\n",
      "  bst.update(dtrain, iteration=i, fobj=obj)\n"
     ]
    },
    {
     "name": "stdout",
     "output_type": "stream",
     "text": [
      "Test RMSE (RandomizedSearchCV Tuned): 0.1796883694890608\n",
      "Best parameters: {'xgbregressor__colsample_bylevel': np.float64(0.9348868266542996), 'xgbregressor__colsample_bynode': np.float64(0.9929529144247826), 'xgbregressor__colsample_bytree': np.float64(0.983061940778773), 'xgbregressor__gamma': np.float64(0.09650269106665127), 'xgbregressor__learning_rate': np.float64(0.02864458352283171), 'xgbregressor__max_depth': 14, 'xgbregressor__min_child_weight': 9, 'xgbregressor__n_estimators': 5635, 'xgbregressor__reg_alpha': np.float64(0.011376857548914012), 'xgbregressor__reg_lambda': np.float64(0.04632247117948556), 'xgbregressor__subsample': np.float64(0.9721596550751277)}\n",
      "Min Prediction: -0.11535046 Max Prediction: 0.1320888\n",
      "Mean Prediction: -0.015016815\n",
      "Baseline RMSE (Mean Prediction): 0.17850806670745795\n"
     ]
    }
   ],
   "source": [
    "\n",
    "param_dist = {\n",
    "    'xgbregressor__n_estimators': randint(3000, 7000),\n",
    "    'xgbregressor__learning_rate': uniform(0.01, 0.15),\n",
    "    'xgbregressor__max_depth': randint(12, 18),\n",
    "    'xgbregressor__min_child_weight': randint(1, 10),\n",
    "    'xgbregressor__subsample': uniform(0.9, 0.1),\n",
    "    'xgbregressor__colsample_bytree': uniform(0.9, 0.1),\n",
    "    'xgbregressor__colsample_bylevel': uniform(0.9, 0.1),\n",
    "    'xgbregressor__colsample_bynode': uniform(0.9, 0.1),\n",
    "    'xgbregressor__gamma': uniform(0, 0.1),\n",
    "    'xgbregressor__reg_alpha': uniform(0, 0.03),\n",
    "    'xgbregressor__reg_lambda': uniform(0, 0.05),\n",
    "}\n",
    "\n",
    "# Create pipeline\n",
    "model = make_pipeline(\n",
    "    RobustScaler(),\n",
    "    XGBRegressor(objective='reg:squarederror', eval_metric='rmse', random_state=42, scale_pos_weight=3.5,treemethod = 'hist')\n",
    ")\n",
    "\n",
    "\n",
    "# Set up RandomizedSearchCV\n",
    "cv = KFold(n_splits=5, shuffle=True, random_state=42)\n",
    "random_search = RandomizedSearchCV(\n",
    "    estimator=model,\n",
    "    param_distributions=param_dist,\n",
    "    n_iter=100,  # Number of parameter settings sampled\n",
    "    cv=cv,\n",
    "    scoring='neg_root_mean_squared_error',\n",
    "    n_jobs=-1,\n",
    "    random_state=42,\n",
    "    verbose=1\n",
    ")\n",
    "\n",
    "# Run RandomizedSearchCV\n",
    "print(\"\\nStarting RandomizedSearchCV Hyperparameter Optimization...\")\n",
    "random_search.fit(X_train, y_train)\n",
    "\n",
    "# Final model training with best params\n",
    "best_params = random_search.best_params_\n",
    "final_model = random_search.best_estimator_\n",
    "\n",
    "# Predictions\n",
    "y_pred = final_model.predict(X_test)\n",
    "\n",
    "# Evaluate\n",
    "rmse = sqrt(mean_squared_error(y_test, y_pred))\n",
    "print(f\"Test RMSE (RandomizedSearchCV Tuned): {rmse}\")\n",
    "print(\"Best parameters:\", best_params)\n",
    "\n",
    "# Optional: Check prediction range\n",
    "print(\"Min Prediction:\", y_pred.min(), \"Max Prediction:\", y_pred.max())\n",
    "print(\"Mean Prediction:\", y_pred.mean())\n",
    "\n",
    "# Baseline comparison\n",
    "y_pred_baseline = np.full_like(y_test, y_train.mean())\n",
    "rmse_baseline = sqrt(mean_squared_error(y_test, y_pred_baseline))\n",
    "print(f\"Baseline RMSE (Mean Prediction): {rmse_baseline}\")\n"
   ]
  },
  {
   "cell_type": "code",
   "execution_count": 113,
   "id": "6632a9b7",
   "metadata": {},
   "outputs": [
    {
     "name": "stdout",
     "output_type": "stream",
     "text": [
      "Baseline RMSE (Mean Prediction): 0.17521002986991457\n"
     ]
    }
   ],
   "source": [
    "y_pred_baseline = np.full_like(y_test, y_train.mean())\n",
    "rmse_baseline = sqrt(mean_squared_error(y_test, y_pred_baseline))\n",
    "print(f\"Baseline RMSE (Mean Prediction): {rmse_baseline}\")"
   ]
  },
  {
   "cell_type": "code",
   "execution_count": 114,
   "id": "f45e93a8",
   "metadata": {},
   "outputs": [
    {
     "name": "stdout",
     "output_type": "stream",
     "text": [
      "Min Prediction: -0.026342321 Max Prediction: -0.0104270745\n",
      "Mean Prediction: -0.015442871\n"
     ]
    }
   ],
   "source": [
    "print(\"Min Prediction:\", y_pred.min(), \"Max Prediction:\", y_pred.max())\n",
    "print(\"Mean Prediction:\", y_pred.mean())"
   ]
  },
  {
   "cell_type": "code",
   "execution_count": 115,
   "id": "3709fc29",
   "metadata": {},
   "outputs": [
    {
     "name": "stdout",
     "output_type": "stream",
     "text": [
      "X_train NaN: 17406\n",
      "y_train NaN: 0\n",
      "y_train unique values: 98\n"
     ]
    }
   ],
   "source": [
    "print(\"X_train NaN:\", X_train.isna().sum().sum())\n",
    "print(\"y_train NaN:\", y_train.isna().sum())\n",
    "print(\"y_train unique values:\", y_train.nunique())"
   ]
  },
  {
   "cell_type": "code",
   "execution_count": 121,
   "id": "6cd168df",
   "metadata": {},
   "outputs": [
    {
     "data": {
      "image/png": "[encoded data removed]",
      "text/plain": [
       "<Figure size 640x480 with 1 Axes>"
      ]
     },
     "metadata": {},
     "output_type": "display_data"
    }
   ],
   "source": [
    "sns.kdeplot(y_test, label='Actual', fill=True)\n",
    "sns.kdeplot(y_pred, label='Predicted', fill=True, color='orange')\n",
    "plt.xlabel('PlayResult')\n",
    "plt.ylabel('Density')\n",
    "plt.title('Density Plot: Actual vs Predicted')\n",
    "plt.legend()\n",
    "plt.show()"
   ]
  },
  {
   "cell_type": "code",
   "execution_count": 85,
   "id": "5c26457b",
   "metadata": {},
   "outputs": [
    {
     "data": {
      "text/plain": [
       "np.float64(-0.015879910829035535)"
      ]
     },
     "execution_count": 85,
     "metadata": {},
     "output_type": "execute_result"
    }
   ],
   "source": [
    "y.mean()"
   ]
  },
  {
   "cell_type": "code",
   "execution_count": 15,
   "id": "70cc2f9f",
   "metadata": {},
   "outputs": [
    {
     "data": {
      "text/plain": [
       "np.float64(-0.33)"
      ]
     },
     "execution_count": 15,
     "metadata": {},
     "output_type": "execute_result"
    }
   ],
   "source": [
    "y.median()"
   ]
  },
  {
   "cell_type": "code",
   "execution_count": null,
   "id": "6bc2c935",
   "metadata": {},
   "outputs": [],
   "source": [
    "import numpy as np\n",
    "import pandas as pd\n",
    "\n",
    "def predict_stuff_plus(event):\n",
    "    # Define the full set of features used in training (12 features, based on error expecting 12)\n",
    "    required_features = ['RelSpeed', 'SpinRate', 'RelHeight', 'RelSide', 'Extension', \n",
    "                        'InducedVertBreak', 'HorzBreak', 'VertApprAngle', 'ZoneSpeed', \n",
    "                        'ff_diff', 'ivb_diff', 'hb_diff']\n",
    "    \n",
    "    # Check if all required features are present; fill missing with 0 for fastballs\n",
    "    input_data = {}\n",
    "    for f in required_features:\n",
    "        if f in event and not pd.isna(event[f]):\n",
    "            input_data[f] = event[f]\n",
    "        else:\n",
    "            # For fastballs, set diff features to 0 if missing\n",
    "            if event['TaggedPitchType'] == 'Fastball' and f in ['ff_diff', 'ivb_diff', 'hb_diff']:\n",
    "                input_data[f] = 0\n",
    "            else:\n",
    "                return np.nan  # Missing critical feature\n",
    "    \n",
    "    # Convert to DataFrame for pipeline compatibility\n",
    "    input_df = pd.DataFrame([input_data], columns=required_features)\n",
    "    \n",
    "    # Predict using the trained model (pipeline handles scaling)\n",
    "    pred = final_model.predict(input_df)[0]\n",
    "    \n",
    "    # Apply inverse sigmoid transformation to compress to (0, 1), where higher pred -> lower Stuff+\n",
    "    k = 10  # Steepness parameter (adjusted for xRV range)\n",
    "    xrv_mean = y.mean() if hasattr(y, 'mean') else 0.28  # Fallback to approximate xRV mean\n",
    "    sigmoid = 1 / (1 + np.exp(k * (pred - xrv_mean)))  # Note: Removed negative sign to invert\n",
    "    \n",
    "    # Scale to 50-150 (lower pred -> higher Stuff+, higher pred -> lower Stuff+)\n",
    "    scaled_pred = 50 + (150 - 50) * sigmoid\n",
    "    \n",
    "    return scaled_pred"
   ]
  },
  {
   "cell_type": "code",
   "execution_count": 129,
   "id": "316bb789",
   "metadata": {},
   "outputs": [
    {
     "name": "stdout",
     "output_type": "stream",
     "text": [
      "Aggregated Stuff+ by Pitcher:\n",
      "            Pitcher  count  mean_stuff_plus\n",
      "0       Adan Nieves     99       100.335945\n",
      "1       Aiden Cline     24       103.506262\n",
      "2      Aj Dallmayer     45       101.089081\n",
      "3      Alec Bergman     52       100.332677\n",
      "4        Alex Logan     49        97.286333\n",
      "..              ...    ...              ...\n",
      "146   Zach Leuschen     58        99.087008\n",
      "147    Zach Neville     23        99.644356\n",
      "148  Zach O'Donnell     22        96.137916\n",
      "149  Zach O'donnell    147       100.138079\n",
      "150  Zach Zychowski      5       106.232525\n",
      "\n",
      "[151 rows x 3 columns]\n",
      "\n",
      "Sample of Data with Predicted Stuff+:\n",
      "       Pitcher  delta_run_exp_mean  stuff_plus  predicted_stuff_plus\n",
      "0  Roy Rolston           -0.002789   99.258363            100.004784\n",
      "1  Roy Rolston           -0.004735   99.369313             73.965366\n",
      "2  Roy Rolston           -0.001602   99.190676                   NaN\n",
      "3  Roy Rolston            0.000000   99.099355            116.734913\n",
      "4  Roy Rolston           -0.001730   99.197994             93.305552\n"
     ]
    }
   ],
   "source": [
    "import numpy as np\n",
    "import pandas as pd\n",
    "\n",
    "# Define the predict_stuff_plus function with dummy variable handling\n",
    "def predict_stuff_plus(event):\n",
    "    # Define the full set of features used in training (12 features + pitch type dummies)\n",
    "    base_features = ['RelSpeed', 'SpinRate', 'RelHeight', 'RelSide', 'Extension', \n",
    "                     'InducedVertBreak', 'HorzBreak', 'VertApprAngle', 'ZoneSpeed', \n",
    "                     'ff_diff', 'ivb_diff', 'hb_diff']\n",
    "    \n",
    "    # Check if all base features are present; fill missing with 0 for fastballs\n",
    "    input_data = {}\n",
    "    for f in base_features:\n",
    "        if f in event and not pd.isna(event[f]):\n",
    "            input_data[f] = event[f]\n",
    "        else:\n",
    "            # For fastballs, set diff features to 0 if missing\n",
    "            if event['TaggedPitchType'] == 'Fastball' and f in ['ff_diff', 'ivb_diff', 'hb_diff']:\n",
    "                input_data[f] = 0\n",
    "            else:\n",
    "                return np.nan  # Missing critical feature\n",
    "    \n",
    "    # Create dummy variables for TaggedPitchType\n",
    "    if 'TaggedPitchType' in event and not pd.isna(event['TaggedPitchType']):\n",
    "        dummies = pd.get_dummies(pd.Series(event['TaggedPitchType']), prefix='PitchType', dtype=float)\n",
    "        input_data.update(dummies.iloc[0].to_dict())\n",
    "    else:\n",
    "        return np.nan  # Missing TaggedPitchType\n",
    "    \n",
    "    # Convert to DataFrame and align with training columns\n",
    "    input_df = pd.DataFrame([input_data])\n",
    "    \n",
    "    # Get the feature names from the trained model (assuming pipeline with RobustScaler and XGBRegressor)\n",
    "    feature_names = final_model.named_steps['xgbregressor'].get_booster().feature_names\n",
    "    if feature_names is None:\n",
    "        # Fallback: Use the columns from X_train if available (you may need to pass X_train columns)\n",
    "        feature_names = X_train.columns  # Ensure X_train is defined in the scope\n",
    "    \n",
    "    # Reindex input_df to match the expected feature order and fill missing columns with 0\n",
    "    input_df = input_df.reindex(columns=feature_names, fill_value=0)\n",
    "    \n",
    "    # Predict using the trained model\n",
    "    pred = final_model.predict(input_df)[0]\n",
    "    \n",
    "    # Apply inverse sigmoid transformation to compress to (0, 1), where higher pred -> lower Stuff+\n",
    "    k = 50  # Steepness parameter (adjusted for xRV range)\n",
    "    xrv_mean = y.mean() if hasattr(y, 'mean') else 0.28  # Fallback to approximate xRV mean\n",
    "    sigmoid = 1 / (1 + np.exp(k * (pred - xrv_mean)))  # Inverted logic\n",
    "    \n",
    "    # Scale to 50-150 (lower pred -> higher Stuff+, higher pred -> lower Stuff+)\n",
    "    scaled_pred = 50 + (150 - 50) * sigmoid\n",
    "    \n",
    "    return scaled_pred\n",
    "\n",
    "# Use the entire dataset\n",
    "df_all = df.copy()\n",
    "\n",
    "## Stuff+ Calculation ##\n",
    "# Calculate the mean and standard deviation of delta_run_exp_mean for the entire dataset\n",
    "target_mean = df_all['delta_run_exp_mean'].mean()\n",
    "target_std = df_all['delta_run_exp_mean'].std()\n",
    "\n",
    "# Standardize the delta_run_exp_mean column to create a z-score\n",
    "df_all['target_zscore'] = (df_all['delta_run_exp_mean'] - target_mean) / target_std\n",
    "\n",
    "# Convert the z-score to Stuff+ (100 - zscore * 10)\n",
    "df_all['stuff_plus'] = 100 - (df_all['target_zscore'] * 10)\n",
    "\n",
    "# Aggregate Stuff+ by pitcher_id\n",
    "df_agg = df_all.groupby(['Pitcher']).agg(\n",
    "    count=('stuff_plus', 'size'),\n",
    "    mean_stuff_plus=('stuff_plus', 'mean')\n",
    ").reset_index()\n",
    "\n",
    "# Apply predict_stuff_plus to get model-based Stuff+\n",
    "df_all['predicted_stuff_plus'] = df_all.apply(predict_stuff_plus, axis=1)\n",
    "\n",
    "# Display results\n",
    "print(\"Aggregated Stuff+ by Pitcher:\")\n",
    "print(df_agg)\n",
    "\n",
    "print(\"\\nSample of Data with Predicted Stuff+:\")\n",
    "print(df_all[['Pitcher', 'delta_run_exp_mean', 'stuff_plus', 'predicted_stuff_plus']].head())\n"
   ]
  },
  {
   "cell_type": "code",
   "execution_count": 130,
   "id": "2217fdec",
   "metadata": {},
   "outputs": [],
   "source": [
    "df_agg.to_csv('test.csv')"
   ]
  },
  {
   "cell_type": "code",
   "execution_count": 110,
   "id": "ac88d0a6",
   "metadata": {},
   "outputs": [],
   "source": [
    "\n",
    "cornbelters_files = glob.glob(\"../CornBeltersData/*.csv\")\n",
    "kcl_files = glob.glob(\"../kclData/*.csv\")\n",
    "\n",
    "\n",
    "# Read and concatenate all CSVs into one DataFrame\n",
    "cornbelters  = [pd.read_csv(f) for f in cornbelters_files]\n",
    "kcl = [pd.read_csv(f) for f in kcl_files]\n",
    "kcl_df = pd.concat(kcl, ignore_index=True)\n",
    "cornbelters_df = pd.concat(cornbelters, ignore_index=True)"
   ]
  },
  {
   "cell_type": "code",
   "execution_count": 111,
   "id": "82c2b7b7",
   "metadata": {},
   "outputs": [],
   "source": [
    "offspeed_pitches = ['Sinker','Curveball','Slider','Cutter','Cutter']\n",
    "\n",
    "def calculate_ff_diff(event):\n",
    "    \"\"\"Calculate fastball speed difference with error handling\"\"\"\n",
    "    if pd.notna(event['RelSpeed']) and pd.notna(event['TaggedPitchType']) and event['TaggedPitchType'] in offspeed_pitches:\n",
    "        fastball_avg = kcl_df[(kcl_df['Pitcher'] == event['Pitcher']) & \n",
    "                         (kcl_df['TaggedPitchType'] == 'Fastball')]['RelSpeed'].mean()\n",
    "        if pd.notna(fastball_avg):\n",
    "            return fastball_avg - event['RelSpeed']\n",
    "    return np.nan\n",
    "\n",
    "def calculate_ivb_diff(event):\n",
    "    \"\"\"Calculate induced vertical break difference with error handling\"\"\"\n",
    "    if pd.notna(event['InducedVertBreak']) and pd.notna(event['TaggedPitchType']) and event['TaggedPitchType'] in offspeed_pitches:\n",
    "        fastball_avg = kcl_df[(kcl_df['Pitcher'] == event['Pitcher']) & \n",
    "                         (kcl_df['TaggedPitchType'] == 'Fastball')]['InducedVertBreak'].mean()\n",
    "        if pd.notna(fastball_avg):\n",
    "            return fastball_avg - event['InducedVertBreak']\n",
    "    return np.nan\n",
    "\n",
    "def calculate_hb_diff(event):\n",
    "    \"\"\"Calculate horizontal break difference with error handling\"\"\"\n",
    "    if pd.notna(event['HorzBreak']) and pd.notna(event['TaggedPitchType']) and event['TaggedPitchType'] in offspeed_pitches:\n",
    "        fastball_avg = kcl_df[(kcl_df['Pitcher'] == event['Pitcher']) & \n",
    "                         (kcl_df['TaggedPitchType'] == 'Fastball')]['HorzBreak'].mean()\n",
    "        if pd.notna(fastball_avg):\n",
    "            return fastball_avg - event['HorzBreak']\n",
    "    return np.nan"
   ]
  },
  {
   "cell_type": "code",
   "execution_count": 117,
   "id": "06058790",
   "metadata": {},
   "outputs": [],
   "source": [
    "kcl_df['ff_diff'] = kcl_df.apply(calculate_ff_diff, axis=1)\n",
    "kcl_df['ivb_diff'] = kcl_df.apply(calculate_ivb_diff, axis=1)\n",
    "kcl_df['hb_diff'] = kcl_df.apply(calculate_hb_diff, axis=1)\n",
    "cornbelters_df['ff_diff'] = cornbelters_df.apply(calculate_ff_diff, axis=1)\n",
    "cornbelters_df['ivb_diff'] = cornbelters_df.apply(calculate_ivb_diff, axis=1)\n",
    "cornbelters_df['hb_diff'] = cornbelters_df.apply(calculate_hb_diff, axis=1)"
   ]
  },
  {
   "cell_type": "code",
   "execution_count": 121,
   "id": "9c27836e",
   "metadata": {},
   "outputs": [],
   "source": [
    "kcl_df['Stuff+'] = kcl_df.apply(predict_stuff_plus,axis=1)\n",
    "cornbelters_df['Stuff+'] = cornbelters_df.apply(predict_stuff_plus,axis=1)"
   ]
  },
  {
   "cell_type": "code",
   "execution_count": 122,
   "id": "25789fea",
   "metadata": {},
   "outputs": [],
   "source": [
    "pitcher_stuffplus = kcl_df.groupby('Pitcher')['Stuff+'].mean().reset_index()\n",
    "pitcher_stuffplus.to_csv('stuff+.csv')\n",
    "cornbelters_stuffplus = cornbelters_df.groupby('Pitcher')['Stuff+'].mean().reset_index()\n",
    "cornbelters_stuffplus.to_csv('cb.csv')"
   ]
  },
  {
   "cell_type": "code",
   "execution_count": 123,
   "id": "396c8e3c",
   "metadata": {},
   "outputs": [],
   "source": [
    "import pickle"
   ]
  },
  {
   "cell_type": "code",
   "execution_count": 116,
   "id": "b92da7dc",
   "metadata": {},
   "outputs": [],
   "source": [
    "with open(\"stuff_plus_model.pkl\", \"wb\") as f:\n",
    "    pickle.dump(xgb_model, f)"
   ]
  },
  {
   "cell_type": "code",
   "execution_count": null,
   "id": "994212a5",
   "metadata": {},
   "outputs": [],
   "source": []
  }
 ],
 "metadata": {
  "kernelspec": {
   "display_name": "Python 3",
   "language": "python",
   "name": "python3"
  },
  "language_info": {
   "codemirror_mode": {
    "name": "ipython",
    "version": 3
   },
   "file_extension": ".py",
   "mimetype": "text/x-python",
   "name": "python",
   "nbconvert_exporter": "python",
   "pygments_lexer": "ipython3",
   "version": "3.10.7"
  }
 },
 "nbformat": 4,
 "nbformat_minor": 5
}
