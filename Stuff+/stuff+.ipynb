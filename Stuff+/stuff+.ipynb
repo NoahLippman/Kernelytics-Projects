{
 "cells": [
  {
   "cell_type": "code",
   "execution_count": 1,
   "id": "f2862a5f",
   "metadata": {},
   "outputs": [],
   "source": [
    "import pandas as pd\n",
    "import matplotlib.pyplot as plt\n",
    "import seaborn as sns\n",
    "from sklearn.model_selection import KFold, cross_val_score\n",
    "from sklearn.neighbors import KNeighborsClassifier\n",
    "from sklearn.neighbors import KNeighborsRegressor\n",
    "import glob\n",
    "import numpy as np\n",
    "import xgboost as xgb\n"
   ]
  },
  {
   "cell_type": "code",
   "execution_count": 2,
   "id": "6b307c20",
   "metadata": {},
   "outputs": [],
   "source": [
    "cornbelters_files = glob.glob(\"../KCLData/*.csv\")\n",
    "other_files = glob.glob(\"../CornBeltersData/*.csv\")\n",
    "\n",
    "all_files = cornbelters_files + other_files\n",
    "\n",
    "# Read and concatenate all CSVs into one DataFrame\n",
    "stuff_plus = [pd.read_csv(f) for f in all_files]\n",
    "df = pd.concat(stuff_plus, ignore_index=True)\n"
   ]
  },
  {
   "cell_type": "code",
   "execution_count": 3,
   "id": "93ca4377",
   "metadata": {},
   "outputs": [],
   "source": [
    "dft = df[['TaggedPitchType','Pitcher','PlayResult','RelSpeed','SpinRate','RelHeight','RelSide','Extension','InducedVertBreak', 'HorzBreak','VertApprAngle','ZoneSpeed']]\n",
    "\n",
    "# Create dummy variables for TaggedPitchType\n",
    "dummies = pd.get_dummies(dft['TaggedPitchType'], prefix='PitchType',dtype=float)\n",
    "dft = pd.concat([dft, dummies], axis=1)\n",
    "pitch_type_dummies = [col for col in dft.columns if col.startswith('PitchType_')]"
   ]
  },
  {
   "cell_type": "code",
   "execution_count": 4,
   "id": "27c2760a",
   "metadata": {},
   "outputs": [
    {
     "data": {
      "text/plain": [
       "array([nan, 'StrikeoutLooking', 'StrikeoutSwinging', 'Out', 'Single',\n",
       "       'Walk', 'Error', 'Double', 'Triple', 'HomeRun', 'FieldersChoice',\n",
       "       'Sacrifice', 'HItByPitch'], dtype=object)"
      ]
     },
     "execution_count": 4,
     "metadata": {},
     "output_type": "execute_result"
    }
   ],
   "source": [
    "dft['PlayResult'].unique()\n"
   ]
  },
  {
   "cell_type": "code",
   "execution_count": 5,
   "id": "ada53e8f",
   "metadata": {},
   "outputs": [],
   "source": [
    "dft = dft.dropna()"
   ]
  },
  {
   "cell_type": "code",
   "execution_count": 6,
   "id": "88a7d4cc",
   "metadata": {},
   "outputs": [],
   "source": [
    "map_data = {\n",
    "    'Out': -.33,\n",
    "    'Single': .46,\n",
    "    'Double': .79,\n",
    "    'StrikeoutLooking': -.33,\n",
    "    'StrikeoutSwinging': -.33,\n",
    "    'Error': 0,\n",
    "    'Walk': .31,\n",
    "    'Triple': 1.07,\n",
    "    'HomeRun': 1.41,\n",
    "    'FieldersChoice': 0,\n",
    "    'Sacrifice': 0,\n",
    "    'HItByPitch': .33  # Fixed typo: was 'HItByPitch': .330\n",
    "}\n",
    "\n",
    "dft['PlayResult'] = dft['PlayResult'].map(map_data)"
   ]
  },
  {
   "cell_type": "code",
   "execution_count": 7,
   "id": "1489e226",
   "metadata": {},
   "outputs": [
    {
     "name": "stdout",
     "output_type": "stream",
     "text": [
      "   Mapped Value              Label  Frequency\n",
      "0         -0.33  StrikeoutSwinging       1816\n",
      "1          0.00          Sacrifice        141\n",
      "2          0.31               Walk        352\n",
      "3          0.33         HItByPitch          1\n",
      "4          0.46             Single        579\n",
      "5          0.79             Double        137\n",
      "6          1.07             Triple         23\n",
      "7          1.41            HomeRun         30\n"
     ]
    }
   ],
   "source": [
    "# Create a mapping from value to label\n",
    "value_to_label = {v: k for k, v in map_data.items()}\n",
    "\n",
    "# Count frequencies\n",
    "outcome_counts = dft['PlayResult'].value_counts().sort_index()\n",
    "\n",
    "# Build the table as a DataFrame\n",
    "table = pd.DataFrame({\n",
    "    'Mapped Value': outcome_counts.index,\n",
    "    'Label': [value_to_label.get(round(val, 2), \"\") for val in outcome_counts.index],\n",
    "    'Frequency': outcome_counts.values\n",
    "})\n",
    "\n",
    "print(table)"
   ]
  },
  {
   "cell_type": "code",
   "execution_count": 8,
   "id": "ac32ec7f",
   "metadata": {},
   "outputs": [
    {
     "name": "stdout",
     "output_type": "stream",
     "text": [
      "              Outcome  Mapped Value  Frequency  Percentage\n",
      "0              Double          0.79        152    0.043491\n",
      "1               Error          0.00         96    0.027468\n",
      "2      FieldersChoice          0.00         40    0.011445\n",
      "3          HItByPitch          0.33          1    0.000286\n",
      "4             HomeRun          1.41         34    0.009728\n",
      "5                 Out         -0.33       1375    0.393419\n",
      "6           Sacrifice          0.00         22    0.006295\n",
      "7              Single          0.46        657    0.187983\n",
      "8    StrikeoutLooking         -0.33        225    0.064378\n",
      "9   StrikeoutSwinging         -0.33        458    0.131044\n",
      "10             Triple          1.07         24    0.006867\n",
      "11               Walk          0.31        411    0.117597\n"
     ]
    }
   ],
   "source": [
    "outcome_counts = df['PlayResult'].value_counts().sort_index()\n",
    "\n",
    "mapped_values = [map_data.get(label, np.nan) for label in outcome_counts.index]\n",
    "total = outcome_counts.values.sum()\n",
    "\n",
    "table = pd.DataFrame({\n",
    "    'Outcome': outcome_counts.index,\n",
    "    'Mapped Value': mapped_values,\n",
    "    'Frequency': outcome_counts.values,\n",
    "    'Percentage' : outcome_counts.values /  total\n",
    "})\n",
    "\n",
    "print(table)"
   ]
  },
  {
   "cell_type": "code",
   "execution_count": 9,
   "id": "5ab09e39",
   "metadata": {},
   "outputs": [],
   "source": [
    "offspeed_pitches = ['Sinker','Curveball','Slider','Cutter','Cutter']\n",
    "\n",
    "def calculate_ff_diff(event):\n",
    "    \"\"\"Calculate fastball speed difference with error handling\"\"\"\n",
    "    if pd.notna(event['RelSpeed']) and pd.notna(event['TaggedPitchType']) and event['TaggedPitchType'] in offspeed_pitches:\n",
    "        fastball_avg = df[(df['Pitcher'] == event['Pitcher']) & \n",
    "                         (df['TaggedPitchType'] == 'Fastball')]['RelSpeed'].mean()\n",
    "        if pd.notna(fastball_avg):\n",
    "            return fastball_avg - event['RelSpeed']\n",
    "    return np.nan\n",
    "\n",
    "def calculate_ivb_diff(event):\n",
    "    \"\"\"Calculate induced vertical break difference with error handling\"\"\"\n",
    "    if pd.notna(event['InducedVertBreak']) and pd.notna(event['TaggedPitchType']) and event['TaggedPitchType'] in offspeed_pitches:\n",
    "        fastball_avg = df[(df['Pitcher'] == event['Pitcher']) & \n",
    "                         (df['TaggedPitchType'] == 'Fastball')]['InducedVertBreak'].mean()\n",
    "        if pd.notna(fastball_avg):\n",
    "            return fastball_avg - event['InducedVertBreak']\n",
    "    return np.nan\n",
    "\n",
    "def calculate_hb_diff(event):\n",
    "    \"\"\"Calculate horizontal break difference with error handling\"\"\"\n",
    "    if pd.notna(event['HorzBreak']) and pd.notna(event['TaggedPitchType']) and event['TaggedPitchType'] in offspeed_pitches:\n",
    "        fastball_avg = df[(df['Pitcher'] == event['Pitcher']) & \n",
    "                         (df['TaggedPitchType'] == 'Fastball')]['HorzBreak'].mean()\n",
    "        if pd.notna(fastball_avg):\n",
    "            return fastball_avg - event['HorzBreak']\n",
    "    return np.nan"
   ]
  },
  {
   "cell_type": "code",
   "execution_count": 10,
   "id": "93c0a581",
   "metadata": {},
   "outputs": [],
   "source": [
    "dft['ff_diff'] = dft.apply(calculate_ff_diff, axis=1)\n",
    "dft['ivb_diff'] = dft.apply(calculate_ivb_diff, axis=1)\n",
    "dft['hb_diff'] = dft.apply(calculate_hb_diff, axis=1)\n",
    "    "
   ]
  },
  {
   "cell_type": "code",
   "execution_count": 11,
   "id": "6c697084",
   "metadata": {},
   "outputs": [
    {
     "data": {
      "text/html": [
       "<div>\n",
       "<style scoped>\n",
       "    .dataframe tbody tr th:only-of-type {\n",
       "        vertical-align: middle;\n",
       "    }\n",
       "\n",
       "    .dataframe tbody tr th {\n",
       "        vertical-align: top;\n",
       "    }\n",
       "\n",
       "    .dataframe thead th {\n",
       "        text-align: right;\n",
       "    }\n",
       "</style>\n",
       "<table border=\"1\" class=\"dataframe\">\n",
       "  <thead>\n",
       "    <tr style=\"text-align: right;\">\n",
       "      <th></th>\n",
       "      <th>TaggedPitchType</th>\n",
       "      <th>Pitcher</th>\n",
       "      <th>PlayResult</th>\n",
       "      <th>RelSpeed</th>\n",
       "      <th>SpinRate</th>\n",
       "      <th>RelHeight</th>\n",
       "      <th>RelSide</th>\n",
       "      <th>Extension</th>\n",
       "      <th>InducedVertBreak</th>\n",
       "      <th>HorzBreak</th>\n",
       "      <th>...</th>\n",
       "      <th>PitchType_Curveball</th>\n",
       "      <th>PitchType_Cutter</th>\n",
       "      <th>PitchType_Fastball</th>\n",
       "      <th>PitchType_Knuckleball</th>\n",
       "      <th>PitchType_Sinker</th>\n",
       "      <th>PitchType_Slider</th>\n",
       "      <th>PitchType_Splitter</th>\n",
       "      <th>ff_diff</th>\n",
       "      <th>ivb_diff</th>\n",
       "      <th>hb_diff</th>\n",
       "    </tr>\n",
       "  </thead>\n",
       "  <tbody>\n",
       "    <tr>\n",
       "      <th>6</th>\n",
       "      <td>Slider</td>\n",
       "      <td>Roy Rolston</td>\n",
       "      <td>-0.33</td>\n",
       "      <td>78.997127</td>\n",
       "      <td>2234.354700</td>\n",
       "      <td>5.643353</td>\n",
       "      <td>1.872089</td>\n",
       "      <td>6.0</td>\n",
       "      <td>6.484273</td>\n",
       "      <td>-2.228677</td>\n",
       "      <td>...</td>\n",
       "      <td>0.0</td>\n",
       "      <td>0.0</td>\n",
       "      <td>0.0</td>\n",
       "      <td>0.0</td>\n",
       "      <td>0.0</td>\n",
       "      <td>1.0</td>\n",
       "      <td>0.0</td>\n",
       "      <td>6.567863</td>\n",
       "      <td>11.272762</td>\n",
       "      <td>14.542166</td>\n",
       "    </tr>\n",
       "    <tr>\n",
       "      <th>12</th>\n",
       "      <td>Fastball</td>\n",
       "      <td>Roy Rolston</td>\n",
       "      <td>-0.33</td>\n",
       "      <td>86.577867</td>\n",
       "      <td>2090.806727</td>\n",
       "      <td>5.238482</td>\n",
       "      <td>2.212006</td>\n",
       "      <td>6.0</td>\n",
       "      <td>17.096434</td>\n",
       "      <td>15.031649</td>\n",
       "      <td>...</td>\n",
       "      <td>0.0</td>\n",
       "      <td>0.0</td>\n",
       "      <td>1.0</td>\n",
       "      <td>0.0</td>\n",
       "      <td>0.0</td>\n",
       "      <td>0.0</td>\n",
       "      <td>0.0</td>\n",
       "      <td>NaN</td>\n",
       "      <td>NaN</td>\n",
       "      <td>NaN</td>\n",
       "    </tr>\n",
       "    <tr>\n",
       "      <th>16</th>\n",
       "      <td>Fastball</td>\n",
       "      <td>Roy Rolston</td>\n",
       "      <td>-0.33</td>\n",
       "      <td>87.530392</td>\n",
       "      <td>1987.298234</td>\n",
       "      <td>5.566592</td>\n",
       "      <td>2.257963</td>\n",
       "      <td>6.0</td>\n",
       "      <td>18.543534</td>\n",
       "      <td>12.824408</td>\n",
       "      <td>...</td>\n",
       "      <td>0.0</td>\n",
       "      <td>0.0</td>\n",
       "      <td>1.0</td>\n",
       "      <td>0.0</td>\n",
       "      <td>0.0</td>\n",
       "      <td>0.0</td>\n",
       "      <td>0.0</td>\n",
       "      <td>NaN</td>\n",
       "      <td>NaN</td>\n",
       "      <td>NaN</td>\n",
       "    </tr>\n",
       "    <tr>\n",
       "      <th>20</th>\n",
       "      <td>Slider</td>\n",
       "      <td>Devan Tupper</td>\n",
       "      <td>-0.33</td>\n",
       "      <td>80.916924</td>\n",
       "      <td>2165.574886</td>\n",
       "      <td>5.271006</td>\n",
       "      <td>2.011555</td>\n",
       "      <td>6.0</td>\n",
       "      <td>-1.006549</td>\n",
       "      <td>4.595121</td>\n",
       "      <td>...</td>\n",
       "      <td>0.0</td>\n",
       "      <td>0.0</td>\n",
       "      <td>0.0</td>\n",
       "      <td>0.0</td>\n",
       "      <td>0.0</td>\n",
       "      <td>1.0</td>\n",
       "      <td>0.0</td>\n",
       "      <td>4.389381</td>\n",
       "      <td>15.222346</td>\n",
       "      <td>8.922750</td>\n",
       "    </tr>\n",
       "    <tr>\n",
       "      <th>28</th>\n",
       "      <td>Fastball</td>\n",
       "      <td>Devan Tupper</td>\n",
       "      <td>-0.33</td>\n",
       "      <td>85.023046</td>\n",
       "      <td>1722.172115</td>\n",
       "      <td>5.837093</td>\n",
       "      <td>2.935782</td>\n",
       "      <td>6.0</td>\n",
       "      <td>14.298228</td>\n",
       "      <td>13.349795</td>\n",
       "      <td>...</td>\n",
       "      <td>0.0</td>\n",
       "      <td>0.0</td>\n",
       "      <td>1.0</td>\n",
       "      <td>0.0</td>\n",
       "      <td>0.0</td>\n",
       "      <td>0.0</td>\n",
       "      <td>0.0</td>\n",
       "      <td>NaN</td>\n",
       "      <td>NaN</td>\n",
       "      <td>NaN</td>\n",
       "    </tr>\n",
       "  </tbody>\n",
       "</table>\n",
       "<p>5 rows × 23 columns</p>\n",
       "</div>"
      ],
      "text/plain": [
       "   TaggedPitchType       Pitcher  PlayResult   RelSpeed     SpinRate  \\\n",
       "6           Slider   Roy Rolston       -0.33  78.997127  2234.354700   \n",
       "12        Fastball   Roy Rolston       -0.33  86.577867  2090.806727   \n",
       "16        Fastball   Roy Rolston       -0.33  87.530392  1987.298234   \n",
       "20          Slider  Devan Tupper       -0.33  80.916924  2165.574886   \n",
       "28        Fastball  Devan Tupper       -0.33  85.023046  1722.172115   \n",
       "\n",
       "    RelHeight   RelSide  Extension  InducedVertBreak  HorzBreak  ...  \\\n",
       "6    5.643353  1.872089        6.0          6.484273  -2.228677  ...   \n",
       "12   5.238482  2.212006        6.0         17.096434  15.031649  ...   \n",
       "16   5.566592  2.257963        6.0         18.543534  12.824408  ...   \n",
       "20   5.271006  2.011555        6.0         -1.006549   4.595121  ...   \n",
       "28   5.837093  2.935782        6.0         14.298228  13.349795  ...   \n",
       "\n",
       "    PitchType_Curveball  PitchType_Cutter  PitchType_Fastball  \\\n",
       "6                   0.0               0.0                 0.0   \n",
       "12                  0.0               0.0                 1.0   \n",
       "16                  0.0               0.0                 1.0   \n",
       "20                  0.0               0.0                 0.0   \n",
       "28                  0.0               0.0                 1.0   \n",
       "\n",
       "    PitchType_Knuckleball  PitchType_Sinker  PitchType_Slider  \\\n",
       "6                     0.0               0.0               1.0   \n",
       "12                    0.0               0.0               0.0   \n",
       "16                    0.0               0.0               0.0   \n",
       "20                    0.0               0.0               1.0   \n",
       "28                    0.0               0.0               0.0   \n",
       "\n",
       "    PitchType_Splitter   ff_diff   ivb_diff    hb_diff  \n",
       "6                  0.0  6.567863  11.272762  14.542166  \n",
       "12                 0.0       NaN        NaN        NaN  \n",
       "16                 0.0       NaN        NaN        NaN  \n",
       "20                 0.0  4.389381  15.222346   8.922750  \n",
       "28                 0.0       NaN        NaN        NaN  \n",
       "\n",
       "[5 rows x 23 columns]"
      ]
     },
     "execution_count": 11,
     "metadata": {},
     "output_type": "execute_result"
    }
   ],
   "source": [
    "dft.head()"
   ]
  },
  {
   "cell_type": "code",
   "execution_count": 12,
   "id": "82168df3",
   "metadata": {},
   "outputs": [],
   "source": [
    "features = ['RelSpeed','SpinRate','RelHeight','RelSide','Extension','InducedVertBreak', 'HorzBreak','VertApprAngle','ZoneSpeed','ff_diff','ivb_diff','hb_diff'] + pitch_type_dummies"
   ]
  },
  {
   "cell_type": "code",
   "execution_count": 13,
   "id": "ddc3d99a",
   "metadata": {},
   "outputs": [],
   "source": [
    "from sklearn.preprocessing import RobustScaler\n",
    "from sklearn.pipeline import make_pipeline\n"
   ]
  },
  {
   "cell_type": "code",
   "execution_count": null,
   "id": "14d221bb",
   "metadata": {},
   "outputs": [],
   "source": []
  },
  {
   "cell_type": "code",
   "execution_count": null,
   "id": "12a461b8",
   "metadata": {},
   "outputs": [
    {
     "name": "stdout",
     "output_type": "stream",
     "text": [
      "\n",
      "Starting RandomizedSearchCV...\n",
      "Fitting 5 folds for each of 500 candidates, totalling 2500 fits\n"
     ]
    }
   ],
   "source": [
    "from sklearn.pipeline import make_pipeline\n",
    "from sklearn.preprocessing import RobustScaler, PowerTransformer\n",
    "from sklearn.model_selection import RandomizedSearchCV, KFold,train_test_split\n",
    "from scipy.stats import uniform, randint\n",
    "from xgboost import XGBRegressor\n",
    "from sklearn.datasets import make_regression\n",
    "import numpy as np\n",
    "from math import sqrt\n",
    "\n",
    "\n",
    "X = dft[features]\n",
    "y = dft['PlayResult']\n",
    "X_train, X_test, y_train, y_test = train_test_split(X, y, test_size=0.3, random_state=42)\n",
    "# Define the pipeline with RobustScaler and XGBRegressor\n",
    "pipeline = make_pipeline(\n",
    "    RobustScaler(),\n",
    "    XGBRegressor(objective='reg:squarederror', eval_metric='rmse', random_state=42, scale_pos_weight=3.5)\n",
    ")\n",
    "\n",
    "param_distributions = {\n",
    "    'xgbregressor__n_estimators': randint(3000, 7000),\n",
    "    'xgbregressor__learning_rate': uniform(0.01, 0.15),\n",
    "    'xgbregressor__max_depth': randint(12, 18),\n",
    "    'xgbregressor__min_child_weight': randint(1, 10),\n",
    "    'xgbregressor__subsample': uniform(0.9, 0.1),\n",
    "    'xgbregressor__colsample_bytree': uniform(0.9, 0.1),\n",
    "    'xgbregressor__colsample_bylevel': uniform(0.9, 0.1),\n",
    "    'xgbregressor__colsample_bynode': uniform(0.9, 0.1),\n",
    "    'xgbregressor__gamma': uniform(0, 0.1),\n",
    "    'xgbregressor__reg_alpha': uniform(0, 0.03),\n",
    "    'xgbregressor__reg_lambda': uniform(0, 0.05),\n",
    "}\n",
    "\n",
    "random_search = RandomizedSearchCV(\n",
    "    estimator=pipeline,\n",
    "    param_distributions=param_distributions,\n",
    "    n_iter=500,\n",
    "    cv=KFold(n_splits=5, shuffle=True, random_state=42),\n",
    "    scoring='neg_root_mean_squared_error',\n",
    "    verbose=2,\n",
    "    random_state=42,\n",
    "    n_jobs=-1,\n",
    "    return_train_score=True\n",
    ")\n",
    "\n",
    "print(\"\\nStarting RandomizedSearchCV...\")\n",
    "pt = PowerTransformer(method='yeo-johnson')\n",
    "y_train_transformed = pt.fit_transform(y_train.values.reshape(-1, 1))\n",
    "y_test_transformed = pt.transform(y_test.values.reshape(-1, 1))\n",
    "random_search.fit(X_train, y_train_transformed.ravel())\n",
    "y_pred_transformed = random_search.predict(X_test)\n",
    "y_pred = pt.inverse_transform(y_pred_transformed.reshape(-1, 1))\n",
    "\n",
    "print(f\"Best parameters found: {random_search.best_params_}\")\n",
    "print(f\"Best cross-validation RMSE: {sqrt(-random_search.best_score_)}\")\n"
   ]
  },
  {
   "cell_type": "code",
   "execution_count": 84,
   "id": "da479e3b",
   "metadata": {},
   "outputs": [],
   "source": [
    "xgb_model = random_search.best_estimator_\n",
    "\n"
   ]
  },
  {
   "cell_type": "code",
   "execution_count": 92,
   "id": "8d897254",
   "metadata": {},
   "outputs": [
    {
     "data": {
      "image/png": "[encoded data removed]",
      "text/plain": [
       "<Figure size 640x480 with 1 Axes>"
      ]
     },
     "metadata": {},
     "output_type": "display_data"
    }
   ],
   "source": [
    "import matplotlib.pyplot as plt\n",
    "plt.hist(y_test, alpha=0.5, label='Actual')\n",
    "plt.hist(y_pred, alpha=0.5, label='Predicted')\n",
    "plt.legend()\n",
    "plt.show()"
   ]
  },
  {
   "cell_type": "code",
   "execution_count": 86,
   "id": "d3540f03",
   "metadata": {},
   "outputs": [
    {
     "data": {
      "text/plain": [
       "np.float64(-0.013216229589312237)"
      ]
     },
     "execution_count": 86,
     "metadata": {},
     "output_type": "execute_result"
    }
   ],
   "source": [
    "y_train.mean()"
   ]
  },
  {
   "cell_type": "code",
   "execution_count": 88,
   "id": "9ab5ee77",
   "metadata": {},
   "outputs": [],
   "source": [
    "stats_df = pd.DataFrame({'y_test' : y_test, 'y_pred':y_pred })"
   ]
  },
  {
   "cell_type": "code",
   "execution_count": 89,
   "id": "64eec238",
   "metadata": {},
   "outputs": [],
   "source": [
    "stats_df.to_csv('stats.csv')"
   ]
  },
  {
   "cell_type": "code",
   "execution_count": 95,
   "id": "6cd168df",
   "metadata": {},
   "outputs": [
    {
     "data": {
      "image/png": "[encoded data removed]",
      "text/plain": [
       "<Figure size 640x480 with 1 Axes>"
      ]
     },
     "metadata": {},
     "output_type": "display_data"
    }
   ],
   "source": [
    "sns.kdeplot(y_test, label='Actual', fill=True)\n",
    "sns.kdeplot(y_pred.ravel(), label='Predicted', fill=True, color='orange')\n",
    "plt.xlabel('PlayResult')\n",
    "plt.ylabel('Density')\n",
    "plt.title('Density Plot: Actual vs Predicted')\n",
    "plt.legend()\n",
    "plt.show()"
   ]
  },
  {
   "cell_type": "code",
   "execution_count": 14,
   "id": "5c26457b",
   "metadata": {},
   "outputs": [
    {
     "data": {
      "text/plain": [
       "np.float64(-0.014461385482267166)"
      ]
     },
     "execution_count": 14,
     "metadata": {},
     "output_type": "execute_result"
    }
   ],
   "source": [
    "y.mean()"
   ]
  },
  {
   "cell_type": "code",
   "execution_count": 15,
   "id": "70cc2f9f",
   "metadata": {},
   "outputs": [
    {
     "data": {
      "text/plain": [
       "np.float64(-0.33)"
      ]
     },
     "execution_count": 15,
     "metadata": {},
     "output_type": "execute_result"
    }
   ],
   "source": [
    "y.median()"
   ]
  },
  {
   "cell_type": "code",
   "execution_count": 120,
   "id": "6bc2c935",
   "metadata": {},
   "outputs": [],
   "source": [
    "import numpy as np\n",
    "import pandas as pd\n",
    "\n",
    "def predict_stuff_plus(event):\n",
    "    # Define the full set of features used in training (12 features, based on error expecting 12)\n",
    "    required_features = ['RelSpeed', 'SpinRate', 'RelHeight', 'RelSide', 'Extension', \n",
    "                        'InducedVertBreak', 'HorzBreak', 'VertApprAngle', 'ZoneSpeed', \n",
    "                        'ff_diff', 'ivb_diff', 'hb_diff']\n",
    "    \n",
    "    # Check if all required features are present; fill missing with 0 for fastballs\n",
    "    input_data = {}\n",
    "    for f in required_features:\n",
    "        if f in event and not pd.isna(event[f]):\n",
    "            input_data[f] = event[f]\n",
    "        else:\n",
    "            # For fastballs, set diff features to 0 if missing\n",
    "            if event['TaggedPitchType'] == 'Fastball' and f in ['ff_diff', 'ivb_diff', 'hb_diff']:\n",
    "                input_data[f] = 0\n",
    "            else:\n",
    "                return np.nan  # Missing critical feature\n",
    "    \n",
    "    # Convert to DataFrame for pipeline compatibility\n",
    "    input_df = pd.DataFrame([input_data], columns=required_features)\n",
    "    \n",
    "    # Predict using the trained model (pipeline handles scaling)\n",
    "    pred = xgb_model.predict(input_df)[0]\n",
    "    \n",
    "    # Apply inverse sigmoid transformation to compress to (0, 1), where higher pred -> lower Stuff+\n",
    "    k = 50  # Steepness parameter (adjusted for xRV range)\n",
    "    xrv_mean = y.mean() if hasattr(y, 'mean') else 0.28  # Fallback to approximate xRV mean\n",
    "    sigmoid = 1 / (1 + np.exp(k * (pred - xrv_mean)))  # Note: Removed negative sign to invert\n",
    "    \n",
    "    # Scale to 50-150 (lower pred -> higher Stuff+, higher pred -> lower Stuff+)\n",
    "    scaled_pred = 50 + (150 - 50) * sigmoid\n",
    "    \n",
    "    return scaled_pred"
   ]
  },
  {
   "cell_type": "code",
   "execution_count": 110,
   "id": "ac88d0a6",
   "metadata": {},
   "outputs": [],
   "source": [
    "\n",
    "cornbelters_files = glob.glob(\"../CornBeltersData/*.csv\")\n",
    "kcl_files = glob.glob(\"../kclData/*.csv\")\n",
    "\n",
    "\n",
    "# Read and concatenate all CSVs into one DataFrame\n",
    "cornbelters  = [pd.read_csv(f) for f in cornbelters_files]\n",
    "kcl = [pd.read_csv(f) for f in kcl_files]\n",
    "kcl_df = pd.concat(kcl, ignore_index=True)\n",
    "cornbelters_df = pd.concat(cornbelters, ignore_index=True)"
   ]
  },
  {
   "cell_type": "code",
   "execution_count": 111,
   "id": "82c2b7b7",
   "metadata": {},
   "outputs": [],
   "source": [
    "offspeed_pitches = ['Sinker','Curveball','Slider','Cutter','Cutter']\n",
    "\n",
    "def calculate_ff_diff(event):\n",
    "    \"\"\"Calculate fastball speed difference with error handling\"\"\"\n",
    "    if pd.notna(event['RelSpeed']) and pd.notna(event['TaggedPitchType']) and event['TaggedPitchType'] in offspeed_pitches:\n",
    "        fastball_avg = kcl_df[(kcl_df['Pitcher'] == event['Pitcher']) & \n",
    "                         (kcl_df['TaggedPitchType'] == 'Fastball')]['RelSpeed'].mean()\n",
    "        if pd.notna(fastball_avg):\n",
    "            return fastball_avg - event['RelSpeed']\n",
    "    return np.nan\n",
    "\n",
    "def calculate_ivb_diff(event):\n",
    "    \"\"\"Calculate induced vertical break difference with error handling\"\"\"\n",
    "    if pd.notna(event['InducedVertBreak']) and pd.notna(event['TaggedPitchType']) and event['TaggedPitchType'] in offspeed_pitches:\n",
    "        fastball_avg = kcl_df[(kcl_df['Pitcher'] == event['Pitcher']) & \n",
    "                         (kcl_df['TaggedPitchType'] == 'Fastball')]['InducedVertBreak'].mean()\n",
    "        if pd.notna(fastball_avg):\n",
    "            return fastball_avg - event['InducedVertBreak']\n",
    "    return np.nan\n",
    "\n",
    "def calculate_hb_diff(event):\n",
    "    \"\"\"Calculate horizontal break difference with error handling\"\"\"\n",
    "    if pd.notna(event['HorzBreak']) and pd.notna(event['TaggedPitchType']) and event['TaggedPitchType'] in offspeed_pitches:\n",
    "        fastball_avg = kcl_df[(kcl_df['Pitcher'] == event['Pitcher']) & \n",
    "                         (kcl_df['TaggedPitchType'] == 'Fastball')]['HorzBreak'].mean()\n",
    "        if pd.notna(fastball_avg):\n",
    "            return fastball_avg - event['HorzBreak']\n",
    "    return np.nan"
   ]
  },
  {
   "cell_type": "code",
   "execution_count": 117,
   "id": "06058790",
   "metadata": {},
   "outputs": [],
   "source": [
    "kcl_df['ff_diff'] = kcl_df.apply(calculate_ff_diff, axis=1)\n",
    "kcl_df['ivb_diff'] = kcl_df.apply(calculate_ivb_diff, axis=1)\n",
    "kcl_df['hb_diff'] = kcl_df.apply(calculate_hb_diff, axis=1)\n",
    "cornbelters_df['ff_diff'] = cornbelters_df.apply(calculate_ff_diff, axis=1)\n",
    "cornbelters_df['ivb_diff'] = cornbelters_df.apply(calculate_ivb_diff, axis=1)\n",
    "cornbelters_df['hb_diff'] = cornbelters_df.apply(calculate_hb_diff, axis=1)"
   ]
  },
  {
   "cell_type": "code",
   "execution_count": 121,
   "id": "9c27836e",
   "metadata": {},
   "outputs": [],
   "source": [
    "kcl_df['Stuff+'] = kcl_df.apply(predict_stuff_plus,axis=1)\n",
    "cornbelters_df['Stuff+'] = cornbelters_df.apply(predict_stuff_plus,axis=1)"
   ]
  },
  {
   "cell_type": "code",
   "execution_count": 122,
   "id": "25789fea",
   "metadata": {},
   "outputs": [],
   "source": [
    "pitcher_stuffplus = kcl_df.groupby('Pitcher')['Stuff+'].mean().reset_index()\n",
    "pitcher_stuffplus.to_csv('stuff+.csv')\n",
    "cornbelters_stuffplus = cornbelters_df.groupby('Pitcher')['Stuff+'].mean().reset_index()\n",
    "cornbelters_stuffplus.to_csv('cb.csv')"
   ]
  },
  {
   "cell_type": "code",
   "execution_count": 123,
   "id": "396c8e3c",
   "metadata": {},
   "outputs": [],
   "source": [
    "import pickle"
   ]
  },
  {
   "cell_type": "code",
   "execution_count": 116,
   "id": "b92da7dc",
   "metadata": {},
   "outputs": [],
   "source": [
    "with open(\"stuff_plus_model.pkl\", \"wb\") as f:\n",
    "    pickle.dump(xgb_model, f)"
   ]
  },
  {
   "cell_type": "code",
   "execution_count": null,
   "id": "994212a5",
   "metadata": {},
   "outputs": [],
   "source": []
  }
 ],
 "metadata": {
  "kernelspec": {
   "display_name": "Python 3",
   "language": "python",
   "name": "python3"
  },
  "language_info": {
   "codemirror_mode": {
    "name": "ipython",
    "version": 3
   },
   "file_extension": ".py",
   "mimetype": "text/x-python",
   "name": "python",
   "nbconvert_exporter": "python",
   "pygments_lexer": "ipython3",
   "version": "3.10.7"
  }
 },
 "nbformat": 4,
 "nbformat_minor": 5
}
