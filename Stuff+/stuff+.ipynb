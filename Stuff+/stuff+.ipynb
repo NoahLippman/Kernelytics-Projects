{
 "cells": [
  {
   "cell_type": "code",
   "execution_count": 1,
   "id": "f2862a5f",
   "metadata": {},
   "outputs": [],
   "source": [
    "import pandas as pd\n",
    "import matplotlib.pyplot as plt\n",
    "import seaborn as sns\n",
    "from sklearn.model_selection import KFold, cross_val_score\n",
    "from sklearn.neighbors import KNeighborsClassifier\n",
    "from sklearn.neighbors import KNeighborsRegressor\n",
    "import glob\n",
    "import numpy as np\n",
    "import xgboost as xgb\n"
   ]
  },
  {
   "cell_type": "code",
   "execution_count": 2,
   "id": "6b307c20",
   "metadata": {},
   "outputs": [],
   "source": [
    "cornbelters_files = glob.glob(\"../KCLData/*.csv\")\n",
    "other_files = glob.glob(\"../CornBeltersData/*.csv\")\n",
    "\n",
    "all_files = cornbelters_files + other_files\n",
    "\n",
    "# Read and concatenate all CSVs into one DataFrame\n",
    "stuff_plus = [pd.read_csv(f) for f in all_files]\n",
    "df = pd.concat(stuff_plus, ignore_index=True)\n"
   ]
  },
  {
   "cell_type": "code",
   "execution_count": 3,
   "id": "be4e0c9e",
   "metadata": {},
   "outputs": [],
   "source": [
    "#Combine PitchCall KorBB and PlayResult into one column\n",
    "def combined_columns(event):\n",
    "    #If there is a value in KorBB return that since PlayResult sometimes does not have KorBB\n",
    "    if not pd.isna(event['KorBB']):\n",
    "        return event['KorBB']\n",
    "    #If the ball is in play in pitchcall we want to return the result to map it\n",
    "    if event['PitchCall'] == 'InPlay':\n",
    "        return event['PlayResult']\n",
    "    #Since we already have if there's a strikeout or if there's an inplay\n",
    "    else:\n",
    "        return event['PitchCall']"
   ]
  },
  {
   "cell_type": "code",
   "execution_count": 4,
   "id": "ec80b491",
   "metadata": {},
   "outputs": [],
   "source": [
    "df['pitch_by_pitch'] = df.apply(combined_columns,axis=1)"
   ]
  },
  {
   "cell_type": "code",
   "execution_count": 5,
   "id": "d3cdd811",
   "metadata": {},
   "outputs": [],
   "source": [
    "mapping_data = pd.read_csv('mean_delta_run_exp_by_outcome_count.csv')\n",
    "\n",
    "# Map the data: Group by pitch_by_pitch, Balls, and Strikes, and calculate the mean of delta_run_exp_mean\n",
    "df = df.merge(mapping_data, on=['pitch_by_pitch', 'Balls', 'Strikes'], how='left')"
   ]
  },
  {
   "cell_type": "code",
   "execution_count": 6,
   "id": "93ca4377",
   "metadata": {},
   "outputs": [],
   "source": [
    "dft = df[['TaggedPitchType','delta_run_exp_mean','Pitcher','VertRelAngle','pitch_by_pitch','RelSpeed','SpinRate','RelHeight','RelSide','Extension','InducedVertBreak', 'HorzBreak','VertApprAngle','ZoneSpeed']]\n",
    "\n",
    "# Create dummy variables for TaggedPitchType\n",
    "dummies = pd.get_dummies(dft['TaggedPitchType'], prefix='PitchType',dtype=float)\n",
    "dft = pd.concat([dft, dummies], axis=1)\n",
    "pitch_type_dummies = [col for col in dft.columns if col.startswith('PitchType_')]\n"
   ]
  },
  {
   "cell_type": "code",
   "execution_count": 7,
   "id": "ada53e8f",
   "metadata": {},
   "outputs": [],
   "source": [
    "dft = dft.dropna()"
   ]
  },
  {
   "cell_type": "code",
   "execution_count": 8,
   "id": "5ab09e39",
   "metadata": {},
   "outputs": [],
   "source": [
    "offspeed_pitches = ['Sinker','Curveball','Slider','Cutter','Curveball','Splitter','Changeup']\n",
    "\n",
    "def calculate_ff_diff(event):\n",
    "    \"\"\"Calculate fastball speed difference with error handling\"\"\"\n",
    "    if pd.notna(event['RelSpeed']) and pd.notna(event['TaggedPitchType']) and event['TaggedPitchType'] in offspeed_pitches:\n",
    "        fastball_avg = df[(df['Pitcher'] == event['Pitcher']) & \n",
    "                         (df['TaggedPitchType'] == 'Fastball')]['RelSpeed'].mean()\n",
    "        if pd.notna(fastball_avg):\n",
    "            return fastball_avg - event['RelSpeed']\n",
    "    return np.nan\n",
    "\n",
    "def calculate_ivb_diff(event):\n",
    "    \"\"\"Calculate induced vertical break difference with error handling\"\"\"\n",
    "    if pd.notna(event['InducedVertBreak']) and pd.notna(event['TaggedPitchType']) and event['TaggedPitchType'] in offspeed_pitches:\n",
    "        fastball_avg = df[(df['Pitcher'] == event['Pitcher']) & \n",
    "                         (df['TaggedPitchType'] == 'Fastball')]['InducedVertBreak'].mean()\n",
    "        if pd.notna(fastball_avg):\n",
    "            return fastball_avg - event['InducedVertBreak']\n",
    "    return np.nan\n",
    "\n",
    "def calculate_hb_diff(event):\n",
    "    \"\"\"Calculate horizontal break difference with error handling\"\"\"\n",
    "    if pd.notna(event['HorzBreak']) and pd.notna(event['TaggedPitchType']) and event['TaggedPitchType'] in offspeed_pitches:\n",
    "        fastball_avg = df[(df['Pitcher'] == event['Pitcher']) & \n",
    "                         (df['TaggedPitchType'] == 'Fastball')]['HorzBreak'].mean()\n",
    "        if pd.notna(fastball_avg):\n",
    "            return fastball_avg - event['HorzBreak']\n",
    "    return np.nan"
   ]
  },
  {
   "cell_type": "code",
   "execution_count": 9,
   "id": "93c0a581",
   "metadata": {},
   "outputs": [],
   "source": [
    "dft['ff_diff'] = dft.apply(calculate_ff_diff, axis=1)\n",
    "dft['ivb_diff'] = dft.apply(calculate_ivb_diff, axis=1)\n",
    "dft['hb_diff'] = dft.apply(calculate_hb_diff, axis=1)\n",
    "    "
   ]
  },
  {
   "cell_type": "code",
   "execution_count": 10,
   "id": "82168df3",
   "metadata": {},
   "outputs": [],
   "source": [
    "features = ['RelSpeed','SpinRate','RelHeight','RelSide','Extension','InducedVertBreak','VertRelAngle', 'HorzBreak','VertApprAngle','ZoneSpeed','ff_diff','ivb_diff','hb_diff'] + pitch_type_dummies"
   ]
  },
  {
   "cell_type": "code",
   "execution_count": 11,
   "id": "e8d7ec44",
   "metadata": {},
   "outputs": [],
   "source": [
    "required_features = [\n",
    "    'RelSpeed', 'SpinRate', 'RelHeight', 'RelSide', 'Extension',\n",
    "    'InducedVertBreak','VertRelAngle', 'HorzBreak', 'VertApprAngle', 'ZoneSpeed',\n",
    "    'ff_diff', 'ivb_diff', 'hb_diff'\n",
    "]"
   ]
  },
  {
   "cell_type": "code",
   "execution_count": 12,
   "id": "f496e725",
   "metadata": {},
   "outputs": [],
   "source": [
    "from sklearn.pipeline import make_pipeline\n",
    "from sklearn.preprocessing import RobustScaler\n",
    "from sklearn.model_selection import RandomizedSearchCV, KFold, train_test_split\n",
    "from xgboost import XGBRegressor\n",
    "from sklearn.metrics import mean_squared_error\n",
    "from math import sqrt\n",
    "import numpy as np\n",
    "from scipy.stats import uniform, randint\n",
    "\n",
    "\n",
    "# Prepare data\n",
    "X = dft[features]\n",
    "y = dft['delta_run_exp_mean']\n",
    "X_train, X_test, y_train, y_test = train_test_split(X, y, test_size=0.3, random_state=42)\n",
    "\n",
    "# Define parameter distribution for RandomizedSearchCV"
   ]
  },
  {
   "cell_type": "code",
   "execution_count": 13,
   "id": "12a461b8",
   "metadata": {},
   "outputs": [
    {
     "name": "stdout",
     "output_type": "stream",
     "text": [
      "\n",
      "Starting RandomizedSearchCV Hyperparameter Optimization...\n",
      "Test RMSE (RandomizedSearchCV Tuned): 0.1847402630730839\n",
      "Min Prediction: -0.18910797 Max Prediction: 0.32934982\n",
      "Mean Prediction: -0.012731219\n",
      "Baseline RMSE (Mean Prediction): 0.18062342730059466\n"
     ]
    }
   ],
   "source": [
    "# Create pipeline\n",
    "final_model = make_pipeline(\n",
    "    RobustScaler(),\n",
    "    XGBRegressor(\n",
    "        n_estimators=1000,\n",
    "        learning_rate=0.01,\n",
    "        max_depth=0,                  # Set this explicitly\n",
    "        min_child_weight=1,\n",
    "        subsample=0.8,\n",
    "        colsample_bytree=0.8,\n",
    "        colsample_bylevel=0.8,\n",
    "        colsample_bynode=0.8,\n",
    "        gamma=0.0,\n",
    "        reg_alpha=0.1,\n",
    "        reg_lambda=0.2,\n",
    "        tree_method='hist',           # Efficient for large datasets\n",
    "        random_state=42\n",
    "    )\n",
    ")\n",
    "\n",
    "\n",
    "# Set up RandomizedSearchCV\n",
    "\n",
    "\n",
    "# Run RandomizedSearchCV\n",
    "print(\"\\nStarting RandomizedSearchCV Hyperparameter Optimization...\")\n",
    "final_model.fit(X_train, y_train)\n",
    "\n",
    "# Final model training with best params\n",
    "\n",
    "\n",
    "# Predictions\n",
    "y_pred = final_model.predict(X_test)\n",
    "\n",
    "# Evaluate\n",
    "rmse = sqrt(mean_squared_error(y_test, y_pred))\n",
    "print(f\"Test RMSE (RandomizedSearchCV Tuned): {rmse}\")\n",
    "\n",
    "# Optional: Check prediction range\n",
    "print(\"Min Prediction:\", y_pred.min(), \"Max Prediction:\", y_pred.max())\n",
    "print(\"Mean Prediction:\", y_pred.mean())\n",
    "\n",
    "# Baseline comparison\n",
    "y_pred_baseline = np.full_like(y_test, y_train.mean())\n",
    "rmse_baseline = sqrt(mean_squared_error(y_test, y_pred_baseline))\n",
    "print(f\"Baseline RMSE (Mean Prediction): {rmse_baseline}\")\n"
   ]
  },
  {
   "cell_type": "code",
   "execution_count": 14,
   "id": "6632a9b7",
   "metadata": {},
   "outputs": [
    {
     "name": "stdout",
     "output_type": "stream",
     "text": [
      "Baseline RMSE (Mean Prediction): 0.18062342730059466\n"
     ]
    }
   ],
   "source": [
    "y_pred_baseline = np.full_like(y_test, y_train.mean())\n",
    "rmse_baseline = sqrt(mean_squared_error(y_test, y_pred_baseline))\n",
    "print(f\"Baseline RMSE (Mean Prediction): {rmse_baseline}\")"
   ]
  },
  {
   "cell_type": "code",
   "execution_count": 15,
   "id": "f45e93a8",
   "metadata": {},
   "outputs": [
    {
     "name": "stdout",
     "output_type": "stream",
     "text": [
      "Min Prediction: -0.18910797 Max Prediction: 0.32934982\n",
      "Mean Prediction: -0.012731219\n"
     ]
    }
   ],
   "source": [
    "print(\"Min Prediction:\", y_pred.min(), \"Max Prediction:\", y_pred.max())\n",
    "print(\"Mean Prediction:\", y_pred.mean())"
   ]
  },
  {
   "cell_type": "code",
   "execution_count": 16,
   "id": "3709fc29",
   "metadata": {},
   "outputs": [
    {
     "name": "stdout",
     "output_type": "stream",
     "text": [
      "X_train NaN: (4092,)\n",
      "y_train NaN: (4092,)\n",
      "y_train unique values: 98\n"
     ]
    }
   ],
   "source": [
    "print(\"X_train NaN:\", y_test.shape)\n",
    "print(\"y_train NaN:\", y_pred.shape)\n",
    "print(\"y_train unique values:\", y_train.nunique())"
   ]
  },
  {
   "cell_type": "code",
   "execution_count": 17,
   "id": "6cd168df",
   "metadata": {},
   "outputs": [
    {
     "data": {
      "image/png": "[encoded data removed]",
      "text/plain": [
       "<Figure size 640x480 with 1 Axes>"
      ]
     },
     "metadata": {},
     "output_type": "display_data"
    }
   ],
   "source": [
    "sns.kdeplot(y_test, label='Actual', fill=True)\n",
    "sns.kdeplot(y_pred, label='Predicted', fill=True, color='orange')\n",
    "plt.xlabel('PlayResult')\n",
    "plt.ylabel('Density')\n",
    "plt.title('Density Plot: Actual vs Predicted')\n",
    "plt.legend()\n",
    "plt.show()"
   ]
  },
  {
   "cell_type": "code",
   "execution_count": 44,
   "id": "5c26457b",
   "metadata": {},
   "outputs": [
    {
     "data": {
      "text/plain": [
       "np.float64(-0.0158504144282841)"
      ]
     },
     "execution_count": 44,
     "metadata": {},
     "output_type": "execute_result"
    }
   ],
   "source": [
    "y.mean()"
   ]
  },
  {
   "cell_type": "code",
   "execution_count": 45,
   "id": "70cc2f9f",
   "metadata": {},
   "outputs": [
    {
     "data": {
      "text/plain": [
       "np.float64(-0.0021576512766823)"
      ]
     },
     "execution_count": 45,
     "metadata": {},
     "output_type": "execute_result"
    }
   ],
   "source": [
    "y.median()"
   ]
  },
  {
   "cell_type": "code",
   "execution_count": 50,
   "id": "add74f42",
   "metadata": {},
   "outputs": [
    {
     "data": {
      "text/plain": [
       "np.float64(0.17713484357387707)"
      ]
     },
     "execution_count": 50,
     "metadata": {},
     "output_type": "execute_result"
    }
   ],
   "source": [
    "y.std()"
   ]
  },
  {
   "cell_type": "code",
   "execution_count": null,
   "id": "83b02d64",
   "metadata": {},
   "outputs": [],
   "source": []
  },
  {
   "cell_type": "code",
   "execution_count": 46,
   "id": "316bb789",
   "metadata": {},
   "outputs": [
    {
     "ename": "NameError",
     "evalue": "name 'input_data' is not defined",
     "output_type": "error",
     "traceback": [
      "\u001b[1;31m---------------------------------------------------------------------------\u001b[0m",
      "\u001b[1;31mNameError\u001b[0m                                 Traceback (most recent call last)",
      "Cell \u001b[1;32mIn[46], line 65\u001b[0m\n\u001b[0;32m     59\u001b[0m df_agg \u001b[38;5;241m=\u001b[39m df_all\u001b[38;5;241m.\u001b[39mgroupby([\u001b[38;5;124m'\u001b[39m\u001b[38;5;124mPitcher\u001b[39m\u001b[38;5;124m'\u001b[39m])\u001b[38;5;241m.\u001b[39magg(\n\u001b[0;32m     60\u001b[0m     count\u001b[38;5;241m=\u001b[39m(\u001b[38;5;124m'\u001b[39m\u001b[38;5;124mstuff_plus\u001b[39m\u001b[38;5;124m'\u001b[39m, \u001b[38;5;124m'\u001b[39m\u001b[38;5;124msize\u001b[39m\u001b[38;5;124m'\u001b[39m),\n\u001b[0;32m     61\u001b[0m     mean_stuff_plus\u001b[38;5;241m=\u001b[39m(\u001b[38;5;124m'\u001b[39m\u001b[38;5;124mstuff_plus\u001b[39m\u001b[38;5;124m'\u001b[39m, \u001b[38;5;124m'\u001b[39m\u001b[38;5;124mmean\u001b[39m\u001b[38;5;124m'\u001b[39m)\n\u001b[0;32m     62\u001b[0m )\u001b[38;5;241m.\u001b[39mreset_index()\n\u001b[0;32m     64\u001b[0m \u001b[38;5;66;03m# Apply predict_stuff_plus to get model-based Stuff+\u001b[39;00m\n\u001b[1;32m---> 65\u001b[0m df_all[\u001b[38;5;124m'\u001b[39m\u001b[38;5;124mpredicted_stuff_plus\u001b[39m\u001b[38;5;124m'\u001b[39m] \u001b[38;5;241m=\u001b[39m \u001b[43mdf_all\u001b[49m\u001b[38;5;241;43m.\u001b[39;49m\u001b[43mapply\u001b[49m\u001b[43m(\u001b[49m\u001b[43mpredict_stuff_plus\u001b[49m\u001b[43m,\u001b[49m\u001b[43m \u001b[49m\u001b[43maxis\u001b[49m\u001b[38;5;241;43m=\u001b[39;49m\u001b[38;5;241;43m1\u001b[39;49m\u001b[43m)\u001b[49m\n\u001b[0;32m     67\u001b[0m \u001b[38;5;66;03m# Display results\u001b[39;00m\n\u001b[0;32m     68\u001b[0m \u001b[38;5;28mprint\u001b[39m(\u001b[38;5;124m\"\u001b[39m\u001b[38;5;124mAggregated Stuff+ by Pitcher:\u001b[39m\u001b[38;5;124m\"\u001b[39m)\n",
      "File \u001b[1;32mc:\\Users\\isu_mvquirk\\AppData\\Local\\Programs\\Python\\Python310\\lib\\site-packages\\pandas\\core\\frame.py:10381\u001b[0m, in \u001b[0;36mDataFrame.apply\u001b[1;34m(self, func, axis, raw, result_type, args, by_row, engine, engine_kwargs, **kwargs)\u001b[0m\n\u001b[0;32m  10367\u001b[0m \u001b[38;5;28;01mfrom\u001b[39;00m\u001b[38;5;250m \u001b[39m\u001b[38;5;21;01mpandas\u001b[39;00m\u001b[38;5;21;01m.\u001b[39;00m\u001b[38;5;21;01mcore\u001b[39;00m\u001b[38;5;21;01m.\u001b[39;00m\u001b[38;5;21;01mapply\u001b[39;00m\u001b[38;5;250m \u001b[39m\u001b[38;5;28;01mimport\u001b[39;00m frame_apply\n\u001b[0;32m  10369\u001b[0m op \u001b[38;5;241m=\u001b[39m frame_apply(\n\u001b[0;32m  10370\u001b[0m     \u001b[38;5;28mself\u001b[39m,\n\u001b[0;32m  10371\u001b[0m     func\u001b[38;5;241m=\u001b[39mfunc,\n\u001b[1;32m   (...)\u001b[0m\n\u001b[0;32m  10379\u001b[0m     kwargs\u001b[38;5;241m=\u001b[39mkwargs,\n\u001b[0;32m  10380\u001b[0m )\n\u001b[1;32m> 10381\u001b[0m \u001b[38;5;28;01mreturn\u001b[39;00m \u001b[43mop\u001b[49m\u001b[38;5;241;43m.\u001b[39;49m\u001b[43mapply\u001b[49m\u001b[43m(\u001b[49m\u001b[43m)\u001b[49m\u001b[38;5;241m.\u001b[39m__finalize__(\u001b[38;5;28mself\u001b[39m, method\u001b[38;5;241m=\u001b[39m\u001b[38;5;124m\"\u001b[39m\u001b[38;5;124mapply\u001b[39m\u001b[38;5;124m\"\u001b[39m)\n",
      "File \u001b[1;32mc:\\Users\\isu_mvquirk\\AppData\\Local\\Programs\\Python\\Python310\\lib\\site-packages\\pandas\\core\\apply.py:916\u001b[0m, in \u001b[0;36mFrameApply.apply\u001b[1;34m(self)\u001b[0m\n\u001b[0;32m    913\u001b[0m \u001b[38;5;28;01melif\u001b[39;00m \u001b[38;5;28mself\u001b[39m\u001b[38;5;241m.\u001b[39mraw:\n\u001b[0;32m    914\u001b[0m     \u001b[38;5;28;01mreturn\u001b[39;00m \u001b[38;5;28mself\u001b[39m\u001b[38;5;241m.\u001b[39mapply_raw(engine\u001b[38;5;241m=\u001b[39m\u001b[38;5;28mself\u001b[39m\u001b[38;5;241m.\u001b[39mengine, engine_kwargs\u001b[38;5;241m=\u001b[39m\u001b[38;5;28mself\u001b[39m\u001b[38;5;241m.\u001b[39mengine_kwargs)\n\u001b[1;32m--> 916\u001b[0m \u001b[38;5;28;01mreturn\u001b[39;00m \u001b[38;5;28;43mself\u001b[39;49m\u001b[38;5;241;43m.\u001b[39;49m\u001b[43mapply_standard\u001b[49m\u001b[43m(\u001b[49m\u001b[43m)\u001b[49m\n",
      "File \u001b[1;32mc:\\Users\\isu_mvquirk\\AppData\\Local\\Programs\\Python\\Python310\\lib\\site-packages\\pandas\\core\\apply.py:1063\u001b[0m, in \u001b[0;36mFrameApply.apply_standard\u001b[1;34m(self)\u001b[0m\n\u001b[0;32m   1061\u001b[0m \u001b[38;5;28;01mdef\u001b[39;00m\u001b[38;5;250m \u001b[39m\u001b[38;5;21mapply_standard\u001b[39m(\u001b[38;5;28mself\u001b[39m):\n\u001b[0;32m   1062\u001b[0m     \u001b[38;5;28;01mif\u001b[39;00m \u001b[38;5;28mself\u001b[39m\u001b[38;5;241m.\u001b[39mengine \u001b[38;5;241m==\u001b[39m \u001b[38;5;124m\"\u001b[39m\u001b[38;5;124mpython\u001b[39m\u001b[38;5;124m\"\u001b[39m:\n\u001b[1;32m-> 1063\u001b[0m         results, res_index \u001b[38;5;241m=\u001b[39m \u001b[38;5;28;43mself\u001b[39;49m\u001b[38;5;241;43m.\u001b[39;49m\u001b[43mapply_series_generator\u001b[49m\u001b[43m(\u001b[49m\u001b[43m)\u001b[49m\n\u001b[0;32m   1064\u001b[0m     \u001b[38;5;28;01melse\u001b[39;00m:\n\u001b[0;32m   1065\u001b[0m         results, res_index \u001b[38;5;241m=\u001b[39m \u001b[38;5;28mself\u001b[39m\u001b[38;5;241m.\u001b[39mapply_series_numba()\n",
      "File \u001b[1;32mc:\\Users\\isu_mvquirk\\AppData\\Local\\Programs\\Python\\Python310\\lib\\site-packages\\pandas\\core\\apply.py:1081\u001b[0m, in \u001b[0;36mFrameApply.apply_series_generator\u001b[1;34m(self)\u001b[0m\n\u001b[0;32m   1078\u001b[0m \u001b[38;5;28;01mwith\u001b[39;00m option_context(\u001b[38;5;124m\"\u001b[39m\u001b[38;5;124mmode.chained_assignment\u001b[39m\u001b[38;5;124m\"\u001b[39m, \u001b[38;5;28;01mNone\u001b[39;00m):\n\u001b[0;32m   1079\u001b[0m     \u001b[38;5;28;01mfor\u001b[39;00m i, v \u001b[38;5;129;01min\u001b[39;00m \u001b[38;5;28menumerate\u001b[39m(series_gen):\n\u001b[0;32m   1080\u001b[0m         \u001b[38;5;66;03m# ignore SettingWithCopy here in case the user mutates\u001b[39;00m\n\u001b[1;32m-> 1081\u001b[0m         results[i] \u001b[38;5;241m=\u001b[39m \u001b[38;5;28mself\u001b[39m\u001b[38;5;241m.\u001b[39mfunc(v, \u001b[38;5;241m*\u001b[39m\u001b[38;5;28mself\u001b[39m\u001b[38;5;241m.\u001b[39margs, \u001b[38;5;241m*\u001b[39m\u001b[38;5;241m*\u001b[39m\u001b[38;5;28mself\u001b[39m\u001b[38;5;241m.\u001b[39mkwargs)\n\u001b[0;32m   1082\u001b[0m         \u001b[38;5;28;01mif\u001b[39;00m \u001b[38;5;28misinstance\u001b[39m(results[i], ABCSeries):\n\u001b[0;32m   1083\u001b[0m             \u001b[38;5;66;03m# If we have a view on v, we need to make a copy because\u001b[39;00m\n\u001b[0;32m   1084\u001b[0m             \u001b[38;5;66;03m#  series_generator will swap out the underlying data\u001b[39;00m\n\u001b[0;32m   1085\u001b[0m             results[i] \u001b[38;5;241m=\u001b[39m results[i]\u001b[38;5;241m.\u001b[39mcopy(deep\u001b[38;5;241m=\u001b[39m\u001b[38;5;28;01mFalse\u001b[39;00m)\n",
      "Cell \u001b[1;32mIn[46], line 15\u001b[0m, in \u001b[0;36mpredict_stuff_plus\u001b[1;34m(event)\u001b[0m\n\u001b[0;32m     13\u001b[0m \u001b[38;5;28;01mif\u001b[39;00m \u001b[38;5;124m'\u001b[39m\u001b[38;5;124mTaggedPitchType\u001b[39m\u001b[38;5;124m'\u001b[39m \u001b[38;5;129;01min\u001b[39;00m event \u001b[38;5;129;01mand\u001b[39;00m \u001b[38;5;129;01mnot\u001b[39;00m pd\u001b[38;5;241m.\u001b[39misna(event[\u001b[38;5;124m'\u001b[39m\u001b[38;5;124mTaggedPitchType\u001b[39m\u001b[38;5;124m'\u001b[39m]):\n\u001b[0;32m     14\u001b[0m     dummies \u001b[38;5;241m=\u001b[39m pd\u001b[38;5;241m.\u001b[39mget_dummies(pd\u001b[38;5;241m.\u001b[39mSeries(event[\u001b[38;5;124m'\u001b[39m\u001b[38;5;124mTaggedPitchType\u001b[39m\u001b[38;5;124m'\u001b[39m]), prefix\u001b[38;5;241m=\u001b[39m\u001b[38;5;124m'\u001b[39m\u001b[38;5;124mPitchType\u001b[39m\u001b[38;5;124m'\u001b[39m, dtype\u001b[38;5;241m=\u001b[39m\u001b[38;5;28mfloat\u001b[39m)\n\u001b[1;32m---> 15\u001b[0m     \u001b[43minput_data\u001b[49m\u001b[38;5;241m.\u001b[39mupdate(dummies\u001b[38;5;241m.\u001b[39miloc[\u001b[38;5;241m0\u001b[39m]\u001b[38;5;241m.\u001b[39mto_dict())\n\u001b[0;32m     16\u001b[0m \u001b[38;5;28;01melse\u001b[39;00m:\n\u001b[0;32m     17\u001b[0m     \u001b[38;5;28;01mreturn\u001b[39;00m np\u001b[38;5;241m.\u001b[39mnan  \u001b[38;5;66;03m# Missing TaggedPitchType\u001b[39;00m\n",
      "\u001b[1;31mNameError\u001b[0m: name 'input_data' is not defined"
     ]
    }
   ],
   "source": [
    "import numpy as np\n",
    "import pandas as pd\n",
    "\n",
    "# Define the predict_stuff_plus function with dummy variable handling\n",
    "def predict_stuff_plus(event):\n",
    "    # Define the full set of features used in training (12 features + pitch type dummies)\n",
    "    base_features = ['RelSpeed', 'SpinRate', 'RelHeight', 'RelSide', 'Extension', \n",
    "                     'InducedVertBreak', 'HorzBreak', 'VertApprAngle', 'ZoneSpeed', \n",
    "                     'ff_diff', 'ivb_diff', 'hb_diff']\n",
    "    \n",
    "    \n",
    "    # Create dummy variables for TaggedPitchType\n",
    "    if 'TaggedPitchType' in event and not pd.isna(event['TaggedPitchType']):\n",
    "        dummies = pd.get_dummies(pd.Series(event['TaggedPitchType']), prefix='PitchType', dtype=float)\n",
    "        input_data.update(dummies.iloc[0].to_dict())\n",
    "    else:\n",
    "        return np.nan  # Missing TaggedPitchType\n",
    "    \n",
    "    # Convert to DataFrame and align with training columns\n",
    "    input_df = pd.DataFrame([input_data])\n",
    "    \n",
    "    # Get the feature names from the trained model (assuming pipeline with RobustScaler and XGBRegressor)\n",
    "    feature_names = final_model.named_steps['xgbregressor'].get_booster().feature_names\n",
    "    if feature_names is None:\n",
    "        # Fallback: Use the columns from X_train if available (you may need to pass X_train columns)\n",
    "        feature_names = X_train.columns  # Ensure X_train is defined in the scope\n",
    "    \n",
    "    # Reindex input_df to match the expected feature order and fill missing columns with 0\n",
    "    input_df = input_df.reindex(columns=feature_names, fill_value=0)\n",
    "    \n",
    "    # Predict using the trained model\n",
    "    pred = final_model.predict(input_df)[0]\n",
    "    \n",
    "    # Apply inverse sigmoid transformation to compress to (0, 1), where higher pred -> lower Stuff+\n",
    "    k = 50  # Steepness parameter (adjusted for xRV range)\n",
    "    xrv_mean = y.mean() if hasattr(y, 'mean') else 0.28  # Fallback to approximate xRV mean\n",
    "    sigmoid = 1 / (1 + np.exp(k * (pred - xrv_mean)))  # Inverted logic\n",
    "    \n",
    "    # Scale to 50-150 (lower pred -> higher Stuff+, higher pred -> lower Stuff+)\n",
    "    scaled_pred = 50 + (150 - 50) * sigmoid\n",
    "    \n",
    "    return scaled_pred\n",
    "\n",
    "# Use the entire dataset\n",
    "df_all = df.copy()\n",
    "\n",
    "## Stuff+ Calculation ##\n",
    "# Calculate the mean and standard deviation of delta_run_exp_mean for the entire dataset\n",
    "target_mean = df_all['delta_run_exp_mean'].mean()\n",
    "target_std = df_all['delta_run_exp_mean'].std()\n",
    "\n",
    "# Standardize the delta_run_exp_mean column to create a z-score\n",
    "df_all['target_zscore'] = (df_all['delta_run_exp_mean'] - target_mean) / target_std\n",
    "\n",
    "# Convert the z-score to Stuff+ (100 - zscore * 10)\n",
    "df_all['stuff_plus'] = 100 - (df_all['target_zscore'] * 10)\n",
    "\n",
    "# Aggregate Stuff+ by pitcher_id\n",
    "df_agg = df_all.groupby(['Pitcher']).agg(\n",
    "    count=('stuff_plus', 'size'),\n",
    "    mean_stuff_plus=('stuff_plus', 'mean')\n",
    ").reset_index()\n",
    "\n",
    "# Apply predict_stuff_plus to get model-based Stuff+\n",
    "df_all['predicted_stuff_plus'] = df_all.apply(predict_stuff_plus, axis=1)\n",
    "\n",
    "# Display results\n",
    "print(\"Aggregated Stuff+ by Pitcher:\")\n",
    "print(df_agg)\n",
    "\n",
    "print(\"\\nSample of Data with Predicted Stuff+:\")\n",
    "print(df_all[['Pitcher', 'delta_run_exp_mean', 'stuff_plus', 'predicted_stuff_plus']].head())\n"
   ]
  },
  {
   "cell_type": "code",
   "execution_count": null,
   "id": "ac88d0a6",
   "metadata": {},
   "outputs": [],
   "source": [
    "\n",
    "cornbelters_files = glob.glob(\"../CornBeltersData/*.csv\")\n",
    "kcl_files = glob.glob(\"../kclData/*.csv\")\n",
    "\n",
    "\n",
    "# Read and concatenate all CSVs into one DataFrame\n",
    "cornbelters  = [pd.read_csv(f) for f in cornbelters_files]\n",
    "kcl = [pd.read_csv(f) for f in kcl_files]\n",
    "kcl_df = pd.concat(kcl, ignore_index=True)\n",
    "cornbelters_df = pd.concat(cornbelters, ignore_index=True)"
   ]
  },
  {
   "cell_type": "code",
   "execution_count": null,
   "id": "82c2b7b7",
   "metadata": {},
   "outputs": [],
   "source": [
    "offspeed_pitches = ['Sinker','Curveball','Slider','Cutter']\n",
    "\n",
    "def calculate_ff_diff(event):\n",
    "    \"\"\"Calculate fastball speed difference with error handling\"\"\"\n",
    "    if pd.notna(event['RelSpeed']) and pd.notna(event['TaggedPitchType']) and event['TaggedPitchType'] in offspeed_pitches:\n",
    "        fastball_avg = kcl_df[(kcl_df['Pitcher'] == event['Pitcher']) & \n",
    "                         (kcl_df['TaggedPitchType'] == 'Fastball')]['RelSpeed'].mean()\n",
    "        if pd.notna(fastball_avg):\n",
    "            return fastball_avg - event['RelSpeed']\n",
    "    return np.nan\n",
    "\n",
    "def calculate_ivb_diff(event):\n",
    "    \"\"\"Calculate induced vertical break difference with error handling\"\"\"\n",
    "    if pd.notna(event['InducedVertBreak']) and pd.notna(event['TaggedPitchType']) and event['TaggedPitchType'] in offspeed_pitches:\n",
    "        fastball_avg = kcl_df[(kcl_df['Pitcher'] == event['Pitcher']) & \n",
    "                         (kcl_df['TaggedPitchType'] == 'Fastball')]['InducedVertBreak'].mean()\n",
    "        if pd.notna(fastball_avg):\n",
    "            return fastball_avg - event['InducedVertBreak']\n",
    "    return np.nan\n",
    "\n",
    "def calculate_hb_diff(event):\n",
    "    \"\"\"Calculate horizontal break difference with error handling\"\"\"\n",
    "    if pd.notna(event['HorzBreak']) and pd.notna(event['TaggedPitchType']) and event['TaggedPitchType'] in offspeed_pitches:\n",
    "        fastball_avg = kcl_df[(kcl_df['Pitcher'] == event['Pitcher']) & \n",
    "                         (kcl_df['TaggedPitchType'] == 'Fastball')]['HorzBreak'].mean()\n",
    "        if pd.notna(fastball_avg):\n",
    "            return fastball_avg - event['HorzBreak']\n",
    "    return np.nan"
   ]
  },
  {
   "cell_type": "code",
   "execution_count": null,
   "id": "06058790",
   "metadata": {},
   "outputs": [],
   "source": [
    "kcl_df['ff_diff'] = kcl_df.apply(calculate_ff_diff, axis=1)\n",
    "kcl_df['ivb_diff'] = kcl_df.apply(calculate_ivb_diff, axis=1)\n",
    "kcl_df['hb_diff'] = kcl_df.apply(calculate_hb_diff, axis=1)\n",
    "cornbelters_df['ff_diff'] = cornbelters_df.apply(calculate_ff_diff, axis=1)\n",
    "cornbelters_df['ivb_diff'] = cornbelters_df.apply(calculate_ivb_diff, axis=1)\n",
    "cornbelters_df['hb_diff'] = cornbelters_df.apply(calculate_hb_diff, axis=1)"
   ]
  },
  {
   "cell_type": "code",
   "execution_count": null,
   "id": "9c27836e",
   "metadata": {},
   "outputs": [],
   "source": [
    "kcl_df['Stuff+'] = kcl_df.apply(predict_stuff_plus,axis=1)\n",
    "cornbelters_df['Stuff+'] = cornbelters_df.apply(predict_stuff_plus,axis=1)"
   ]
  },
  {
   "cell_type": "code",
   "execution_count": null,
   "id": "25789fea",
   "metadata": {},
   "outputs": [],
   "source": [
    "pitcher_stuffplus = kcl_df.groupby('Pitcher')['Stuff+'].mean().reset_index()\n",
    "pitcher_stuffplus.to_csv('stuff+.csv')\n",
    "cornbelters_stuffplus = cornbelters_df.groupby('Pitcher')['Stuff+'].mean().reset_index()\n",
    "cornbelters_stuffplus.to_csv('cb.csv')"
   ]
  },
  {
   "cell_type": "code",
   "execution_count": 47,
   "id": "396c8e3c",
   "metadata": {},
   "outputs": [],
   "source": [
    "import pickle"
   ]
  },
  {
   "cell_type": "code",
   "execution_count": 48,
   "id": "b92da7dc",
   "metadata": {},
   "outputs": [],
   "source": [
    "with open(\"stuff_plus_model.pkl\", \"wb\") as f:\n",
    "    pickle.dump(final_model, f)"
   ]
  },
  {
   "cell_type": "code",
   "execution_count": null,
   "id": "994212a5",
   "metadata": {},
   "outputs": [],
   "source": []
  }
 ],
 "metadata": {
  "kernelspec": {
   "display_name": "Python 3",
   "language": "python",
   "name": "python3"
  },
  "language_info": {
   "codemirror_mode": {
    "name": "ipython",
    "version": 3
   },
   "file_extension": ".py",
   "mimetype": "text/x-python",
   "name": "python",
   "nbconvert_exporter": "python",
   "pygments_lexer": "ipython3",
   "version": "3.10.7"
  }
 },
 "nbformat": 4,
 "nbformat_minor": 5
}
