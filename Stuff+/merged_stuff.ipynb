{
 "cells": [
  {
   "cell_type": "code",
   "execution_count": 1,
   "id": "97ad077a",
   "metadata": {},
   "outputs": [],
   "source": [
    "import glob\n",
    "import pandas as pd"
   ]
  },
  {
   "cell_type": "code",
   "execution_count": 5,
   "id": "485d4d95",
   "metadata": {},
   "outputs": [],
   "source": [
    "cornbelters_files = glob.glob(\"../CornBeltersData/*.csv\")\n",
    "kcl_files = glob.glob(\"../kclData/*.csv\")\n",
    "\n",
    "\n",
    "# Read and concatenate all CSVs into one DataFrame\n",
    "kcl_files = [pd.read_csv(f) for f in kcl_files]\n",
    "cornbelters_files = [pd.read_csv(f) for f in cornbelters_files]\n",
    "kcl = pd.concat(kcl_files, ignore_index=True)\n",
    "cornbelters = pd.concat(cornbelters_files, ignore_index=True)"
   ]
  },
  {
   "cell_type": "code",
   "execution_count": 6,
   "id": "71a17762",
   "metadata": {},
   "outputs": [],
   "source": [
    "import glob\n",
    "import pandas as pd\n",
    "\n",
    "# Load Cornbelters file with stuff+\n",
    "cornbelters_df = pd.read_csv('Cornbelters2025wStuff+.csv')\n",
    "\n",
    "# Merge: keep all KCL pitches, add stuff+ and xWhiff from Cornbelters if matching\n",
    "merge_keys = [\n",
    "    'Pitcher', 'PitcherTeam', 'TaggedPitchType', 'PitchCall', 'PlayResult',\n",
    "    'RelSpeed', 'SpinRate', 'RelHeight', 'RelSide', 'Extension',\n",
    "    'InducedVertBreak', 'HorzBreak', 'PlateLocHeight', 'PlateLocSide'\n",
    "]\n",
    "\n",
    "# Only keep relevant columns from Cornbelters\n",
    "cornbelters_reduced = cornbelters_df[merge_keys + ['xWhiff', 'stuff+']]\n",
    "\n",
    "# Merge KCL data with Cornbelters stuff+ (if any matches)\n",
    "merged = pd.merge(\n",
    "    cornbelters,\n",
    "    cornbelters_reduced,\n",
    "    on=merge_keys,\n",
    "    how='left'\n",
    ")\n",
    "\n",
    "# Save merged file\n",
    "merged.to_csv('Cornbelters_stuff+.csv', index=False)"
   ]
  },
  {
   "cell_type": "code",
   "execution_count": 8,
   "id": "4a20f411",
   "metadata": {},
   "outputs": [],
   "source": [
    "import glob\n",
    "import pandas as pd\n",
    "\n",
    "# Load all KCL raw data files and concatenate\n",
    "kcl_files = glob.glob(\"../kclData/*.csv\")\n",
    "kcl = pd.concat([pd.read_csv(f) for f in kcl_files], ignore_index=True)\n",
    "\n",
    "# Load KCL file with stuff+ (already calculated)\n",
    "kcl_df = pd.read_csv('out.csv')\n",
    "\n",
    "# Columns to merge on (should match exactly between both DataFrames)\n",
    "merge_keys = [\n",
    "    'Pitcher', 'PitcherTeam', 'TaggedPitchType', 'PitchCall', 'PlayResult',\n",
    "    'RelSpeed', 'SpinRate', 'RelHeight', 'RelSide', 'Extension',\n",
    "    'InducedVertBreak', 'HorzBreak', 'PlateLocHeight', 'PlateLocSide'\n",
    "]\n",
    "\n",
    "# Only keep relevant columns from KCL stuff+ file\n",
    "kcl_reduced = kcl_df[merge_keys + ['xWhiff', 'stuff+']]\n",
    "\n",
    "# Merge KCL raw data with KCL stuff+ columns\n",
    "merged = pd.merge(\n",
    "    kcl,\n",
    "    kcl_reduced,\n",
    "    on=merge_keys,\n",
    "    how='left'\n",
    ")\n",
    "\n",
    "# Save merged file\n",
    "merged.to_csv('KCL_stuff+.csv', index=False)"
   ]
  },
  {
   "cell_type": "code",
   "execution_count": 13,
   "id": "98860791",
   "metadata": {},
   "outputs": [
    {
     "data": {
      "text/plain": [
       "0       False\n",
       "1       False\n",
       "2       False\n",
       "3       False\n",
       "4       False\n",
       "        ...  \n",
       "2430    False\n",
       "2431    False\n",
       "2432    False\n",
       "2433    False\n",
       "2434    False\n",
       "Name: stuff+, Length: 2435, dtype: bool"
      ]
     },
     "execution_count": 13,
     "metadata": {},
     "output_type": "execute_result"
    }
   ],
   "source": [
    "merged['stuff+'] > 0"
   ]
  },
  {
   "cell_type": "code",
   "execution_count": null,
   "id": "08fa60e3",
   "metadata": {},
   "outputs": [],
   "source": []
  }
 ],
 "metadata": {
  "kernelspec": {
   "display_name": "Python 3",
   "language": "python",
   "name": "python3"
  },
  "language_info": {
   "codemirror_mode": {
    "name": "ipython",
    "version": 3
   },
   "file_extension": ".py",
   "mimetype": "text/x-python",
   "name": "python",
   "nbconvert_exporter": "python",
   "pygments_lexer": "ipython3",
   "version": "3.10.7"
  }
 },
 "nbformat": 4,
 "nbformat_minor": 5
}
