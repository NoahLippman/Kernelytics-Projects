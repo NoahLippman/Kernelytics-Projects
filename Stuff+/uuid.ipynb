{
 "cells": [
  {
   "cell_type": "code",
   "execution_count": null,
   "id": "6d6a3a3b",
   "metadata": {},
   "outputs": [],
   "source": [
    "import pandas as pd\n",
    "kcl = pd.read_csv('kcl_stuff+_data.csv')\n",
    "cornbelters = pd.read_csv('cornbelters_stuff+_data.csv')\n",
    "#Combine PitchCall KorBB and PlayResult into one column\n",
    "def combined_columns(event):\n",
    "    #If there is a value in KorBB return that since PlayResult sometimes does not have KorBB\n",
    "    if not pd.isna(event['KorBB']):\n",
    "        return event['KorBB']\n",
    "    #If the ball is in play in pitchcall we want to return the result to map it\n",
    "    if event['PitchCall'] == 'InPlay':\n",
    "        return event['PlayResult']\n",
    "    #Since we already have if there's a strikeout or if there's an inplay\n",
    "    else:\n",
    "        return event['PitchCall']\n",
    "\n",
    "mapping_data = pd.read_csv('mean_delta_run_exp_by_outcome_count.csv')\n",
    "kcl['pitch_by_pitch'].apply(combined_columns)\n",
    "cornbelters['pitch_by_pitch'].apply(combined_columns)\n",
    "# Map the data: Group by pitch_by_pitch, Balls, and Strikes, and calculate the mean of delta_run_exp_mean\n",
    "kcl = kcl.merge(mapping_data, on=['pitch_by_pitch', 'Balls', 'Strikes'], how='left')\n",
    "cornbelters = cornbelters.merge(mapping_data, on=['pitch_by_pitch', 'Balls', 'Strikes'], how='left')\n",
    "\n",
    "\n",
    "\n",
    "kcl = kcl[['PitchUUID','stuff+','delta_run_exp_mean']]\n",
    "cornbelters = cornbelters[['PitchUUID','delta_run_exp_mean']]\n",
    "\n",
    "\n",
    "kcl.to_csv('../BaseballSavant/kcl_stuff+.csv', index=False)\n",
    "cornbelters.to_csv('../BaseballSavant/cornbelters_stuff+.csv', index=False)"
   ]
  },
  {
   "cell_type": "code",
   "execution_count": null,
   "id": "19b5dac9",
   "metadata": {},
   "outputs": [],
   "source": []
  }
 ],
 "metadata": {
  "kernelspec": {
   "display_name": "Python 3",
   "language": "python",
   "name": "python3"
  },
  "language_info": {
   "codemirror_mode": {
    "name": "ipython",
    "version": 3
   },
   "file_extension": ".py",
   "mimetype": "text/x-python",
   "name": "python",
   "nbconvert_exporter": "python",
   "pygments_lexer": "ipython3",
   "version": "3.10.7"
  }
 },
 "nbformat": 4,
 "nbformat_minor": 5
}
