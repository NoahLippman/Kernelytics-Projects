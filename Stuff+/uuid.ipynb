{
 "cells": [
  {
   "cell_type": "code",
   "execution_count": 2,
   "id": "6d6a3a3b",
   "metadata": {},
   "outputs": [],
   "source": [
    "import pandas as pd\n",
    "kcl = pd.read_csv('kcl_stuff+_data.csv')\n",
    "cornbelters = pd.read_csv('cornbelters_stuff+_data.csv')\n",
    "kcl = kcl[['PitchUUID','stuff+']]\n",
    "cornbelters = cornbelters[['PitchUUID','stuff+']]\n",
    "kcl.to_csv('kcl_stuff+.csv', index=False)\n",
    "cornbelters.to_csv('cornbelters_stuff+.csv', index=False)"
   ]
  },
  {
   "cell_type": "code",
   "execution_count": null,
   "id": "19b5dac9",
   "metadata": {},
   "outputs": [],
   "source": []
  }
 ],
 "metadata": {
  "kernelspec": {
   "display_name": "Python 3",
   "language": "python",
   "name": "python3"
  },
  "language_info": {
   "codemirror_mode": {
    "name": "ipython",
    "version": 3
   },
   "file_extension": ".py",
   "mimetype": "text/x-python",
   "name": "python",
   "nbconvert_exporter": "python",
   "pygments_lexer": "ipython3",
   "version": "3.10.7"
  }
 },
 "nbformat": 4,
 "nbformat_minor": 5
}
