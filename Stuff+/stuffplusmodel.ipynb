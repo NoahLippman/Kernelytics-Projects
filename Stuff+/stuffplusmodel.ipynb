{
 "cells": [
  {
   "cell_type": "code",
   "execution_count": 1,
   "metadata": {},
   "outputs": [],
   "source": [
    "##importing Basic libraries\n",
    "import pandas as pd\n",
    "import pickle\n",
    "from pandas import DataFrame, Series\n",
    "from sklearn.ensemble import RandomForestClassifier,RandomForestRegressor\n",
    "import numpy as np\n",
    "import seaborn as sns\n",
    "from sklearn import linear_model, naive_bayes\n",
    "from sklearn.datasets import make_regression\n",
    "from sklearn.model_selection import train_test_split, cross_val_score\n",
    "from sklearn.naive_bayes import GaussianNB\n",
    "from sklearn.naive_bayes import MultinomialNB\n",
    "from sklearn.metrics import confusion_matrix\n",
    "from sklearn.tree import DecisionTreeRegressor\n",
    "from sklearn import svm\n",
    "from matplotlib import pyplot\n",
    "import matplotlib.pyplot as plt\n",
    "from matplotlib import style\n",
    "from matplotlib import pyplot\n",
    "from sklearn.metrics import mean_squared_error,r2_score\n",
    "from plotly.offline import download_plotlyjs, init_notebook_mode, plot, iplot\n",
    "import plotly.graph_objects as go\n",
    "import xgboost as xgb\n",
    "from xgboost import XGBRegressor, XGBClassifier\n",
    "from sklearn.preprocessing import StandardScaler\n",
    "from sklearn.model_selection import train_test_split\n",
    "import tensorflow as tf\n",
    "from sklearn.preprocessing import StandardScaler\n",
    "from tensorflow.keras.models import Sequential\n",
    "from tensorflow.keras.layers import Dense\n",
    "from tensorflow.keras.optimizers import Adam\n"
   ]
  },
  {
   "cell_type": "code",
<<<<<<< Updated upstream
   "execution_count": 54,
   "metadata": {},
   "outputs": [],
   "source": [
    "df3 = pd.read_csv(\"Data/merged_data.csv\",low_memory=False)"
=======
   "execution_count": 3,
   "metadata": {},
   "outputs": [],
   "source": [
    "import glob"
>>>>>>> Stashed changes
   ]
  },
  {
   "cell_type": "code",
<<<<<<< Updated upstream
   "execution_count": 55,
=======
   "execution_count": 4,
   "metadata": {},
   "outputs": [],
   "source": [
    "cornbelters_files = glob.glob(\"../CornBeltersData/*.csv\")\n",
    "kcl_files = glob.glob(\"../kclData/*.csv\")\n",
    "all_files = cornbelters_files + kcl_files\n",
    "\n",
    "# Read and concatenate all CSVs into one DataFrame\n",
    "xba_data_list = [pd.read_csv(f) for f in all_files]\n",
    "df3 = pd.concat(xba_data_list, ignore_index=True)"
   ]
  },
  {
   "cell_type": "code",
   "execution_count": 6,
>>>>>>> Stashed changes
   "metadata": {},
   "outputs": [],
   "source": [
    "#Create a new dataframe with only the columns we want for Analysis\n",
    "dft = df3[['Pitcher','PitcherTeam','TaggedPitchType','PitchCall','PlayResult','RelSpeed','SpinRate','RelHeight','RelSide','Extension','InducedVertBreak', 'HorzBreak','PlateLocHeight','PlateLocSide']]"
   ]
  },
  {
   "cell_type": "code",
<<<<<<< Updated upstream
   "execution_count": 56,
=======
   "execution_count": 7,
>>>>>>> Stashed changes
   "metadata": {},
   "outputs": [],
   "source": [
    "#fastballs = 'Fastball', 'Sinker', 'TwoSeamFastBall', 'FourSeamFastBall', 'OneSeamFastBall'\n",
    "dfb2 = dft[dft.TaggedPitchType.isin(['Fastball', 'Sinker', 'TwoSeamFastBall', 'FourSeamFastBall', 'OneSeamFastBall'])]\n",
    "#sliders = 'Slider'\n",
    "dsl2 = dft[dft.TaggedPitchType.isin(['Slider'])]\n",
    "#curveballs = 'Curveball', 'KnuckleCurve'\n",
    "dcb2 = dft[dft.TaggedPitchType.isin(['Curveball', 'KnuckleCurve'])]\n",
<<<<<<< Updated upstream
    "#changeups = 'Changeup', 'Splitter', 'Forkball', 'Screwball'\n",
    "dch2 = dft[dft.TaggedPitchType.isin(['ChangeUp','Splitter'])]\n",
=======
    "#Changeups = 'Changeup', 'Splitter', 'Forkball', 'Screwball'\n",
    "dch2 = dft[dft.TaggedPitchType.isin(['Changeup','Splitter', 'Forkball', 'Screwball'])]\n",
    "\n",
>>>>>>> Stashed changes
    "\n"
   ]
  },
  {
   "cell_type": "code",
<<<<<<< Updated upstream
   "execution_count": 57,
=======
   "execution_count": 8,
>>>>>>> Stashed changes
   "metadata": {},
   "outputs": [
    {
     "name": "stderr",
     "output_type": "stream",
     "text": [
<<<<<<< Updated upstream
      "C:\\Users\\maxim\\AppData\\Local\\Temp\\ipykernel_3448\\3249499381.py:2: SettingWithCopyWarning:\n",
=======
      "C:\\Users\\isu_mvquirk_admin\\AppData\\Local\\Temp\\ipykernel_7464\\3249499381.py:2: SettingWithCopyWarning:\n",
>>>>>>> Stashed changes
      "\n",
      "\n",
      "A value is trying to be set on a copy of a slice from a DataFrame.\n",
      "Try using .loc[row_indexer,col_indexer] = value instead\n",
      "\n",
      "See the caveats in the documentation: https://pandas.pydata.org/pandas-docs/stable/user_guide/indexing.html#returning-a-view-versus-a-copy\n",
      "\n",
<<<<<<< Updated upstream
      "C:\\Users\\maxim\\AppData\\Local\\Temp\\ipykernel_3448\\3249499381.py:3: SettingWithCopyWarning:\n",
=======
      "C:\\Users\\isu_mvquirk_admin\\AppData\\Local\\Temp\\ipykernel_7464\\3249499381.py:3: SettingWithCopyWarning:\n",
>>>>>>> Stashed changes
      "\n",
      "\n",
      "A value is trying to be set on a copy of a slice from a DataFrame.\n",
      "Try using .loc[row_indexer,col_indexer] = value instead\n",
      "\n",
      "See the caveats in the documentation: https://pandas.pydata.org/pandas-docs/stable/user_guide/indexing.html#returning-a-view-versus-a-copy\n",
      "\n",
<<<<<<< Updated upstream
      "C:\\Users\\maxim\\AppData\\Local\\Temp\\ipykernel_3448\\3249499381.py:4: SettingWithCopyWarning:\n",
=======
      "C:\\Users\\isu_mvquirk_admin\\AppData\\Local\\Temp\\ipykernel_7464\\3249499381.py:4: SettingWithCopyWarning:\n",
>>>>>>> Stashed changes
      "\n",
      "\n",
      "A value is trying to be set on a copy of a slice from a DataFrame.\n",
      "Try using .loc[row_indexer,col_indexer] = value instead\n",
      "\n",
      "See the caveats in the documentation: https://pandas.pydata.org/pandas-docs/stable/user_guide/indexing.html#returning-a-view-versus-a-copy\n",
      "\n",
<<<<<<< Updated upstream
      "C:\\Users\\maxim\\AppData\\Local\\Temp\\ipykernel_3448\\3249499381.py:5: SettingWithCopyWarning:\n",
=======
      "C:\\Users\\isu_mvquirk_admin\\AppData\\Local\\Temp\\ipykernel_7464\\3249499381.py:5: SettingWithCopyWarning:\n",
>>>>>>> Stashed changes
      "\n",
      "\n",
      "A value is trying to be set on a copy of a slice from a DataFrame.\n",
      "Try using .loc[row_indexer,col_indexer] = value instead\n",
      "\n",
      "See the caveats in the documentation: https://pandas.pydata.org/pandas-docs/stable/user_guide/indexing.html#returning-a-view-versus-a-copy\n",
      "\n",
<<<<<<< Updated upstream
      "C:\\Users\\maxim\\AppData\\Local\\Temp\\ipykernel_3448\\3249499381.py:7: SettingWithCopyWarning:\n",
=======
      "C:\\Users\\isu_mvquirk_admin\\AppData\\Local\\Temp\\ipykernel_7464\\3249499381.py:7: SettingWithCopyWarning:\n",
>>>>>>> Stashed changes
      "\n",
      "\n",
      "A value is trying to be set on a copy of a slice from a DataFrame.\n",
      "Try using .loc[row_indexer,col_indexer] = value instead\n",
      "\n",
      "See the caveats in the documentation: https://pandas.pydata.org/pandas-docs/stable/user_guide/indexing.html#returning-a-view-versus-a-copy\n",
      "\n",
<<<<<<< Updated upstream
      "C:\\Users\\maxim\\AppData\\Local\\Temp\\ipykernel_3448\\3249499381.py:8: SettingWithCopyWarning:\n",
=======
      "C:\\Users\\isu_mvquirk_admin\\AppData\\Local\\Temp\\ipykernel_7464\\3249499381.py:8: SettingWithCopyWarning:\n",
>>>>>>> Stashed changes
      "\n",
      "\n",
      "A value is trying to be set on a copy of a slice from a DataFrame.\n",
      "Try using .loc[row_indexer,col_indexer] = value instead\n",
      "\n",
      "See the caveats in the documentation: https://pandas.pydata.org/pandas-docs/stable/user_guide/indexing.html#returning-a-view-versus-a-copy\n",
      "\n",
<<<<<<< Updated upstream
      "C:\\Users\\maxim\\AppData\\Local\\Temp\\ipykernel_3448\\3249499381.py:9: SettingWithCopyWarning:\n",
=======
      "C:\\Users\\isu_mvquirk_admin\\AppData\\Local\\Temp\\ipykernel_7464\\3249499381.py:9: SettingWithCopyWarning:\n",
>>>>>>> Stashed changes
      "\n",
      "\n",
      "A value is trying to be set on a copy of a slice from a DataFrame.\n",
      "Try using .loc[row_indexer,col_indexer] = value instead\n",
      "\n",
      "See the caveats in the documentation: https://pandas.pydata.org/pandas-docs/stable/user_guide/indexing.html#returning-a-view-versus-a-copy\n",
      "\n",
<<<<<<< Updated upstream
      "C:\\Users\\maxim\\AppData\\Local\\Temp\\ipykernel_3448\\3249499381.py:10: SettingWithCopyWarning:\n",
=======
      "C:\\Users\\isu_mvquirk_admin\\AppData\\Local\\Temp\\ipykernel_7464\\3249499381.py:10: SettingWithCopyWarning:\n",
>>>>>>> Stashed changes
      "\n",
      "\n",
      "A value is trying to be set on a copy of a slice from a DataFrame.\n",
      "Try using .loc[row_indexer,col_indexer] = value instead\n",
      "\n",
      "See the caveats in the documentation: https://pandas.pydata.org/pandas-docs/stable/user_guide/indexing.html#returning-a-view-versus-a-copy\n",
      "\n",
<<<<<<< Updated upstream
      "C:\\Users\\maxim\\AppData\\Local\\Temp\\ipykernel_3448\\3249499381.py:12: SettingWithCopyWarning:\n",
=======
      "C:\\Users\\isu_mvquirk_admin\\AppData\\Local\\Temp\\ipykernel_7464\\3249499381.py:12: SettingWithCopyWarning:\n",
>>>>>>> Stashed changes
      "\n",
      "\n",
      "A value is trying to be set on a copy of a slice from a DataFrame.\n",
      "Try using .loc[row_indexer,col_indexer] = value instead\n",
      "\n",
      "See the caveats in the documentation: https://pandas.pydata.org/pandas-docs/stable/user_guide/indexing.html#returning-a-view-versus-a-copy\n",
      "\n",
<<<<<<< Updated upstream
      "C:\\Users\\maxim\\AppData\\Local\\Temp\\ipykernel_3448\\3249499381.py:13: SettingWithCopyWarning:\n",
=======
      "C:\\Users\\isu_mvquirk_admin\\AppData\\Local\\Temp\\ipykernel_7464\\3249499381.py:13: SettingWithCopyWarning:\n",
>>>>>>> Stashed changes
      "\n",
      "\n",
      "A value is trying to be set on a copy of a slice from a DataFrame.\n",
      "Try using .loc[row_indexer,col_indexer] = value instead\n",
      "\n",
      "See the caveats in the documentation: https://pandas.pydata.org/pandas-docs/stable/user_guide/indexing.html#returning-a-view-versus-a-copy\n",
      "\n",
<<<<<<< Updated upstream
      "C:\\Users\\maxim\\AppData\\Local\\Temp\\ipykernel_3448\\3249499381.py:14: SettingWithCopyWarning:\n",
=======
      "C:\\Users\\isu_mvquirk_admin\\AppData\\Local\\Temp\\ipykernel_7464\\3249499381.py:14: SettingWithCopyWarning:\n",
>>>>>>> Stashed changes
      "\n",
      "\n",
      "A value is trying to be set on a copy of a slice from a DataFrame.\n",
      "Try using .loc[row_indexer,col_indexer] = value instead\n",
      "\n",
      "See the caveats in the documentation: https://pandas.pydata.org/pandas-docs/stable/user_guide/indexing.html#returning-a-view-versus-a-copy\n",
      "\n",
<<<<<<< Updated upstream
      "C:\\Users\\maxim\\AppData\\Local\\Temp\\ipykernel_3448\\3249499381.py:15: SettingWithCopyWarning:\n",
=======
      "C:\\Users\\isu_mvquirk_admin\\AppData\\Local\\Temp\\ipykernel_7464\\3249499381.py:15: SettingWithCopyWarning:\n",
>>>>>>> Stashed changes
      "\n",
      "\n",
      "A value is trying to be set on a copy of a slice from a DataFrame.\n",
      "Try using .loc[row_indexer,col_indexer] = value instead\n",
      "\n",
      "See the caveats in the documentation: https://pandas.pydata.org/pandas-docs/stable/user_guide/indexing.html#returning-a-view-versus-a-copy\n",
      "\n"
     ]
    }
   ],
   "source": [
    "#create a new column called ABS_Horizontal with the absolute value of HorzBreak  in dfb2\n",
    "dfb2['ABS_Horizontal'] = abs(dfb2['HorzBreak'])\n",
    "dsl2['ABS_Horizontal'] = abs(dsl2['HorzBreak'])\n",
    "dcb2['ABS_Horizontal'] = abs(dcb2['HorzBreak'])\n",
    "dch2['ABS_Horizontal'] = abs(dch2['HorzBreak'])\n",
    "#create a new column called ABS_relside with the absolute value of RelSide in dfb2\n",
    "dfb2['ABS_RelSide'] = abs(dfb2['RelSide'])\n",
    "dsl2['ABS_RelSide'] = abs(dsl2['RelSide'])\n",
    "dcb2['ABS_RelSide'] = abs(dcb2['RelSide'])\n",
    "dch2['ABS_RelSide'] = abs(dch2['RelSide'])\n",
    "#create a new column called differential break which is the absolute value of InducedVertBreak - ABS_Horizontal\n",
    "dfb2['differential_break'] = abs(dfb2['InducedVertBreak'] - dfb2['ABS_Horizontal'])\n",
    "dsl2['differential_break'] = abs(dsl2['InducedVertBreak'] - dsl2['ABS_Horizontal'])\n",
    "dcb2['differential_break'] = abs(dcb2['InducedVertBreak'] - dcb2['ABS_Horizontal'])\n",
    "dch2['differential_break'] = abs(dch2['InducedVertBreak'] - dch2['ABS_Horizontal'])\n"
   ]
  },
  {
   "cell_type": "code",
<<<<<<< Updated upstream
   "execution_count": 58,
=======
   "execution_count": 9,
>>>>>>> Stashed changes
   "metadata": {},
   "outputs": [],
   "source": [
    "#delete all rows with nan values\n",
    "dfb2 = dfb2.dropna()\n",
    "dsl2 = dsl2.dropna()\n",
    "dcb2 = dcb2.dropna()\n",
    "dch2 = dch2.dropna()\n"
   ]
  },
  {
   "cell_type": "code",
<<<<<<< Updated upstream
   "execution_count": 59,
=======
   "execution_count": 10,
>>>>>>> Stashed changes
   "metadata": {},
   "outputs": [],
   "source": [
    "#reset index    \n",
    "dfb2 = dfb2.reset_index(drop=True)\n",
    "dsl2 = dsl2.reset_index(drop=True)\n",
    "dcb2 = dcb2.reset_index(drop=True)\n",
    "dch2 = dch2.reset_index(drop=True)"
   ]
  },
  {
   "cell_type": "code",
<<<<<<< Updated upstream
   "execution_count": 60,
=======
   "execution_count": 11,
>>>>>>> Stashed changes
   "metadata": {},
   "outputs": [
    {
     "data": {
      "text/plain": [
<<<<<<< Updated upstream
       "array(['StrikeCalled', 'BallCalled', 'StrikeSwinging', 'Foul', 'InPlay',\n",
       "       'HitByPitch', nan, 'FoulTip'], dtype=object)"
      ]
     },
     "execution_count": 60,
=======
       "Pitcher               643\n",
       "PitcherTeam           643\n",
       "TaggedPitchType       643\n",
       "PitchCall             643\n",
       "PlayResult            643\n",
       "RelSpeed              643\n",
       "SpinRate              643\n",
       "RelHeight             643\n",
       "RelSide               643\n",
       "Extension             643\n",
       "InducedVertBreak      643\n",
       "HorzBreak             643\n",
       "PlateLocHeight        643\n",
       "PlateLocSide          643\n",
       "ABS_Horizontal        643\n",
       "ABS_RelSide           643\n",
       "differential_break    643\n",
       "dtype: int64"
      ]
     },
     "execution_count": 11,
     "metadata": {},
     "output_type": "execute_result"
    }
   ],
   "source": [
    "dfb2.count()"
   ]
  },
  {
   "cell_type": "code",
   "execution_count": 12,
   "metadata": {},
   "outputs": [
    {
     "data": {
      "text/plain": [
       "array(['InPlay', 'Foul', 'BallCalled', 'StrikeSwinging', 'StrikeCalled',\n",
       "       'HitByPitch', nan, 'FoulTip', 'StrikeLooking'], dtype=object)"
      ]
     },
     "execution_count": 12,
>>>>>>> Stashed changes
     "metadata": {},
     "output_type": "execute_result"
    }
   ],
   "source": [
    "#PitchCall unique values\n",
    "dft['PitchCall'].unique()"
   ]
  },
  {
   "cell_type": "code",
<<<<<<< Updated upstream
   "execution_count": 61,
=======
   "execution_count": 13,
>>>>>>> Stashed changes
   "metadata": {},
   "outputs": [
    {
     "name": "stderr",
     "output_type": "stream",
     "text": [
<<<<<<< Updated upstream
      "C:\\Users\\maxim\\AppData\\Local\\Temp\\ipykernel_3448\\2683645860.py:2: SettingWithCopyWarning:\n",
=======
      "C:\\Users\\isu_mvquirk_admin\\AppData\\Local\\Temp\\ipykernel_7464\\2683645860.py:2: SettingWithCopyWarning:\n",
>>>>>>> Stashed changes
      "\n",
      "\n",
      "A value is trying to be set on a copy of a slice from a DataFrame.\n",
      "Try using .loc[row_indexer,col_indexer] = value instead\n",
      "\n",
      "See the caveats in the documentation: https://pandas.pydata.org/pandas-docs/stable/user_guide/indexing.html#returning-a-view-versus-a-copy\n",
      "\n"
     ]
    }
   ],
   "source": [
    "#change 'SwinginStrike', 'StriekSwinging' in PitchCall to 'StrikeSwinging'\n",
    "dft['PitchCall'] = dft['PitchCall'].replace(['SwinginStrike', 'StriekSwinging'], 'StrikeSwinging')"
   ]
  },
  {
   "cell_type": "code",
<<<<<<< Updated upstream
   "execution_count": 62,
=======
   "execution_count": 14,
>>>>>>> Stashed changes
   "metadata": {},
   "outputs": [],
   "source": [
    "#new dataframe with only PitchCall StrikeSwinging, InPlay, FoulBall and call it df_Swing\n",
    "df_Swing = dft[(dft['PitchCall'] == 'StrikeSwinging') | (dft['PitchCall'] == 'InPlay') | (dft['PitchCall'] == 'FoulBall')]"
   ]
  },
  {
   "cell_type": "code",
<<<<<<< Updated upstream
   "execution_count": 63,
=======
   "execution_count": 15,
>>>>>>> Stashed changes
   "metadata": {},
   "outputs": [
    {
     "name": "stderr",
     "output_type": "stream",
     "text": [
<<<<<<< Updated upstream
      "C:\\Users\\maxim\\AppData\\Local\\Temp\\ipykernel_3448\\2116572367.py:2: SettingWithCopyWarning:\n",
=======
      "C:\\Users\\isu_mvquirk_admin\\AppData\\Local\\Temp\\ipykernel_7464\\2116572367.py:2: SettingWithCopyWarning:\n",
>>>>>>> Stashed changes
      "\n",
      "\n",
      "A value is trying to be set on a copy of a slice from a DataFrame.\n",
      "Try using .loc[row_indexer,col_indexer] = value instead\n",
      "\n",
      "See the caveats in the documentation: https://pandas.pydata.org/pandas-docs/stable/user_guide/indexing.html#returning-a-view-versus-a-copy\n",
      "\n",
<<<<<<< Updated upstream
      "C:\\Users\\maxim\\AppData\\Local\\Temp\\ipykernel_3448\\2116572367.py:3: SettingWithCopyWarning:\n",
=======
      "C:\\Users\\isu_mvquirk_admin\\AppData\\Local\\Temp\\ipykernel_7464\\2116572367.py:3: SettingWithCopyWarning:\n",
>>>>>>> Stashed changes
      "\n",
      "\n",
      "A value is trying to be set on a copy of a slice from a DataFrame.\n",
      "Try using .loc[row_indexer,col_indexer] = value instead\n",
      "\n",
      "See the caveats in the documentation: https://pandas.pydata.org/pandas-docs/stable/user_guide/indexing.html#returning-a-view-versus-a-copy\n",
      "\n"
     ]
    }
   ],
   "source": [
    "#create a dummy variable for PitchCall with StrikeSwinging = 1 and InPlay, FoulBall = 0\n",
    "df_Swing['Whiff'] = df_Swing['PitchCall'].replace(['StrikeSwinging'], 1)\n",
    "df_Swing['Whiff'] = df_Swing['PitchCall'].replace(['InPlay', 'FoulBall'], 0)"
   ]
  },
  {
   "cell_type": "code",
<<<<<<< Updated upstream
   "execution_count": 64,
=======
   "execution_count": 16,
>>>>>>> Stashed changes
   "metadata": {},
   "outputs": [
    {
     "name": "stderr",
     "output_type": "stream",
     "text": [
<<<<<<< Updated upstream
      "C:\\Users\\maxim\\AppData\\Local\\Temp\\ipykernel_3448\\2166355664.py:2: FutureWarning:\n",
      "\n",
      "Downcasting behavior in `replace` is deprecated and will be removed in a future version. To retain the old behavior, explicitly call `result.infer_objects(copy=False)`. To opt-in to the future behavior, set `pd.set_option('future.no_silent_downcasting', True)`\n",
      "\n",
      "C:\\Users\\maxim\\AppData\\Local\\Temp\\ipykernel_3448\\2166355664.py:2: SettingWithCopyWarning:\n",
=======
      "C:\\Users\\isu_mvquirk_admin\\AppData\\Local\\Temp\\ipykernel_7464\\2166355664.py:2: FutureWarning:\n",
      "\n",
      "Downcasting behavior in `replace` is deprecated and will be removed in a future version. To retain the old behavior, explicitly call `result.infer_objects(copy=False)`. To opt-in to the future behavior, set `pd.set_option('future.no_silent_downcasting', True)`\n",
      "\n",
      "C:\\Users\\isu_mvquirk_admin\\AppData\\Local\\Temp\\ipykernel_7464\\2166355664.py:2: SettingWithCopyWarning:\n",
>>>>>>> Stashed changes
      "\n",
      "\n",
      "A value is trying to be set on a copy of a slice from a DataFrame.\n",
      "Try using .loc[row_indexer,col_indexer] = value instead\n",
      "\n",
      "See the caveats in the documentation: https://pandas.pydata.org/pandas-docs/stable/user_guide/indexing.html#returning-a-view-versus-a-copy\n",
      "\n"
     ]
    }
   ],
   "source": [
    "#replace strike swinging with 1 and inplay, foulball with 0\n",
    "df_Swing['Whiff'] = df_Swing['Whiff'].replace(['StrikeSwinging'], 1)"
   ]
  },
  {
   "cell_type": "code",
<<<<<<< Updated upstream
   "execution_count": 65,
=======
   "execution_count": 17,
>>>>>>> Stashed changes
   "metadata": {},
   "outputs": [
    {
     "name": "stderr",
     "output_type": "stream",
     "text": [
<<<<<<< Updated upstream
      "C:\\Users\\maxim\\AppData\\Local\\Temp\\ipykernel_3448\\1567009961.py:2: SettingWithCopyWarning:\n",
=======
      "C:\\Users\\isu_mvquirk_admin\\AppData\\Local\\Temp\\ipykernel_7464\\1567009961.py:2: SettingWithCopyWarning:\n",
>>>>>>> Stashed changes
      "\n",
      "\n",
      "A value is trying to be set on a copy of a slice from a DataFrame.\n",
      "Try using .loc[row_indexer,col_indexer] = value instead\n",
      "\n",
      "See the caveats in the documentation: https://pandas.pydata.org/pandas-docs/stable/user_guide/indexing.html#returning-a-view-versus-a-copy\n",
      "\n",
<<<<<<< Updated upstream
      "C:\\Users\\maxim\\AppData\\Local\\Temp\\ipykernel_3448\\1567009961.py:4: SettingWithCopyWarning:\n",
=======
      "C:\\Users\\isu_mvquirk_admin\\AppData\\Local\\Temp\\ipykernel_7464\\1567009961.py:4: SettingWithCopyWarning:\n",
>>>>>>> Stashed changes
      "\n",
      "\n",
      "A value is trying to be set on a copy of a slice from a DataFrame.\n",
      "Try using .loc[row_indexer,col_indexer] = value instead\n",
      "\n",
      "See the caveats in the documentation: https://pandas.pydata.org/pandas-docs/stable/user_guide/indexing.html#returning-a-view-versus-a-copy\n",
      "\n"
     ]
    }
   ],
   "source": [
    "#create a new column called ABS_Horizontal with the absolute value of HorzBreak\n",
    "df_Swing['ABS_Horizontal'] = abs(df_Swing['HorzBreak'])\n",
    "#create a new column called ABS_RelSide with the absolute value of RelSide\n",
    "df_Swing['ABS_RelSide'] = abs(df_Swing['RelSide'])"
   ]
  },
  {
   "cell_type": "code",
<<<<<<< Updated upstream
   "execution_count": 66,
=======
   "execution_count": 18,
>>>>>>> Stashed changes
   "metadata": {},
   "outputs": [
    {
     "name": "stderr",
     "output_type": "stream",
     "text": [
<<<<<<< Updated upstream
      "C:\\Users\\maxim\\AppData\\Local\\Temp\\ipykernel_3448\\2720128996.py:2: SettingWithCopyWarning:\n",
=======
      "C:\\Users\\isu_mvquirk_admin\\AppData\\Local\\Temp\\ipykernel_7464\\2720128996.py:2: SettingWithCopyWarning:\n",
>>>>>>> Stashed changes
      "\n",
      "\n",
      "A value is trying to be set on a copy of a slice from a DataFrame.\n",
      "Try using .loc[row_indexer,col_indexer] = value instead\n",
      "\n",
      "See the caveats in the documentation: https://pandas.pydata.org/pandas-docs/stable/user_guide/indexing.html#returning-a-view-versus-a-copy\n",
      "\n"
     ]
    }
   ],
   "source": [
    "#create a new column called differential break which is the absolute value of InducedVertBreak - ABS_Horizontal\n",
    "df_Swing['differential_break'] = abs(df_Swing['InducedVertBreak'] - df_Swing['ABS_Horizontal'])"
   ]
  },
  {
   "cell_type": "code",
<<<<<<< Updated upstream
   "execution_count": 67,
=======
   "execution_count": 19,
>>>>>>> Stashed changes
   "metadata": {},
   "outputs": [
    {
     "data": {
      "text/plain": [
<<<<<<< Updated upstream
       "array(['Slider', 'Fastball', 'Changeup', 'Curveball', 'Splitter',\n",
       "       'Cutter', 'Sinker', nan], dtype=object)"
      ]
     },
     "execution_count": 67,
=======
       "array(['Fastball', 'Slider', 'Cutter', 'Curveball', 'Splitter', 'Sinker',\n",
       "       nan, 'Changeup'], dtype=object)"
      ]
     },
     "execution_count": 19,
>>>>>>> Stashed changes
     "metadata": {},
     "output_type": "execute_result"
    }
   ],
   "source": [
    "#taggedpitchtype unique values\n",
    "df_Swing['TaggedPitchType'].unique()"
   ]
  },
  {
   "cell_type": "code",
<<<<<<< Updated upstream
   "execution_count": 68,
=======
   "execution_count": 20,
>>>>>>> Stashed changes
   "metadata": {},
   "outputs": [],
   "source": [
    "#remove any row with Nan for any of the columns\n",
    "df_Swing = df_Swing.dropna()\n",
    "#reset the index\n",
    "df_Swing = df_Swing.reset_index(drop=True)"
   ]
  },
  {
   "cell_type": "code",
<<<<<<< Updated upstream
   "execution_count": 69,
=======
   "execution_count": 21,
>>>>>>> Stashed changes
   "metadata": {},
   "outputs": [],
   "source": [
    "#seperate dataframes for each pitch type \n",
    "#fastballs = 'Fastball', 'Sinker', 'TwoSeamFastBall', 'FourSeamFastBall', 'OneSeamFastBall'\n",
    "df_Fastball = df_Swing[(df_Swing['TaggedPitchType'] == 'Fastball') | (df_Swing['TaggedPitchType'] == 'Sinker') | (df_Swing['TaggedPitchType'] == 'TwoSeamFastBall') | (df_Swing['TaggedPitchType'] == 'FourSeamFastBall') | (df_Swing['TaggedPitchType'] == 'OneSeamFastBall')]\n",
    "df_Fastball = df_Fastball.reset_index(drop=True)"
   ]
  },
  {
   "cell_type": "code",
<<<<<<< Updated upstream
   "execution_count": 70,
=======
   "execution_count": 22,
>>>>>>> Stashed changes
   "metadata": {},
   "outputs": [],
   "source": [
    "#curveballs = 'Curveball', 'KnuckleCurve'\n",
    "df_Curveball = df_Swing[(df_Swing['TaggedPitchType'] == 'Curveball') | (df_Swing['TaggedPitchType'] == 'KnuckleCurve')]\n",
    "df_Curveball = df_Curveball.reset_index(drop=True)"
   ]
  },
  {
   "cell_type": "code",
<<<<<<< Updated upstream
   "execution_count": 71,
=======
   "execution_count": 23,
>>>>>>> Stashed changes
   "metadata": {},
   "outputs": [],
   "source": [
    "#df_Slider = 'Slider'\n",
    "df_Slider = df_Swing[(df_Swing['TaggedPitchType'] == 'Slider')]\n",
    "df_Slider = df_Slider.reset_index(drop=True)"
   ]
  },
  {
   "cell_type": "code",
<<<<<<< Updated upstream
   "execution_count": 72,
=======
   "execution_count": 24,
>>>>>>> Stashed changes
   "metadata": {},
   "outputs": [],
   "source": [
    "#df_Changeup = 'Changeup'\n",
<<<<<<< Updated upstream
    "df_Changeup = df_Swing[df_Swing['TaggedPitchType'].isin(['Changeup', 'Splitter'])]\n",
=======
    "df_Changeup = df_Swing[(df_Swing['TaggedPitchType'] == 'Changeup')]\n",
>>>>>>> Stashed changes
    "df_Changeup = df_Changeup.reset_index(drop=True)"
   ]
  },
  {
   "cell_type": "code",
<<<<<<< Updated upstream
   "execution_count": 73,
=======
   "execution_count": 25,
>>>>>>> Stashed changes
   "metadata": {},
   "outputs": [
    {
     "data": {
      "text/plain": [
       "Index(['Pitcher', 'PitcherTeam', 'TaggedPitchType', 'PitchCall', 'PlayResult',\n",
       "       'RelSpeed', 'SpinRate', 'RelHeight', 'RelSide', 'Extension',\n",
       "       'InducedVertBreak', 'HorzBreak', 'PlateLocHeight', 'PlateLocSide',\n",
       "       'Whiff', 'ABS_Horizontal', 'ABS_RelSide', 'differential_break'],\n",
       "      dtype='object')"
      ]
     },
<<<<<<< Updated upstream
     "execution_count": 73,
=======
     "execution_count": 25,
>>>>>>> Stashed changes
     "metadata": {},
     "output_type": "execute_result"
    }
   ],
   "source": [
    "df_Swing.columns"
   ]
  },
  {
   "cell_type": "code",
<<<<<<< Updated upstream
   "execution_count": 74,
=======
   "execution_count": 26,
>>>>>>> Stashed changes
   "metadata": {},
   "outputs": [],
   "source": [
    "#create the FB expected whiff rate\n",
    "X = df_Fastball[['RelSpeed', 'SpinRate','differential_break','RelHeight', 'ABS_RelSide', 'Extension']]\n",
    "y = df_Fastball['Whiff']"
   ]
  },
  {
   "cell_type": "code",
<<<<<<< Updated upstream
   "execution_count": 75,
=======
   "execution_count": 27,
>>>>>>> Stashed changes
   "metadata": {},
   "outputs": [],
   "source": [
    "#create the CB expected whiff rate\n",
    "X1 = df_Curveball[['RelSpeed', 'SpinRate', 'InducedVertBreak', 'ABS_Horizontal','RelHeight', 'ABS_RelSide', 'Extension']]\n",
    "y1 = df_Curveball['Whiff']"
   ]
  },
  {
   "cell_type": "code",
<<<<<<< Updated upstream
   "execution_count": 76,
=======
   "execution_count": 28,
>>>>>>> Stashed changes
   "metadata": {},
   "outputs": [],
   "source": [
    "#create the SL expected whiff rate\n",
    "X2 = df_Slider[['RelSpeed', 'SpinRate', 'InducedVertBreak', 'ABS_Horizontal','RelHeight', 'ABS_RelSide', 'Extension']]\n",
    "y2 = df_Slider['Whiff']"
   ]
  },
  {
   "cell_type": "code",
<<<<<<< Updated upstream
   "execution_count": 77,
=======
   "execution_count": 29,
>>>>>>> Stashed changes
   "metadata": {},
   "outputs": [],
   "source": [
    "#create the CH expected whiff rate\n",
    "X3 = df_Changeup[['RelSpeed', 'SpinRate', 'InducedVertBreak', 'ABS_Horizontal','RelHeight', 'ABS_RelSide', 'Extension']]\n",
    "y3 = df_Changeup['Whiff']"
   ]
  },
  {
   "cell_type": "code",
<<<<<<< Updated upstream
   "execution_count": 78,
   "metadata": {},
   "outputs": [
    {
     "data": {
      "text/plain": [
       "<bound method DataFrame.count of      RelSpeed     SpinRate  InducedVertBreak  ABS_Horizontal  RelHeight  \\\n",
       "0   82.437683  1746.430285         14.804227       14.613964   5.317848   \n",
       "1   82.079798  2138.789982         16.661641       17.047536   5.772903   \n",
       "2   82.688197  2165.823006         16.555451       16.995493   5.693972   \n",
       "3   76.855481  2304.960189          2.114593       15.074470   4.661692   \n",
       "4   81.141075  1688.361792          7.075199       19.390032   4.979251   \n",
       "5   80.344017  1677.297875          6.507304       19.566677   5.070805   \n",
       "6   79.566504  1731.306120          8.002241       19.643536   5.290399   \n",
       "7   80.541143  1720.000690          8.104015       19.094804   5.347382   \n",
       "8   82.260191  1749.871653          9.063716       19.032929   5.392075   \n",
       "9   79.883398  1733.402693          7.494702       19.782361   5.076729   \n",
       "10  74.874728  1344.239797          7.694170       17.352419   5.696693   \n",
       "11  78.482152  1978.681053          4.994465        0.164091   4.839228   \n",
       "12  75.692313  1412.715117          8.804804       17.474684   5.568651   \n",
       "13  72.344271  1720.866000          9.332957       11.321148   4.848231   \n",
       "14  75.650501  1328.196393         10.424644       15.837357   5.585244   \n",
       "15  73.156287  1758.893047          9.381377       12.819593   4.998045   \n",
       "16  70.296943  1385.137657          6.958449       15.352559   5.176068   \n",
       "17  77.707644   866.948505          1.113158        9.118649   5.294981   \n",
       "18  80.979970  1529.894462         16.776159       12.131745   6.002749   \n",
       "19  77.516673   844.614097          0.020971        9.110352   5.031740   \n",
       "20  77.087252  2085.848824         -1.988293        0.225714   5.358140   \n",
       "21  71.920259  1396.957659         10.624215       15.725536   5.154993   \n",
       "22  72.431111  1253.691641         10.968359       13.925840   5.027316   \n",
       "23  73.197226  1442.462640         18.036870       11.384413   5.439413   \n",
       "24  73.131144  1460.724299         17.350432       12.506687   5.511281   \n",
       "25  72.728895  1476.738659         18.069833       12.274419   5.488178   \n",
       "26  69.985470  1341.851050         19.662266        7.018507   5.675894   \n",
       "27  71.237174  1246.889987         17.962234        5.885602   5.465680   \n",
       "28  63.835176  1290.953846          4.647039        4.810454   5.457376   \n",
       "29  64.742278  1271.570520          4.973153        5.291729   5.386912   \n",
       "30  68.468495  1404.499042          5.524836        2.935522   5.229321   \n",
       "31  76.111839  1427.350823         15.338930       10.146731   5.218401   \n",
       "32  74.154823  1376.620161         14.995014       11.113476   5.111947   \n",
       "33  67.045875  1430.761273          3.946598        7.607772   5.514641   \n",
       "34  73.789246  1346.920197         14.006622       12.013321   5.290511   \n",
       "35  70.217922  1129.279661         14.966523        5.011554   5.547536   \n",
       "36  69.362426  1061.588575         16.003568        5.629560   5.790029   \n",
       "37  65.082120  1011.628864         15.400223        3.769685   5.935922   \n",
       "38  68.626391  1990.825603          2.371207       11.373594   5.169860   \n",
       "39  68.404303   957.457249         15.179125        4.195901   5.544073   \n",
       "40  72.749511  1677.420741         12.176402       15.033850   4.231994   \n",
       "41  81.307161  2005.024117         16.963636       14.247871   5.543102   \n",
       "\n",
       "    ABS_RelSide  Extension  \n",
       "0      0.643942        6.0  \n",
       "1      3.760715        6.0  \n",
       "2      3.286195        6.0  \n",
       "3      0.280539        6.0  \n",
       "4      1.008515        6.0  \n",
       "5      1.233296        6.0  \n",
       "6      1.641564        6.0  \n",
       "7      1.301159        6.0  \n",
       "8      0.782991        6.0  \n",
       "9      1.950221        6.0  \n",
       "10     1.673599        6.0  \n",
       "11     2.013944        6.0  \n",
       "12     1.045753        6.0  \n",
       "13     0.435841        6.0  \n",
       "14     0.220473        6.0  \n",
       "15     0.848446        6.0  \n",
       "16     2.085633        6.0  \n",
       "17     2.795740        6.0  \n",
       "18     2.678431        6.0  \n",
       "19     3.747129        6.0  \n",
       "20     2.174936        6.0  \n",
       "21     2.475538        6.0  \n",
       "22     2.016671        6.0  \n",
       "23     3.519440        6.0  \n",
       "24     3.850861        6.0  \n",
       "25     4.292897        6.0  \n",
       "26     1.912936        6.0  \n",
       "27     3.014151        6.0  \n",
       "28     0.576822        6.0  \n",
       "29     1.153208        6.0  \n",
       "30     0.246504        6.0  \n",
       "31     2.651819        6.0  \n",
       "32     2.611078        6.0  \n",
       "33     0.399728        6.0  \n",
       "34     2.670891        6.0  \n",
       "35     2.933123        6.0  \n",
       "36     3.252330        6.0  \n",
       "37     2.741158        6.0  \n",
       "38     2.037374        6.0  \n",
       "39     4.847801        6.0  \n",
       "40     2.673566        6.0  \n",
       "41     3.462256        6.0  >"
      ]
     },
     "execution_count": 78,
     "metadata": {},
     "output_type": "execute_result"
    }
   ],
   "source": [
    "X3.count"
   ]
  },
  {
   "cell_type": "code",
   "execution_count": 79,
=======
   "execution_count": 30,
>>>>>>> Stashed changes
   "metadata": {},
   "outputs": [],
   "source": [
    "#split the data into training and testing sets\n",
    "X_train, X_test, y_train, y_test = train_test_split(X, y, test_size=0.25, random_state=101)\n",
    "\n",
    "X1_train, X1_test, y1_train, y1_test = train_test_split(X1, y1, test_size=0.25, random_state=101)\n",
    "\n",
    "X2_train, X2_test, y2_train, y2_test = train_test_split(X2, y2, test_size=0.25, random_state=101)\n",
    "\n",
    "X3_train, X3_test, y3_train, y3_test = train_test_split(X3, y3, test_size=0.25, random_state=101)\n",
    "\n"
   ]
  },
  {
   "cell_type": "code",
<<<<<<< Updated upstream
   "execution_count": 80,
=======
   "execution_count": 31,
>>>>>>> Stashed changes
   "metadata": {},
   "outputs": [],
   "source": [
    "def train_model(X, y):\n",
    "    X_train, X_test, y_train, y_test = train_test_split(X, y, test_size=0.2, random_state=42)\n",
    "\n",
    "    # Create the neural network model\n",
    "    model = Sequential()\n",
    "    model.add(Dense(64, input_dim=X.shape[1], activation='relu'))\n",
    "    model.add(Dense(32, activation='relu'))\n",
    "    model.add(Dense(1, activation='sigmoid'))\n",
    "\n",
    "    # Compile the model\n",
    "    model.compile(loss='binary_crossentropy', optimizer=Adam(learning_rate=0.001), metrics=['accuracy'])\n",
    "\n",
    "    # Train the model\n",
    "    model.fit(X_train, y_train, validation_data=(X_test, y_test), epochs=50, batch_size=32)\n",
    "\n",
    "    return model"
   ]
  },
  {
   "cell_type": "code",
<<<<<<< Updated upstream
   "execution_count": 81,
=======
   "execution_count": 32,
>>>>>>> Stashed changes
   "metadata": {},
   "outputs": [
    {
     "data": {
      "text/html": [
<<<<<<< Updated upstream
       "<style>#sk-container-id-9 {\n",
       "  /* Definition of color scheme common for light and dark mode */\n",
       "  --sklearn-color-text: black;\n",
=======
       "<style>#sk-container-id-1 {\n",
       "  /* Definition of color scheme common for light and dark mode */\n",
       "  --sklearn-color-text: #000;\n",
       "  --sklearn-color-text-muted: #666;\n",
>>>>>>> Stashed changes
       "  --sklearn-color-line: gray;\n",
       "  /* Definition of color scheme for unfitted estimators */\n",
       "  --sklearn-color-unfitted-level-0: #fff5e6;\n",
       "  --sklearn-color-unfitted-level-1: #f6e4d2;\n",
       "  --sklearn-color-unfitted-level-2: #ffe0b3;\n",
       "  --sklearn-color-unfitted-level-3: chocolate;\n",
       "  /* Definition of color scheme for fitted estimators */\n",
       "  --sklearn-color-fitted-level-0: #f0f8ff;\n",
       "  --sklearn-color-fitted-level-1: #d4ebff;\n",
       "  --sklearn-color-fitted-level-2: #b3dbfd;\n",
       "  --sklearn-color-fitted-level-3: cornflowerblue;\n",
       "\n",
       "  /* Specific color for light theme */\n",
       "  --sklearn-color-text-on-default-background: var(--sg-text-color, var(--theme-code-foreground, var(--jp-content-font-color1, black)));\n",
       "  --sklearn-color-background: var(--sg-background-color, var(--theme-background, var(--jp-layout-color0, white)));\n",
       "  --sklearn-color-border-box: var(--sg-text-color, var(--theme-code-foreground, var(--jp-content-font-color1, black)));\n",
       "  --sklearn-color-icon: #696969;\n",
       "\n",
       "  @media (prefers-color-scheme: dark) {\n",
       "    /* Redefinition of color scheme for dark theme */\n",
       "    --sklearn-color-text-on-default-background: var(--sg-text-color, var(--theme-code-foreground, var(--jp-content-font-color1, white)));\n",
       "    --sklearn-color-background: var(--sg-background-color, var(--theme-background, var(--jp-layout-color0, #111)));\n",
       "    --sklearn-color-border-box: var(--sg-text-color, var(--theme-code-foreground, var(--jp-content-font-color1, white)));\n",
       "    --sklearn-color-icon: #878787;\n",
       "  }\n",
       "}\n",
       "\n",
<<<<<<< Updated upstream
       "#sk-container-id-9 {\n",
       "  color: var(--sklearn-color-text);\n",
       "}\n",
       "\n",
       "#sk-container-id-9 pre {\n",
       "  padding: 0;\n",
       "}\n",
       "\n",
       "#sk-container-id-9 input.sk-hidden--visually {\n",
=======
       "#sk-container-id-1 {\n",
       "  color: var(--sklearn-color-text);\n",
       "}\n",
       "\n",
       "#sk-container-id-1 pre {\n",
       "  padding: 0;\n",
       "}\n",
       "\n",
       "#sk-container-id-1 input.sk-hidden--visually {\n",
>>>>>>> Stashed changes
       "  border: 0;\n",
       "  clip: rect(1px 1px 1px 1px);\n",
       "  clip: rect(1px, 1px, 1px, 1px);\n",
       "  height: 1px;\n",
       "  margin: -1px;\n",
       "  overflow: hidden;\n",
       "  padding: 0;\n",
       "  position: absolute;\n",
       "  width: 1px;\n",
       "}\n",
       "\n",
<<<<<<< Updated upstream
       "#sk-container-id-9 div.sk-dashed-wrapped {\n",
=======
       "#sk-container-id-1 div.sk-dashed-wrapped {\n",
>>>>>>> Stashed changes
       "  border: 1px dashed var(--sklearn-color-line);\n",
       "  margin: 0 0.4em 0.5em 0.4em;\n",
       "  box-sizing: border-box;\n",
       "  padding-bottom: 0.4em;\n",
       "  background-color: var(--sklearn-color-background);\n",
       "}\n",
       "\n",
<<<<<<< Updated upstream
       "#sk-container-id-9 div.sk-container {\n",
=======
       "#sk-container-id-1 div.sk-container {\n",
>>>>>>> Stashed changes
       "  /* jupyter's `normalize.less` sets `[hidden] { display: none; }`\n",
       "     but bootstrap.min.css set `[hidden] { display: none !important; }`\n",
       "     so we also need the `!important` here to be able to override the\n",
       "     default hidden behavior on the sphinx rendered scikit-learn.org.\n",
       "     See: https://github.com/scikit-learn/scikit-learn/issues/21755 */\n",
       "  display: inline-block !important;\n",
       "  position: relative;\n",
       "}\n",
       "\n",
<<<<<<< Updated upstream
       "#sk-container-id-9 div.sk-text-repr-fallback {\n",
=======
       "#sk-container-id-1 div.sk-text-repr-fallback {\n",
>>>>>>> Stashed changes
       "  display: none;\n",
       "}\n",
       "\n",
       "div.sk-parallel-item,\n",
       "div.sk-serial,\n",
       "div.sk-item {\n",
       "  /* draw centered vertical line to link estimators */\n",
       "  background-image: linear-gradient(var(--sklearn-color-text-on-default-background), var(--sklearn-color-text-on-default-background));\n",
       "  background-size: 2px 100%;\n",
       "  background-repeat: no-repeat;\n",
       "  background-position: center center;\n",
       "}\n",
       "\n",
       "/* Parallel-specific style estimator block */\n",
       "\n",
<<<<<<< Updated upstream
       "#sk-container-id-9 div.sk-parallel-item::after {\n",
=======
       "#sk-container-id-1 div.sk-parallel-item::after {\n",
>>>>>>> Stashed changes
       "  content: \"\";\n",
       "  width: 100%;\n",
       "  border-bottom: 2px solid var(--sklearn-color-text-on-default-background);\n",
       "  flex-grow: 1;\n",
       "}\n",
       "\n",
<<<<<<< Updated upstream
       "#sk-container-id-9 div.sk-parallel {\n",
=======
       "#sk-container-id-1 div.sk-parallel {\n",
>>>>>>> Stashed changes
       "  display: flex;\n",
       "  align-items: stretch;\n",
       "  justify-content: center;\n",
       "  background-color: var(--sklearn-color-background);\n",
       "  position: relative;\n",
       "}\n",
       "\n",
<<<<<<< Updated upstream
       "#sk-container-id-9 div.sk-parallel-item {\n",
=======
       "#sk-container-id-1 div.sk-parallel-item {\n",
>>>>>>> Stashed changes
       "  display: flex;\n",
       "  flex-direction: column;\n",
       "}\n",
       "\n",
<<<<<<< Updated upstream
       "#sk-container-id-9 div.sk-parallel-item:first-child::after {\n",
=======
       "#sk-container-id-1 div.sk-parallel-item:first-child::after {\n",
>>>>>>> Stashed changes
       "  align-self: flex-end;\n",
       "  width: 50%;\n",
       "}\n",
       "\n",
<<<<<<< Updated upstream
       "#sk-container-id-9 div.sk-parallel-item:last-child::after {\n",
=======
       "#sk-container-id-1 div.sk-parallel-item:last-child::after {\n",
>>>>>>> Stashed changes
       "  align-self: flex-start;\n",
       "  width: 50%;\n",
       "}\n",
       "\n",
<<<<<<< Updated upstream
       "#sk-container-id-9 div.sk-parallel-item:only-child::after {\n",
=======
       "#sk-container-id-1 div.sk-parallel-item:only-child::after {\n",
>>>>>>> Stashed changes
       "  width: 0;\n",
       "}\n",
       "\n",
       "/* Serial-specific style estimator block */\n",
       "\n",
<<<<<<< Updated upstream
       "#sk-container-id-9 div.sk-serial {\n",
=======
       "#sk-container-id-1 div.sk-serial {\n",
>>>>>>> Stashed changes
       "  display: flex;\n",
       "  flex-direction: column;\n",
       "  align-items: center;\n",
       "  background-color: var(--sklearn-color-background);\n",
       "  padding-right: 1em;\n",
       "  padding-left: 1em;\n",
       "}\n",
       "\n",
       "\n",
       "/* Toggleable style: style used for estimator/Pipeline/ColumnTransformer box that is\n",
       "clickable and can be expanded/collapsed.\n",
       "- Pipeline and ColumnTransformer use this feature and define the default style\n",
       "- Estimators will overwrite some part of the style using the `sk-estimator` class\n",
       "*/\n",
       "\n",
       "/* Pipeline and ColumnTransformer style (default) */\n",
       "\n",
<<<<<<< Updated upstream
       "#sk-container-id-9 div.sk-toggleable {\n",
=======
       "#sk-container-id-1 div.sk-toggleable {\n",
>>>>>>> Stashed changes
       "  /* Default theme specific background. It is overwritten whether we have a\n",
       "  specific estimator or a Pipeline/ColumnTransformer */\n",
       "  background-color: var(--sklearn-color-background);\n",
       "}\n",
       "\n",
       "/* Toggleable label */\n",
<<<<<<< Updated upstream
       "#sk-container-id-9 label.sk-toggleable__label {\n",
       "  cursor: pointer;\n",
       "  display: block;\n",
=======
       "#sk-container-id-1 label.sk-toggleable__label {\n",
       "  cursor: pointer;\n",
       "  display: flex;\n",
>>>>>>> Stashed changes
       "  width: 100%;\n",
       "  margin-bottom: 0;\n",
       "  padding: 0.5em;\n",
       "  box-sizing: border-box;\n",
       "  text-align: center;\n",
<<<<<<< Updated upstream
       "}\n",
       "\n",
       "#sk-container-id-9 label.sk-toggleable__label-arrow:before {\n",
=======
       "  align-items: start;\n",
       "  justify-content: space-between;\n",
       "  gap: 0.5em;\n",
       "}\n",
       "\n",
       "#sk-container-id-1 label.sk-toggleable__label .caption {\n",
       "  font-size: 0.6rem;\n",
       "  font-weight: lighter;\n",
       "  color: var(--sklearn-color-text-muted);\n",
       "}\n",
       "\n",
       "#sk-container-id-1 label.sk-toggleable__label-arrow:before {\n",
>>>>>>> Stashed changes
       "  /* Arrow on the left of the label */\n",
       "  content: \"▸\";\n",
       "  float: left;\n",
       "  margin-right: 0.25em;\n",
       "  color: var(--sklearn-color-icon);\n",
       "}\n",
       "\n",
<<<<<<< Updated upstream
       "#sk-container-id-9 label.sk-toggleable__label-arrow:hover:before {\n",
=======
       "#sk-container-id-1 label.sk-toggleable__label-arrow:hover:before {\n",
>>>>>>> Stashed changes
       "  color: var(--sklearn-color-text);\n",
       "}\n",
       "\n",
       "/* Toggleable content - dropdown */\n",
       "\n",
<<<<<<< Updated upstream
       "#sk-container-id-9 div.sk-toggleable__content {\n",
=======
       "#sk-container-id-1 div.sk-toggleable__content {\n",
>>>>>>> Stashed changes
       "  max-height: 0;\n",
       "  max-width: 0;\n",
       "  overflow: hidden;\n",
       "  text-align: left;\n",
       "  /* unfitted */\n",
       "  background-color: var(--sklearn-color-unfitted-level-0);\n",
       "}\n",
       "\n",
<<<<<<< Updated upstream
       "#sk-container-id-9 div.sk-toggleable__content.fitted {\n",
=======
       "#sk-container-id-1 div.sk-toggleable__content.fitted {\n",
>>>>>>> Stashed changes
       "  /* fitted */\n",
       "  background-color: var(--sklearn-color-fitted-level-0);\n",
       "}\n",
       "\n",
<<<<<<< Updated upstream
       "#sk-container-id-9 div.sk-toggleable__content pre {\n",
=======
       "#sk-container-id-1 div.sk-toggleable__content pre {\n",
>>>>>>> Stashed changes
       "  margin: 0.2em;\n",
       "  border-radius: 0.25em;\n",
       "  color: var(--sklearn-color-text);\n",
       "  /* unfitted */\n",
       "  background-color: var(--sklearn-color-unfitted-level-0);\n",
       "}\n",
       "\n",
<<<<<<< Updated upstream
       "#sk-container-id-9 div.sk-toggleable__content.fitted pre {\n",
=======
       "#sk-container-id-1 div.sk-toggleable__content.fitted pre {\n",
>>>>>>> Stashed changes
       "  /* unfitted */\n",
       "  background-color: var(--sklearn-color-fitted-level-0);\n",
       "}\n",
       "\n",
<<<<<<< Updated upstream
       "#sk-container-id-9 input.sk-toggleable__control:checked~div.sk-toggleable__content {\n",
=======
       "#sk-container-id-1 input.sk-toggleable__control:checked~div.sk-toggleable__content {\n",
>>>>>>> Stashed changes
       "  /* Expand drop-down */\n",
       "  max-height: 200px;\n",
       "  max-width: 100%;\n",
       "  overflow: auto;\n",
       "}\n",
       "\n",
<<<<<<< Updated upstream
       "#sk-container-id-9 input.sk-toggleable__control:checked~label.sk-toggleable__label-arrow:before {\n",
=======
       "#sk-container-id-1 input.sk-toggleable__control:checked~label.sk-toggleable__label-arrow:before {\n",
>>>>>>> Stashed changes
       "  content: \"▾\";\n",
       "}\n",
       "\n",
       "/* Pipeline/ColumnTransformer-specific style */\n",
       "\n",
<<<<<<< Updated upstream
       "#sk-container-id-9 div.sk-label input.sk-toggleable__control:checked~label.sk-toggleable__label {\n",
=======
       "#sk-container-id-1 div.sk-label input.sk-toggleable__control:checked~label.sk-toggleable__label {\n",
>>>>>>> Stashed changes
       "  color: var(--sklearn-color-text);\n",
       "  background-color: var(--sklearn-color-unfitted-level-2);\n",
       "}\n",
       "\n",
<<<<<<< Updated upstream
       "#sk-container-id-9 div.sk-label.fitted input.sk-toggleable__control:checked~label.sk-toggleable__label {\n",
=======
       "#sk-container-id-1 div.sk-label.fitted input.sk-toggleable__control:checked~label.sk-toggleable__label {\n",
>>>>>>> Stashed changes
       "  background-color: var(--sklearn-color-fitted-level-2);\n",
       "}\n",
       "\n",
       "/* Estimator-specific style */\n",
       "\n",
       "/* Colorize estimator box */\n",
<<<<<<< Updated upstream
       "#sk-container-id-9 div.sk-estimator input.sk-toggleable__control:checked~label.sk-toggleable__label {\n",
=======
       "#sk-container-id-1 div.sk-estimator input.sk-toggleable__control:checked~label.sk-toggleable__label {\n",
>>>>>>> Stashed changes
       "  /* unfitted */\n",
       "  background-color: var(--sklearn-color-unfitted-level-2);\n",
       "}\n",
       "\n",
<<<<<<< Updated upstream
       "#sk-container-id-9 div.sk-estimator.fitted input.sk-toggleable__control:checked~label.sk-toggleable__label {\n",
=======
       "#sk-container-id-1 div.sk-estimator.fitted input.sk-toggleable__control:checked~label.sk-toggleable__label {\n",
>>>>>>> Stashed changes
       "  /* fitted */\n",
       "  background-color: var(--sklearn-color-fitted-level-2);\n",
       "}\n",
       "\n",
<<<<<<< Updated upstream
       "#sk-container-id-9 div.sk-label label.sk-toggleable__label,\n",
       "#sk-container-id-9 div.sk-label label {\n",
=======
       "#sk-container-id-1 div.sk-label label.sk-toggleable__label,\n",
       "#sk-container-id-1 div.sk-label label {\n",
>>>>>>> Stashed changes
       "  /* The background is the default theme color */\n",
       "  color: var(--sklearn-color-text-on-default-background);\n",
       "}\n",
       "\n",
       "/* On hover, darken the color of the background */\n",
<<<<<<< Updated upstream
       "#sk-container-id-9 div.sk-label:hover label.sk-toggleable__label {\n",
=======
       "#sk-container-id-1 div.sk-label:hover label.sk-toggleable__label {\n",
>>>>>>> Stashed changes
       "  color: var(--sklearn-color-text);\n",
       "  background-color: var(--sklearn-color-unfitted-level-2);\n",
       "}\n",
       "\n",
       "/* Label box, darken color on hover, fitted */\n",
<<<<<<< Updated upstream
       "#sk-container-id-9 div.sk-label.fitted:hover label.sk-toggleable__label.fitted {\n",
=======
       "#sk-container-id-1 div.sk-label.fitted:hover label.sk-toggleable__label.fitted {\n",
>>>>>>> Stashed changes
       "  color: var(--sklearn-color-text);\n",
       "  background-color: var(--sklearn-color-fitted-level-2);\n",
       "}\n",
       "\n",
       "/* Estimator label */\n",
       "\n",
<<<<<<< Updated upstream
       "#sk-container-id-9 div.sk-label label {\n",
=======
       "#sk-container-id-1 div.sk-label label {\n",
>>>>>>> Stashed changes
       "  font-family: monospace;\n",
       "  font-weight: bold;\n",
       "  display: inline-block;\n",
       "  line-height: 1.2em;\n",
       "}\n",
       "\n",
<<<<<<< Updated upstream
       "#sk-container-id-9 div.sk-label-container {\n",
=======
       "#sk-container-id-1 div.sk-label-container {\n",
>>>>>>> Stashed changes
       "  text-align: center;\n",
       "}\n",
       "\n",
       "/* Estimator-specific */\n",
<<<<<<< Updated upstream
       "#sk-container-id-9 div.sk-estimator {\n",
=======
       "#sk-container-id-1 div.sk-estimator {\n",
>>>>>>> Stashed changes
       "  font-family: monospace;\n",
       "  border: 1px dotted var(--sklearn-color-border-box);\n",
       "  border-radius: 0.25em;\n",
       "  box-sizing: border-box;\n",
       "  margin-bottom: 0.5em;\n",
       "  /* unfitted */\n",
       "  background-color: var(--sklearn-color-unfitted-level-0);\n",
       "}\n",
       "\n",
<<<<<<< Updated upstream
       "#sk-container-id-9 div.sk-estimator.fitted {\n",
=======
       "#sk-container-id-1 div.sk-estimator.fitted {\n",
>>>>>>> Stashed changes
       "  /* fitted */\n",
       "  background-color: var(--sklearn-color-fitted-level-0);\n",
       "}\n",
       "\n",
       "/* on hover */\n",
<<<<<<< Updated upstream
       "#sk-container-id-9 div.sk-estimator:hover {\n",
=======
       "#sk-container-id-1 div.sk-estimator:hover {\n",
>>>>>>> Stashed changes
       "  /* unfitted */\n",
       "  background-color: var(--sklearn-color-unfitted-level-2);\n",
       "}\n",
       "\n",
<<<<<<< Updated upstream
       "#sk-container-id-9 div.sk-estimator.fitted:hover {\n",
=======
       "#sk-container-id-1 div.sk-estimator.fitted:hover {\n",
>>>>>>> Stashed changes
       "  /* fitted */\n",
       "  background-color: var(--sklearn-color-fitted-level-2);\n",
       "}\n",
       "\n",
       "/* Specification for estimator info (e.g. \"i\" and \"?\") */\n",
       "\n",
       "/* Common style for \"i\" and \"?\" */\n",
       "\n",
       ".sk-estimator-doc-link,\n",
       "a:link.sk-estimator-doc-link,\n",
       "a:visited.sk-estimator-doc-link {\n",
       "  float: right;\n",
       "  font-size: smaller;\n",
       "  line-height: 1em;\n",
       "  font-family: monospace;\n",
       "  background-color: var(--sklearn-color-background);\n",
       "  border-radius: 1em;\n",
       "  height: 1em;\n",
       "  width: 1em;\n",
       "  text-decoration: none !important;\n",
<<<<<<< Updated upstream
       "  margin-left: 1ex;\n",
=======
       "  margin-left: 0.5em;\n",
       "  text-align: center;\n",
>>>>>>> Stashed changes
       "  /* unfitted */\n",
       "  border: var(--sklearn-color-unfitted-level-1) 1pt solid;\n",
       "  color: var(--sklearn-color-unfitted-level-1);\n",
       "}\n",
       "\n",
       ".sk-estimator-doc-link.fitted,\n",
       "a:link.sk-estimator-doc-link.fitted,\n",
       "a:visited.sk-estimator-doc-link.fitted {\n",
       "  /* fitted */\n",
       "  border: var(--sklearn-color-fitted-level-1) 1pt solid;\n",
       "  color: var(--sklearn-color-fitted-level-1);\n",
       "}\n",
       "\n",
       "/* On hover */\n",
       "div.sk-estimator:hover .sk-estimator-doc-link:hover,\n",
       ".sk-estimator-doc-link:hover,\n",
       "div.sk-label-container:hover .sk-estimator-doc-link:hover,\n",
       ".sk-estimator-doc-link:hover {\n",
       "  /* unfitted */\n",
       "  background-color: var(--sklearn-color-unfitted-level-3);\n",
       "  color: var(--sklearn-color-background);\n",
       "  text-decoration: none;\n",
       "}\n",
       "\n",
       "div.sk-estimator.fitted:hover .sk-estimator-doc-link.fitted:hover,\n",
       ".sk-estimator-doc-link.fitted:hover,\n",
       "div.sk-label-container:hover .sk-estimator-doc-link.fitted:hover,\n",
       ".sk-estimator-doc-link.fitted:hover {\n",
       "  /* fitted */\n",
       "  background-color: var(--sklearn-color-fitted-level-3);\n",
       "  color: var(--sklearn-color-background);\n",
       "  text-decoration: none;\n",
       "}\n",
       "\n",
       "/* Span, style for the box shown on hovering the info icon */\n",
       ".sk-estimator-doc-link span {\n",
       "  display: none;\n",
       "  z-index: 9999;\n",
       "  position: relative;\n",
       "  font-weight: normal;\n",
       "  right: .2ex;\n",
       "  padding: .5ex;\n",
       "  margin: .5ex;\n",
       "  width: min-content;\n",
       "  min-width: 20ex;\n",
       "  max-width: 50ex;\n",
       "  color: var(--sklearn-color-text);\n",
       "  box-shadow: 2pt 2pt 4pt #999;\n",
       "  /* unfitted */\n",
       "  background: var(--sklearn-color-unfitted-level-0);\n",
       "  border: .5pt solid var(--sklearn-color-unfitted-level-3);\n",
       "}\n",
       "\n",
       ".sk-estimator-doc-link.fitted span {\n",
       "  /* fitted */\n",
       "  background: var(--sklearn-color-fitted-level-0);\n",
       "  border: var(--sklearn-color-fitted-level-3);\n",
       "}\n",
       "\n",
       ".sk-estimator-doc-link:hover span {\n",
       "  display: block;\n",
       "}\n",
       "\n",
       "/* \"?\"-specific style due to the `<a>` HTML tag */\n",
       "\n",
<<<<<<< Updated upstream
       "#sk-container-id-9 a.estimator_doc_link {\n",
=======
       "#sk-container-id-1 a.estimator_doc_link {\n",
>>>>>>> Stashed changes
       "  float: right;\n",
       "  font-size: 1rem;\n",
       "  line-height: 1em;\n",
       "  font-family: monospace;\n",
       "  background-color: var(--sklearn-color-background);\n",
       "  border-radius: 1rem;\n",
       "  height: 1rem;\n",
       "  width: 1rem;\n",
       "  text-decoration: none;\n",
       "  /* unfitted */\n",
       "  color: var(--sklearn-color-unfitted-level-1);\n",
       "  border: var(--sklearn-color-unfitted-level-1) 1pt solid;\n",
       "}\n",
       "\n",
<<<<<<< Updated upstream
       "#sk-container-id-9 a.estimator_doc_link.fitted {\n",
=======
       "#sk-container-id-1 a.estimator_doc_link.fitted {\n",
>>>>>>> Stashed changes
       "  /* fitted */\n",
       "  border: var(--sklearn-color-fitted-level-1) 1pt solid;\n",
       "  color: var(--sklearn-color-fitted-level-1);\n",
       "}\n",
       "\n",
       "/* On hover */\n",
<<<<<<< Updated upstream
       "#sk-container-id-9 a.estimator_doc_link:hover {\n",
=======
       "#sk-container-id-1 a.estimator_doc_link:hover {\n",
>>>>>>> Stashed changes
       "  /* unfitted */\n",
       "  background-color: var(--sklearn-color-unfitted-level-3);\n",
       "  color: var(--sklearn-color-background);\n",
       "  text-decoration: none;\n",
       "}\n",
       "\n",
<<<<<<< Updated upstream
       "#sk-container-id-9 a.estimator_doc_link.fitted:hover {\n",
       "  /* fitted */\n",
       "  background-color: var(--sklearn-color-fitted-level-3);\n",
       "}\n",
       "</style><div id=\"sk-container-id-9\" class=\"sk-top-container\"><div class=\"sk-text-repr-fallback\"><pre>XGBClassifier(base_score=None, booster=None, callbacks=None,\n",
=======
       "#sk-container-id-1 a.estimator_doc_link.fitted:hover {\n",
       "  /* fitted */\n",
       "  background-color: var(--sklearn-color-fitted-level-3);\n",
       "}\n",
       "</style><div id=\"sk-container-id-1\" class=\"sk-top-container\"><div class=\"sk-text-repr-fallback\"><pre>XGBClassifier(base_score=None, booster=None, callbacks=None,\n",
>>>>>>> Stashed changes
       "              colsample_bylevel=None, colsample_bynode=None,\n",
       "              colsample_bytree=None, device=None, early_stopping_rounds=None,\n",
       "              enable_categorical=False, eval_metric=None, feature_types=None,\n",
       "              feature_weights=None, gamma=None, grow_policy=None,\n",
       "              importance_type=None, interaction_constraints=None,\n",
       "              learning_rate=None, max_bin=None, max_cat_threshold=None,\n",
       "              max_cat_to_onehot=None, max_delta_step=None, max_depth=None,\n",
       "              max_leaves=None, min_child_weight=None, missing=nan,\n",
       "              monotone_constraints=None, multi_strategy=None, n_estimators=None,\n",
<<<<<<< Updated upstream
       "              n_jobs=None, num_parallel_tree=None, ...)</pre><b>In a Jupyter environment, please rerun this cell to show the HTML representation or trust the notebook. <br />On GitHub, the HTML representation is unable to render, please try loading this page with nbviewer.org.</b></div><div class=\"sk-container\" hidden><div class=\"sk-item\"><div class=\"sk-estimator fitted sk-toggleable\"><input class=\"sk-toggleable__control sk-hidden--visually\" id=\"sk-estimator-id-9\" type=\"checkbox\" checked><label for=\"sk-estimator-id-9\" class=\"sk-toggleable__label fitted sk-toggleable__label-arrow fitted\">&nbsp;&nbsp;XGBClassifier<a class=\"sk-estimator-doc-link fitted\" rel=\"noreferrer\" target=\"_blank\" href=\"https://xgboost.readthedocs.io/en/release_3.0.0/python/python_api.html#xgboost.XGBClassifier\">?<span>Documentation for XGBClassifier</span></a><span class=\"sk-estimator-doc-link fitted\">i<span>Fitted</span></span></label><div class=\"sk-toggleable__content fitted\"><pre>XGBClassifier(base_score=None, booster=None, callbacks=None,\n",
=======
       "              n_jobs=None, num_parallel_tree=None, ...)</pre><b>In a Jupyter environment, please rerun this cell to show the HTML representation or trust the notebook. <br />On GitHub, the HTML representation is unable to render, please try loading this page with nbviewer.org.</b></div><div class=\"sk-container\" hidden><div class=\"sk-item\"><div class=\"sk-estimator fitted sk-toggleable\"><input class=\"sk-toggleable__control sk-hidden--visually\" id=\"sk-estimator-id-1\" type=\"checkbox\" checked><label for=\"sk-estimator-id-1\" class=\"sk-toggleable__label fitted sk-toggleable__label-arrow\"><div><div>XGBClassifier</div></div><div><a class=\"sk-estimator-doc-link fitted\" rel=\"noreferrer\" target=\"_blank\" href=\"https://xgboost.readthedocs.io/en/release_3.0.0/python/python_api.html#xgboost.XGBClassifier\">?<span>Documentation for XGBClassifier</span></a><span class=\"sk-estimator-doc-link fitted\">i<span>Fitted</span></span></div></label><div class=\"sk-toggleable__content fitted\"><pre>XGBClassifier(base_score=None, booster=None, callbacks=None,\n",
>>>>>>> Stashed changes
       "              colsample_bylevel=None, colsample_bynode=None,\n",
       "              colsample_bytree=None, device=None, early_stopping_rounds=None,\n",
       "              enable_categorical=False, eval_metric=None, feature_types=None,\n",
       "              feature_weights=None, gamma=None, grow_policy=None,\n",
       "              importance_type=None, interaction_constraints=None,\n",
       "              learning_rate=None, max_bin=None, max_cat_threshold=None,\n",
       "              max_cat_to_onehot=None, max_delta_step=None, max_depth=None,\n",
       "              max_leaves=None, min_child_weight=None, missing=nan,\n",
       "              monotone_constraints=None, multi_strategy=None, n_estimators=None,\n",
       "              n_jobs=None, num_parallel_tree=None, ...)</pre></div> </div></div></div></div>"
      ],
      "text/plain": [
       "XGBClassifier(base_score=None, booster=None, callbacks=None,\n",
       "              colsample_bylevel=None, colsample_bynode=None,\n",
       "              colsample_bytree=None, device=None, early_stopping_rounds=None,\n",
       "              enable_categorical=False, eval_metric=None, feature_types=None,\n",
       "              feature_weights=None, gamma=None, grow_policy=None,\n",
       "              importance_type=None, interaction_constraints=None,\n",
       "              learning_rate=None, max_bin=None, max_cat_threshold=None,\n",
       "              max_cat_to_onehot=None, max_delta_step=None, max_depth=None,\n",
       "              max_leaves=None, min_child_weight=None, missing=nan,\n",
       "              monotone_constraints=None, multi_strategy=None, n_estimators=None,\n",
       "              n_jobs=None, num_parallel_tree=None, ...)"
      ]
     },
<<<<<<< Updated upstream
     "execution_count": 81,
=======
     "execution_count": 32,
>>>>>>> Stashed changes
     "metadata": {},
     "output_type": "execute_result"
    }
   ],
   "source": [
    "#xgboost for fastball\n",
    "xgb_model = XGBClassifier()\n",
    "xgb_model.fit(X_train, y_train)"
   ]
  },
  {
   "cell_type": "code",
<<<<<<< Updated upstream
   "execution_count": 82,
=======
   "execution_count": 33,
>>>>>>> Stashed changes
   "metadata": {},
   "outputs": [
    {
     "data": {
      "text/html": [
<<<<<<< Updated upstream
       "<style>#sk-container-id-10 {\n",
       "  /* Definition of color scheme common for light and dark mode */\n",
       "  --sklearn-color-text: black;\n",
=======
       "<style>#sk-container-id-2 {\n",
       "  /* Definition of color scheme common for light and dark mode */\n",
       "  --sklearn-color-text: #000;\n",
       "  --sklearn-color-text-muted: #666;\n",
>>>>>>> Stashed changes
       "  --sklearn-color-line: gray;\n",
       "  /* Definition of color scheme for unfitted estimators */\n",
       "  --sklearn-color-unfitted-level-0: #fff5e6;\n",
       "  --sklearn-color-unfitted-level-1: #f6e4d2;\n",
       "  --sklearn-color-unfitted-level-2: #ffe0b3;\n",
       "  --sklearn-color-unfitted-level-3: chocolate;\n",
       "  /* Definition of color scheme for fitted estimators */\n",
       "  --sklearn-color-fitted-level-0: #f0f8ff;\n",
       "  --sklearn-color-fitted-level-1: #d4ebff;\n",
       "  --sklearn-color-fitted-level-2: #b3dbfd;\n",
       "  --sklearn-color-fitted-level-3: cornflowerblue;\n",
       "\n",
       "  /* Specific color for light theme */\n",
       "  --sklearn-color-text-on-default-background: var(--sg-text-color, var(--theme-code-foreground, var(--jp-content-font-color1, black)));\n",
       "  --sklearn-color-background: var(--sg-background-color, var(--theme-background, var(--jp-layout-color0, white)));\n",
       "  --sklearn-color-border-box: var(--sg-text-color, var(--theme-code-foreground, var(--jp-content-font-color1, black)));\n",
       "  --sklearn-color-icon: #696969;\n",
       "\n",
       "  @media (prefers-color-scheme: dark) {\n",
       "    /* Redefinition of color scheme for dark theme */\n",
       "    --sklearn-color-text-on-default-background: var(--sg-text-color, var(--theme-code-foreground, var(--jp-content-font-color1, white)));\n",
       "    --sklearn-color-background: var(--sg-background-color, var(--theme-background, var(--jp-layout-color0, #111)));\n",
       "    --sklearn-color-border-box: var(--sg-text-color, var(--theme-code-foreground, var(--jp-content-font-color1, white)));\n",
       "    --sklearn-color-icon: #878787;\n",
       "  }\n",
       "}\n",
       "\n",
<<<<<<< Updated upstream
       "#sk-container-id-10 {\n",
       "  color: var(--sklearn-color-text);\n",
       "}\n",
       "\n",
       "#sk-container-id-10 pre {\n",
       "  padding: 0;\n",
       "}\n",
       "\n",
       "#sk-container-id-10 input.sk-hidden--visually {\n",
=======
       "#sk-container-id-2 {\n",
       "  color: var(--sklearn-color-text);\n",
       "}\n",
       "\n",
       "#sk-container-id-2 pre {\n",
       "  padding: 0;\n",
       "}\n",
       "\n",
       "#sk-container-id-2 input.sk-hidden--visually {\n",
>>>>>>> Stashed changes
       "  border: 0;\n",
       "  clip: rect(1px 1px 1px 1px);\n",
       "  clip: rect(1px, 1px, 1px, 1px);\n",
       "  height: 1px;\n",
       "  margin: -1px;\n",
       "  overflow: hidden;\n",
       "  padding: 0;\n",
       "  position: absolute;\n",
       "  width: 1px;\n",
       "}\n",
       "\n",
<<<<<<< Updated upstream
       "#sk-container-id-10 div.sk-dashed-wrapped {\n",
=======
       "#sk-container-id-2 div.sk-dashed-wrapped {\n",
>>>>>>> Stashed changes
       "  border: 1px dashed var(--sklearn-color-line);\n",
       "  margin: 0 0.4em 0.5em 0.4em;\n",
       "  box-sizing: border-box;\n",
       "  padding-bottom: 0.4em;\n",
       "  background-color: var(--sklearn-color-background);\n",
       "}\n",
       "\n",
<<<<<<< Updated upstream
       "#sk-container-id-10 div.sk-container {\n",
=======
       "#sk-container-id-2 div.sk-container {\n",
>>>>>>> Stashed changes
       "  /* jupyter's `normalize.less` sets `[hidden] { display: none; }`\n",
       "     but bootstrap.min.css set `[hidden] { display: none !important; }`\n",
       "     so we also need the `!important` here to be able to override the\n",
       "     default hidden behavior on the sphinx rendered scikit-learn.org.\n",
       "     See: https://github.com/scikit-learn/scikit-learn/issues/21755 */\n",
       "  display: inline-block !important;\n",
       "  position: relative;\n",
       "}\n",
       "\n",
<<<<<<< Updated upstream
       "#sk-container-id-10 div.sk-text-repr-fallback {\n",
=======
       "#sk-container-id-2 div.sk-text-repr-fallback {\n",
>>>>>>> Stashed changes
       "  display: none;\n",
       "}\n",
       "\n",
       "div.sk-parallel-item,\n",
       "div.sk-serial,\n",
       "div.sk-item {\n",
       "  /* draw centered vertical line to link estimators */\n",
       "  background-image: linear-gradient(var(--sklearn-color-text-on-default-background), var(--sklearn-color-text-on-default-background));\n",
       "  background-size: 2px 100%;\n",
       "  background-repeat: no-repeat;\n",
       "  background-position: center center;\n",
       "}\n",
       "\n",
       "/* Parallel-specific style estimator block */\n",
       "\n",
<<<<<<< Updated upstream
       "#sk-container-id-10 div.sk-parallel-item::after {\n",
=======
       "#sk-container-id-2 div.sk-parallel-item::after {\n",
>>>>>>> Stashed changes
       "  content: \"\";\n",
       "  width: 100%;\n",
       "  border-bottom: 2px solid var(--sklearn-color-text-on-default-background);\n",
       "  flex-grow: 1;\n",
       "}\n",
       "\n",
<<<<<<< Updated upstream
       "#sk-container-id-10 div.sk-parallel {\n",
=======
       "#sk-container-id-2 div.sk-parallel {\n",
>>>>>>> Stashed changes
       "  display: flex;\n",
       "  align-items: stretch;\n",
       "  justify-content: center;\n",
       "  background-color: var(--sklearn-color-background);\n",
       "  position: relative;\n",
       "}\n",
       "\n",
<<<<<<< Updated upstream
       "#sk-container-id-10 div.sk-parallel-item {\n",
=======
       "#sk-container-id-2 div.sk-parallel-item {\n",
>>>>>>> Stashed changes
       "  display: flex;\n",
       "  flex-direction: column;\n",
       "}\n",
       "\n",
<<<<<<< Updated upstream
       "#sk-container-id-10 div.sk-parallel-item:first-child::after {\n",
=======
       "#sk-container-id-2 div.sk-parallel-item:first-child::after {\n",
>>>>>>> Stashed changes
       "  align-self: flex-end;\n",
       "  width: 50%;\n",
       "}\n",
       "\n",
<<<<<<< Updated upstream
       "#sk-container-id-10 div.sk-parallel-item:last-child::after {\n",
=======
       "#sk-container-id-2 div.sk-parallel-item:last-child::after {\n",
>>>>>>> Stashed changes
       "  align-self: flex-start;\n",
       "  width: 50%;\n",
       "}\n",
       "\n",
<<<<<<< Updated upstream
       "#sk-container-id-10 div.sk-parallel-item:only-child::after {\n",
=======
       "#sk-container-id-2 div.sk-parallel-item:only-child::after {\n",
>>>>>>> Stashed changes
       "  width: 0;\n",
       "}\n",
       "\n",
       "/* Serial-specific style estimator block */\n",
       "\n",
<<<<<<< Updated upstream
       "#sk-container-id-10 div.sk-serial {\n",
=======
       "#sk-container-id-2 div.sk-serial {\n",
>>>>>>> Stashed changes
       "  display: flex;\n",
       "  flex-direction: column;\n",
       "  align-items: center;\n",
       "  background-color: var(--sklearn-color-background);\n",
       "  padding-right: 1em;\n",
       "  padding-left: 1em;\n",
       "}\n",
       "\n",
       "\n",
       "/* Toggleable style: style used for estimator/Pipeline/ColumnTransformer box that is\n",
       "clickable and can be expanded/collapsed.\n",
       "- Pipeline and ColumnTransformer use this feature and define the default style\n",
       "- Estimators will overwrite some part of the style using the `sk-estimator` class\n",
       "*/\n",
       "\n",
       "/* Pipeline and ColumnTransformer style (default) */\n",
       "\n",
<<<<<<< Updated upstream
       "#sk-container-id-10 div.sk-toggleable {\n",
=======
       "#sk-container-id-2 div.sk-toggleable {\n",
>>>>>>> Stashed changes
       "  /* Default theme specific background. It is overwritten whether we have a\n",
       "  specific estimator or a Pipeline/ColumnTransformer */\n",
       "  background-color: var(--sklearn-color-background);\n",
       "}\n",
       "\n",
       "/* Toggleable label */\n",
<<<<<<< Updated upstream
       "#sk-container-id-10 label.sk-toggleable__label {\n",
       "  cursor: pointer;\n",
       "  display: block;\n",
=======
       "#sk-container-id-2 label.sk-toggleable__label {\n",
       "  cursor: pointer;\n",
       "  display: flex;\n",
>>>>>>> Stashed changes
       "  width: 100%;\n",
       "  margin-bottom: 0;\n",
       "  padding: 0.5em;\n",
       "  box-sizing: border-box;\n",
       "  text-align: center;\n",
<<<<<<< Updated upstream
       "}\n",
       "\n",
       "#sk-container-id-10 label.sk-toggleable__label-arrow:before {\n",
=======
       "  align-items: start;\n",
       "  justify-content: space-between;\n",
       "  gap: 0.5em;\n",
       "}\n",
       "\n",
       "#sk-container-id-2 label.sk-toggleable__label .caption {\n",
       "  font-size: 0.6rem;\n",
       "  font-weight: lighter;\n",
       "  color: var(--sklearn-color-text-muted);\n",
       "}\n",
       "\n",
       "#sk-container-id-2 label.sk-toggleable__label-arrow:before {\n",
>>>>>>> Stashed changes
       "  /* Arrow on the left of the label */\n",
       "  content: \"▸\";\n",
       "  float: left;\n",
       "  margin-right: 0.25em;\n",
       "  color: var(--sklearn-color-icon);\n",
       "}\n",
       "\n",
<<<<<<< Updated upstream
       "#sk-container-id-10 label.sk-toggleable__label-arrow:hover:before {\n",
=======
       "#sk-container-id-2 label.sk-toggleable__label-arrow:hover:before {\n",
>>>>>>> Stashed changes
       "  color: var(--sklearn-color-text);\n",
       "}\n",
       "\n",
       "/* Toggleable content - dropdown */\n",
       "\n",
<<<<<<< Updated upstream
       "#sk-container-id-10 div.sk-toggleable__content {\n",
=======
       "#sk-container-id-2 div.sk-toggleable__content {\n",
>>>>>>> Stashed changes
       "  max-height: 0;\n",
       "  max-width: 0;\n",
       "  overflow: hidden;\n",
       "  text-align: left;\n",
       "  /* unfitted */\n",
       "  background-color: var(--sklearn-color-unfitted-level-0);\n",
       "}\n",
       "\n",
<<<<<<< Updated upstream
       "#sk-container-id-10 div.sk-toggleable__content.fitted {\n",
=======
       "#sk-container-id-2 div.sk-toggleable__content.fitted {\n",
>>>>>>> Stashed changes
       "  /* fitted */\n",
       "  background-color: var(--sklearn-color-fitted-level-0);\n",
       "}\n",
       "\n",
<<<<<<< Updated upstream
       "#sk-container-id-10 div.sk-toggleable__content pre {\n",
=======
       "#sk-container-id-2 div.sk-toggleable__content pre {\n",
>>>>>>> Stashed changes
       "  margin: 0.2em;\n",
       "  border-radius: 0.25em;\n",
       "  color: var(--sklearn-color-text);\n",
       "  /* unfitted */\n",
       "  background-color: var(--sklearn-color-unfitted-level-0);\n",
       "}\n",
       "\n",
<<<<<<< Updated upstream
       "#sk-container-id-10 div.sk-toggleable__content.fitted pre {\n",
=======
       "#sk-container-id-2 div.sk-toggleable__content.fitted pre {\n",
>>>>>>> Stashed changes
       "  /* unfitted */\n",
       "  background-color: var(--sklearn-color-fitted-level-0);\n",
       "}\n",
       "\n",
<<<<<<< Updated upstream
       "#sk-container-id-10 input.sk-toggleable__control:checked~div.sk-toggleable__content {\n",
=======
       "#sk-container-id-2 input.sk-toggleable__control:checked~div.sk-toggleable__content {\n",
>>>>>>> Stashed changes
       "  /* Expand drop-down */\n",
       "  max-height: 200px;\n",
       "  max-width: 100%;\n",
       "  overflow: auto;\n",
       "}\n",
       "\n",
<<<<<<< Updated upstream
       "#sk-container-id-10 input.sk-toggleable__control:checked~label.sk-toggleable__label-arrow:before {\n",
=======
       "#sk-container-id-2 input.sk-toggleable__control:checked~label.sk-toggleable__label-arrow:before {\n",
>>>>>>> Stashed changes
       "  content: \"▾\";\n",
       "}\n",
       "\n",
       "/* Pipeline/ColumnTransformer-specific style */\n",
       "\n",
<<<<<<< Updated upstream
       "#sk-container-id-10 div.sk-label input.sk-toggleable__control:checked~label.sk-toggleable__label {\n",
=======
       "#sk-container-id-2 div.sk-label input.sk-toggleable__control:checked~label.sk-toggleable__label {\n",
>>>>>>> Stashed changes
       "  color: var(--sklearn-color-text);\n",
       "  background-color: var(--sklearn-color-unfitted-level-2);\n",
       "}\n",
       "\n",
<<<<<<< Updated upstream
       "#sk-container-id-10 div.sk-label.fitted input.sk-toggleable__control:checked~label.sk-toggleable__label {\n",
=======
       "#sk-container-id-2 div.sk-label.fitted input.sk-toggleable__control:checked~label.sk-toggleable__label {\n",
>>>>>>> Stashed changes
       "  background-color: var(--sklearn-color-fitted-level-2);\n",
       "}\n",
       "\n",
       "/* Estimator-specific style */\n",
       "\n",
       "/* Colorize estimator box */\n",
<<<<<<< Updated upstream
       "#sk-container-id-10 div.sk-estimator input.sk-toggleable__control:checked~label.sk-toggleable__label {\n",
=======
       "#sk-container-id-2 div.sk-estimator input.sk-toggleable__control:checked~label.sk-toggleable__label {\n",
>>>>>>> Stashed changes
       "  /* unfitted */\n",
       "  background-color: var(--sklearn-color-unfitted-level-2);\n",
       "}\n",
       "\n",
<<<<<<< Updated upstream
       "#sk-container-id-10 div.sk-estimator.fitted input.sk-toggleable__control:checked~label.sk-toggleable__label {\n",
=======
       "#sk-container-id-2 div.sk-estimator.fitted input.sk-toggleable__control:checked~label.sk-toggleable__label {\n",
>>>>>>> Stashed changes
       "  /* fitted */\n",
       "  background-color: var(--sklearn-color-fitted-level-2);\n",
       "}\n",
       "\n",
<<<<<<< Updated upstream
       "#sk-container-id-10 div.sk-label label.sk-toggleable__label,\n",
       "#sk-container-id-10 div.sk-label label {\n",
=======
       "#sk-container-id-2 div.sk-label label.sk-toggleable__label,\n",
       "#sk-container-id-2 div.sk-label label {\n",
>>>>>>> Stashed changes
       "  /* The background is the default theme color */\n",
       "  color: var(--sklearn-color-text-on-default-background);\n",
       "}\n",
       "\n",
       "/* On hover, darken the color of the background */\n",
<<<<<<< Updated upstream
       "#sk-container-id-10 div.sk-label:hover label.sk-toggleable__label {\n",
=======
       "#sk-container-id-2 div.sk-label:hover label.sk-toggleable__label {\n",
>>>>>>> Stashed changes
       "  color: var(--sklearn-color-text);\n",
       "  background-color: var(--sklearn-color-unfitted-level-2);\n",
       "}\n",
       "\n",
       "/* Label box, darken color on hover, fitted */\n",
<<<<<<< Updated upstream
       "#sk-container-id-10 div.sk-label.fitted:hover label.sk-toggleable__label.fitted {\n",
=======
       "#sk-container-id-2 div.sk-label.fitted:hover label.sk-toggleable__label.fitted {\n",
>>>>>>> Stashed changes
       "  color: var(--sklearn-color-text);\n",
       "  background-color: var(--sklearn-color-fitted-level-2);\n",
       "}\n",
       "\n",
       "/* Estimator label */\n",
       "\n",
<<<<<<< Updated upstream
       "#sk-container-id-10 div.sk-label label {\n",
=======
       "#sk-container-id-2 div.sk-label label {\n",
>>>>>>> Stashed changes
       "  font-family: monospace;\n",
       "  font-weight: bold;\n",
       "  display: inline-block;\n",
       "  line-height: 1.2em;\n",
       "}\n",
       "\n",
<<<<<<< Updated upstream
       "#sk-container-id-10 div.sk-label-container {\n",
=======
       "#sk-container-id-2 div.sk-label-container {\n",
>>>>>>> Stashed changes
       "  text-align: center;\n",
       "}\n",
       "\n",
       "/* Estimator-specific */\n",
<<<<<<< Updated upstream
       "#sk-container-id-10 div.sk-estimator {\n",
=======
       "#sk-container-id-2 div.sk-estimator {\n",
>>>>>>> Stashed changes
       "  font-family: monospace;\n",
       "  border: 1px dotted var(--sklearn-color-border-box);\n",
       "  border-radius: 0.25em;\n",
       "  box-sizing: border-box;\n",
       "  margin-bottom: 0.5em;\n",
       "  /* unfitted */\n",
       "  background-color: var(--sklearn-color-unfitted-level-0);\n",
       "}\n",
       "\n",
<<<<<<< Updated upstream
       "#sk-container-id-10 div.sk-estimator.fitted {\n",
=======
       "#sk-container-id-2 div.sk-estimator.fitted {\n",
>>>>>>> Stashed changes
       "  /* fitted */\n",
       "  background-color: var(--sklearn-color-fitted-level-0);\n",
       "}\n",
       "\n",
       "/* on hover */\n",
<<<<<<< Updated upstream
       "#sk-container-id-10 div.sk-estimator:hover {\n",
=======
       "#sk-container-id-2 div.sk-estimator:hover {\n",
>>>>>>> Stashed changes
       "  /* unfitted */\n",
       "  background-color: var(--sklearn-color-unfitted-level-2);\n",
       "}\n",
       "\n",
<<<<<<< Updated upstream
       "#sk-container-id-10 div.sk-estimator.fitted:hover {\n",
=======
       "#sk-container-id-2 div.sk-estimator.fitted:hover {\n",
>>>>>>> Stashed changes
       "  /* fitted */\n",
       "  background-color: var(--sklearn-color-fitted-level-2);\n",
       "}\n",
       "\n",
       "/* Specification for estimator info (e.g. \"i\" and \"?\") */\n",
       "\n",
       "/* Common style for \"i\" and \"?\" */\n",
       "\n",
       ".sk-estimator-doc-link,\n",
       "a:link.sk-estimator-doc-link,\n",
       "a:visited.sk-estimator-doc-link {\n",
       "  float: right;\n",
       "  font-size: smaller;\n",
       "  line-height: 1em;\n",
       "  font-family: monospace;\n",
       "  background-color: var(--sklearn-color-background);\n",
       "  border-radius: 1em;\n",
       "  height: 1em;\n",
       "  width: 1em;\n",
       "  text-decoration: none !important;\n",
<<<<<<< Updated upstream
       "  margin-left: 1ex;\n",
=======
       "  margin-left: 0.5em;\n",
       "  text-align: center;\n",
>>>>>>> Stashed changes
       "  /* unfitted */\n",
       "  border: var(--sklearn-color-unfitted-level-1) 1pt solid;\n",
       "  color: var(--sklearn-color-unfitted-level-1);\n",
       "}\n",
       "\n",
       ".sk-estimator-doc-link.fitted,\n",
       "a:link.sk-estimator-doc-link.fitted,\n",
       "a:visited.sk-estimator-doc-link.fitted {\n",
       "  /* fitted */\n",
       "  border: var(--sklearn-color-fitted-level-1) 1pt solid;\n",
       "  color: var(--sklearn-color-fitted-level-1);\n",
       "}\n",
       "\n",
       "/* On hover */\n",
       "div.sk-estimator:hover .sk-estimator-doc-link:hover,\n",
       ".sk-estimator-doc-link:hover,\n",
       "div.sk-label-container:hover .sk-estimator-doc-link:hover,\n",
       ".sk-estimator-doc-link:hover {\n",
       "  /* unfitted */\n",
       "  background-color: var(--sklearn-color-unfitted-level-3);\n",
       "  color: var(--sklearn-color-background);\n",
       "  text-decoration: none;\n",
       "}\n",
       "\n",
       "div.sk-estimator.fitted:hover .sk-estimator-doc-link.fitted:hover,\n",
       ".sk-estimator-doc-link.fitted:hover,\n",
       "div.sk-label-container:hover .sk-estimator-doc-link.fitted:hover,\n",
       ".sk-estimator-doc-link.fitted:hover {\n",
       "  /* fitted */\n",
       "  background-color: var(--sklearn-color-fitted-level-3);\n",
       "  color: var(--sklearn-color-background);\n",
       "  text-decoration: none;\n",
       "}\n",
       "\n",
       "/* Span, style for the box shown on hovering the info icon */\n",
       ".sk-estimator-doc-link span {\n",
       "  display: none;\n",
       "  z-index: 9999;\n",
       "  position: relative;\n",
       "  font-weight: normal;\n",
       "  right: .2ex;\n",
       "  padding: .5ex;\n",
       "  margin: .5ex;\n",
       "  width: min-content;\n",
       "  min-width: 20ex;\n",
       "  max-width: 50ex;\n",
       "  color: var(--sklearn-color-text);\n",
       "  box-shadow: 2pt 2pt 4pt #999;\n",
       "  /* unfitted */\n",
       "  background: var(--sklearn-color-unfitted-level-0);\n",
       "  border: .5pt solid var(--sklearn-color-unfitted-level-3);\n",
       "}\n",
       "\n",
       ".sk-estimator-doc-link.fitted span {\n",
       "  /* fitted */\n",
       "  background: var(--sklearn-color-fitted-level-0);\n",
       "  border: var(--sklearn-color-fitted-level-3);\n",
       "}\n",
       "\n",
       ".sk-estimator-doc-link:hover span {\n",
       "  display: block;\n",
       "}\n",
       "\n",
       "/* \"?\"-specific style due to the `<a>` HTML tag */\n",
       "\n",
<<<<<<< Updated upstream
       "#sk-container-id-10 a.estimator_doc_link {\n",
=======
       "#sk-container-id-2 a.estimator_doc_link {\n",
>>>>>>> Stashed changes
       "  float: right;\n",
       "  font-size: 1rem;\n",
       "  line-height: 1em;\n",
       "  font-family: monospace;\n",
       "  background-color: var(--sklearn-color-background);\n",
       "  border-radius: 1rem;\n",
       "  height: 1rem;\n",
       "  width: 1rem;\n",
       "  text-decoration: none;\n",
       "  /* unfitted */\n",
       "  color: var(--sklearn-color-unfitted-level-1);\n",
       "  border: var(--sklearn-color-unfitted-level-1) 1pt solid;\n",
       "}\n",
       "\n",
<<<<<<< Updated upstream
       "#sk-container-id-10 a.estimator_doc_link.fitted {\n",
=======
       "#sk-container-id-2 a.estimator_doc_link.fitted {\n",
>>>>>>> Stashed changes
       "  /* fitted */\n",
       "  border: var(--sklearn-color-fitted-level-1) 1pt solid;\n",
       "  color: var(--sklearn-color-fitted-level-1);\n",
       "}\n",
       "\n",
       "/* On hover */\n",
<<<<<<< Updated upstream
       "#sk-container-id-10 a.estimator_doc_link:hover {\n",
=======
       "#sk-container-id-2 a.estimator_doc_link:hover {\n",
>>>>>>> Stashed changes
       "  /* unfitted */\n",
       "  background-color: var(--sklearn-color-unfitted-level-3);\n",
       "  color: var(--sklearn-color-background);\n",
       "  text-decoration: none;\n",
       "}\n",
       "\n",
<<<<<<< Updated upstream
       "#sk-container-id-10 a.estimator_doc_link.fitted:hover {\n",
       "  /* fitted */\n",
       "  background-color: var(--sklearn-color-fitted-level-3);\n",
       "}\n",
       "</style><div id=\"sk-container-id-10\" class=\"sk-top-container\"><div class=\"sk-text-repr-fallback\"><pre>RandomForestClassifier()</pre><b>In a Jupyter environment, please rerun this cell to show the HTML representation or trust the notebook. <br />On GitHub, the HTML representation is unable to render, please try loading this page with nbviewer.org.</b></div><div class=\"sk-container\" hidden><div class=\"sk-item\"><div class=\"sk-estimator fitted sk-toggleable\"><input class=\"sk-toggleable__control sk-hidden--visually\" id=\"sk-estimator-id-10\" type=\"checkbox\" checked><label for=\"sk-estimator-id-10\" class=\"sk-toggleable__label fitted sk-toggleable__label-arrow fitted\">&nbsp;&nbsp;RandomForestClassifier<a class=\"sk-estimator-doc-link fitted\" rel=\"noreferrer\" target=\"_blank\" href=\"https://scikit-learn.org/1.5/modules/generated/sklearn.ensemble.RandomForestClassifier.html\">?<span>Documentation for RandomForestClassifier</span></a><span class=\"sk-estimator-doc-link fitted\">i<span>Fitted</span></span></label><div class=\"sk-toggleable__content fitted\"><pre>RandomForestClassifier()</pre></div> </div></div></div></div>"
=======
       "#sk-container-id-2 a.estimator_doc_link.fitted:hover {\n",
       "  /* fitted */\n",
       "  background-color: var(--sklearn-color-fitted-level-3);\n",
       "}\n",
       "</style><div id=\"sk-container-id-2\" class=\"sk-top-container\"><div class=\"sk-text-repr-fallback\"><pre>RandomForestClassifier()</pre><b>In a Jupyter environment, please rerun this cell to show the HTML representation or trust the notebook. <br />On GitHub, the HTML representation is unable to render, please try loading this page with nbviewer.org.</b></div><div class=\"sk-container\" hidden><div class=\"sk-item\"><div class=\"sk-estimator fitted sk-toggleable\"><input class=\"sk-toggleable__control sk-hidden--visually\" id=\"sk-estimator-id-2\" type=\"checkbox\" checked><label for=\"sk-estimator-id-2\" class=\"sk-toggleable__label fitted sk-toggleable__label-arrow\"><div><div>RandomForestClassifier</div></div><div><a class=\"sk-estimator-doc-link fitted\" rel=\"noreferrer\" target=\"_blank\" href=\"https://scikit-learn.org/1.6/modules/generated/sklearn.ensemble.RandomForestClassifier.html\">?<span>Documentation for RandomForestClassifier</span></a><span class=\"sk-estimator-doc-link fitted\">i<span>Fitted</span></span></div></label><div class=\"sk-toggleable__content fitted\"><pre>RandomForestClassifier()</pre></div> </div></div></div></div>"
>>>>>>> Stashed changes
      ],
      "text/plain": [
       "RandomForestClassifier()"
      ]
     },
<<<<<<< Updated upstream
     "execution_count": 82,
=======
     "execution_count": 33,
>>>>>>> Stashed changes
     "metadata": {},
     "output_type": "execute_result"
    }
   ],
   "source": [
    "#random forest for fastball\n",
    "rfc = RandomForestClassifier(n_estimators=100)\n",
    "rfc.fit(X_train, y_train)"
   ]
  },
  {
   "cell_type": "code",
<<<<<<< Updated upstream
   "execution_count": 83,
   "metadata": {},
   "outputs": [
    {
     "name": "stdout",
     "output_type": "stream",
     "text": [
      "Epoch 1/50\n"
     ]
    },
    {
     "name": "stderr",
     "output_type": "stream",
     "text": [
      "c:\\Users\\maxim\\AppData\\Local\\Programs\\Python\\Python310\\lib\\site-packages\\keras\\src\\layers\\core\\dense.py:87: UserWarning:\n",
=======
   "execution_count": 34,
   "metadata": {},
   "outputs": [
    {
     "name": "stderr",
     "output_type": "stream",
     "text": [
      "c:\\Users\\isu_mvquirk_admin\\AppData\\Local\\Programs\\Python\\Python310\\lib\\site-packages\\keras\\src\\layers\\core\\dense.py:93: UserWarning:\n",
>>>>>>> Stashed changes
      "\n",
      "Do not pass an `input_shape`/`input_dim` argument to a layer. When using Sequential models, prefer using an `Input(shape)` object as the first layer in the model instead.\n",
      "\n"
     ]
    },
    {
     "name": "stdout",
     "output_type": "stream",
     "text": [
<<<<<<< Updated upstream
      "\u001b[1m10/10\u001b[0m \u001b[32m━━━━━━━━━━━━━━━━━━━━\u001b[0m\u001b[37m\u001b[0m \u001b[1m1s\u001b[0m 22ms/step - accuracy: 0.2537 - loss: 89.1723 - val_accuracy: 0.8590 - val_loss: 19.4676\n",
      "Epoch 2/50\n",
      "\u001b[1m10/10\u001b[0m \u001b[32m━━━━━━━━━━━━━━━━━━━━\u001b[0m\u001b[37m\u001b[0m \u001b[1m0s\u001b[0m 6ms/step - accuracy: 0.8793 - loss: 18.8489 - val_accuracy: 0.8590 - val_loss: 24.6307\n",
      "Epoch 3/50\n",
      "\u001b[1m10/10\u001b[0m \u001b[32m━━━━━━━━━━━━━━━━━━━━\u001b[0m\u001b[37m\u001b[0m \u001b[1m0s\u001b[0m 6ms/step - accuracy: 0.8690 - loss: 20.0816 - val_accuracy: 0.8590 - val_loss: 13.0157\n",
      "Epoch 4/50\n",
      "\u001b[1m10/10\u001b[0m \u001b[32m━━━━━━━━━━━━━━━━━━━━\u001b[0m\u001b[37m\u001b[0m \u001b[1m0s\u001b[0m 6ms/step - accuracy: 0.8364 - loss: 8.5086 - val_accuracy: 0.5385 - val_loss: 0.8567\n",
      "Epoch 5/50\n",
      "\u001b[1m10/10\u001b[0m \u001b[32m━━━━━━━━━━━━━━━━━━━━\u001b[0m\u001b[37m\u001b[0m \u001b[1m0s\u001b[0m 6ms/step - accuracy: 0.8275 - loss: 2.1670 - val_accuracy: 0.8590 - val_loss: 3.5212\n",
      "Epoch 6/50\n",
      "\u001b[1m10/10\u001b[0m \u001b[32m━━━━━━━━━━━━━━━━━━━━\u001b[0m\u001b[37m\u001b[0m \u001b[1m0s\u001b[0m 10ms/step - accuracy: 0.8120 - loss: 1.8308 - val_accuracy: 0.8590 - val_loss: 2.0516\n",
      "Epoch 7/50\n",
      "\u001b[1m10/10\u001b[0m \u001b[32m━━━━━━━━━━━━━━━━━━━━\u001b[0m\u001b[37m\u001b[0m \u001b[1m0s\u001b[0m 6ms/step - accuracy: 0.8138 - loss: 1.5210 - val_accuracy: 0.8590 - val_loss: 0.8173\n",
      "Epoch 8/50\n",
      "\u001b[1m10/10\u001b[0m \u001b[32m━━━━━━━━━━━━━━━━━━━━\u001b[0m\u001b[37m\u001b[0m \u001b[1m0s\u001b[0m 7ms/step - accuracy: 0.7994 - loss: 0.8882 - val_accuracy: 0.2949 - val_loss: 1.6984\n",
      "Epoch 9/50\n",
      "\u001b[1m10/10\u001b[0m \u001b[32m━━━━━━━━━━━━━━━━━━━━\u001b[0m\u001b[37m\u001b[0m \u001b[1m0s\u001b[0m 9ms/step - accuracy: 0.7042 - loss: 1.1495 - val_accuracy: 0.8590 - val_loss: 0.7075\n",
      "Epoch 10/50\n",
      "\u001b[1m10/10\u001b[0m \u001b[32m━━━━━━━━━━━━━━━━━━━━\u001b[0m\u001b[37m\u001b[0m \u001b[1m0s\u001b[0m 11ms/step - accuracy: 0.8425 - loss: 1.1969 - val_accuracy: 0.8590 - val_loss: 1.4104\n",
      "Epoch 11/50\n",
      "\u001b[1m10/10\u001b[0m \u001b[32m━━━━━━━━━━━━━━━━━━━━\u001b[0m\u001b[37m\u001b[0m \u001b[1m0s\u001b[0m 7ms/step - accuracy: 0.7582 - loss: 1.7285 - val_accuracy: 0.8590 - val_loss: 2.8330\n",
      "Epoch 12/50\n",
      "\u001b[1m10/10\u001b[0m \u001b[32m━━━━━━━━━━━━━━━━━━━━\u001b[0m\u001b[37m\u001b[0m \u001b[1m0s\u001b[0m 11ms/step - accuracy: 0.8547 - loss: 1.5665 - val_accuracy: 0.8590 - val_loss: 1.0949\n",
      "Epoch 13/50\n",
      "\u001b[1m10/10\u001b[0m \u001b[32m━━━━━━━━━━━━━━━━━━━━\u001b[0m\u001b[37m\u001b[0m \u001b[1m0s\u001b[0m 7ms/step - accuracy: 0.8437 - loss: 0.9304 - val_accuracy: 0.8590 - val_loss: 0.9678\n",
      "Epoch 14/50\n",
      "\u001b[1m10/10\u001b[0m \u001b[32m━━━━━━━━━━━━━━━━━━━━\u001b[0m\u001b[37m\u001b[0m \u001b[1m0s\u001b[0m 7ms/step - accuracy: 0.7763 - loss: 1.0731 - val_accuracy: 0.8590 - val_loss: 0.9025\n",
      "Epoch 15/50\n",
      "\u001b[1m10/10\u001b[0m \u001b[32m━━━━━━━━━━━━━━━━━━━━\u001b[0m\u001b[37m\u001b[0m \u001b[1m0s\u001b[0m 6ms/step - accuracy: 0.7988 - loss: 0.6596 - val_accuracy: 0.8077 - val_loss: 0.5291\n",
      "Epoch 16/50\n",
      "\u001b[1m10/10\u001b[0m \u001b[32m━━━━━━━━━━━━━━━━━━━━\u001b[0m\u001b[37m\u001b[0m \u001b[1m0s\u001b[0m 7ms/step - accuracy: 0.8510 - loss: 0.4945 - val_accuracy: 0.3333 - val_loss: 1.5015\n",
      "Epoch 17/50\n",
      "\u001b[1m10/10\u001b[0m \u001b[32m━━━━━━━━━━━━━━━━━━━━\u001b[0m\u001b[37m\u001b[0m \u001b[1m0s\u001b[0m 7ms/step - accuracy: 0.7307 - loss: 1.0482 - val_accuracy: 0.8590 - val_loss: 0.6526\n",
      "Epoch 18/50\n",
      "\u001b[1m10/10\u001b[0m \u001b[32m━━━━━━━━━━━━━━━━━━━━\u001b[0m\u001b[37m\u001b[0m \u001b[1m0s\u001b[0m 12ms/step - accuracy: 0.8274 - loss: 0.5669 - val_accuracy: 0.8590 - val_loss: 0.8873\n",
      "Epoch 19/50\n",
      "\u001b[1m10/10\u001b[0m \u001b[32m━━━━━━━━━━━━━━━━━━━━\u001b[0m\u001b[37m\u001b[0m \u001b[1m0s\u001b[0m 7ms/step - accuracy: 0.8670 - loss: 0.7782 - val_accuracy: 0.8333 - val_loss: 0.4930\n",
      "Epoch 20/50\n",
      "\u001b[1m10/10\u001b[0m \u001b[32m━━━━━━━━━━━━━━━━━━━━\u001b[0m\u001b[37m\u001b[0m \u001b[1m0s\u001b[0m 6ms/step - accuracy: 0.7849 - loss: 0.6769 - val_accuracy: 0.8718 - val_loss: 0.5372\n",
      "Epoch 21/50\n",
      "\u001b[1m10/10\u001b[0m \u001b[32m━━━━━━━━━━━━━━━━━━━━\u001b[0m\u001b[37m\u001b[0m \u001b[1m0s\u001b[0m 6ms/step - accuracy: 0.8794 - loss: 0.5330 - val_accuracy: 0.8590 - val_loss: 0.6169\n",
      "Epoch 22/50\n",
      "\u001b[1m10/10\u001b[0m \u001b[32m━━━━━━━━━━━━━━━━━━━━\u001b[0m\u001b[37m\u001b[0m \u001b[1m0s\u001b[0m 6ms/step - accuracy: 0.7629 - loss: 0.7624 - val_accuracy: 0.8590 - val_loss: 0.9822\n",
      "Epoch 23/50\n",
      "\u001b[1m10/10\u001b[0m \u001b[32m━━━━━━━━━━━━━━━━━━━━\u001b[0m\u001b[37m\u001b[0m \u001b[1m0s\u001b[0m 7ms/step - accuracy: 0.8517 - loss: 0.7637 - val_accuracy: 0.6795 - val_loss: 0.6458\n",
      "Epoch 24/50\n",
      "\u001b[1m10/10\u001b[0m \u001b[32m━━━━━━━━━━━━━━━━━━━━\u001b[0m\u001b[37m\u001b[0m \u001b[1m0s\u001b[0m 8ms/step - accuracy: 0.7400 - loss: 0.8816 - val_accuracy: 0.8590 - val_loss: 2.2891\n",
      "Epoch 25/50\n",
      "\u001b[1m10/10\u001b[0m \u001b[32m━━━━━━━━━━━━━━━━━━━━\u001b[0m\u001b[37m\u001b[0m \u001b[1m0s\u001b[0m 6ms/step - accuracy: 0.8089 - loss: 1.6639 - val_accuracy: 0.8590 - val_loss: 4.1896\n",
      "Epoch 26/50\n",
      "\u001b[1m10/10\u001b[0m \u001b[32m━━━━━━━━━━━━━━━━━━━━\u001b[0m\u001b[37m\u001b[0m \u001b[1m0s\u001b[0m 6ms/step - accuracy: 0.8712 - loss: 3.3164 - val_accuracy: 0.2692 - val_loss: 1.8140\n",
      "Epoch 27/50\n",
      "\u001b[1m10/10\u001b[0m \u001b[32m━━━━━━━━━━━━━━━━━━━━\u001b[0m\u001b[37m\u001b[0m \u001b[1m0s\u001b[0m 6ms/step - accuracy: 0.7409 - loss: 1.7601 - val_accuracy: 0.1923 - val_loss: 3.2969\n",
      "Epoch 28/50\n",
      "\u001b[1m10/10\u001b[0m \u001b[32m━━━━━━━━━━━━━━━━━━━━\u001b[0m\u001b[37m\u001b[0m \u001b[1m0s\u001b[0m 7ms/step - accuracy: 0.6325 - loss: 1.6037 - val_accuracy: 0.8590 - val_loss: 1.3905\n",
      "Epoch 29/50\n",
      "\u001b[1m10/10\u001b[0m \u001b[32m━━━━━━━━━━━━━━━━━━━━\u001b[0m\u001b[37m\u001b[0m \u001b[1m0s\u001b[0m 6ms/step - accuracy: 0.8479 - loss: 0.9041 - val_accuracy: 0.8590 - val_loss: 0.8178\n",
      "Epoch 30/50\n",
      "\u001b[1m10/10\u001b[0m \u001b[32m━━━━━━━━━━━━━━━━━━━━\u001b[0m\u001b[37m\u001b[0m \u001b[1m0s\u001b[0m 7ms/step - accuracy: 0.7227 - loss: 1.4588 - val_accuracy: 0.8590 - val_loss: 0.7003\n",
      "Epoch 31/50\n",
      "\u001b[1m10/10\u001b[0m \u001b[32m━━━━━━━━━━━━━━━━━━━━\u001b[0m\u001b[37m\u001b[0m \u001b[1m0s\u001b[0m 8ms/step - accuracy: 0.7315 - loss: 1.3184 - val_accuracy: 0.5897 - val_loss: 0.7475\n",
      "Epoch 32/50\n",
      "\u001b[1m10/10\u001b[0m \u001b[32m━━━━━━━━━━━━━━━━━━━━\u001b[0m\u001b[37m\u001b[0m \u001b[1m0s\u001b[0m 5ms/step - accuracy: 0.7448 - loss: 0.9459 - val_accuracy: 0.8590 - val_loss: 0.8511\n",
      "Epoch 33/50\n",
      "\u001b[1m10/10\u001b[0m \u001b[32m━━━━━━━━━━━━━━━━━━━━\u001b[0m\u001b[37m\u001b[0m \u001b[1m0s\u001b[0m 8ms/step - accuracy: 0.8624 - loss: 0.7188 - val_accuracy: 0.7564 - val_loss: 0.6011\n",
      "Epoch 34/50\n",
      "\u001b[1m10/10\u001b[0m \u001b[32m━━━━━━━━━━━━━━━━━━━━\u001b[0m\u001b[37m\u001b[0m \u001b[1m0s\u001b[0m 8ms/step - accuracy: 0.7545 - loss: 0.6209 - val_accuracy: 0.8590 - val_loss: 0.5952\n",
      "Epoch 35/50\n",
      "\u001b[1m10/10\u001b[0m \u001b[32m━━━━━━━━━━━━━━━━━━━━\u001b[0m\u001b[37m\u001b[0m \u001b[1m0s\u001b[0m 7ms/step - accuracy: 0.8421 - loss: 0.6743 - val_accuracy: 0.8590 - val_loss: 0.4787\n",
      "Epoch 36/50\n",
      "\u001b[1m10/10\u001b[0m \u001b[32m━━━━━━━━━━━━━━━━━━━━\u001b[0m\u001b[37m\u001b[0m \u001b[1m0s\u001b[0m 6ms/step - accuracy: 0.8588 - loss: 0.4403 - val_accuracy: 0.7692 - val_loss: 0.5790\n",
      "Epoch 37/50\n",
      "\u001b[1m10/10\u001b[0m \u001b[32m━━━━━━━━━━━━━━━━━━━━\u001b[0m\u001b[37m\u001b[0m \u001b[1m0s\u001b[0m 6ms/step - accuracy: 0.8050 - loss: 0.5693 - val_accuracy: 0.8590 - val_loss: 0.8095\n",
      "Epoch 38/50\n",
      "\u001b[1m10/10\u001b[0m \u001b[32m━━━━━━━━━━━━━━━━━━━━\u001b[0m\u001b[37m\u001b[0m \u001b[1m0s\u001b[0m 6ms/step - accuracy: 0.8201 - loss: 0.7036 - val_accuracy: 0.8333 - val_loss: 0.4734\n",
      "Epoch 39/50\n",
      "\u001b[1m10/10\u001b[0m \u001b[32m━━━━━━━━━━━━━━━━━━━━\u001b[0m\u001b[37m\u001b[0m \u001b[1m0s\u001b[0m 6ms/step - accuracy: 0.7541 - loss: 0.7828 - val_accuracy: 0.8590 - val_loss: 1.4445\n",
      "Epoch 40/50\n",
      "\u001b[1m10/10\u001b[0m \u001b[32m━━━━━━━━━━━━━━━━━━━━\u001b[0m\u001b[37m\u001b[0m \u001b[1m0s\u001b[0m 6ms/step - accuracy: 0.7874 - loss: 1.5611 - val_accuracy: 0.8590 - val_loss: 1.0066\n",
      "Epoch 41/50\n",
      "\u001b[1m10/10\u001b[0m \u001b[32m━━━━━━━━━━━━━━━━━━━━\u001b[0m\u001b[37m\u001b[0m \u001b[1m0s\u001b[0m 6ms/step - accuracy: 0.8120 - loss: 0.7028 - val_accuracy: 0.8590 - val_loss: 0.6220\n",
      "Epoch 42/50\n",
      "\u001b[1m10/10\u001b[0m \u001b[32m━━━━━━━━━━━━━━━━━━━━\u001b[0m\u001b[37m\u001b[0m \u001b[1m0s\u001b[0m 6ms/step - accuracy: 0.8488 - loss: 0.6448 - val_accuracy: 0.8590 - val_loss: 0.4634\n",
      "Epoch 43/50\n",
      "\u001b[1m10/10\u001b[0m \u001b[32m━━━━━━━━━━━━━━━━━━━━\u001b[0m\u001b[37m\u001b[0m \u001b[1m0s\u001b[0m 6ms/step - accuracy: 0.8327 - loss: 0.5039 - val_accuracy: 0.8590 - val_loss: 0.5655\n",
      "Epoch 44/50\n",
      "\u001b[1m10/10\u001b[0m \u001b[32m━━━━━━━━━━━━━━━━━━━━\u001b[0m\u001b[37m\u001b[0m \u001b[1m0s\u001b[0m 6ms/step - accuracy: 0.8227 - loss: 0.5735 - val_accuracy: 0.8590 - val_loss: 1.1840\n",
      "Epoch 45/50\n",
      "\u001b[1m10/10\u001b[0m \u001b[32m━━━━━━━━━━━━━━━━━━━━\u001b[0m\u001b[37m\u001b[0m \u001b[1m0s\u001b[0m 7ms/step - accuracy: 0.8555 - loss: 0.8167 - val_accuracy: 0.5256 - val_loss: 0.7610\n",
      "Epoch 46/50\n",
      "\u001b[1m10/10\u001b[0m \u001b[32m━━━━━━━━━━━━━━━━━━━━\u001b[0m\u001b[37m\u001b[0m \u001b[1m0s\u001b[0m 7ms/step - accuracy: 0.7630 - loss: 0.5739 - val_accuracy: 0.8590 - val_loss: 0.5309\n",
      "Epoch 47/50\n",
      "\u001b[1m10/10\u001b[0m \u001b[32m━━━━━━━━━━━━━━━━━━━━\u001b[0m\u001b[37m\u001b[0m \u001b[1m0s\u001b[0m 8ms/step - accuracy: 0.7747 - loss: 0.7792 - val_accuracy: 0.1667 - val_loss: 3.1648\n",
      "Epoch 48/50\n",
      "\u001b[1m10/10\u001b[0m \u001b[32m━━━━━━━━━━━━━━━━━━━━\u001b[0m\u001b[37m\u001b[0m \u001b[1m0s\u001b[0m 8ms/step - accuracy: 0.6345 - loss: 1.7960 - val_accuracy: 0.8590 - val_loss: 0.8376\n",
      "Epoch 49/50\n",
      "\u001b[1m10/10\u001b[0m \u001b[32m━━━━━━━━━━━━━━━━━━━━\u001b[0m\u001b[37m\u001b[0m \u001b[1m0s\u001b[0m 7ms/step - accuracy: 0.8356 - loss: 0.8849 - val_accuracy: 0.8590 - val_loss: 0.7608\n",
      "Epoch 50/50\n",
      "\u001b[1m10/10\u001b[0m \u001b[32m━━━━━━━━━━━━━━━━━━━━\u001b[0m\u001b[37m\u001b[0m \u001b[1m0s\u001b[0m 6ms/step - accuracy: 0.8078 - loss: 0.9683 - val_accuracy: 0.1410 - val_loss: 4.1406\n"
=======
      "Epoch 1/50\n",
      "\u001b[1m13/13\u001b[0m \u001b[32m━━━━━━━━━━━━━━━━━━━━\u001b[0m\u001b[37m\u001b[0m \u001b[1m2s\u001b[0m 20ms/step - accuracy: 0.3674 - loss: 73.3908 - val_accuracy: 0.8738 - val_loss: 20.7635\n",
      "Epoch 2/50\n",
      "\u001b[1m13/13\u001b[0m \u001b[32m━━━━━━━━━━━━━━━━━━━━\u001b[0m\u001b[37m\u001b[0m \u001b[1m0s\u001b[0m 8ms/step - accuracy: 0.8789 - loss: 20.1096 - val_accuracy: 0.8738 - val_loss: 16.6998\n",
      "Epoch 3/50\n",
      "\u001b[1m13/13\u001b[0m \u001b[32m━━━━━━━━━━━━━━━━━━━━\u001b[0m\u001b[37m\u001b[0m \u001b[1m0s\u001b[0m 8ms/step - accuracy: 0.8631 - loss: 14.1869 - val_accuracy: 0.8738 - val_loss: 0.7962\n",
      "Epoch 4/50\n",
      "\u001b[1m13/13\u001b[0m \u001b[32m━━━━━━━━━━━━━━━━━━━━\u001b[0m\u001b[37m\u001b[0m \u001b[1m0s\u001b[0m 7ms/step - accuracy: 0.5957 - loss: 2.3886 - val_accuracy: 0.8738 - val_loss: 2.1081\n",
      "Epoch 5/50\n",
      "\u001b[1m13/13\u001b[0m \u001b[32m━━━━━━━━━━━━━━━━━━━━\u001b[0m\u001b[37m\u001b[0m \u001b[1m0s\u001b[0m 8ms/step - accuracy: 0.7360 - loss: 1.9124 - val_accuracy: 0.8738 - val_loss: 1.4391\n",
      "Epoch 6/50\n",
      "\u001b[1m13/13\u001b[0m \u001b[32m━━━━━━━━━━━━━━━━━━━━\u001b[0m\u001b[37m\u001b[0m \u001b[1m0s\u001b[0m 8ms/step - accuracy: 0.7400 - loss: 1.1742 - val_accuracy: 0.7767 - val_loss: 0.5210\n",
      "Epoch 7/50\n",
      "\u001b[1m13/13\u001b[0m \u001b[32m━━━━━━━━━━━━━━━━━━━━\u001b[0m\u001b[37m\u001b[0m \u001b[1m0s\u001b[0m 8ms/step - accuracy: 0.8381 - loss: 0.5325 - val_accuracy: 0.8738 - val_loss: 0.4212\n",
      "Epoch 8/50\n",
      "\u001b[1m13/13\u001b[0m \u001b[32m━━━━━━━━━━━━━━━━━━━━\u001b[0m\u001b[37m\u001b[0m \u001b[1m0s\u001b[0m 7ms/step - accuracy: 0.8499 - loss: 0.4490 - val_accuracy: 0.8447 - val_loss: 0.4673\n",
      "Epoch 9/50\n",
      "\u001b[1m13/13\u001b[0m \u001b[32m━━━━━━━━━━━━━━━━━━━━\u001b[0m\u001b[37m\u001b[0m \u001b[1m0s\u001b[0m 9ms/step - accuracy: 0.8491 - loss: 0.4975 - val_accuracy: 0.8738 - val_loss: 0.6008\n",
      "Epoch 10/50\n",
      "\u001b[1m13/13\u001b[0m \u001b[32m━━━━━━━━━━━━━━━━━━━━\u001b[0m\u001b[37m\u001b[0m \u001b[1m0s\u001b[0m 9ms/step - accuracy: 0.8542 - loss: 0.5230 - val_accuracy: 0.8738 - val_loss: 0.9594\n",
      "Epoch 11/50\n",
      "\u001b[1m13/13\u001b[0m \u001b[32m━━━━━━━━━━━━━━━━━━━━\u001b[0m\u001b[37m\u001b[0m \u001b[1m0s\u001b[0m 9ms/step - accuracy: 0.8162 - loss: 0.8649 - val_accuracy: 0.8738 - val_loss: 1.2078\n",
      "Epoch 12/50\n",
      "\u001b[1m13/13\u001b[0m \u001b[32m━━━━━━━━━━━━━━━━━━━━\u001b[0m\u001b[37m\u001b[0m \u001b[1m0s\u001b[0m 9ms/step - accuracy: 0.7566 - loss: 0.9784 - val_accuracy: 0.8738 - val_loss: 0.7201\n",
      "Epoch 13/50\n",
      "\u001b[1m13/13\u001b[0m \u001b[32m━━━━━━━━━━━━━━━━━━━━\u001b[0m\u001b[37m\u001b[0m \u001b[1m0s\u001b[0m 8ms/step - accuracy: 0.8221 - loss: 0.6751 - val_accuracy: 0.8350 - val_loss: 0.4479\n",
      "Epoch 14/50\n",
      "\u001b[1m13/13\u001b[0m \u001b[32m━━━━━━━━━━━━━━━━━━━━\u001b[0m\u001b[37m\u001b[0m \u001b[1m0s\u001b[0m 8ms/step - accuracy: 0.8038 - loss: 0.5597 - val_accuracy: 0.8738 - val_loss: 0.6513\n",
      "Epoch 15/50\n",
      "\u001b[1m13/13\u001b[0m \u001b[32m━━━━━━━━━━━━━━━━━━━━\u001b[0m\u001b[37m\u001b[0m \u001b[1m0s\u001b[0m 8ms/step - accuracy: 0.7810 - loss: 0.7869 - val_accuracy: 0.8738 - val_loss: 1.3419\n",
      "Epoch 16/50\n",
      "\u001b[1m13/13\u001b[0m \u001b[32m━━━━━━━━━━━━━━━━━━━━\u001b[0m\u001b[37m\u001b[0m \u001b[1m0s\u001b[0m 10ms/step - accuracy: 0.7642 - loss: 1.0913 - val_accuracy: 0.8738 - val_loss: 1.2151\n",
      "Epoch 17/50\n",
      "\u001b[1m13/13\u001b[0m \u001b[32m━━━━━━━━━━━━━━━━━━━━\u001b[0m\u001b[37m\u001b[0m \u001b[1m0s\u001b[0m 8ms/step - accuracy: 0.8282 - loss: 0.8195 - val_accuracy: 0.8738 - val_loss: 0.5712\n",
      "Epoch 18/50\n",
      "\u001b[1m13/13\u001b[0m \u001b[32m━━━━━━━━━━━━━━━━━━━━\u001b[0m\u001b[37m\u001b[0m \u001b[1m0s\u001b[0m 8ms/step - accuracy: 0.8328 - loss: 0.5268 - val_accuracy: 0.8738 - val_loss: 0.6930\n",
      "Epoch 19/50\n",
      "\u001b[1m13/13\u001b[0m \u001b[32m━━━━━━━━━━━━━━━━━━━━\u001b[0m\u001b[37m\u001b[0m \u001b[1m0s\u001b[0m 11ms/step - accuracy: 0.7760 - loss: 0.8433 - val_accuracy: 0.8738 - val_loss: 0.7295\n",
      "Epoch 20/50\n",
      "\u001b[1m13/13\u001b[0m \u001b[32m━━━━━━━━━━━━━━━━━━━━\u001b[0m\u001b[37m\u001b[0m \u001b[1m0s\u001b[0m 11ms/step - accuracy: 0.7986 - loss: 0.8298 - val_accuracy: 0.8738 - val_loss: 0.9530\n",
      "Epoch 21/50\n",
      "\u001b[1m13/13\u001b[0m \u001b[32m━━━━━━━━━━━━━━━━━━━━\u001b[0m\u001b[37m\u001b[0m \u001b[1m0s\u001b[0m 10ms/step - accuracy: 0.8164 - loss: 1.0179 - val_accuracy: 0.5049 - val_loss: 0.7874\n",
      "Epoch 22/50\n",
      "\u001b[1m13/13\u001b[0m \u001b[32m━━━━━━━━━━━━━━━━━━━━\u001b[0m\u001b[37m\u001b[0m \u001b[1m0s\u001b[0m 9ms/step - accuracy: 0.7916 - loss: 0.5789 - val_accuracy: 0.8738 - val_loss: 0.4437\n",
      "Epoch 23/50\n",
      "\u001b[1m13/13\u001b[0m \u001b[32m━━━━━━━━━━━━━━━━━━━━\u001b[0m\u001b[37m\u001b[0m \u001b[1m0s\u001b[0m 10ms/step - accuracy: 0.8653 - loss: 0.5637 - val_accuracy: 0.8738 - val_loss: 0.4370\n",
      "Epoch 24/50\n",
      "\u001b[1m13/13\u001b[0m \u001b[32m━━━━━━━━━━━━━━━━━━━━\u001b[0m\u001b[37m\u001b[0m \u001b[1m0s\u001b[0m 9ms/step - accuracy: 0.8591 - loss: 0.4404 - val_accuracy: 0.8641 - val_loss: 0.4154\n",
      "Epoch 25/50\n",
      "\u001b[1m13/13\u001b[0m \u001b[32m━━━━━━━━━━━━━━━━━━━━\u001b[0m\u001b[37m\u001b[0m \u001b[1m0s\u001b[0m 9ms/step - accuracy: 0.8337 - loss: 0.4591 - val_accuracy: 0.8447 - val_loss: 0.4297\n",
      "Epoch 26/50\n",
      "\u001b[1m13/13\u001b[0m \u001b[32m━━━━━━━━━━━━━━━━━━━━\u001b[0m\u001b[37m\u001b[0m \u001b[1m0s\u001b[0m 9ms/step - accuracy: 0.8287 - loss: 0.5136 - val_accuracy: 0.8738 - val_loss: 0.4703\n",
      "Epoch 27/50\n",
      "\u001b[1m13/13\u001b[0m \u001b[32m━━━━━━━━━━━━━━━━━━━━\u001b[0m\u001b[37m\u001b[0m \u001b[1m0s\u001b[0m 13ms/step - accuracy: 0.8402 - loss: 0.5913 - val_accuracy: 0.8738 - val_loss: 0.5382\n",
      "Epoch 28/50\n",
      "\u001b[1m13/13\u001b[0m \u001b[32m━━━━━━━━━━━━━━━━━━━━\u001b[0m\u001b[37m\u001b[0m \u001b[1m0s\u001b[0m 10ms/step - accuracy: 0.8543 - loss: 0.7083 - val_accuracy: 0.8738 - val_loss: 0.6552\n",
      "Epoch 29/50\n",
      "\u001b[1m13/13\u001b[0m \u001b[32m━━━━━━━━━━━━━━━━━━━━\u001b[0m\u001b[37m\u001b[0m \u001b[1m0s\u001b[0m 8ms/step - accuracy: 0.7944 - loss: 0.8109 - val_accuracy: 0.8738 - val_loss: 1.2026\n",
      "Epoch 30/50\n",
      "\u001b[1m13/13\u001b[0m \u001b[32m━━━━━━━━━━━━━━━━━━━━\u001b[0m\u001b[37m\u001b[0m \u001b[1m0s\u001b[0m 10ms/step - accuracy: 0.7779 - loss: 0.9899 - val_accuracy: 0.8738 - val_loss: 0.4385\n",
      "Epoch 31/50\n",
      "\u001b[1m13/13\u001b[0m \u001b[32m━━━━━━━━━━━━━━━━━━━━\u001b[0m\u001b[37m\u001b[0m \u001b[1m0s\u001b[0m 9ms/step - accuracy: 0.7900 - loss: 0.5947 - val_accuracy: 0.8738 - val_loss: 0.4076\n",
      "Epoch 32/50\n",
      "\u001b[1m13/13\u001b[0m \u001b[32m━━━━━━━━━━━━━━━━━━━━\u001b[0m\u001b[37m\u001b[0m \u001b[1m0s\u001b[0m 9ms/step - accuracy: 0.8594 - loss: 0.4445 - val_accuracy: 0.8738 - val_loss: 0.4443\n",
      "Epoch 33/50\n",
      "\u001b[1m13/13\u001b[0m \u001b[32m━━━━━━━━━━━━━━━━━━━━\u001b[0m\u001b[37m\u001b[0m \u001b[1m0s\u001b[0m 9ms/step - accuracy: 0.8432 - loss: 0.4632 - val_accuracy: 0.8738 - val_loss: 0.4074\n",
      "Epoch 34/50\n",
      "\u001b[1m13/13\u001b[0m \u001b[32m━━━━━━━━━━━━━━━━━━━━\u001b[0m\u001b[37m\u001b[0m \u001b[1m0s\u001b[0m 10ms/step - accuracy: 0.8307 - loss: 0.5404 - val_accuracy: 0.8738 - val_loss: 0.6282\n",
      "Epoch 35/50\n",
      "\u001b[1m13/13\u001b[0m \u001b[32m━━━━━━━━━━━━━━━━━━━━\u001b[0m\u001b[37m\u001b[0m \u001b[1m0s\u001b[0m 8ms/step - accuracy: 0.7463 - loss: 0.9141 - val_accuracy: 0.8738 - val_loss: 1.4972\n",
      "Epoch 36/50\n",
      "\u001b[1m13/13\u001b[0m \u001b[32m━━━━━━━━━━━━━━━━━━━━\u001b[0m\u001b[37m\u001b[0m \u001b[1m0s\u001b[0m 17ms/step - accuracy: 0.8449 - loss: 1.0694 - val_accuracy: 0.2913 - val_loss: 1.1597\n",
      "Epoch 37/50\n",
      "\u001b[1m13/13\u001b[0m \u001b[32m━━━━━━━━━━━━━━━━━━━━\u001b[0m\u001b[37m\u001b[0m \u001b[1m0s\u001b[0m 8ms/step - accuracy: 0.7058 - loss: 1.6038 - val_accuracy: 0.8738 - val_loss: 1.4996\n",
      "Epoch 38/50\n",
      "\u001b[1m13/13\u001b[0m \u001b[32m━━━━━━━━━━━━━━━━━━━━\u001b[0m\u001b[37m\u001b[0m \u001b[1m0s\u001b[0m 8ms/step - accuracy: 0.8195 - loss: 1.2696 - val_accuracy: 0.1845 - val_loss: 1.4892\n",
      "Epoch 39/50\n",
      "\u001b[1m13/13\u001b[0m \u001b[32m━━━━━━━━━━━━━━━━━━━━\u001b[0m\u001b[37m\u001b[0m \u001b[1m0s\u001b[0m 10ms/step - accuracy: 0.7222 - loss: 0.8292 - val_accuracy: 0.4369 - val_loss: 0.9155\n",
      "Epoch 40/50\n",
      "\u001b[1m13/13\u001b[0m \u001b[32m━━━━━━━━━━━━━━━━━━━━\u001b[0m\u001b[37m\u001b[0m \u001b[1m0s\u001b[0m 9ms/step - accuracy: 0.7725 - loss: 0.6361 - val_accuracy: 0.6699 - val_loss: 0.6062\n",
      "Epoch 41/50\n",
      "\u001b[1m13/13\u001b[0m \u001b[32m━━━━━━━━━━━━━━━━━━━━\u001b[0m\u001b[37m\u001b[0m \u001b[1m0s\u001b[0m 10ms/step - accuracy: 0.7710 - loss: 0.6967 - val_accuracy: 0.8738 - val_loss: 1.3287\n",
      "Epoch 42/50\n",
      "\u001b[1m13/13\u001b[0m \u001b[32m━━━━━━━━━━━━━━━━━━━━\u001b[0m\u001b[37m\u001b[0m \u001b[1m0s\u001b[0m 9ms/step - accuracy: 0.7380 - loss: 1.0054 - val_accuracy: 0.8738 - val_loss: 0.9876\n",
      "Epoch 43/50\n",
      "\u001b[1m13/13\u001b[0m \u001b[32m━━━━━━━━━━━━━━━━━━━━\u001b[0m\u001b[37m\u001b[0m \u001b[1m0s\u001b[0m 8ms/step - accuracy: 0.8339 - loss: 0.6160 - val_accuracy: 0.8738 - val_loss: 0.5761\n",
      "Epoch 44/50\n",
      "\u001b[1m13/13\u001b[0m \u001b[32m━━━━━━━━━━━━━━━━━━━━\u001b[0m\u001b[37m\u001b[0m \u001b[1m0s\u001b[0m 9ms/step - accuracy: 0.8316 - loss: 0.5828 - val_accuracy: 0.8641 - val_loss: 0.4248\n",
      "Epoch 45/50\n",
      "\u001b[1m13/13\u001b[0m \u001b[32m━━━━━━━━━━━━━━━━━━━━\u001b[0m\u001b[37m\u001b[0m \u001b[1m0s\u001b[0m 10ms/step - accuracy: 0.7985 - loss: 0.5496 - val_accuracy: 0.8155 - val_loss: 0.5028\n",
      "Epoch 46/50\n",
      "\u001b[1m13/13\u001b[0m \u001b[32m━━━━━━━━━━━━━━━━━━━━\u001b[0m\u001b[37m\u001b[0m \u001b[1m0s\u001b[0m 11ms/step - accuracy: 0.8245 - loss: 0.5045 - val_accuracy: 0.8155 - val_loss: 0.5102\n",
      "Epoch 47/50\n",
      "\u001b[1m13/13\u001b[0m \u001b[32m━━━━━━━━━━━━━━━━━━━━\u001b[0m\u001b[37m\u001b[0m \u001b[1m0s\u001b[0m 9ms/step - accuracy: 0.8175 - loss: 0.5371 - val_accuracy: 0.8738 - val_loss: 1.1401\n",
      "Epoch 48/50\n",
      "\u001b[1m13/13\u001b[0m \u001b[32m━━━━━━━━━━━━━━━━━━━━\u001b[0m\u001b[37m\u001b[0m \u001b[1m0s\u001b[0m 9ms/step - accuracy: 0.8341 - loss: 1.1327 - val_accuracy: 0.3883 - val_loss: 1.0264\n",
      "Epoch 49/50\n",
      "\u001b[1m13/13\u001b[0m \u001b[32m━━━━━━━━━━━━━━━━━━━━\u001b[0m\u001b[37m\u001b[0m \u001b[1m0s\u001b[0m 8ms/step - accuracy: 0.6927 - loss: 0.7619 - val_accuracy: 0.4369 - val_loss: 0.8874\n",
      "Epoch 50/50\n",
      "\u001b[1m13/13\u001b[0m \u001b[32m━━━━━━━━━━━━━━━━━━━━\u001b[0m\u001b[37m\u001b[0m \u001b[1m0s\u001b[0m 10ms/step - accuracy: 0.7533 - loss: 0.7529 - val_accuracy: 0.8738 - val_loss: 0.5008\n"
>>>>>>> Stashed changes
     ]
    }
   ],
   "source": [
    "fastball_model = train_model(X, y)"
   ]
  },
  {
   "cell_type": "code",
<<<<<<< Updated upstream
   "execution_count": 84,
=======
   "execution_count": 35,
>>>>>>> Stashed changes
   "metadata": {},
   "outputs": [
    {
     "data": {
      "text/html": [
<<<<<<< Updated upstream
       "<style>#sk-container-id-11 {\n",
       "  /* Definition of color scheme common for light and dark mode */\n",
       "  --sklearn-color-text: black;\n",
=======
       "<style>#sk-container-id-3 {\n",
       "  /* Definition of color scheme common for light and dark mode */\n",
       "  --sklearn-color-text: #000;\n",
       "  --sklearn-color-text-muted: #666;\n",
>>>>>>> Stashed changes
       "  --sklearn-color-line: gray;\n",
       "  /* Definition of color scheme for unfitted estimators */\n",
       "  --sklearn-color-unfitted-level-0: #fff5e6;\n",
       "  --sklearn-color-unfitted-level-1: #f6e4d2;\n",
       "  --sklearn-color-unfitted-level-2: #ffe0b3;\n",
       "  --sklearn-color-unfitted-level-3: chocolate;\n",
       "  /* Definition of color scheme for fitted estimators */\n",
       "  --sklearn-color-fitted-level-0: #f0f8ff;\n",
       "  --sklearn-color-fitted-level-1: #d4ebff;\n",
       "  --sklearn-color-fitted-level-2: #b3dbfd;\n",
       "  --sklearn-color-fitted-level-3: cornflowerblue;\n",
       "\n",
       "  /* Specific color for light theme */\n",
       "  --sklearn-color-text-on-default-background: var(--sg-text-color, var(--theme-code-foreground, var(--jp-content-font-color1, black)));\n",
       "  --sklearn-color-background: var(--sg-background-color, var(--theme-background, var(--jp-layout-color0, white)));\n",
       "  --sklearn-color-border-box: var(--sg-text-color, var(--theme-code-foreground, var(--jp-content-font-color1, black)));\n",
       "  --sklearn-color-icon: #696969;\n",
       "\n",
       "  @media (prefers-color-scheme: dark) {\n",
       "    /* Redefinition of color scheme for dark theme */\n",
       "    --sklearn-color-text-on-default-background: var(--sg-text-color, var(--theme-code-foreground, var(--jp-content-font-color1, white)));\n",
       "    --sklearn-color-background: var(--sg-background-color, var(--theme-background, var(--jp-layout-color0, #111)));\n",
       "    --sklearn-color-border-box: var(--sg-text-color, var(--theme-code-foreground, var(--jp-content-font-color1, white)));\n",
       "    --sklearn-color-icon: #878787;\n",
       "  }\n",
       "}\n",
       "\n",
<<<<<<< Updated upstream
       "#sk-container-id-11 {\n",
       "  color: var(--sklearn-color-text);\n",
       "}\n",
       "\n",
       "#sk-container-id-11 pre {\n",
       "  padding: 0;\n",
       "}\n",
       "\n",
       "#sk-container-id-11 input.sk-hidden--visually {\n",
=======
       "#sk-container-id-3 {\n",
       "  color: var(--sklearn-color-text);\n",
       "}\n",
       "\n",
       "#sk-container-id-3 pre {\n",
       "  padding: 0;\n",
       "}\n",
       "\n",
       "#sk-container-id-3 input.sk-hidden--visually {\n",
>>>>>>> Stashed changes
       "  border: 0;\n",
       "  clip: rect(1px 1px 1px 1px);\n",
       "  clip: rect(1px, 1px, 1px, 1px);\n",
       "  height: 1px;\n",
       "  margin: -1px;\n",
       "  overflow: hidden;\n",
       "  padding: 0;\n",
       "  position: absolute;\n",
       "  width: 1px;\n",
       "}\n",
       "\n",
<<<<<<< Updated upstream
       "#sk-container-id-11 div.sk-dashed-wrapped {\n",
=======
       "#sk-container-id-3 div.sk-dashed-wrapped {\n",
>>>>>>> Stashed changes
       "  border: 1px dashed var(--sklearn-color-line);\n",
       "  margin: 0 0.4em 0.5em 0.4em;\n",
       "  box-sizing: border-box;\n",
       "  padding-bottom: 0.4em;\n",
       "  background-color: var(--sklearn-color-background);\n",
       "}\n",
       "\n",
<<<<<<< Updated upstream
       "#sk-container-id-11 div.sk-container {\n",
=======
       "#sk-container-id-3 div.sk-container {\n",
>>>>>>> Stashed changes
       "  /* jupyter's `normalize.less` sets `[hidden] { display: none; }`\n",
       "     but bootstrap.min.css set `[hidden] { display: none !important; }`\n",
       "     so we also need the `!important` here to be able to override the\n",
       "     default hidden behavior on the sphinx rendered scikit-learn.org.\n",
       "     See: https://github.com/scikit-learn/scikit-learn/issues/21755 */\n",
       "  display: inline-block !important;\n",
       "  position: relative;\n",
       "}\n",
       "\n",
<<<<<<< Updated upstream
       "#sk-container-id-11 div.sk-text-repr-fallback {\n",
=======
       "#sk-container-id-3 div.sk-text-repr-fallback {\n",
>>>>>>> Stashed changes
       "  display: none;\n",
       "}\n",
       "\n",
       "div.sk-parallel-item,\n",
       "div.sk-serial,\n",
       "div.sk-item {\n",
       "  /* draw centered vertical line to link estimators */\n",
       "  background-image: linear-gradient(var(--sklearn-color-text-on-default-background), var(--sklearn-color-text-on-default-background));\n",
       "  background-size: 2px 100%;\n",
       "  background-repeat: no-repeat;\n",
       "  background-position: center center;\n",
       "}\n",
       "\n",
       "/* Parallel-specific style estimator block */\n",
       "\n",
<<<<<<< Updated upstream
       "#sk-container-id-11 div.sk-parallel-item::after {\n",
=======
       "#sk-container-id-3 div.sk-parallel-item::after {\n",
>>>>>>> Stashed changes
       "  content: \"\";\n",
       "  width: 100%;\n",
       "  border-bottom: 2px solid var(--sklearn-color-text-on-default-background);\n",
       "  flex-grow: 1;\n",
       "}\n",
       "\n",
<<<<<<< Updated upstream
       "#sk-container-id-11 div.sk-parallel {\n",
=======
       "#sk-container-id-3 div.sk-parallel {\n",
>>>>>>> Stashed changes
       "  display: flex;\n",
       "  align-items: stretch;\n",
       "  justify-content: center;\n",
       "  background-color: var(--sklearn-color-background);\n",
       "  position: relative;\n",
       "}\n",
       "\n",
<<<<<<< Updated upstream
       "#sk-container-id-11 div.sk-parallel-item {\n",
=======
       "#sk-container-id-3 div.sk-parallel-item {\n",
>>>>>>> Stashed changes
       "  display: flex;\n",
       "  flex-direction: column;\n",
       "}\n",
       "\n",
<<<<<<< Updated upstream
       "#sk-container-id-11 div.sk-parallel-item:first-child::after {\n",
=======
       "#sk-container-id-3 div.sk-parallel-item:first-child::after {\n",
>>>>>>> Stashed changes
       "  align-self: flex-end;\n",
       "  width: 50%;\n",
       "}\n",
       "\n",
<<<<<<< Updated upstream
       "#sk-container-id-11 div.sk-parallel-item:last-child::after {\n",
=======
       "#sk-container-id-3 div.sk-parallel-item:last-child::after {\n",
>>>>>>> Stashed changes
       "  align-self: flex-start;\n",
       "  width: 50%;\n",
       "}\n",
       "\n",
<<<<<<< Updated upstream
       "#sk-container-id-11 div.sk-parallel-item:only-child::after {\n",
=======
       "#sk-container-id-3 div.sk-parallel-item:only-child::after {\n",
>>>>>>> Stashed changes
       "  width: 0;\n",
       "}\n",
       "\n",
       "/* Serial-specific style estimator block */\n",
       "\n",
<<<<<<< Updated upstream
       "#sk-container-id-11 div.sk-serial {\n",
=======
       "#sk-container-id-3 div.sk-serial {\n",
>>>>>>> Stashed changes
       "  display: flex;\n",
       "  flex-direction: column;\n",
       "  align-items: center;\n",
       "  background-color: var(--sklearn-color-background);\n",
       "  padding-right: 1em;\n",
       "  padding-left: 1em;\n",
       "}\n",
       "\n",
       "\n",
       "/* Toggleable style: style used for estimator/Pipeline/ColumnTransformer box that is\n",
       "clickable and can be expanded/collapsed.\n",
       "- Pipeline and ColumnTransformer use this feature and define the default style\n",
       "- Estimators will overwrite some part of the style using the `sk-estimator` class\n",
       "*/\n",
       "\n",
       "/* Pipeline and ColumnTransformer style (default) */\n",
       "\n",
<<<<<<< Updated upstream
       "#sk-container-id-11 div.sk-toggleable {\n",
=======
       "#sk-container-id-3 div.sk-toggleable {\n",
>>>>>>> Stashed changes
       "  /* Default theme specific background. It is overwritten whether we have a\n",
       "  specific estimator or a Pipeline/ColumnTransformer */\n",
       "  background-color: var(--sklearn-color-background);\n",
       "}\n",
       "\n",
       "/* Toggleable label */\n",
<<<<<<< Updated upstream
       "#sk-container-id-11 label.sk-toggleable__label {\n",
       "  cursor: pointer;\n",
       "  display: block;\n",
=======
       "#sk-container-id-3 label.sk-toggleable__label {\n",
       "  cursor: pointer;\n",
       "  display: flex;\n",
>>>>>>> Stashed changes
       "  width: 100%;\n",
       "  margin-bottom: 0;\n",
       "  padding: 0.5em;\n",
       "  box-sizing: border-box;\n",
       "  text-align: center;\n",
<<<<<<< Updated upstream
       "}\n",
       "\n",
       "#sk-container-id-11 label.sk-toggleable__label-arrow:before {\n",
=======
       "  align-items: start;\n",
       "  justify-content: space-between;\n",
       "  gap: 0.5em;\n",
       "}\n",
       "\n",
       "#sk-container-id-3 label.sk-toggleable__label .caption {\n",
       "  font-size: 0.6rem;\n",
       "  font-weight: lighter;\n",
       "  color: var(--sklearn-color-text-muted);\n",
       "}\n",
       "\n",
       "#sk-container-id-3 label.sk-toggleable__label-arrow:before {\n",
>>>>>>> Stashed changes
       "  /* Arrow on the left of the label */\n",
       "  content: \"▸\";\n",
       "  float: left;\n",
       "  margin-right: 0.25em;\n",
       "  color: var(--sklearn-color-icon);\n",
       "}\n",
       "\n",
<<<<<<< Updated upstream
       "#sk-container-id-11 label.sk-toggleable__label-arrow:hover:before {\n",
=======
       "#sk-container-id-3 label.sk-toggleable__label-arrow:hover:before {\n",
>>>>>>> Stashed changes
       "  color: var(--sklearn-color-text);\n",
       "}\n",
       "\n",
       "/* Toggleable content - dropdown */\n",
       "\n",
<<<<<<< Updated upstream
       "#sk-container-id-11 div.sk-toggleable__content {\n",
=======
       "#sk-container-id-3 div.sk-toggleable__content {\n",
>>>>>>> Stashed changes
       "  max-height: 0;\n",
       "  max-width: 0;\n",
       "  overflow: hidden;\n",
       "  text-align: left;\n",
       "  /* unfitted */\n",
       "  background-color: var(--sklearn-color-unfitted-level-0);\n",
       "}\n",
       "\n",
<<<<<<< Updated upstream
       "#sk-container-id-11 div.sk-toggleable__content.fitted {\n",
=======
       "#sk-container-id-3 div.sk-toggleable__content.fitted {\n",
>>>>>>> Stashed changes
       "  /* fitted */\n",
       "  background-color: var(--sklearn-color-fitted-level-0);\n",
       "}\n",
       "\n",
<<<<<<< Updated upstream
       "#sk-container-id-11 div.sk-toggleable__content pre {\n",
=======
       "#sk-container-id-3 div.sk-toggleable__content pre {\n",
>>>>>>> Stashed changes
       "  margin: 0.2em;\n",
       "  border-radius: 0.25em;\n",
       "  color: var(--sklearn-color-text);\n",
       "  /* unfitted */\n",
       "  background-color: var(--sklearn-color-unfitted-level-0);\n",
       "}\n",
       "\n",
<<<<<<< Updated upstream
       "#sk-container-id-11 div.sk-toggleable__content.fitted pre {\n",
=======
       "#sk-container-id-3 div.sk-toggleable__content.fitted pre {\n",
>>>>>>> Stashed changes
       "  /* unfitted */\n",
       "  background-color: var(--sklearn-color-fitted-level-0);\n",
       "}\n",
       "\n",
<<<<<<< Updated upstream
       "#sk-container-id-11 input.sk-toggleable__control:checked~div.sk-toggleable__content {\n",
=======
       "#sk-container-id-3 input.sk-toggleable__control:checked~div.sk-toggleable__content {\n",
>>>>>>> Stashed changes
       "  /* Expand drop-down */\n",
       "  max-height: 200px;\n",
       "  max-width: 100%;\n",
       "  overflow: auto;\n",
       "}\n",
       "\n",
<<<<<<< Updated upstream
       "#sk-container-id-11 input.sk-toggleable__control:checked~label.sk-toggleable__label-arrow:before {\n",
=======
       "#sk-container-id-3 input.sk-toggleable__control:checked~label.sk-toggleable__label-arrow:before {\n",
>>>>>>> Stashed changes
       "  content: \"▾\";\n",
       "}\n",
       "\n",
       "/* Pipeline/ColumnTransformer-specific style */\n",
       "\n",
<<<<<<< Updated upstream
       "#sk-container-id-11 div.sk-label input.sk-toggleable__control:checked~label.sk-toggleable__label {\n",
=======
       "#sk-container-id-3 div.sk-label input.sk-toggleable__control:checked~label.sk-toggleable__label {\n",
>>>>>>> Stashed changes
       "  color: var(--sklearn-color-text);\n",
       "  background-color: var(--sklearn-color-unfitted-level-2);\n",
       "}\n",
       "\n",
<<<<<<< Updated upstream
       "#sk-container-id-11 div.sk-label.fitted input.sk-toggleable__control:checked~label.sk-toggleable__label {\n",
=======
       "#sk-container-id-3 div.sk-label.fitted input.sk-toggleable__control:checked~label.sk-toggleable__label {\n",
>>>>>>> Stashed changes
       "  background-color: var(--sklearn-color-fitted-level-2);\n",
       "}\n",
       "\n",
       "/* Estimator-specific style */\n",
       "\n",
       "/* Colorize estimator box */\n",
<<<<<<< Updated upstream
       "#sk-container-id-11 div.sk-estimator input.sk-toggleable__control:checked~label.sk-toggleable__label {\n",
=======
       "#sk-container-id-3 div.sk-estimator input.sk-toggleable__control:checked~label.sk-toggleable__label {\n",
>>>>>>> Stashed changes
       "  /* unfitted */\n",
       "  background-color: var(--sklearn-color-unfitted-level-2);\n",
       "}\n",
       "\n",
<<<<<<< Updated upstream
       "#sk-container-id-11 div.sk-estimator.fitted input.sk-toggleable__control:checked~label.sk-toggleable__label {\n",
=======
       "#sk-container-id-3 div.sk-estimator.fitted input.sk-toggleable__control:checked~label.sk-toggleable__label {\n",
>>>>>>> Stashed changes
       "  /* fitted */\n",
       "  background-color: var(--sklearn-color-fitted-level-2);\n",
       "}\n",
       "\n",
<<<<<<< Updated upstream
       "#sk-container-id-11 div.sk-label label.sk-toggleable__label,\n",
       "#sk-container-id-11 div.sk-label label {\n",
=======
       "#sk-container-id-3 div.sk-label label.sk-toggleable__label,\n",
       "#sk-container-id-3 div.sk-label label {\n",
>>>>>>> Stashed changes
       "  /* The background is the default theme color */\n",
       "  color: var(--sklearn-color-text-on-default-background);\n",
       "}\n",
       "\n",
       "/* On hover, darken the color of the background */\n",
<<<<<<< Updated upstream
       "#sk-container-id-11 div.sk-label:hover label.sk-toggleable__label {\n",
=======
       "#sk-container-id-3 div.sk-label:hover label.sk-toggleable__label {\n",
>>>>>>> Stashed changes
       "  color: var(--sklearn-color-text);\n",
       "  background-color: var(--sklearn-color-unfitted-level-2);\n",
       "}\n",
       "\n",
       "/* Label box, darken color on hover, fitted */\n",
<<<<<<< Updated upstream
       "#sk-container-id-11 div.sk-label.fitted:hover label.sk-toggleable__label.fitted {\n",
=======
       "#sk-container-id-3 div.sk-label.fitted:hover label.sk-toggleable__label.fitted {\n",
>>>>>>> Stashed changes
       "  color: var(--sklearn-color-text);\n",
       "  background-color: var(--sklearn-color-fitted-level-2);\n",
       "}\n",
       "\n",
       "/* Estimator label */\n",
       "\n",
<<<<<<< Updated upstream
       "#sk-container-id-11 div.sk-label label {\n",
=======
       "#sk-container-id-3 div.sk-label label {\n",
>>>>>>> Stashed changes
       "  font-family: monospace;\n",
       "  font-weight: bold;\n",
       "  display: inline-block;\n",
       "  line-height: 1.2em;\n",
       "}\n",
       "\n",
<<<<<<< Updated upstream
       "#sk-container-id-11 div.sk-label-container {\n",
=======
       "#sk-container-id-3 div.sk-label-container {\n",
>>>>>>> Stashed changes
       "  text-align: center;\n",
       "}\n",
       "\n",
       "/* Estimator-specific */\n",
<<<<<<< Updated upstream
       "#sk-container-id-11 div.sk-estimator {\n",
=======
       "#sk-container-id-3 div.sk-estimator {\n",
>>>>>>> Stashed changes
       "  font-family: monospace;\n",
       "  border: 1px dotted var(--sklearn-color-border-box);\n",
       "  border-radius: 0.25em;\n",
       "  box-sizing: border-box;\n",
       "  margin-bottom: 0.5em;\n",
       "  /* unfitted */\n",
       "  background-color: var(--sklearn-color-unfitted-level-0);\n",
       "}\n",
       "\n",
<<<<<<< Updated upstream
       "#sk-container-id-11 div.sk-estimator.fitted {\n",
=======
       "#sk-container-id-3 div.sk-estimator.fitted {\n",
>>>>>>> Stashed changes
       "  /* fitted */\n",
       "  background-color: var(--sklearn-color-fitted-level-0);\n",
       "}\n",
       "\n",
       "/* on hover */\n",
<<<<<<< Updated upstream
       "#sk-container-id-11 div.sk-estimator:hover {\n",
=======
       "#sk-container-id-3 div.sk-estimator:hover {\n",
>>>>>>> Stashed changes
       "  /* unfitted */\n",
       "  background-color: var(--sklearn-color-unfitted-level-2);\n",
       "}\n",
       "\n",
<<<<<<< Updated upstream
       "#sk-container-id-11 div.sk-estimator.fitted:hover {\n",
=======
       "#sk-container-id-3 div.sk-estimator.fitted:hover {\n",
>>>>>>> Stashed changes
       "  /* fitted */\n",
       "  background-color: var(--sklearn-color-fitted-level-2);\n",
       "}\n",
       "\n",
       "/* Specification for estimator info (e.g. \"i\" and \"?\") */\n",
       "\n",
       "/* Common style for \"i\" and \"?\" */\n",
       "\n",
       ".sk-estimator-doc-link,\n",
       "a:link.sk-estimator-doc-link,\n",
       "a:visited.sk-estimator-doc-link {\n",
       "  float: right;\n",
       "  font-size: smaller;\n",
       "  line-height: 1em;\n",
       "  font-family: monospace;\n",
       "  background-color: var(--sklearn-color-background);\n",
       "  border-radius: 1em;\n",
       "  height: 1em;\n",
       "  width: 1em;\n",
       "  text-decoration: none !important;\n",
<<<<<<< Updated upstream
       "  margin-left: 1ex;\n",
=======
       "  margin-left: 0.5em;\n",
       "  text-align: center;\n",
>>>>>>> Stashed changes
       "  /* unfitted */\n",
       "  border: var(--sklearn-color-unfitted-level-1) 1pt solid;\n",
       "  color: var(--sklearn-color-unfitted-level-1);\n",
       "}\n",
       "\n",
       ".sk-estimator-doc-link.fitted,\n",
       "a:link.sk-estimator-doc-link.fitted,\n",
       "a:visited.sk-estimator-doc-link.fitted {\n",
       "  /* fitted */\n",
       "  border: var(--sklearn-color-fitted-level-1) 1pt solid;\n",
       "  color: var(--sklearn-color-fitted-level-1);\n",
       "}\n",
       "\n",
       "/* On hover */\n",
       "div.sk-estimator:hover .sk-estimator-doc-link:hover,\n",
       ".sk-estimator-doc-link:hover,\n",
       "div.sk-label-container:hover .sk-estimator-doc-link:hover,\n",
       ".sk-estimator-doc-link:hover {\n",
       "  /* unfitted */\n",
       "  background-color: var(--sklearn-color-unfitted-level-3);\n",
       "  color: var(--sklearn-color-background);\n",
       "  text-decoration: none;\n",
       "}\n",
       "\n",
       "div.sk-estimator.fitted:hover .sk-estimator-doc-link.fitted:hover,\n",
       ".sk-estimator-doc-link.fitted:hover,\n",
       "div.sk-label-container:hover .sk-estimator-doc-link.fitted:hover,\n",
       ".sk-estimator-doc-link.fitted:hover {\n",
       "  /* fitted */\n",
       "  background-color: var(--sklearn-color-fitted-level-3);\n",
       "  color: var(--sklearn-color-background);\n",
       "  text-decoration: none;\n",
       "}\n",
       "\n",
       "/* Span, style for the box shown on hovering the info icon */\n",
       ".sk-estimator-doc-link span {\n",
       "  display: none;\n",
       "  z-index: 9999;\n",
       "  position: relative;\n",
       "  font-weight: normal;\n",
       "  right: .2ex;\n",
       "  padding: .5ex;\n",
       "  margin: .5ex;\n",
       "  width: min-content;\n",
       "  min-width: 20ex;\n",
       "  max-width: 50ex;\n",
       "  color: var(--sklearn-color-text);\n",
       "  box-shadow: 2pt 2pt 4pt #999;\n",
       "  /* unfitted */\n",
       "  background: var(--sklearn-color-unfitted-level-0);\n",
       "  border: .5pt solid var(--sklearn-color-unfitted-level-3);\n",
       "}\n",
       "\n",
       ".sk-estimator-doc-link.fitted span {\n",
       "  /* fitted */\n",
       "  background: var(--sklearn-color-fitted-level-0);\n",
       "  border: var(--sklearn-color-fitted-level-3);\n",
       "}\n",
       "\n",
       ".sk-estimator-doc-link:hover span {\n",
       "  display: block;\n",
       "}\n",
       "\n",
       "/* \"?\"-specific style due to the `<a>` HTML tag */\n",
       "\n",
<<<<<<< Updated upstream
       "#sk-container-id-11 a.estimator_doc_link {\n",
=======
       "#sk-container-id-3 a.estimator_doc_link {\n",
>>>>>>> Stashed changes
       "  float: right;\n",
       "  font-size: 1rem;\n",
       "  line-height: 1em;\n",
       "  font-family: monospace;\n",
       "  background-color: var(--sklearn-color-background);\n",
       "  border-radius: 1rem;\n",
       "  height: 1rem;\n",
       "  width: 1rem;\n",
       "  text-decoration: none;\n",
       "  /* unfitted */\n",
       "  color: var(--sklearn-color-unfitted-level-1);\n",
       "  border: var(--sklearn-color-unfitted-level-1) 1pt solid;\n",
       "}\n",
       "\n",
<<<<<<< Updated upstream
       "#sk-container-id-11 a.estimator_doc_link.fitted {\n",
=======
       "#sk-container-id-3 a.estimator_doc_link.fitted {\n",
>>>>>>> Stashed changes
       "  /* fitted */\n",
       "  border: var(--sklearn-color-fitted-level-1) 1pt solid;\n",
       "  color: var(--sklearn-color-fitted-level-1);\n",
       "}\n",
       "\n",
       "/* On hover */\n",
<<<<<<< Updated upstream
       "#sk-container-id-11 a.estimator_doc_link:hover {\n",
=======
       "#sk-container-id-3 a.estimator_doc_link:hover {\n",
>>>>>>> Stashed changes
       "  /* unfitted */\n",
       "  background-color: var(--sklearn-color-unfitted-level-3);\n",
       "  color: var(--sklearn-color-background);\n",
       "  text-decoration: none;\n",
       "}\n",
       "\n",
<<<<<<< Updated upstream
       "#sk-container-id-11 a.estimator_doc_link.fitted:hover {\n",
       "  /* fitted */\n",
       "  background-color: var(--sklearn-color-fitted-level-3);\n",
       "}\n",
       "</style><div id=\"sk-container-id-11\" class=\"sk-top-container\"><div class=\"sk-text-repr-fallback\"><pre>XGBClassifier(base_score=None, booster=None, callbacks=None,\n",
=======
       "#sk-container-id-3 a.estimator_doc_link.fitted:hover {\n",
       "  /* fitted */\n",
       "  background-color: var(--sklearn-color-fitted-level-3);\n",
       "}\n",
       "</style><div id=\"sk-container-id-3\" class=\"sk-top-container\"><div class=\"sk-text-repr-fallback\"><pre>XGBClassifier(base_score=None, booster=None, callbacks=None,\n",
>>>>>>> Stashed changes
       "              colsample_bylevel=None, colsample_bynode=None,\n",
       "              colsample_bytree=None, device=None, early_stopping_rounds=None,\n",
       "              enable_categorical=False, eval_metric=None, feature_types=None,\n",
       "              feature_weights=None, gamma=None, grow_policy=None,\n",
       "              importance_type=None, interaction_constraints=None,\n",
       "              learning_rate=None, max_bin=None, max_cat_threshold=None,\n",
       "              max_cat_to_onehot=None, max_delta_step=None, max_depth=None,\n",
       "              max_leaves=None, min_child_weight=None, missing=nan,\n",
       "              monotone_constraints=None, multi_strategy=None, n_estimators=None,\n",
<<<<<<< Updated upstream
       "              n_jobs=None, num_parallel_tree=None, ...)</pre><b>In a Jupyter environment, please rerun this cell to show the HTML representation or trust the notebook. <br />On GitHub, the HTML representation is unable to render, please try loading this page with nbviewer.org.</b></div><div class=\"sk-container\" hidden><div class=\"sk-item\"><div class=\"sk-estimator fitted sk-toggleable\"><input class=\"sk-toggleable__control sk-hidden--visually\" id=\"sk-estimator-id-11\" type=\"checkbox\" checked><label for=\"sk-estimator-id-11\" class=\"sk-toggleable__label fitted sk-toggleable__label-arrow fitted\">&nbsp;&nbsp;XGBClassifier<a class=\"sk-estimator-doc-link fitted\" rel=\"noreferrer\" target=\"_blank\" href=\"https://xgboost.readthedocs.io/en/release_3.0.0/python/python_api.html#xgboost.XGBClassifier\">?<span>Documentation for XGBClassifier</span></a><span class=\"sk-estimator-doc-link fitted\">i<span>Fitted</span></span></label><div class=\"sk-toggleable__content fitted\"><pre>XGBClassifier(base_score=None, booster=None, callbacks=None,\n",
=======
       "              n_jobs=None, num_parallel_tree=None, ...)</pre><b>In a Jupyter environment, please rerun this cell to show the HTML representation or trust the notebook. <br />On GitHub, the HTML representation is unable to render, please try loading this page with nbviewer.org.</b></div><div class=\"sk-container\" hidden><div class=\"sk-item\"><div class=\"sk-estimator fitted sk-toggleable\"><input class=\"sk-toggleable__control sk-hidden--visually\" id=\"sk-estimator-id-3\" type=\"checkbox\" checked><label for=\"sk-estimator-id-3\" class=\"sk-toggleable__label fitted sk-toggleable__label-arrow\"><div><div>XGBClassifier</div></div><div><a class=\"sk-estimator-doc-link fitted\" rel=\"noreferrer\" target=\"_blank\" href=\"https://xgboost.readthedocs.io/en/release_3.0.0/python/python_api.html#xgboost.XGBClassifier\">?<span>Documentation for XGBClassifier</span></a><span class=\"sk-estimator-doc-link fitted\">i<span>Fitted</span></span></div></label><div class=\"sk-toggleable__content fitted\"><pre>XGBClassifier(base_score=None, booster=None, callbacks=None,\n",
>>>>>>> Stashed changes
       "              colsample_bylevel=None, colsample_bynode=None,\n",
       "              colsample_bytree=None, device=None, early_stopping_rounds=None,\n",
       "              enable_categorical=False, eval_metric=None, feature_types=None,\n",
       "              feature_weights=None, gamma=None, grow_policy=None,\n",
       "              importance_type=None, interaction_constraints=None,\n",
       "              learning_rate=None, max_bin=None, max_cat_threshold=None,\n",
       "              max_cat_to_onehot=None, max_delta_step=None, max_depth=None,\n",
       "              max_leaves=None, min_child_weight=None, missing=nan,\n",
       "              monotone_constraints=None, multi_strategy=None, n_estimators=None,\n",
       "              n_jobs=None, num_parallel_tree=None, ...)</pre></div> </div></div></div></div>"
      ],
      "text/plain": [
       "XGBClassifier(base_score=None, booster=None, callbacks=None,\n",
       "              colsample_bylevel=None, colsample_bynode=None,\n",
       "              colsample_bytree=None, device=None, early_stopping_rounds=None,\n",
       "              enable_categorical=False, eval_metric=None, feature_types=None,\n",
       "              feature_weights=None, gamma=None, grow_policy=None,\n",
       "              importance_type=None, interaction_constraints=None,\n",
       "              learning_rate=None, max_bin=None, max_cat_threshold=None,\n",
       "              max_cat_to_onehot=None, max_delta_step=None, max_depth=None,\n",
       "              max_leaves=None, min_child_weight=None, missing=nan,\n",
       "              monotone_constraints=None, multi_strategy=None, n_estimators=None,\n",
       "              n_jobs=None, num_parallel_tree=None, ...)"
      ]
     },
<<<<<<< Updated upstream
     "execution_count": 84,
=======
     "execution_count": 35,
>>>>>>> Stashed changes
     "metadata": {},
     "output_type": "execute_result"
    }
   ],
   "source": [
    "#xgboost for curveball\n",
    "xgb_model1 = XGBClassifier()\n",
    "xgb_model1.fit(X1_train, y1_train)"
   ]
  },
  {
   "cell_type": "code",
<<<<<<< Updated upstream
   "execution_count": 85,
=======
   "execution_count": 36,
>>>>>>> Stashed changes
   "metadata": {},
   "outputs": [
    {
     "data": {
      "text/html": [
<<<<<<< Updated upstream
       "<style>#sk-container-id-12 {\n",
       "  /* Definition of color scheme common for light and dark mode */\n",
       "  --sklearn-color-text: black;\n",
=======
       "<style>#sk-container-id-4 {\n",
       "  /* Definition of color scheme common for light and dark mode */\n",
       "  --sklearn-color-text: #000;\n",
       "  --sklearn-color-text-muted: #666;\n",
>>>>>>> Stashed changes
       "  --sklearn-color-line: gray;\n",
       "  /* Definition of color scheme for unfitted estimators */\n",
       "  --sklearn-color-unfitted-level-0: #fff5e6;\n",
       "  --sklearn-color-unfitted-level-1: #f6e4d2;\n",
       "  --sklearn-color-unfitted-level-2: #ffe0b3;\n",
       "  --sklearn-color-unfitted-level-3: chocolate;\n",
       "  /* Definition of color scheme for fitted estimators */\n",
       "  --sklearn-color-fitted-level-0: #f0f8ff;\n",
       "  --sklearn-color-fitted-level-1: #d4ebff;\n",
       "  --sklearn-color-fitted-level-2: #b3dbfd;\n",
       "  --sklearn-color-fitted-level-3: cornflowerblue;\n",
       "\n",
       "  /* Specific color for light theme */\n",
       "  --sklearn-color-text-on-default-background: var(--sg-text-color, var(--theme-code-foreground, var(--jp-content-font-color1, black)));\n",
       "  --sklearn-color-background: var(--sg-background-color, var(--theme-background, var(--jp-layout-color0, white)));\n",
       "  --sklearn-color-border-box: var(--sg-text-color, var(--theme-code-foreground, var(--jp-content-font-color1, black)));\n",
       "  --sklearn-color-icon: #696969;\n",
       "\n",
       "  @media (prefers-color-scheme: dark) {\n",
       "    /* Redefinition of color scheme for dark theme */\n",
       "    --sklearn-color-text-on-default-background: var(--sg-text-color, var(--theme-code-foreground, var(--jp-content-font-color1, white)));\n",
       "    --sklearn-color-background: var(--sg-background-color, var(--theme-background, var(--jp-layout-color0, #111)));\n",
       "    --sklearn-color-border-box: var(--sg-text-color, var(--theme-code-foreground, var(--jp-content-font-color1, white)));\n",
       "    --sklearn-color-icon: #878787;\n",
       "  }\n",
       "}\n",
       "\n",
<<<<<<< Updated upstream
       "#sk-container-id-12 {\n",
       "  color: var(--sklearn-color-text);\n",
       "}\n",
       "\n",
       "#sk-container-id-12 pre {\n",
       "  padding: 0;\n",
       "}\n",
       "\n",
       "#sk-container-id-12 input.sk-hidden--visually {\n",
=======
       "#sk-container-id-4 {\n",
       "  color: var(--sklearn-color-text);\n",
       "}\n",
       "\n",
       "#sk-container-id-4 pre {\n",
       "  padding: 0;\n",
       "}\n",
       "\n",
       "#sk-container-id-4 input.sk-hidden--visually {\n",
>>>>>>> Stashed changes
       "  border: 0;\n",
       "  clip: rect(1px 1px 1px 1px);\n",
       "  clip: rect(1px, 1px, 1px, 1px);\n",
       "  height: 1px;\n",
       "  margin: -1px;\n",
       "  overflow: hidden;\n",
       "  padding: 0;\n",
       "  position: absolute;\n",
       "  width: 1px;\n",
       "}\n",
       "\n",
<<<<<<< Updated upstream
       "#sk-container-id-12 div.sk-dashed-wrapped {\n",
=======
       "#sk-container-id-4 div.sk-dashed-wrapped {\n",
>>>>>>> Stashed changes
       "  border: 1px dashed var(--sklearn-color-line);\n",
       "  margin: 0 0.4em 0.5em 0.4em;\n",
       "  box-sizing: border-box;\n",
       "  padding-bottom: 0.4em;\n",
       "  background-color: var(--sklearn-color-background);\n",
       "}\n",
       "\n",
<<<<<<< Updated upstream
       "#sk-container-id-12 div.sk-container {\n",
=======
       "#sk-container-id-4 div.sk-container {\n",
>>>>>>> Stashed changes
       "  /* jupyter's `normalize.less` sets `[hidden] { display: none; }`\n",
       "     but bootstrap.min.css set `[hidden] { display: none !important; }`\n",
       "     so we also need the `!important` here to be able to override the\n",
       "     default hidden behavior on the sphinx rendered scikit-learn.org.\n",
       "     See: https://github.com/scikit-learn/scikit-learn/issues/21755 */\n",
       "  display: inline-block !important;\n",
       "  position: relative;\n",
       "}\n",
       "\n",
<<<<<<< Updated upstream
       "#sk-container-id-12 div.sk-text-repr-fallback {\n",
=======
       "#sk-container-id-4 div.sk-text-repr-fallback {\n",
>>>>>>> Stashed changes
       "  display: none;\n",
       "}\n",
       "\n",
       "div.sk-parallel-item,\n",
       "div.sk-serial,\n",
       "div.sk-item {\n",
       "  /* draw centered vertical line to link estimators */\n",
       "  background-image: linear-gradient(var(--sklearn-color-text-on-default-background), var(--sklearn-color-text-on-default-background));\n",
       "  background-size: 2px 100%;\n",
       "  background-repeat: no-repeat;\n",
       "  background-position: center center;\n",
       "}\n",
       "\n",
       "/* Parallel-specific style estimator block */\n",
       "\n",
<<<<<<< Updated upstream
       "#sk-container-id-12 div.sk-parallel-item::after {\n",
=======
       "#sk-container-id-4 div.sk-parallel-item::after {\n",
>>>>>>> Stashed changes
       "  content: \"\";\n",
       "  width: 100%;\n",
       "  border-bottom: 2px solid var(--sklearn-color-text-on-default-background);\n",
       "  flex-grow: 1;\n",
       "}\n",
       "\n",
<<<<<<< Updated upstream
       "#sk-container-id-12 div.sk-parallel {\n",
=======
       "#sk-container-id-4 div.sk-parallel {\n",
>>>>>>> Stashed changes
       "  display: flex;\n",
       "  align-items: stretch;\n",
       "  justify-content: center;\n",
       "  background-color: var(--sklearn-color-background);\n",
       "  position: relative;\n",
       "}\n",
       "\n",
<<<<<<< Updated upstream
       "#sk-container-id-12 div.sk-parallel-item {\n",
=======
       "#sk-container-id-4 div.sk-parallel-item {\n",
>>>>>>> Stashed changes
       "  display: flex;\n",
       "  flex-direction: column;\n",
       "}\n",
       "\n",
<<<<<<< Updated upstream
       "#sk-container-id-12 div.sk-parallel-item:first-child::after {\n",
=======
       "#sk-container-id-4 div.sk-parallel-item:first-child::after {\n",
>>>>>>> Stashed changes
       "  align-self: flex-end;\n",
       "  width: 50%;\n",
       "}\n",
       "\n",
<<<<<<< Updated upstream
       "#sk-container-id-12 div.sk-parallel-item:last-child::after {\n",
=======
       "#sk-container-id-4 div.sk-parallel-item:last-child::after {\n",
>>>>>>> Stashed changes
       "  align-self: flex-start;\n",
       "  width: 50%;\n",
       "}\n",
       "\n",
<<<<<<< Updated upstream
       "#sk-container-id-12 div.sk-parallel-item:only-child::after {\n",
=======
       "#sk-container-id-4 div.sk-parallel-item:only-child::after {\n",
>>>>>>> Stashed changes
       "  width: 0;\n",
       "}\n",
       "\n",
       "/* Serial-specific style estimator block */\n",
       "\n",
<<<<<<< Updated upstream
       "#sk-container-id-12 div.sk-serial {\n",
=======
       "#sk-container-id-4 div.sk-serial {\n",
>>>>>>> Stashed changes
       "  display: flex;\n",
       "  flex-direction: column;\n",
       "  align-items: center;\n",
       "  background-color: var(--sklearn-color-background);\n",
       "  padding-right: 1em;\n",
       "  padding-left: 1em;\n",
       "}\n",
       "\n",
       "\n",
       "/* Toggleable style: style used for estimator/Pipeline/ColumnTransformer box that is\n",
       "clickable and can be expanded/collapsed.\n",
       "- Pipeline and ColumnTransformer use this feature and define the default style\n",
       "- Estimators will overwrite some part of the style using the `sk-estimator` class\n",
       "*/\n",
       "\n",
       "/* Pipeline and ColumnTransformer style (default) */\n",
       "\n",
<<<<<<< Updated upstream
       "#sk-container-id-12 div.sk-toggleable {\n",
=======
       "#sk-container-id-4 div.sk-toggleable {\n",
>>>>>>> Stashed changes
       "  /* Default theme specific background. It is overwritten whether we have a\n",
       "  specific estimator or a Pipeline/ColumnTransformer */\n",
       "  background-color: var(--sklearn-color-background);\n",
       "}\n",
       "\n",
       "/* Toggleable label */\n",
<<<<<<< Updated upstream
       "#sk-container-id-12 label.sk-toggleable__label {\n",
       "  cursor: pointer;\n",
       "  display: block;\n",
=======
       "#sk-container-id-4 label.sk-toggleable__label {\n",
       "  cursor: pointer;\n",
       "  display: flex;\n",
>>>>>>> Stashed changes
       "  width: 100%;\n",
       "  margin-bottom: 0;\n",
       "  padding: 0.5em;\n",
       "  box-sizing: border-box;\n",
       "  text-align: center;\n",
<<<<<<< Updated upstream
       "}\n",
       "\n",
       "#sk-container-id-12 label.sk-toggleable__label-arrow:before {\n",
=======
       "  align-items: start;\n",
       "  justify-content: space-between;\n",
       "  gap: 0.5em;\n",
       "}\n",
       "\n",
       "#sk-container-id-4 label.sk-toggleable__label .caption {\n",
       "  font-size: 0.6rem;\n",
       "  font-weight: lighter;\n",
       "  color: var(--sklearn-color-text-muted);\n",
       "}\n",
       "\n",
       "#sk-container-id-4 label.sk-toggleable__label-arrow:before {\n",
>>>>>>> Stashed changes
       "  /* Arrow on the left of the label */\n",
       "  content: \"▸\";\n",
       "  float: left;\n",
       "  margin-right: 0.25em;\n",
       "  color: var(--sklearn-color-icon);\n",
       "}\n",
       "\n",
<<<<<<< Updated upstream
       "#sk-container-id-12 label.sk-toggleable__label-arrow:hover:before {\n",
=======
       "#sk-container-id-4 label.sk-toggleable__label-arrow:hover:before {\n",
>>>>>>> Stashed changes
       "  color: var(--sklearn-color-text);\n",
       "}\n",
       "\n",
       "/* Toggleable content - dropdown */\n",
       "\n",
<<<<<<< Updated upstream
       "#sk-container-id-12 div.sk-toggleable__content {\n",
=======
       "#sk-container-id-4 div.sk-toggleable__content {\n",
>>>>>>> Stashed changes
       "  max-height: 0;\n",
       "  max-width: 0;\n",
       "  overflow: hidden;\n",
       "  text-align: left;\n",
       "  /* unfitted */\n",
       "  background-color: var(--sklearn-color-unfitted-level-0);\n",
       "}\n",
       "\n",
<<<<<<< Updated upstream
       "#sk-container-id-12 div.sk-toggleable__content.fitted {\n",
=======
       "#sk-container-id-4 div.sk-toggleable__content.fitted {\n",
>>>>>>> Stashed changes
       "  /* fitted */\n",
       "  background-color: var(--sklearn-color-fitted-level-0);\n",
       "}\n",
       "\n",
<<<<<<< Updated upstream
       "#sk-container-id-12 div.sk-toggleable__content pre {\n",
=======
       "#sk-container-id-4 div.sk-toggleable__content pre {\n",
>>>>>>> Stashed changes
       "  margin: 0.2em;\n",
       "  border-radius: 0.25em;\n",
       "  color: var(--sklearn-color-text);\n",
       "  /* unfitted */\n",
       "  background-color: var(--sklearn-color-unfitted-level-0);\n",
       "}\n",
       "\n",
<<<<<<< Updated upstream
       "#sk-container-id-12 div.sk-toggleable__content.fitted pre {\n",
=======
       "#sk-container-id-4 div.sk-toggleable__content.fitted pre {\n",
>>>>>>> Stashed changes
       "  /* unfitted */\n",
       "  background-color: var(--sklearn-color-fitted-level-0);\n",
       "}\n",
       "\n",
<<<<<<< Updated upstream
       "#sk-container-id-12 input.sk-toggleable__control:checked~div.sk-toggleable__content {\n",
=======
       "#sk-container-id-4 input.sk-toggleable__control:checked~div.sk-toggleable__content {\n",
>>>>>>> Stashed changes
       "  /* Expand drop-down */\n",
       "  max-height: 200px;\n",
       "  max-width: 100%;\n",
       "  overflow: auto;\n",
       "}\n",
       "\n",
<<<<<<< Updated upstream
       "#sk-container-id-12 input.sk-toggleable__control:checked~label.sk-toggleable__label-arrow:before {\n",
=======
       "#sk-container-id-4 input.sk-toggleable__control:checked~label.sk-toggleable__label-arrow:before {\n",
>>>>>>> Stashed changes
       "  content: \"▾\";\n",
       "}\n",
       "\n",
       "/* Pipeline/ColumnTransformer-specific style */\n",
       "\n",
<<<<<<< Updated upstream
       "#sk-container-id-12 div.sk-label input.sk-toggleable__control:checked~label.sk-toggleable__label {\n",
=======
       "#sk-container-id-4 div.sk-label input.sk-toggleable__control:checked~label.sk-toggleable__label {\n",
>>>>>>> Stashed changes
       "  color: var(--sklearn-color-text);\n",
       "  background-color: var(--sklearn-color-unfitted-level-2);\n",
       "}\n",
       "\n",
<<<<<<< Updated upstream
       "#sk-container-id-12 div.sk-label.fitted input.sk-toggleable__control:checked~label.sk-toggleable__label {\n",
=======
       "#sk-container-id-4 div.sk-label.fitted input.sk-toggleable__control:checked~label.sk-toggleable__label {\n",
>>>>>>> Stashed changes
       "  background-color: var(--sklearn-color-fitted-level-2);\n",
       "}\n",
       "\n",
       "/* Estimator-specific style */\n",
       "\n",
       "/* Colorize estimator box */\n",
<<<<<<< Updated upstream
       "#sk-container-id-12 div.sk-estimator input.sk-toggleable__control:checked~label.sk-toggleable__label {\n",
=======
       "#sk-container-id-4 div.sk-estimator input.sk-toggleable__control:checked~label.sk-toggleable__label {\n",
>>>>>>> Stashed changes
       "  /* unfitted */\n",
       "  background-color: var(--sklearn-color-unfitted-level-2);\n",
       "}\n",
       "\n",
<<<<<<< Updated upstream
       "#sk-container-id-12 div.sk-estimator.fitted input.sk-toggleable__control:checked~label.sk-toggleable__label {\n",
=======
       "#sk-container-id-4 div.sk-estimator.fitted input.sk-toggleable__control:checked~label.sk-toggleable__label {\n",
>>>>>>> Stashed changes
       "  /* fitted */\n",
       "  background-color: var(--sklearn-color-fitted-level-2);\n",
       "}\n",
       "\n",
<<<<<<< Updated upstream
       "#sk-container-id-12 div.sk-label label.sk-toggleable__label,\n",
       "#sk-container-id-12 div.sk-label label {\n",
=======
       "#sk-container-id-4 div.sk-label label.sk-toggleable__label,\n",
       "#sk-container-id-4 div.sk-label label {\n",
>>>>>>> Stashed changes
       "  /* The background is the default theme color */\n",
       "  color: var(--sklearn-color-text-on-default-background);\n",
       "}\n",
       "\n",
       "/* On hover, darken the color of the background */\n",
<<<<<<< Updated upstream
       "#sk-container-id-12 div.sk-label:hover label.sk-toggleable__label {\n",
=======
       "#sk-container-id-4 div.sk-label:hover label.sk-toggleable__label {\n",
>>>>>>> Stashed changes
       "  color: var(--sklearn-color-text);\n",
       "  background-color: var(--sklearn-color-unfitted-level-2);\n",
       "}\n",
       "\n",
       "/* Label box, darken color on hover, fitted */\n",
<<<<<<< Updated upstream
       "#sk-container-id-12 div.sk-label.fitted:hover label.sk-toggleable__label.fitted {\n",
=======
       "#sk-container-id-4 div.sk-label.fitted:hover label.sk-toggleable__label.fitted {\n",
>>>>>>> Stashed changes
       "  color: var(--sklearn-color-text);\n",
       "  background-color: var(--sklearn-color-fitted-level-2);\n",
       "}\n",
       "\n",
       "/* Estimator label */\n",
       "\n",
<<<<<<< Updated upstream
       "#sk-container-id-12 div.sk-label label {\n",
=======
       "#sk-container-id-4 div.sk-label label {\n",
>>>>>>> Stashed changes
       "  font-family: monospace;\n",
       "  font-weight: bold;\n",
       "  display: inline-block;\n",
       "  line-height: 1.2em;\n",
       "}\n",
       "\n",
<<<<<<< Updated upstream
       "#sk-container-id-12 div.sk-label-container {\n",
=======
       "#sk-container-id-4 div.sk-label-container {\n",
>>>>>>> Stashed changes
       "  text-align: center;\n",
       "}\n",
       "\n",
       "/* Estimator-specific */\n",
<<<<<<< Updated upstream
       "#sk-container-id-12 div.sk-estimator {\n",
=======
       "#sk-container-id-4 div.sk-estimator {\n",
>>>>>>> Stashed changes
       "  font-family: monospace;\n",
       "  border: 1px dotted var(--sklearn-color-border-box);\n",
       "  border-radius: 0.25em;\n",
       "  box-sizing: border-box;\n",
       "  margin-bottom: 0.5em;\n",
       "  /* unfitted */\n",
       "  background-color: var(--sklearn-color-unfitted-level-0);\n",
       "}\n",
       "\n",
<<<<<<< Updated upstream
       "#sk-container-id-12 div.sk-estimator.fitted {\n",
=======
       "#sk-container-id-4 div.sk-estimator.fitted {\n",
>>>>>>> Stashed changes
       "  /* fitted */\n",
       "  background-color: var(--sklearn-color-fitted-level-0);\n",
       "}\n",
       "\n",
       "/* on hover */\n",
<<<<<<< Updated upstream
       "#sk-container-id-12 div.sk-estimator:hover {\n",
=======
       "#sk-container-id-4 div.sk-estimator:hover {\n",
>>>>>>> Stashed changes
       "  /* unfitted */\n",
       "  background-color: var(--sklearn-color-unfitted-level-2);\n",
       "}\n",
       "\n",
<<<<<<< Updated upstream
       "#sk-container-id-12 div.sk-estimator.fitted:hover {\n",
=======
       "#sk-container-id-4 div.sk-estimator.fitted:hover {\n",
>>>>>>> Stashed changes
       "  /* fitted */\n",
       "  background-color: var(--sklearn-color-fitted-level-2);\n",
       "}\n",
       "\n",
       "/* Specification for estimator info (e.g. \"i\" and \"?\") */\n",
       "\n",
       "/* Common style for \"i\" and \"?\" */\n",
       "\n",
       ".sk-estimator-doc-link,\n",
       "a:link.sk-estimator-doc-link,\n",
       "a:visited.sk-estimator-doc-link {\n",
       "  float: right;\n",
       "  font-size: smaller;\n",
       "  line-height: 1em;\n",
       "  font-family: monospace;\n",
       "  background-color: var(--sklearn-color-background);\n",
       "  border-radius: 1em;\n",
       "  height: 1em;\n",
       "  width: 1em;\n",
       "  text-decoration: none !important;\n",
<<<<<<< Updated upstream
       "  margin-left: 1ex;\n",
=======
       "  margin-left: 0.5em;\n",
       "  text-align: center;\n",
>>>>>>> Stashed changes
       "  /* unfitted */\n",
       "  border: var(--sklearn-color-unfitted-level-1) 1pt solid;\n",
       "  color: var(--sklearn-color-unfitted-level-1);\n",
       "}\n",
       "\n",
       ".sk-estimator-doc-link.fitted,\n",
       "a:link.sk-estimator-doc-link.fitted,\n",
       "a:visited.sk-estimator-doc-link.fitted {\n",
       "  /* fitted */\n",
       "  border: var(--sklearn-color-fitted-level-1) 1pt solid;\n",
       "  color: var(--sklearn-color-fitted-level-1);\n",
       "}\n",
       "\n",
       "/* On hover */\n",
       "div.sk-estimator:hover .sk-estimator-doc-link:hover,\n",
       ".sk-estimator-doc-link:hover,\n",
       "div.sk-label-container:hover .sk-estimator-doc-link:hover,\n",
       ".sk-estimator-doc-link:hover {\n",
       "  /* unfitted */\n",
       "  background-color: var(--sklearn-color-unfitted-level-3);\n",
       "  color: var(--sklearn-color-background);\n",
       "  text-decoration: none;\n",
       "}\n",
       "\n",
       "div.sk-estimator.fitted:hover .sk-estimator-doc-link.fitted:hover,\n",
       ".sk-estimator-doc-link.fitted:hover,\n",
       "div.sk-label-container:hover .sk-estimator-doc-link.fitted:hover,\n",
       ".sk-estimator-doc-link.fitted:hover {\n",
       "  /* fitted */\n",
       "  background-color: var(--sklearn-color-fitted-level-3);\n",
       "  color: var(--sklearn-color-background);\n",
       "  text-decoration: none;\n",
       "}\n",
       "\n",
       "/* Span, style for the box shown on hovering the info icon */\n",
       ".sk-estimator-doc-link span {\n",
       "  display: none;\n",
       "  z-index: 9999;\n",
       "  position: relative;\n",
       "  font-weight: normal;\n",
       "  right: .2ex;\n",
       "  padding: .5ex;\n",
       "  margin: .5ex;\n",
       "  width: min-content;\n",
       "  min-width: 20ex;\n",
       "  max-width: 50ex;\n",
       "  color: var(--sklearn-color-text);\n",
       "  box-shadow: 2pt 2pt 4pt #999;\n",
       "  /* unfitted */\n",
       "  background: var(--sklearn-color-unfitted-level-0);\n",
       "  border: .5pt solid var(--sklearn-color-unfitted-level-3);\n",
       "}\n",
       "\n",
       ".sk-estimator-doc-link.fitted span {\n",
       "  /* fitted */\n",
       "  background: var(--sklearn-color-fitted-level-0);\n",
       "  border: var(--sklearn-color-fitted-level-3);\n",
       "}\n",
       "\n",
       ".sk-estimator-doc-link:hover span {\n",
       "  display: block;\n",
       "}\n",
       "\n",
       "/* \"?\"-specific style due to the `<a>` HTML tag */\n",
       "\n",
<<<<<<< Updated upstream
       "#sk-container-id-12 a.estimator_doc_link {\n",
=======
       "#sk-container-id-4 a.estimator_doc_link {\n",
>>>>>>> Stashed changes
       "  float: right;\n",
       "  font-size: 1rem;\n",
       "  line-height: 1em;\n",
       "  font-family: monospace;\n",
       "  background-color: var(--sklearn-color-background);\n",
       "  border-radius: 1rem;\n",
       "  height: 1rem;\n",
       "  width: 1rem;\n",
       "  text-decoration: none;\n",
       "  /* unfitted */\n",
       "  color: var(--sklearn-color-unfitted-level-1);\n",
       "  border: var(--sklearn-color-unfitted-level-1) 1pt solid;\n",
       "}\n",
       "\n",
<<<<<<< Updated upstream
       "#sk-container-id-12 a.estimator_doc_link.fitted {\n",
=======
       "#sk-container-id-4 a.estimator_doc_link.fitted {\n",
>>>>>>> Stashed changes
       "  /* fitted */\n",
       "  border: var(--sklearn-color-fitted-level-1) 1pt solid;\n",
       "  color: var(--sklearn-color-fitted-level-1);\n",
       "}\n",
       "\n",
       "/* On hover */\n",
<<<<<<< Updated upstream
       "#sk-container-id-12 a.estimator_doc_link:hover {\n",
=======
       "#sk-container-id-4 a.estimator_doc_link:hover {\n",
>>>>>>> Stashed changes
       "  /* unfitted */\n",
       "  background-color: var(--sklearn-color-unfitted-level-3);\n",
       "  color: var(--sklearn-color-background);\n",
       "  text-decoration: none;\n",
       "}\n",
       "\n",
<<<<<<< Updated upstream
       "#sk-container-id-12 a.estimator_doc_link.fitted:hover {\n",
       "  /* fitted */\n",
       "  background-color: var(--sklearn-color-fitted-level-3);\n",
       "}\n",
       "</style><div id=\"sk-container-id-12\" class=\"sk-top-container\"><div class=\"sk-text-repr-fallback\"><pre>RandomForestClassifier()</pre><b>In a Jupyter environment, please rerun this cell to show the HTML representation or trust the notebook. <br />On GitHub, the HTML representation is unable to render, please try loading this page with nbviewer.org.</b></div><div class=\"sk-container\" hidden><div class=\"sk-item\"><div class=\"sk-estimator fitted sk-toggleable\"><input class=\"sk-toggleable__control sk-hidden--visually\" id=\"sk-estimator-id-12\" type=\"checkbox\" checked><label for=\"sk-estimator-id-12\" class=\"sk-toggleable__label fitted sk-toggleable__label-arrow fitted\">&nbsp;&nbsp;RandomForestClassifier<a class=\"sk-estimator-doc-link fitted\" rel=\"noreferrer\" target=\"_blank\" href=\"https://scikit-learn.org/1.5/modules/generated/sklearn.ensemble.RandomForestClassifier.html\">?<span>Documentation for RandomForestClassifier</span></a><span class=\"sk-estimator-doc-link fitted\">i<span>Fitted</span></span></label><div class=\"sk-toggleable__content fitted\"><pre>RandomForestClassifier()</pre></div> </div></div></div></div>"
=======
       "#sk-container-id-4 a.estimator_doc_link.fitted:hover {\n",
       "  /* fitted */\n",
       "  background-color: var(--sklearn-color-fitted-level-3);\n",
       "}\n",
       "</style><div id=\"sk-container-id-4\" class=\"sk-top-container\"><div class=\"sk-text-repr-fallback\"><pre>RandomForestClassifier()</pre><b>In a Jupyter environment, please rerun this cell to show the HTML representation or trust the notebook. <br />On GitHub, the HTML representation is unable to render, please try loading this page with nbviewer.org.</b></div><div class=\"sk-container\" hidden><div class=\"sk-item\"><div class=\"sk-estimator fitted sk-toggleable\"><input class=\"sk-toggleable__control sk-hidden--visually\" id=\"sk-estimator-id-4\" type=\"checkbox\" checked><label for=\"sk-estimator-id-4\" class=\"sk-toggleable__label fitted sk-toggleable__label-arrow\"><div><div>RandomForestClassifier</div></div><div><a class=\"sk-estimator-doc-link fitted\" rel=\"noreferrer\" target=\"_blank\" href=\"https://scikit-learn.org/1.6/modules/generated/sklearn.ensemble.RandomForestClassifier.html\">?<span>Documentation for RandomForestClassifier</span></a><span class=\"sk-estimator-doc-link fitted\">i<span>Fitted</span></span></div></label><div class=\"sk-toggleable__content fitted\"><pre>RandomForestClassifier()</pre></div> </div></div></div></div>"
>>>>>>> Stashed changes
      ],
      "text/plain": [
       "RandomForestClassifier()"
      ]
     },
<<<<<<< Updated upstream
     "execution_count": 85,
=======
     "execution_count": 36,
>>>>>>> Stashed changes
     "metadata": {},
     "output_type": "execute_result"
    }
   ],
   "source": [
    "#random forest for curveball\n",
    "rfc1 = RandomForestClassifier(n_estimators=100)\n",
    "rfc1.fit(X1_train, y1_train)"
   ]
  },
  {
   "cell_type": "code",
<<<<<<< Updated upstream
   "execution_count": 86,
=======
   "execution_count": 37,
>>>>>>> Stashed changes
   "metadata": {},
   "outputs": [
    {
     "name": "stdout",
     "output_type": "stream",
     "text": [
      "Epoch 1/50\n"
     ]
    },
    {
     "name": "stderr",
     "output_type": "stream",
     "text": [
<<<<<<< Updated upstream
      "c:\\Users\\maxim\\AppData\\Local\\Programs\\Python\\Python310\\lib\\site-packages\\keras\\src\\layers\\core\\dense.py:87: UserWarning:\n",
=======
      "c:\\Users\\isu_mvquirk_admin\\AppData\\Local\\Programs\\Python\\Python310\\lib\\site-packages\\keras\\src\\layers\\core\\dense.py:93: UserWarning:\n",
>>>>>>> Stashed changes
      "\n",
      "Do not pass an `input_shape`/`input_dim` argument to a layer. When using Sequential models, prefer using an `Input(shape)` object as the first layer in the model instead.\n",
      "\n"
     ]
    },
    {
     "name": "stdout",
     "output_type": "stream",
     "text": [
<<<<<<< Updated upstream
      "\u001b[1m2/2\u001b[0m \u001b[32m━━━━━━━━━━━━━━━━━━━━\u001b[0m\u001b[37m\u001b[0m \u001b[1m2s\u001b[0m 265ms/step - accuracy: 0.7649 - loss: 34.2134 - val_accuracy: 0.6000 - val_loss: 30.7803\n",
      "Epoch 2/50\n",
      "\u001b[1m2/2\u001b[0m \u001b[32m━━━━━━━━━━━━━━━━━━━━\u001b[0m\u001b[37m\u001b[0m \u001b[1m0s\u001b[0m 36ms/step - accuracy: 0.7649 - loss: 14.8014 - val_accuracy: 0.4000 - val_loss: 2.7561\n",
      "Epoch 3/50\n",
      "\u001b[1m2/2\u001b[0m \u001b[32m━━━━━━━━━━━━━━━━━━━━\u001b[0m\u001b[37m\u001b[0m \u001b[1m0s\u001b[0m 36ms/step - accuracy: 0.2351 - loss: 3.9008 - val_accuracy: 0.4000 - val_loss: 1.4851\n",
      "Epoch 4/50\n",
      "\u001b[1m2/2\u001b[0m \u001b[32m━━━━━━━━━━━━━━━━━━━━\u001b[0m\u001b[37m\u001b[0m \u001b[1m0s\u001b[0m 43ms/step - accuracy: 0.2531 - loss: 2.2567 - val_accuracy: 0.6000 - val_loss: 8.8544\n",
      "Epoch 5/50\n",
      "\u001b[1m2/2\u001b[0m \u001b[32m━━━━━━━━━━━━━━━━━━━━\u001b[0m\u001b[37m\u001b[0m \u001b[1m0s\u001b[0m 46ms/step - accuracy: 0.7545 - loss: 4.6308 - val_accuracy: 0.6000 - val_loss: 10.0315\n",
      "Epoch 6/50\n",
      "\u001b[1m2/2\u001b[0m \u001b[32m━━━━━━━━━━━━━━━━━━━━\u001b[0m\u001b[37m\u001b[0m \u001b[1m0s\u001b[0m 44ms/step - accuracy: 0.7545 - loss: 5.1210 - val_accuracy: 0.6000 - val_loss: 6.3115\n",
      "Epoch 7/50\n",
      "\u001b[1m2/2\u001b[0m \u001b[32m━━━━━━━━━━━━━━━━━━━━\u001b[0m\u001b[37m\u001b[0m \u001b[1m0s\u001b[0m 41ms/step - accuracy: 0.7545 - loss: 3.0364 - val_accuracy: 0.4000 - val_loss: 1.9997\n",
      "Epoch 8/50\n",
      "\u001b[1m2/2\u001b[0m \u001b[32m━━━━━━━━━━━━━━━━━━━━\u001b[0m\u001b[37m\u001b[0m \u001b[1m0s\u001b[0m 38ms/step - accuracy: 0.2455 - loss: 2.6176 - val_accuracy: 0.6000 - val_loss: 2.5121\n",
      "Epoch 9/50\n",
      "\u001b[1m2/2\u001b[0m \u001b[32m━━━━━━━━━━━━━━━━━━━━\u001b[0m\u001b[37m\u001b[0m \u001b[1m0s\u001b[0m 39ms/step - accuracy: 0.7649 - loss: 1.1902 - val_accuracy: 0.6000 - val_loss: 5.0119\n",
      "Epoch 10/50\n",
      "\u001b[1m2/2\u001b[0m \u001b[32m━━━━━━━━━━━━━━━━━━━━\u001b[0m\u001b[37m\u001b[0m \u001b[1m0s\u001b[0m 39ms/step - accuracy: 0.7441 - loss: 2.5177 - val_accuracy: 0.6000 - val_loss: 2.9748\n",
      "Epoch 11/50\n",
      "\u001b[1m2/2\u001b[0m \u001b[32m━━━━━━━━━━━━━━━━━━━━\u001b[0m\u001b[37m\u001b[0m \u001b[1m0s\u001b[0m 47ms/step - accuracy: 0.7753 - loss: 1.0072 - val_accuracy: 0.4000 - val_loss: 2.7916\n",
      "Epoch 12/50\n",
      "\u001b[1m2/2\u001b[0m \u001b[32m━━━━━━━━━━━━━━━━━━━━\u001b[0m\u001b[37m\u001b[0m \u001b[1m0s\u001b[0m 38ms/step - accuracy: 0.2559 - loss: 3.6000 - val_accuracy: 0.6000 - val_loss: 2.5568\n",
      "Epoch 13/50\n",
      "\u001b[1m2/2\u001b[0m \u001b[32m━━━━━━━━━━━━━━━━━━━━\u001b[0m\u001b[37m\u001b[0m \u001b[1m0s\u001b[0m 38ms/step - accuracy: 0.7441 - loss: 1.1124 - val_accuracy: 0.6000 - val_loss: 7.6467\n",
      "Epoch 14/50\n",
      "\u001b[1m2/2\u001b[0m \u001b[32m━━━━━━━━━━━━━━━━━━━━\u001b[0m\u001b[37m\u001b[0m \u001b[1m0s\u001b[0m 46ms/step - accuracy: 0.7441 - loss: 4.0324 - val_accuracy: 0.6000 - val_loss: 9.6820\n",
      "Epoch 15/50\n",
      "\u001b[1m2/2\u001b[0m \u001b[32m━━━━━━━━━━━━━━━━━━━━\u001b[0m\u001b[37m\u001b[0m \u001b[1m0s\u001b[0m 44ms/step - accuracy: 0.7545 - loss: 4.9253 - val_accuracy: 0.6000 - val_loss: 8.4454\n",
      "Epoch 16/50\n",
      "\u001b[1m2/2\u001b[0m \u001b[32m━━━━━━━━━━━━━━━━━━━━\u001b[0m\u001b[37m\u001b[0m \u001b[1m0s\u001b[0m 43ms/step - accuracy: 0.7753 - loss: 3.6306 - val_accuracy: 0.6000 - val_loss: 2.4944\n",
      "Epoch 17/50\n",
      "\u001b[1m2/2\u001b[0m \u001b[32m━━━━━━━━━━━━━━━━━━━━\u001b[0m\u001b[37m\u001b[0m \u001b[1m0s\u001b[0m 37ms/step - accuracy: 0.7934 - loss: 0.9819 - val_accuracy: 0.4000 - val_loss: 6.1442\n",
      "Epoch 18/50\n",
      "\u001b[1m2/2\u001b[0m \u001b[32m━━━━━━━━━━━━━━━━━━━━\u001b[0m\u001b[37m\u001b[0m \u001b[1m0s\u001b[0m 64ms/step - accuracy: 0.2351 - loss: 8.0706 - val_accuracy: 0.3000 - val_loss: 1.3763\n",
      "Epoch 19/50\n",
      "\u001b[1m2/2\u001b[0m \u001b[32m━━━━━━━━━━━━━━━━━━━━\u001b[0m\u001b[37m\u001b[0m \u001b[1m0s\u001b[0m 36ms/step - accuracy: 0.3744 - loss: 1.4136 - val_accuracy: 0.6000 - val_loss: 8.7009\n",
      "Epoch 20/50\n",
      "\u001b[1m2/2\u001b[0m \u001b[32m━━━━━━━━━━━━━━━━━━━━\u001b[0m\u001b[37m\u001b[0m \u001b[1m0s\u001b[0m 44ms/step - accuracy: 0.7545 - loss: 4.5592 - val_accuracy: 0.6000 - val_loss: 13.6107\n",
      "Epoch 21/50\n",
      "\u001b[1m2/2\u001b[0m \u001b[32m━━━━━━━━━━━━━━━━━━━━\u001b[0m\u001b[37m\u001b[0m \u001b[1m0s\u001b[0m 46ms/step - accuracy: 0.7441 - loss: 7.4642 - val_accuracy: 0.6000 - val_loss: 14.7209\n",
      "Epoch 22/50\n",
      "\u001b[1m2/2\u001b[0m \u001b[32m━━━━━━━━━━━━━━━━━━━━\u001b[0m\u001b[37m\u001b[0m \u001b[1m0s\u001b[0m 37ms/step - accuracy: 0.7545 - loss: 7.8416 - val_accuracy: 0.6000 - val_loss: 13.0183\n",
      "Epoch 23/50\n",
      "\u001b[1m2/2\u001b[0m \u001b[32m━━━━━━━━━━━━━━━━━━━━\u001b[0m\u001b[37m\u001b[0m \u001b[1m0s\u001b[0m 42ms/step - accuracy: 0.7545 - loss: 6.6563 - val_accuracy: 0.6000 - val_loss: 8.1529\n",
      "Epoch 24/50\n",
      "\u001b[1m2/2\u001b[0m \u001b[32m━━━━━━━━━━━━━━━━━━━━\u001b[0m\u001b[37m\u001b[0m \u001b[1m0s\u001b[0m 56ms/step - accuracy: 0.7649 - loss: 3.6317 - val_accuracy: 0.4000 - val_loss: 1.1333\n",
      "Epoch 25/50\n",
      "\u001b[1m2/2\u001b[0m \u001b[32m━━━━━━━━━━━━━━━━━━━━\u001b[0m\u001b[37m\u001b[0m \u001b[1m0s\u001b[0m 62ms/step - accuracy: 0.3592 - loss: 1.6313 - val_accuracy: 0.4000 - val_loss: 2.0441\n",
      "Epoch 26/50\n",
      "\u001b[1m2/2\u001b[0m \u001b[32m━━━━━━━━━━━━━━━━━━━━\u001b[0m\u001b[37m\u001b[0m \u001b[1m0s\u001b[0m 46ms/step - accuracy: 0.2995 - loss: 2.4984 - val_accuracy: 0.6000 - val_loss: 5.2502\n",
      "Epoch 27/50\n",
      "\u001b[1m2/2\u001b[0m \u001b[32m━━━━━━━━━━━━━━━━━━━━\u001b[0m\u001b[37m\u001b[0m \u001b[1m0s\u001b[0m 51ms/step - accuracy: 0.7649 - loss: 2.5705 - val_accuracy: 0.6000 - val_loss: 6.6958\n",
      "Epoch 28/50\n",
      "\u001b[1m2/2\u001b[0m \u001b[32m━━━━━━━━━━━━━━━━━━━━\u001b[0m\u001b[37m\u001b[0m \u001b[1m0s\u001b[0m 52ms/step - accuracy: 0.7441 - loss: 3.4789 - val_accuracy: 0.6000 - val_loss: 4.3536\n",
      "Epoch 29/50\n",
      "\u001b[1m2/2\u001b[0m \u001b[32m━━━━━━━━━━━━━━━━━━━━\u001b[0m\u001b[37m\u001b[0m \u001b[1m0s\u001b[0m 60ms/step - accuracy: 0.7545 - loss: 1.9558 - val_accuracy: 0.3000 - val_loss: 1.0987\n",
      "Epoch 30/50\n",
      "\u001b[1m2/2\u001b[0m \u001b[32m━━━━━━━━━━━━━━━━━━━━\u001b[0m\u001b[37m\u001b[0m \u001b[1m0s\u001b[0m 43ms/step - accuracy: 0.3773 - loss: 1.2256 - val_accuracy: 0.6000 - val_loss: 1.5554\n",
      "Epoch 31/50\n",
      "\u001b[1m2/2\u001b[0m \u001b[32m━━━━━━━━━━━━━━━━━━━━\u001b[0m\u001b[37m\u001b[0m \u001b[1m0s\u001b[0m 45ms/step - accuracy: 0.7261 - loss: 0.6637 - val_accuracy: 0.6000 - val_loss: 3.2388\n",
      "Epoch 32/50\n",
      "\u001b[1m2/2\u001b[0m \u001b[32m━━━━━━━━━━━━━━━━━━━━\u001b[0m\u001b[37m\u001b[0m \u001b[1m0s\u001b[0m 55ms/step - accuracy: 0.7545 - loss: 1.4137 - val_accuracy: 0.6000 - val_loss: 1.7043\n",
      "Epoch 33/50\n",
      "\u001b[1m2/2\u001b[0m \u001b[32m━━━━━━━━━━━━━━━━━━━━\u001b[0m\u001b[37m\u001b[0m \u001b[1m0s\u001b[0m 53ms/step - accuracy: 0.6900 - loss: 0.6958 - val_accuracy: 0.4000 - val_loss: 1.0445\n",
      "Epoch 34/50\n",
      "\u001b[1m2/2\u001b[0m \u001b[32m━━━━━━━━━━━━━━━━━━━━\u001b[0m\u001b[37m\u001b[0m \u001b[1m0s\u001b[0m 52ms/step - accuracy: 0.5479 - loss: 0.9119 - val_accuracy: 0.6000 - val_loss: 1.5440\n",
      "Epoch 35/50\n",
      "\u001b[1m2/2\u001b[0m \u001b[32m━━━━━━━━━━━━━━━━━━━━\u001b[0m\u001b[37m\u001b[0m \u001b[1m0s\u001b[0m 62ms/step - accuracy: 0.7858 - loss: 0.5249 - val_accuracy: 0.4000 - val_loss: 1.5520\n",
      "Epoch 36/50\n",
      "\u001b[1m2/2\u001b[0m \u001b[32m━━━━━━━━━━━━━━━━━━━━\u001b[0m\u001b[37m\u001b[0m \u001b[1m0s\u001b[0m 53ms/step - accuracy: 0.2531 - loss: 1.9987 - val_accuracy: 0.6000 - val_loss: 1.6135\n",
      "Epoch 37/50\n",
      "\u001b[1m2/2\u001b[0m \u001b[32m━━━━━━━━━━━━━━━━━━━━\u001b[0m\u001b[37m\u001b[0m \u001b[1m0s\u001b[0m 65ms/step - accuracy: 0.7649 - loss: 0.6349 - val_accuracy: 0.5000 - val_loss: 1.4165\n",
      "Epoch 38/50\n",
      "\u001b[1m2/2\u001b[0m \u001b[32m━━━━━━━━━━━━━━━━━━━━\u001b[0m\u001b[37m\u001b[0m \u001b[1m0s\u001b[0m 66ms/step - accuracy: 0.7829 - loss: 0.5455 - val_accuracy: 0.4000 - val_loss: 1.5488\n",
      "Epoch 39/50\n",
      "\u001b[1m2/2\u001b[0m \u001b[32m━━━━━━━━━━━━━━━━━━━━\u001b[0m\u001b[37m\u001b[0m \u001b[1m0s\u001b[0m 62ms/step - accuracy: 0.2711 - loss: 1.9718 - val_accuracy: 0.6000 - val_loss: 1.6657\n",
      "Epoch 40/50\n",
      "\u001b[1m2/2\u001b[0m \u001b[32m━━━━━━━━━━━━━━━━━━━━\u001b[0m\u001b[37m\u001b[0m \u001b[1m0s\u001b[0m 34ms/step - accuracy: 0.7261 - loss: 0.6740 - val_accuracy: 0.6000 - val_loss: 1.6863\n",
      "Epoch 41/50\n",
      "\u001b[1m2/2\u001b[0m \u001b[32m━━━━━━━━━━━━━━━━━━━━\u001b[0m\u001b[37m\u001b[0m \u001b[1m0s\u001b[0m 59ms/step - accuracy: 0.7469 - loss: 0.6456 - val_accuracy: 0.6000 - val_loss: 1.0932\n",
      "Epoch 42/50\n",
      "\u001b[1m2/2\u001b[0m \u001b[32m━━━━━━━━━━━━━━━━━━━━\u001b[0m\u001b[37m\u001b[0m \u001b[1m0s\u001b[0m 46ms/step - accuracy: 0.5839 - loss: 0.7020 - val_accuracy: 0.6000 - val_loss: 1.5802\n",
      "Epoch 43/50\n",
      "\u001b[1m2/2\u001b[0m \u001b[32m━━━━━━━━━━━━━━━━━━━━\u001b[0m\u001b[37m\u001b[0m \u001b[1m0s\u001b[0m 45ms/step - accuracy: 0.7649 - loss: 0.5975 - val_accuracy: 0.3000 - val_loss: 1.0900\n",
      "Epoch 44/50\n",
      "\u001b[1m2/2\u001b[0m \u001b[32m━━━━━━━━━━━━━━━━━━━━\u001b[0m\u001b[37m\u001b[0m \u001b[1m0s\u001b[0m 39ms/step - accuracy: 0.4341 - loss: 1.0762 - val_accuracy: 0.6000 - val_loss: 3.1386\n",
      "Epoch 45/50\n",
      "\u001b[1m2/2\u001b[0m \u001b[32m━━━━━━━━━━━━━━━━━━━━\u001b[0m\u001b[37m\u001b[0m \u001b[1m0s\u001b[0m 43ms/step - accuracy: 0.7649 - loss: 1.4390 - val_accuracy: 0.6000 - val_loss: 4.3603\n",
      "Epoch 46/50\n",
      "\u001b[1m2/2\u001b[0m \u001b[32m━━━━━━━━━━━━━━━━━━━━\u001b[0m\u001b[37m\u001b[0m \u001b[1m0s\u001b[0m 114ms/step - accuracy: 0.7649 - loss: 1.8559 - val_accuracy: 0.4000 - val_loss: 1.0343\n",
      "Epoch 47/50\n",
      "\u001b[1m2/2\u001b[0m \u001b[32m━━━━━━━━━━━━━━━━━━━━\u001b[0m\u001b[37m\u001b[0m \u001b[1m0s\u001b[0m 32ms/step - accuracy: 0.4445 - loss: 1.0655 - val_accuracy: 0.5000 - val_loss: 1.3732\n",
      "Epoch 48/50\n",
      "\u001b[1m2/2\u001b[0m \u001b[32m━━━━━━━━━━━━━━━━━━━━\u001b[0m\u001b[37m\u001b[0m \u001b[1m0s\u001b[0m 39ms/step - accuracy: 0.7261 - loss: 0.6119 - val_accuracy: 0.6000 - val_loss: 3.8078\n",
      "Epoch 49/50\n",
      "\u001b[1m2/2\u001b[0m \u001b[32m━━━━━━━━━━━━━━━━━━━━\u001b[0m\u001b[37m\u001b[0m \u001b[1m0s\u001b[0m 39ms/step - accuracy: 0.7441 - loss: 1.8160 - val_accuracy: 0.6000 - val_loss: 3.1454\n",
      "Epoch 50/50\n",
      "\u001b[1m2/2\u001b[0m \u001b[32m━━━━━━━━━━━━━━━━━━━━\u001b[0m\u001b[37m\u001b[0m \u001b[1m0s\u001b[0m 61ms/step - accuracy: 0.7753 - loss: 1.1137 - val_accuracy: 0.4000 - val_loss: 2.3210\n"
=======
      "\u001b[1m2/2\u001b[0m \u001b[32m━━━━━━━━━━━━━━━━━━━━\u001b[0m\u001b[37m\u001b[0m \u001b[1m1s\u001b[0m 277ms/step - accuracy: 0.2036 - loss: 69.0669 - val_accuracy: 0.8462 - val_loss: 3.4510\n",
      "Epoch 2/50\n",
      "\u001b[1m2/2\u001b[0m \u001b[32m━━━━━━━━━━━━━━━━━━━━\u001b[0m\u001b[37m\u001b[0m \u001b[1m0s\u001b[0m 94ms/step - accuracy: 0.8172 - loss: 7.2764 - val_accuracy: 0.8462 - val_loss: 13.4843\n",
      "Epoch 3/50\n",
      "\u001b[1m2/2\u001b[0m \u001b[32m━━━━━━━━━━━━━━━━━━━━\u001b[0m\u001b[37m\u001b[0m \u001b[1m0s\u001b[0m 81ms/step - accuracy: 0.8068 - loss: 19.0527 - val_accuracy: 0.8462 - val_loss: 16.9316\n",
      "Epoch 4/50\n",
      "\u001b[1m2/2\u001b[0m \u001b[32m━━━━━━━━━━━━━━━━━━━━\u001b[0m\u001b[37m\u001b[0m \u001b[1m0s\u001b[0m 90ms/step - accuracy: 0.8068 - loss: 22.9810 - val_accuracy: 0.8462 - val_loss: 16.5804\n",
      "Epoch 5/50\n",
      "\u001b[1m2/2\u001b[0m \u001b[32m━━━━━━━━━━━━━━━━━━━━\u001b[0m\u001b[37m\u001b[0m \u001b[1m0s\u001b[0m 73ms/step - accuracy: 0.8068 - loss: 21.9510 - val_accuracy: 0.8462 - val_loss: 13.6055\n",
      "Epoch 6/50\n",
      "\u001b[1m2/2\u001b[0m \u001b[32m━━━━━━━━━━━━━━━━━━━━\u001b[0m\u001b[37m\u001b[0m \u001b[1m0s\u001b[0m 73ms/step - accuracy: 0.8068 - loss: 17.5716 - val_accuracy: 0.8462 - val_loss: 8.6816\n",
      "Epoch 7/50\n",
      "\u001b[1m2/2\u001b[0m \u001b[32m━━━━━━━━━━━━━━━━━━━━\u001b[0m\u001b[37m\u001b[0m \u001b[1m0s\u001b[0m 85ms/step - accuracy: 0.7964 - loss: 11.5048 - val_accuracy: 0.8462 - val_loss: 2.2335\n",
      "Epoch 8/50\n",
      "\u001b[1m2/2\u001b[0m \u001b[32m━━━━━━━━━━━━━━━━━━━━\u001b[0m\u001b[37m\u001b[0m \u001b[1m0s\u001b[0m 75ms/step - accuracy: 0.5899 - loss: 5.1613 - val_accuracy: 0.1538 - val_loss: 10.9719\n",
      "Epoch 9/50\n",
      "\u001b[1m2/2\u001b[0m \u001b[32m━━━━━━━━━━━━━━━━━━━━\u001b[0m\u001b[37m\u001b[0m \u001b[1m0s\u001b[0m 76ms/step - accuracy: 0.2141 - loss: 8.2807 - val_accuracy: 0.8462 - val_loss: 2.6127\n",
      "Epoch 10/50\n",
      "\u001b[1m2/2\u001b[0m \u001b[32m━━━━━━━━━━━━━━━━━━━━\u001b[0m\u001b[37m\u001b[0m \u001b[1m0s\u001b[0m 90ms/step - accuracy: 0.7964 - loss: 4.4089 - val_accuracy: 0.8462 - val_loss: 6.6267\n",
      "Epoch 11/50\n",
      "\u001b[1m2/2\u001b[0m \u001b[32m━━━━━━━━━━━━━━━━━━━━\u001b[0m\u001b[37m\u001b[0m \u001b[1m0s\u001b[0m 76ms/step - accuracy: 0.7964 - loss: 9.8058 - val_accuracy: 0.8462 - val_loss: 8.2144\n",
      "Epoch 12/50\n",
      "\u001b[1m2/2\u001b[0m \u001b[32m━━━━━━━━━━━━━━━━━━━━\u001b[0m\u001b[37m\u001b[0m \u001b[1m0s\u001b[0m 76ms/step - accuracy: 0.8068 - loss: 11.2341 - val_accuracy: 0.8462 - val_loss: 7.8301\n",
      "Epoch 13/50\n",
      "\u001b[1m2/2\u001b[0m \u001b[32m━━━━━━━━━━━━━━━━━━━━\u001b[0m\u001b[37m\u001b[0m \u001b[1m0s\u001b[0m 85ms/step - accuracy: 0.8276 - loss: 8.9916 - val_accuracy: 0.8462 - val_loss: 5.7363\n",
      "Epoch 14/50\n",
      "\u001b[1m2/2\u001b[0m \u001b[32m━━━━━━━━━━━━━━━━━━━━\u001b[0m\u001b[37m\u001b[0m \u001b[1m0s\u001b[0m 76ms/step - accuracy: 0.7859 - loss: 8.3953 - val_accuracy: 0.8462 - val_loss: 1.8955\n",
      "Epoch 15/50\n",
      "\u001b[1m2/2\u001b[0m \u001b[32m━━━━━━━━━━━━━━━━━━━━\u001b[0m\u001b[37m\u001b[0m \u001b[1m0s\u001b[0m 79ms/step - accuracy: 0.6264 - loss: 2.8238 - val_accuracy: 0.1538 - val_loss: 3.5080\n",
      "Epoch 16/50\n",
      "\u001b[1m2/2\u001b[0m \u001b[32m━━━━━━━━━━━━━━━━━━━━\u001b[0m\u001b[37m\u001b[0m \u001b[1m0s\u001b[0m 68ms/step - accuracy: 0.3004 - loss: 3.1201 - val_accuracy: 0.8462 - val_loss: 1.6945\n",
      "Epoch 17/50\n",
      "\u001b[1m2/2\u001b[0m \u001b[32m━━━━━━━━━━━━━━━━━━━━\u001b[0m\u001b[37m\u001b[0m \u001b[1m0s\u001b[0m 89ms/step - accuracy: 0.8172 - loss: 2.3969 - val_accuracy: 0.8462 - val_loss: 1.8570\n",
      "Epoch 18/50\n",
      "\u001b[1m2/2\u001b[0m \u001b[32m━━━━━━━━━━━━━━━━━━━━\u001b[0m\u001b[37m\u001b[0m \u001b[1m0s\u001b[0m 79ms/step - accuracy: 0.8068 - loss: 2.2752 - val_accuracy: 0.8462 - val_loss: 0.4211\n",
      "Epoch 19/50\n",
      "\u001b[1m2/2\u001b[0m \u001b[32m━━━━━━━━━━━━━━━━━━━━\u001b[0m\u001b[37m\u001b[0m \u001b[1m0s\u001b[0m 87ms/step - accuracy: 0.5063 - loss: 2.0946 - val_accuracy: 0.7692 - val_loss: 0.4492\n",
      "Epoch 20/50\n",
      "\u001b[1m2/2\u001b[0m \u001b[32m━━━━━━━━━━━━━━━━━━━━\u001b[0m\u001b[37m\u001b[0m \u001b[1m0s\u001b[0m 119ms/step - accuracy: 0.7286 - loss: 0.6008 - val_accuracy: 0.8462 - val_loss: 1.8141\n",
      "Epoch 21/50\n",
      "\u001b[1m2/2\u001b[0m \u001b[32m━━━━━━━━━━━━━━━━━━━━\u001b[0m\u001b[37m\u001b[0m \u001b[1m0s\u001b[0m 99ms/step - accuracy: 0.8172 - loss: 2.5206 - val_accuracy: 0.8462 - val_loss: 1.8490\n",
      "Epoch 22/50\n",
      "\u001b[1m2/2\u001b[0m \u001b[32m━━━━━━━━━━━━━━━━━━━━\u001b[0m\u001b[37m\u001b[0m \u001b[1m0s\u001b[0m 83ms/step - accuracy: 0.8068 - loss: 2.2733 - val_accuracy: 0.7692 - val_loss: 0.5348\n",
      "Epoch 23/50\n",
      "\u001b[1m2/2\u001b[0m \u001b[32m━━━━━━━━━━━━━━━━━━━━\u001b[0m\u001b[37m\u001b[0m \u001b[1m0s\u001b[0m 95ms/step - accuracy: 0.5455 - loss: 1.2321 - val_accuracy: 0.8462 - val_loss: 0.5316\n",
      "Epoch 24/50\n",
      "\u001b[1m2/2\u001b[0m \u001b[32m━━━━━━━━━━━━━━━━━━━━\u001b[0m\u001b[37m\u001b[0m \u001b[1m0s\u001b[0m 86ms/step - accuracy: 0.7651 - loss: 0.9365 - val_accuracy: 0.8462 - val_loss: 1.2523\n",
      "Epoch 25/50\n",
      "\u001b[1m2/2\u001b[0m \u001b[32m━━━━━━━━━━━━━━━━━━━━\u001b[0m\u001b[37m\u001b[0m \u001b[1m0s\u001b[0m 98ms/step - accuracy: 0.8172 - loss: 1.6431 - val_accuracy: 0.8462 - val_loss: 0.6138\n",
      "Epoch 26/50\n",
      "\u001b[1m2/2\u001b[0m \u001b[32m━━━━━━━━━━━━━━━━━━━━\u001b[0m\u001b[37m\u001b[0m \u001b[1m0s\u001b[0m 92ms/step - accuracy: 0.6630 - loss: 1.0614 - val_accuracy: 0.8462 - val_loss: 0.4088\n",
      "Epoch 27/50\n",
      "\u001b[1m2/2\u001b[0m \u001b[32m━━━━━━━━━━━━━━━━━━━━\u001b[0m\u001b[37m\u001b[0m \u001b[1m0s\u001b[0m 90ms/step - accuracy: 0.7859 - loss: 0.6760 - val_accuracy: 0.8462 - val_loss: 0.6357\n",
      "Epoch 28/50\n",
      "\u001b[1m2/2\u001b[0m \u001b[32m━━━━━━━━━━━━━━━━━━━━\u001b[0m\u001b[37m\u001b[0m \u001b[1m0s\u001b[0m 82ms/step - accuracy: 0.7937 - loss: 0.8249 - val_accuracy: 0.1538 - val_loss: 1.3129\n",
      "Epoch 29/50\n",
      "\u001b[1m2/2\u001b[0m \u001b[32m━━━━━━━━━━━━━━━━━━━━\u001b[0m\u001b[37m\u001b[0m \u001b[1m0s\u001b[0m 100ms/step - accuracy: 0.3736 - loss: 1.1091 - val_accuracy: 0.8462 - val_loss: 0.9376\n",
      "Epoch 30/50\n",
      "\u001b[1m2/2\u001b[0m \u001b[32m━━━━━━━━━━━━━━━━━━━━\u001b[0m\u001b[37m\u001b[0m \u001b[1m0s\u001b[0m 87ms/step - accuracy: 0.8068 - loss: 1.3298 - val_accuracy: 0.8462 - val_loss: 0.4197\n",
      "Epoch 31/50\n",
      "\u001b[1m2/2\u001b[0m \u001b[32m━━━━━━━━━━━━━━━━━━━━\u001b[0m\u001b[37m\u001b[0m \u001b[1m0s\u001b[0m 90ms/step - accuracy: 0.6029 - loss: 1.0788 - val_accuracy: 0.8462 - val_loss: 0.6440\n",
      "Epoch 32/50\n",
      "\u001b[1m2/2\u001b[0m \u001b[32m━━━━━━━━━━━━━━━━━━━━\u001b[0m\u001b[37m\u001b[0m \u001b[1m0s\u001b[0m 91ms/step - accuracy: 0.8172 - loss: 1.1759 - val_accuracy: 0.8462 - val_loss: 1.2522\n",
      "Epoch 33/50\n",
      "\u001b[1m2/2\u001b[0m \u001b[32m━━━━━━━━━━━━━━━━━━━━\u001b[0m\u001b[37m\u001b[0m \u001b[1m0s\u001b[0m 88ms/step - accuracy: 0.7859 - loss: 1.8107 - val_accuracy: 0.2308 - val_loss: 0.9909\n",
      "Epoch 34/50\n",
      "\u001b[1m2/2\u001b[0m \u001b[32m━━━━━━━━━━━━━━━━━━━━\u001b[0m\u001b[37m\u001b[0m \u001b[1m0s\u001b[0m 90ms/step - accuracy: 0.3944 - loss: 0.9350 - val_accuracy: 0.8462 - val_loss: 0.4321\n",
      "Epoch 35/50\n",
      "\u001b[1m2/2\u001b[0m \u001b[32m━━━━━━━━━━━━━━━━━━━━\u001b[0m\u001b[37m\u001b[0m \u001b[1m0s\u001b[0m 91ms/step - accuracy: 0.8145 - loss: 0.5908 - val_accuracy: 0.1538 - val_loss: 1.2005\n",
      "Epoch 36/50\n",
      "\u001b[1m2/2\u001b[0m \u001b[32m━━━━━━━━━━━━━━━━━━━━\u001b[0m\u001b[37m\u001b[0m \u001b[1m0s\u001b[0m 81ms/step - accuracy: 0.2743 - loss: 1.4785 - val_accuracy: 0.8462 - val_loss: 0.7950\n",
      "Epoch 37/50\n",
      "\u001b[1m2/2\u001b[0m \u001b[32m━━━━━━━━━━━━━━━━━━━━\u001b[0m\u001b[37m\u001b[0m \u001b[1m0s\u001b[0m 92ms/step - accuracy: 0.8068 - loss: 0.9933 - val_accuracy: 0.1538 - val_loss: 1.8164\n",
      "Epoch 38/50\n",
      "\u001b[1m2/2\u001b[0m \u001b[32m━━━━━━━━━━━━━━━━━━━━\u001b[0m\u001b[37m\u001b[0m \u001b[1m0s\u001b[0m 90ms/step - accuracy: 0.3004 - loss: 1.7372 - val_accuracy: 0.8462 - val_loss: 0.9048\n",
      "Epoch 39/50\n",
      "\u001b[1m2/2\u001b[0m \u001b[32m━━━━━━━━━━━━━━━━━━━━\u001b[0m\u001b[37m\u001b[0m \u001b[1m0s\u001b[0m 89ms/step - accuracy: 0.8172 - loss: 1.1664 - val_accuracy: 0.7692 - val_loss: 0.5072\n",
      "Epoch 40/50\n",
      "\u001b[1m2/2\u001b[0m \u001b[32m━━━━━━━━━━━━━━━━━━━━\u001b[0m\u001b[37m\u001b[0m \u001b[1m0s\u001b[0m 83ms/step - accuracy: 0.5978 - loss: 0.6884 - val_accuracy: 0.8462 - val_loss: 0.5682\n",
      "Epoch 41/50\n",
      "\u001b[1m2/2\u001b[0m \u001b[32m━━━━━━━━━━━━━━━━━━━━\u001b[0m\u001b[37m\u001b[0m \u001b[1m0s\u001b[0m 92ms/step - accuracy: 0.8068 - loss: 0.9301 - val_accuracy: 0.8462 - val_loss: 0.5771\n",
      "Epoch 42/50\n",
      "\u001b[1m2/2\u001b[0m \u001b[32m━━━━━━━━━━━━━━━━━━━━\u001b[0m\u001b[37m\u001b[0m \u001b[1m0s\u001b[0m 100ms/step - accuracy: 0.7780 - loss: 0.7212 - val_accuracy: 0.3077 - val_loss: 0.9225\n",
      "Epoch 43/50\n",
      "\u001b[1m2/2\u001b[0m \u001b[32m━━━━━━━━━━━━━━━━━━━━\u001b[0m\u001b[37m\u001b[0m \u001b[1m0s\u001b[0m 91ms/step - accuracy: 0.4779 - loss: 0.9761 - val_accuracy: 0.8462 - val_loss: 1.0339\n",
      "Epoch 44/50\n",
      "\u001b[1m2/2\u001b[0m \u001b[32m━━━━━━━━━━━━━━━━━━━━\u001b[0m\u001b[37m\u001b[0m \u001b[1m0s\u001b[0m 94ms/step - accuracy: 0.8068 - loss: 1.3842 - val_accuracy: 0.8462 - val_loss: 0.4087\n",
      "Epoch 45/50\n",
      "\u001b[1m2/2\u001b[0m \u001b[32m━━━━━━━━━━━━━━━━━━━━\u001b[0m\u001b[37m\u001b[0m \u001b[1m0s\u001b[0m 88ms/step - accuracy: 0.6526 - loss: 0.7286 - val_accuracy: 0.8462 - val_loss: 0.7017\n",
      "Epoch 46/50\n",
      "\u001b[1m2/2\u001b[0m \u001b[32m━━━━━━━━━━━━━━━━━━━━\u001b[0m\u001b[37m\u001b[0m \u001b[1m0s\u001b[0m 107ms/step - accuracy: 0.8068 - loss: 1.1823 - val_accuracy: 0.8462 - val_loss: 1.0862\n",
      "Epoch 47/50\n",
      "\u001b[1m2/2\u001b[0m \u001b[32m━━━━━━━━━━━━━━━━━━━━\u001b[0m\u001b[37m\u001b[0m \u001b[1m0s\u001b[0m 86ms/step - accuracy: 0.7964 - loss: 1.4899 - val_accuracy: 0.1538 - val_loss: 2.1661\n",
      "Epoch 48/50\n",
      "\u001b[1m2/2\u001b[0m \u001b[32m━━━━━━━━━━━━━━━━━━━━\u001b[0m\u001b[37m\u001b[0m \u001b[1m0s\u001b[0m 97ms/step - accuracy: 0.3004 - loss: 2.0356 - val_accuracy: 0.8462 - val_loss: 1.0764\n",
      "Epoch 49/50\n",
      "\u001b[1m2/2\u001b[0m \u001b[32m━━━━━━━━━━━━━━━━━━━━\u001b[0m\u001b[37m\u001b[0m \u001b[1m0s\u001b[0m 81ms/step - accuracy: 0.7859 - loss: 1.5975 - val_accuracy: 0.8462 - val_loss: 0.4230\n",
      "Epoch 50/50\n",
      "\u001b[1m2/2\u001b[0m \u001b[32m━━━━━━━━━━━━━━━━━━━━\u001b[0m\u001b[37m\u001b[0m \u001b[1m0s\u001b[0m 85ms/step - accuracy: 0.6761 - loss: 0.7652 - val_accuracy: 0.8462 - val_loss: 0.5070\n"
>>>>>>> Stashed changes
     ]
    }
   ],
   "source": [
    "#CURVEBALL MODEL\n",
    "curveball_model = train_model(X1, y1)"
   ]
  },
  {
   "cell_type": "code",
<<<<<<< Updated upstream
   "execution_count": 87,
=======
   "execution_count": 38,
>>>>>>> Stashed changes
   "metadata": {},
   "outputs": [
    {
     "data": {
      "text/html": [
<<<<<<< Updated upstream
       "<style>#sk-container-id-13 {\n",
       "  /* Definition of color scheme common for light and dark mode */\n",
       "  --sklearn-color-text: black;\n",
=======
       "<style>#sk-container-id-5 {\n",
       "  /* Definition of color scheme common for light and dark mode */\n",
       "  --sklearn-color-text: #000;\n",
       "  --sklearn-color-text-muted: #666;\n",
>>>>>>> Stashed changes
       "  --sklearn-color-line: gray;\n",
       "  /* Definition of color scheme for unfitted estimators */\n",
       "  --sklearn-color-unfitted-level-0: #fff5e6;\n",
       "  --sklearn-color-unfitted-level-1: #f6e4d2;\n",
       "  --sklearn-color-unfitted-level-2: #ffe0b3;\n",
       "  --sklearn-color-unfitted-level-3: chocolate;\n",
       "  /* Definition of color scheme for fitted estimators */\n",
       "  --sklearn-color-fitted-level-0: #f0f8ff;\n",
       "  --sklearn-color-fitted-level-1: #d4ebff;\n",
       "  --sklearn-color-fitted-level-2: #b3dbfd;\n",
       "  --sklearn-color-fitted-level-3: cornflowerblue;\n",
       "\n",
       "  /* Specific color for light theme */\n",
       "  --sklearn-color-text-on-default-background: var(--sg-text-color, var(--theme-code-foreground, var(--jp-content-font-color1, black)));\n",
       "  --sklearn-color-background: var(--sg-background-color, var(--theme-background, var(--jp-layout-color0, white)));\n",
       "  --sklearn-color-border-box: var(--sg-text-color, var(--theme-code-foreground, var(--jp-content-font-color1, black)));\n",
       "  --sklearn-color-icon: #696969;\n",
       "\n",
       "  @media (prefers-color-scheme: dark) {\n",
       "    /* Redefinition of color scheme for dark theme */\n",
       "    --sklearn-color-text-on-default-background: var(--sg-text-color, var(--theme-code-foreground, var(--jp-content-font-color1, white)));\n",
       "    --sklearn-color-background: var(--sg-background-color, var(--theme-background, var(--jp-layout-color0, #111)));\n",
       "    --sklearn-color-border-box: var(--sg-text-color, var(--theme-code-foreground, var(--jp-content-font-color1, white)));\n",
       "    --sklearn-color-icon: #878787;\n",
       "  }\n",
       "}\n",
       "\n",
<<<<<<< Updated upstream
       "#sk-container-id-13 {\n",
       "  color: var(--sklearn-color-text);\n",
       "}\n",
       "\n",
       "#sk-container-id-13 pre {\n",
       "  padding: 0;\n",
       "}\n",
       "\n",
       "#sk-container-id-13 input.sk-hidden--visually {\n",
=======
       "#sk-container-id-5 {\n",
       "  color: var(--sklearn-color-text);\n",
       "}\n",
       "\n",
       "#sk-container-id-5 pre {\n",
       "  padding: 0;\n",
       "}\n",
       "\n",
       "#sk-container-id-5 input.sk-hidden--visually {\n",
>>>>>>> Stashed changes
       "  border: 0;\n",
       "  clip: rect(1px 1px 1px 1px);\n",
       "  clip: rect(1px, 1px, 1px, 1px);\n",
       "  height: 1px;\n",
       "  margin: -1px;\n",
       "  overflow: hidden;\n",
       "  padding: 0;\n",
       "  position: absolute;\n",
       "  width: 1px;\n",
       "}\n",
       "\n",
<<<<<<< Updated upstream
       "#sk-container-id-13 div.sk-dashed-wrapped {\n",
=======
       "#sk-container-id-5 div.sk-dashed-wrapped {\n",
>>>>>>> Stashed changes
       "  border: 1px dashed var(--sklearn-color-line);\n",
       "  margin: 0 0.4em 0.5em 0.4em;\n",
       "  box-sizing: border-box;\n",
       "  padding-bottom: 0.4em;\n",
       "  background-color: var(--sklearn-color-background);\n",
       "}\n",
       "\n",
<<<<<<< Updated upstream
       "#sk-container-id-13 div.sk-container {\n",
=======
       "#sk-container-id-5 div.sk-container {\n",
>>>>>>> Stashed changes
       "  /* jupyter's `normalize.less` sets `[hidden] { display: none; }`\n",
       "     but bootstrap.min.css set `[hidden] { display: none !important; }`\n",
       "     so we also need the `!important` here to be able to override the\n",
       "     default hidden behavior on the sphinx rendered scikit-learn.org.\n",
       "     See: https://github.com/scikit-learn/scikit-learn/issues/21755 */\n",
       "  display: inline-block !important;\n",
       "  position: relative;\n",
       "}\n",
       "\n",
<<<<<<< Updated upstream
       "#sk-container-id-13 div.sk-text-repr-fallback {\n",
=======
       "#sk-container-id-5 div.sk-text-repr-fallback {\n",
>>>>>>> Stashed changes
       "  display: none;\n",
       "}\n",
       "\n",
       "div.sk-parallel-item,\n",
       "div.sk-serial,\n",
       "div.sk-item {\n",
       "  /* draw centered vertical line to link estimators */\n",
       "  background-image: linear-gradient(var(--sklearn-color-text-on-default-background), var(--sklearn-color-text-on-default-background));\n",
       "  background-size: 2px 100%;\n",
       "  background-repeat: no-repeat;\n",
       "  background-position: center center;\n",
       "}\n",
       "\n",
       "/* Parallel-specific style estimator block */\n",
       "\n",
<<<<<<< Updated upstream
       "#sk-container-id-13 div.sk-parallel-item::after {\n",
=======
       "#sk-container-id-5 div.sk-parallel-item::after {\n",
>>>>>>> Stashed changes
       "  content: \"\";\n",
       "  width: 100%;\n",
       "  border-bottom: 2px solid var(--sklearn-color-text-on-default-background);\n",
       "  flex-grow: 1;\n",
       "}\n",
       "\n",
<<<<<<< Updated upstream
       "#sk-container-id-13 div.sk-parallel {\n",
=======
       "#sk-container-id-5 div.sk-parallel {\n",
>>>>>>> Stashed changes
       "  display: flex;\n",
       "  align-items: stretch;\n",
       "  justify-content: center;\n",
       "  background-color: var(--sklearn-color-background);\n",
       "  position: relative;\n",
       "}\n",
       "\n",
<<<<<<< Updated upstream
       "#sk-container-id-13 div.sk-parallel-item {\n",
=======
       "#sk-container-id-5 div.sk-parallel-item {\n",
>>>>>>> Stashed changes
       "  display: flex;\n",
       "  flex-direction: column;\n",
       "}\n",
       "\n",
<<<<<<< Updated upstream
       "#sk-container-id-13 div.sk-parallel-item:first-child::after {\n",
=======
       "#sk-container-id-5 div.sk-parallel-item:first-child::after {\n",
>>>>>>> Stashed changes
       "  align-self: flex-end;\n",
       "  width: 50%;\n",
       "}\n",
       "\n",
<<<<<<< Updated upstream
       "#sk-container-id-13 div.sk-parallel-item:last-child::after {\n",
=======
       "#sk-container-id-5 div.sk-parallel-item:last-child::after {\n",
>>>>>>> Stashed changes
       "  align-self: flex-start;\n",
       "  width: 50%;\n",
       "}\n",
       "\n",
<<<<<<< Updated upstream
       "#sk-container-id-13 div.sk-parallel-item:only-child::after {\n",
=======
       "#sk-container-id-5 div.sk-parallel-item:only-child::after {\n",
>>>>>>> Stashed changes
       "  width: 0;\n",
       "}\n",
       "\n",
       "/* Serial-specific style estimator block */\n",
       "\n",
<<<<<<< Updated upstream
       "#sk-container-id-13 div.sk-serial {\n",
=======
       "#sk-container-id-5 div.sk-serial {\n",
>>>>>>> Stashed changes
       "  display: flex;\n",
       "  flex-direction: column;\n",
       "  align-items: center;\n",
       "  background-color: var(--sklearn-color-background);\n",
       "  padding-right: 1em;\n",
       "  padding-left: 1em;\n",
       "}\n",
       "\n",
       "\n",
       "/* Toggleable style: style used for estimator/Pipeline/ColumnTransformer box that is\n",
       "clickable and can be expanded/collapsed.\n",
       "- Pipeline and ColumnTransformer use this feature and define the default style\n",
       "- Estimators will overwrite some part of the style using the `sk-estimator` class\n",
       "*/\n",
       "\n",
       "/* Pipeline and ColumnTransformer style (default) */\n",
       "\n",
<<<<<<< Updated upstream
       "#sk-container-id-13 div.sk-toggleable {\n",
=======
       "#sk-container-id-5 div.sk-toggleable {\n",
>>>>>>> Stashed changes
       "  /* Default theme specific background. It is overwritten whether we have a\n",
       "  specific estimator or a Pipeline/ColumnTransformer */\n",
       "  background-color: var(--sklearn-color-background);\n",
       "}\n",
       "\n",
       "/* Toggleable label */\n",
<<<<<<< Updated upstream
       "#sk-container-id-13 label.sk-toggleable__label {\n",
       "  cursor: pointer;\n",
       "  display: block;\n",
=======
       "#sk-container-id-5 label.sk-toggleable__label {\n",
       "  cursor: pointer;\n",
       "  display: flex;\n",
>>>>>>> Stashed changes
       "  width: 100%;\n",
       "  margin-bottom: 0;\n",
       "  padding: 0.5em;\n",
       "  box-sizing: border-box;\n",
       "  text-align: center;\n",
<<<<<<< Updated upstream
       "}\n",
       "\n",
       "#sk-container-id-13 label.sk-toggleable__label-arrow:before {\n",
=======
       "  align-items: start;\n",
       "  justify-content: space-between;\n",
       "  gap: 0.5em;\n",
       "}\n",
       "\n",
       "#sk-container-id-5 label.sk-toggleable__label .caption {\n",
       "  font-size: 0.6rem;\n",
       "  font-weight: lighter;\n",
       "  color: var(--sklearn-color-text-muted);\n",
       "}\n",
       "\n",
       "#sk-container-id-5 label.sk-toggleable__label-arrow:before {\n",
>>>>>>> Stashed changes
       "  /* Arrow on the left of the label */\n",
       "  content: \"▸\";\n",
       "  float: left;\n",
       "  margin-right: 0.25em;\n",
       "  color: var(--sklearn-color-icon);\n",
       "}\n",
       "\n",
<<<<<<< Updated upstream
       "#sk-container-id-13 label.sk-toggleable__label-arrow:hover:before {\n",
=======
       "#sk-container-id-5 label.sk-toggleable__label-arrow:hover:before {\n",
>>>>>>> Stashed changes
       "  color: var(--sklearn-color-text);\n",
       "}\n",
       "\n",
       "/* Toggleable content - dropdown */\n",
       "\n",
<<<<<<< Updated upstream
       "#sk-container-id-13 div.sk-toggleable__content {\n",
=======
       "#sk-container-id-5 div.sk-toggleable__content {\n",
>>>>>>> Stashed changes
       "  max-height: 0;\n",
       "  max-width: 0;\n",
       "  overflow: hidden;\n",
       "  text-align: left;\n",
       "  /* unfitted */\n",
       "  background-color: var(--sklearn-color-unfitted-level-0);\n",
       "}\n",
       "\n",
<<<<<<< Updated upstream
       "#sk-container-id-13 div.sk-toggleable__content.fitted {\n",
=======
       "#sk-container-id-5 div.sk-toggleable__content.fitted {\n",
>>>>>>> Stashed changes
       "  /* fitted */\n",
       "  background-color: var(--sklearn-color-fitted-level-0);\n",
       "}\n",
       "\n",
<<<<<<< Updated upstream
       "#sk-container-id-13 div.sk-toggleable__content pre {\n",
=======
       "#sk-container-id-5 div.sk-toggleable__content pre {\n",
>>>>>>> Stashed changes
       "  margin: 0.2em;\n",
       "  border-radius: 0.25em;\n",
       "  color: var(--sklearn-color-text);\n",
       "  /* unfitted */\n",
       "  background-color: var(--sklearn-color-unfitted-level-0);\n",
       "}\n",
       "\n",
<<<<<<< Updated upstream
       "#sk-container-id-13 div.sk-toggleable__content.fitted pre {\n",
=======
       "#sk-container-id-5 div.sk-toggleable__content.fitted pre {\n",
>>>>>>> Stashed changes
       "  /* unfitted */\n",
       "  background-color: var(--sklearn-color-fitted-level-0);\n",
       "}\n",
       "\n",
<<<<<<< Updated upstream
       "#sk-container-id-13 input.sk-toggleable__control:checked~div.sk-toggleable__content {\n",
=======
       "#sk-container-id-5 input.sk-toggleable__control:checked~div.sk-toggleable__content {\n",
>>>>>>> Stashed changes
       "  /* Expand drop-down */\n",
       "  max-height: 200px;\n",
       "  max-width: 100%;\n",
       "  overflow: auto;\n",
       "}\n",
       "\n",
<<<<<<< Updated upstream
       "#sk-container-id-13 input.sk-toggleable__control:checked~label.sk-toggleable__label-arrow:before {\n",
=======
       "#sk-container-id-5 input.sk-toggleable__control:checked~label.sk-toggleable__label-arrow:before {\n",
>>>>>>> Stashed changes
       "  content: \"▾\";\n",
       "}\n",
       "\n",
       "/* Pipeline/ColumnTransformer-specific style */\n",
       "\n",
<<<<<<< Updated upstream
       "#sk-container-id-13 div.sk-label input.sk-toggleable__control:checked~label.sk-toggleable__label {\n",
=======
       "#sk-container-id-5 div.sk-label input.sk-toggleable__control:checked~label.sk-toggleable__label {\n",
>>>>>>> Stashed changes
       "  color: var(--sklearn-color-text);\n",
       "  background-color: var(--sklearn-color-unfitted-level-2);\n",
       "}\n",
       "\n",
<<<<<<< Updated upstream
       "#sk-container-id-13 div.sk-label.fitted input.sk-toggleable__control:checked~label.sk-toggleable__label {\n",
=======
       "#sk-container-id-5 div.sk-label.fitted input.sk-toggleable__control:checked~label.sk-toggleable__label {\n",
>>>>>>> Stashed changes
       "  background-color: var(--sklearn-color-fitted-level-2);\n",
       "}\n",
       "\n",
       "/* Estimator-specific style */\n",
       "\n",
       "/* Colorize estimator box */\n",
<<<<<<< Updated upstream
       "#sk-container-id-13 div.sk-estimator input.sk-toggleable__control:checked~label.sk-toggleable__label {\n",
=======
       "#sk-container-id-5 div.sk-estimator input.sk-toggleable__control:checked~label.sk-toggleable__label {\n",
>>>>>>> Stashed changes
       "  /* unfitted */\n",
       "  background-color: var(--sklearn-color-unfitted-level-2);\n",
       "}\n",
       "\n",
<<<<<<< Updated upstream
       "#sk-container-id-13 div.sk-estimator.fitted input.sk-toggleable__control:checked~label.sk-toggleable__label {\n",
=======
       "#sk-container-id-5 div.sk-estimator.fitted input.sk-toggleable__control:checked~label.sk-toggleable__label {\n",
>>>>>>> Stashed changes
       "  /* fitted */\n",
       "  background-color: var(--sklearn-color-fitted-level-2);\n",
       "}\n",
       "\n",
<<<<<<< Updated upstream
       "#sk-container-id-13 div.sk-label label.sk-toggleable__label,\n",
       "#sk-container-id-13 div.sk-label label {\n",
=======
       "#sk-container-id-5 div.sk-label label.sk-toggleable__label,\n",
       "#sk-container-id-5 div.sk-label label {\n",
>>>>>>> Stashed changes
       "  /* The background is the default theme color */\n",
       "  color: var(--sklearn-color-text-on-default-background);\n",
       "}\n",
       "\n",
       "/* On hover, darken the color of the background */\n",
<<<<<<< Updated upstream
       "#sk-container-id-13 div.sk-label:hover label.sk-toggleable__label {\n",
=======
       "#sk-container-id-5 div.sk-label:hover label.sk-toggleable__label {\n",
>>>>>>> Stashed changes
       "  color: var(--sklearn-color-text);\n",
       "  background-color: var(--sklearn-color-unfitted-level-2);\n",
       "}\n",
       "\n",
       "/* Label box, darken color on hover, fitted */\n",
<<<<<<< Updated upstream
       "#sk-container-id-13 div.sk-label.fitted:hover label.sk-toggleable__label.fitted {\n",
=======
       "#sk-container-id-5 div.sk-label.fitted:hover label.sk-toggleable__label.fitted {\n",
>>>>>>> Stashed changes
       "  color: var(--sklearn-color-text);\n",
       "  background-color: var(--sklearn-color-fitted-level-2);\n",
       "}\n",
       "\n",
       "/* Estimator label */\n",
       "\n",
<<<<<<< Updated upstream
       "#sk-container-id-13 div.sk-label label {\n",
=======
       "#sk-container-id-5 div.sk-label label {\n",
>>>>>>> Stashed changes
       "  font-family: monospace;\n",
       "  font-weight: bold;\n",
       "  display: inline-block;\n",
       "  line-height: 1.2em;\n",
       "}\n",
       "\n",
<<<<<<< Updated upstream
       "#sk-container-id-13 div.sk-label-container {\n",
=======
       "#sk-container-id-5 div.sk-label-container {\n",
>>>>>>> Stashed changes
       "  text-align: center;\n",
       "}\n",
       "\n",
       "/* Estimator-specific */\n",
<<<<<<< Updated upstream
       "#sk-container-id-13 div.sk-estimator {\n",
=======
       "#sk-container-id-5 div.sk-estimator {\n",
>>>>>>> Stashed changes
       "  font-family: monospace;\n",
       "  border: 1px dotted var(--sklearn-color-border-box);\n",
       "  border-radius: 0.25em;\n",
       "  box-sizing: border-box;\n",
       "  margin-bottom: 0.5em;\n",
       "  /* unfitted */\n",
       "  background-color: var(--sklearn-color-unfitted-level-0);\n",
       "}\n",
       "\n",
<<<<<<< Updated upstream
       "#sk-container-id-13 div.sk-estimator.fitted {\n",
=======
       "#sk-container-id-5 div.sk-estimator.fitted {\n",
>>>>>>> Stashed changes
       "  /* fitted */\n",
       "  background-color: var(--sklearn-color-fitted-level-0);\n",
       "}\n",
       "\n",
       "/* on hover */\n",
<<<<<<< Updated upstream
       "#sk-container-id-13 div.sk-estimator:hover {\n",
=======
       "#sk-container-id-5 div.sk-estimator:hover {\n",
>>>>>>> Stashed changes
       "  /* unfitted */\n",
       "  background-color: var(--sklearn-color-unfitted-level-2);\n",
       "}\n",
       "\n",
<<<<<<< Updated upstream
       "#sk-container-id-13 div.sk-estimator.fitted:hover {\n",
=======
       "#sk-container-id-5 div.sk-estimator.fitted:hover {\n",
>>>>>>> Stashed changes
       "  /* fitted */\n",
       "  background-color: var(--sklearn-color-fitted-level-2);\n",
       "}\n",
       "\n",
       "/* Specification for estimator info (e.g. \"i\" and \"?\") */\n",
       "\n",
       "/* Common style for \"i\" and \"?\" */\n",
       "\n",
       ".sk-estimator-doc-link,\n",
       "a:link.sk-estimator-doc-link,\n",
       "a:visited.sk-estimator-doc-link {\n",
       "  float: right;\n",
       "  font-size: smaller;\n",
       "  line-height: 1em;\n",
       "  font-family: monospace;\n",
       "  background-color: var(--sklearn-color-background);\n",
       "  border-radius: 1em;\n",
       "  height: 1em;\n",
       "  width: 1em;\n",
       "  text-decoration: none !important;\n",
<<<<<<< Updated upstream
       "  margin-left: 1ex;\n",
=======
       "  margin-left: 0.5em;\n",
       "  text-align: center;\n",
>>>>>>> Stashed changes
       "  /* unfitted */\n",
       "  border: var(--sklearn-color-unfitted-level-1) 1pt solid;\n",
       "  color: var(--sklearn-color-unfitted-level-1);\n",
       "}\n",
       "\n",
       ".sk-estimator-doc-link.fitted,\n",
       "a:link.sk-estimator-doc-link.fitted,\n",
       "a:visited.sk-estimator-doc-link.fitted {\n",
       "  /* fitted */\n",
       "  border: var(--sklearn-color-fitted-level-1) 1pt solid;\n",
       "  color: var(--sklearn-color-fitted-level-1);\n",
       "}\n",
       "\n",
       "/* On hover */\n",
       "div.sk-estimator:hover .sk-estimator-doc-link:hover,\n",
       ".sk-estimator-doc-link:hover,\n",
       "div.sk-label-container:hover .sk-estimator-doc-link:hover,\n",
       ".sk-estimator-doc-link:hover {\n",
       "  /* unfitted */\n",
       "  background-color: var(--sklearn-color-unfitted-level-3);\n",
       "  color: var(--sklearn-color-background);\n",
       "  text-decoration: none;\n",
       "}\n",
       "\n",
       "div.sk-estimator.fitted:hover .sk-estimator-doc-link.fitted:hover,\n",
       ".sk-estimator-doc-link.fitted:hover,\n",
       "div.sk-label-container:hover .sk-estimator-doc-link.fitted:hover,\n",
       ".sk-estimator-doc-link.fitted:hover {\n",
       "  /* fitted */\n",
       "  background-color: var(--sklearn-color-fitted-level-3);\n",
       "  color: var(--sklearn-color-background);\n",
       "  text-decoration: none;\n",
       "}\n",
       "\n",
       "/* Span, style for the box shown on hovering the info icon */\n",
       ".sk-estimator-doc-link span {\n",
       "  display: none;\n",
       "  z-index: 9999;\n",
       "  position: relative;\n",
       "  font-weight: normal;\n",
       "  right: .2ex;\n",
       "  padding: .5ex;\n",
       "  margin: .5ex;\n",
       "  width: min-content;\n",
       "  min-width: 20ex;\n",
       "  max-width: 50ex;\n",
       "  color: var(--sklearn-color-text);\n",
       "  box-shadow: 2pt 2pt 4pt #999;\n",
       "  /* unfitted */\n",
       "  background: var(--sklearn-color-unfitted-level-0);\n",
       "  border: .5pt solid var(--sklearn-color-unfitted-level-3);\n",
       "}\n",
       "\n",
       ".sk-estimator-doc-link.fitted span {\n",
       "  /* fitted */\n",
       "  background: var(--sklearn-color-fitted-level-0);\n",
       "  border: var(--sklearn-color-fitted-level-3);\n",
       "}\n",
       "\n",
       ".sk-estimator-doc-link:hover span {\n",
       "  display: block;\n",
       "}\n",
       "\n",
       "/* \"?\"-specific style due to the `<a>` HTML tag */\n",
       "\n",
<<<<<<< Updated upstream
       "#sk-container-id-13 a.estimator_doc_link {\n",
=======
       "#sk-container-id-5 a.estimator_doc_link {\n",
>>>>>>> Stashed changes
       "  float: right;\n",
       "  font-size: 1rem;\n",
       "  line-height: 1em;\n",
       "  font-family: monospace;\n",
       "  background-color: var(--sklearn-color-background);\n",
       "  border-radius: 1rem;\n",
       "  height: 1rem;\n",
       "  width: 1rem;\n",
       "  text-decoration: none;\n",
       "  /* unfitted */\n",
       "  color: var(--sklearn-color-unfitted-level-1);\n",
       "  border: var(--sklearn-color-unfitted-level-1) 1pt solid;\n",
       "}\n",
       "\n",
<<<<<<< Updated upstream
       "#sk-container-id-13 a.estimator_doc_link.fitted {\n",
=======
       "#sk-container-id-5 a.estimator_doc_link.fitted {\n",
>>>>>>> Stashed changes
       "  /* fitted */\n",
       "  border: var(--sklearn-color-fitted-level-1) 1pt solid;\n",
       "  color: var(--sklearn-color-fitted-level-1);\n",
       "}\n",
       "\n",
       "/* On hover */\n",
<<<<<<< Updated upstream
       "#sk-container-id-13 a.estimator_doc_link:hover {\n",
=======
       "#sk-container-id-5 a.estimator_doc_link:hover {\n",
>>>>>>> Stashed changes
       "  /* unfitted */\n",
       "  background-color: var(--sklearn-color-unfitted-level-3);\n",
       "  color: var(--sklearn-color-background);\n",
       "  text-decoration: none;\n",
       "}\n",
       "\n",
<<<<<<< Updated upstream
       "#sk-container-id-13 a.estimator_doc_link.fitted:hover {\n",
       "  /* fitted */\n",
       "  background-color: var(--sklearn-color-fitted-level-3);\n",
       "}\n",
       "</style><div id=\"sk-container-id-13\" class=\"sk-top-container\"><div class=\"sk-text-repr-fallback\"><pre>XGBClassifier(base_score=None, booster=None, callbacks=None,\n",
=======
       "#sk-container-id-5 a.estimator_doc_link.fitted:hover {\n",
       "  /* fitted */\n",
       "  background-color: var(--sklearn-color-fitted-level-3);\n",
       "}\n",
       "</style><div id=\"sk-container-id-5\" class=\"sk-top-container\"><div class=\"sk-text-repr-fallback\"><pre>XGBClassifier(base_score=None, booster=None, callbacks=None,\n",
>>>>>>> Stashed changes
       "              colsample_bylevel=None, colsample_bynode=None,\n",
       "              colsample_bytree=None, device=None, early_stopping_rounds=None,\n",
       "              enable_categorical=False, eval_metric=None, feature_types=None,\n",
       "              feature_weights=None, gamma=None, grow_policy=None,\n",
       "              importance_type=None, interaction_constraints=None,\n",
       "              learning_rate=None, max_bin=None, max_cat_threshold=None,\n",
       "              max_cat_to_onehot=None, max_delta_step=None, max_depth=None,\n",
       "              max_leaves=None, min_child_weight=None, missing=nan,\n",
       "              monotone_constraints=None, multi_strategy=None, n_estimators=None,\n",
<<<<<<< Updated upstream
       "              n_jobs=None, num_parallel_tree=None, ...)</pre><b>In a Jupyter environment, please rerun this cell to show the HTML representation or trust the notebook. <br />On GitHub, the HTML representation is unable to render, please try loading this page with nbviewer.org.</b></div><div class=\"sk-container\" hidden><div class=\"sk-item\"><div class=\"sk-estimator fitted sk-toggleable\"><input class=\"sk-toggleable__control sk-hidden--visually\" id=\"sk-estimator-id-13\" type=\"checkbox\" checked><label for=\"sk-estimator-id-13\" class=\"sk-toggleable__label fitted sk-toggleable__label-arrow fitted\">&nbsp;&nbsp;XGBClassifier<a class=\"sk-estimator-doc-link fitted\" rel=\"noreferrer\" target=\"_blank\" href=\"https://xgboost.readthedocs.io/en/release_3.0.0/python/python_api.html#xgboost.XGBClassifier\">?<span>Documentation for XGBClassifier</span></a><span class=\"sk-estimator-doc-link fitted\">i<span>Fitted</span></span></label><div class=\"sk-toggleable__content fitted\"><pre>XGBClassifier(base_score=None, booster=None, callbacks=None,\n",
=======
       "              n_jobs=None, num_parallel_tree=None, ...)</pre><b>In a Jupyter environment, please rerun this cell to show the HTML representation or trust the notebook. <br />On GitHub, the HTML representation is unable to render, please try loading this page with nbviewer.org.</b></div><div class=\"sk-container\" hidden><div class=\"sk-item\"><div class=\"sk-estimator fitted sk-toggleable\"><input class=\"sk-toggleable__control sk-hidden--visually\" id=\"sk-estimator-id-5\" type=\"checkbox\" checked><label for=\"sk-estimator-id-5\" class=\"sk-toggleable__label fitted sk-toggleable__label-arrow\"><div><div>XGBClassifier</div></div><div><a class=\"sk-estimator-doc-link fitted\" rel=\"noreferrer\" target=\"_blank\" href=\"https://xgboost.readthedocs.io/en/release_3.0.0/python/python_api.html#xgboost.XGBClassifier\">?<span>Documentation for XGBClassifier</span></a><span class=\"sk-estimator-doc-link fitted\">i<span>Fitted</span></span></div></label><div class=\"sk-toggleable__content fitted\"><pre>XGBClassifier(base_score=None, booster=None, callbacks=None,\n",
>>>>>>> Stashed changes
       "              colsample_bylevel=None, colsample_bynode=None,\n",
       "              colsample_bytree=None, device=None, early_stopping_rounds=None,\n",
       "              enable_categorical=False, eval_metric=None, feature_types=None,\n",
       "              feature_weights=None, gamma=None, grow_policy=None,\n",
       "              importance_type=None, interaction_constraints=None,\n",
       "              learning_rate=None, max_bin=None, max_cat_threshold=None,\n",
       "              max_cat_to_onehot=None, max_delta_step=None, max_depth=None,\n",
       "              max_leaves=None, min_child_weight=None, missing=nan,\n",
       "              monotone_constraints=None, multi_strategy=None, n_estimators=None,\n",
       "              n_jobs=None, num_parallel_tree=None, ...)</pre></div> </div></div></div></div>"
      ],
      "text/plain": [
       "XGBClassifier(base_score=None, booster=None, callbacks=None,\n",
       "              colsample_bylevel=None, colsample_bynode=None,\n",
       "              colsample_bytree=None, device=None, early_stopping_rounds=None,\n",
       "              enable_categorical=False, eval_metric=None, feature_types=None,\n",
       "              feature_weights=None, gamma=None, grow_policy=None,\n",
       "              importance_type=None, interaction_constraints=None,\n",
       "              learning_rate=None, max_bin=None, max_cat_threshold=None,\n",
       "              max_cat_to_onehot=None, max_delta_step=None, max_depth=None,\n",
       "              max_leaves=None, min_child_weight=None, missing=nan,\n",
       "              monotone_constraints=None, multi_strategy=None, n_estimators=None,\n",
       "              n_jobs=None, num_parallel_tree=None, ...)"
      ]
     },
<<<<<<< Updated upstream
     "execution_count": 87,
=======
     "execution_count": 38,
>>>>>>> Stashed changes
     "metadata": {},
     "output_type": "execute_result"
    }
   ],
   "source": [
    "#xgboost for slider\n",
    "xgb_model2 = XGBClassifier()\n",
    "xgb_model2.fit(X2_train, y2_train)"
   ]
  },
  {
   "cell_type": "code",
<<<<<<< Updated upstream
   "execution_count": 88,
=======
   "execution_count": 39,
>>>>>>> Stashed changes
   "metadata": {},
   "outputs": [
    {
     "data": {
      "text/html": [
<<<<<<< Updated upstream
       "<style>#sk-container-id-14 {\n",
       "  /* Definition of color scheme common for light and dark mode */\n",
       "  --sklearn-color-text: black;\n",
=======
       "<style>#sk-container-id-6 {\n",
       "  /* Definition of color scheme common for light and dark mode */\n",
       "  --sklearn-color-text: #000;\n",
       "  --sklearn-color-text-muted: #666;\n",
>>>>>>> Stashed changes
       "  --sklearn-color-line: gray;\n",
       "  /* Definition of color scheme for unfitted estimators */\n",
       "  --sklearn-color-unfitted-level-0: #fff5e6;\n",
       "  --sklearn-color-unfitted-level-1: #f6e4d2;\n",
       "  --sklearn-color-unfitted-level-2: #ffe0b3;\n",
       "  --sklearn-color-unfitted-level-3: chocolate;\n",
       "  /* Definition of color scheme for fitted estimators */\n",
       "  --sklearn-color-fitted-level-0: #f0f8ff;\n",
       "  --sklearn-color-fitted-level-1: #d4ebff;\n",
       "  --sklearn-color-fitted-level-2: #b3dbfd;\n",
       "  --sklearn-color-fitted-level-3: cornflowerblue;\n",
       "\n",
       "  /* Specific color for light theme */\n",
       "  --sklearn-color-text-on-default-background: var(--sg-text-color, var(--theme-code-foreground, var(--jp-content-font-color1, black)));\n",
       "  --sklearn-color-background: var(--sg-background-color, var(--theme-background, var(--jp-layout-color0, white)));\n",
       "  --sklearn-color-border-box: var(--sg-text-color, var(--theme-code-foreground, var(--jp-content-font-color1, black)));\n",
       "  --sklearn-color-icon: #696969;\n",
       "\n",
       "  @media (prefers-color-scheme: dark) {\n",
       "    /* Redefinition of color scheme for dark theme */\n",
       "    --sklearn-color-text-on-default-background: var(--sg-text-color, var(--theme-code-foreground, var(--jp-content-font-color1, white)));\n",
       "    --sklearn-color-background: var(--sg-background-color, var(--theme-background, var(--jp-layout-color0, #111)));\n",
       "    --sklearn-color-border-box: var(--sg-text-color, var(--theme-code-foreground, var(--jp-content-font-color1, white)));\n",
       "    --sklearn-color-icon: #878787;\n",
       "  }\n",
       "}\n",
       "\n",
<<<<<<< Updated upstream
       "#sk-container-id-14 {\n",
       "  color: var(--sklearn-color-text);\n",
       "}\n",
       "\n",
       "#sk-container-id-14 pre {\n",
       "  padding: 0;\n",
       "}\n",
       "\n",
       "#sk-container-id-14 input.sk-hidden--visually {\n",
=======
       "#sk-container-id-6 {\n",
       "  color: var(--sklearn-color-text);\n",
       "}\n",
       "\n",
       "#sk-container-id-6 pre {\n",
       "  padding: 0;\n",
       "}\n",
       "\n",
       "#sk-container-id-6 input.sk-hidden--visually {\n",
>>>>>>> Stashed changes
       "  border: 0;\n",
       "  clip: rect(1px 1px 1px 1px);\n",
       "  clip: rect(1px, 1px, 1px, 1px);\n",
       "  height: 1px;\n",
       "  margin: -1px;\n",
       "  overflow: hidden;\n",
       "  padding: 0;\n",
       "  position: absolute;\n",
       "  width: 1px;\n",
       "}\n",
       "\n",
<<<<<<< Updated upstream
       "#sk-container-id-14 div.sk-dashed-wrapped {\n",
=======
       "#sk-container-id-6 div.sk-dashed-wrapped {\n",
>>>>>>> Stashed changes
       "  border: 1px dashed var(--sklearn-color-line);\n",
       "  margin: 0 0.4em 0.5em 0.4em;\n",
       "  box-sizing: border-box;\n",
       "  padding-bottom: 0.4em;\n",
       "  background-color: var(--sklearn-color-background);\n",
       "}\n",
       "\n",
<<<<<<< Updated upstream
       "#sk-container-id-14 div.sk-container {\n",
=======
       "#sk-container-id-6 div.sk-container {\n",
>>>>>>> Stashed changes
       "  /* jupyter's `normalize.less` sets `[hidden] { display: none; }`\n",
       "     but bootstrap.min.css set `[hidden] { display: none !important; }`\n",
       "     so we also need the `!important` here to be able to override the\n",
       "     default hidden behavior on the sphinx rendered scikit-learn.org.\n",
       "     See: https://github.com/scikit-learn/scikit-learn/issues/21755 */\n",
       "  display: inline-block !important;\n",
       "  position: relative;\n",
       "}\n",
       "\n",
<<<<<<< Updated upstream
       "#sk-container-id-14 div.sk-text-repr-fallback {\n",
=======
       "#sk-container-id-6 div.sk-text-repr-fallback {\n",
>>>>>>> Stashed changes
       "  display: none;\n",
       "}\n",
       "\n",
       "div.sk-parallel-item,\n",
       "div.sk-serial,\n",
       "div.sk-item {\n",
       "  /* draw centered vertical line to link estimators */\n",
       "  background-image: linear-gradient(var(--sklearn-color-text-on-default-background), var(--sklearn-color-text-on-default-background));\n",
       "  background-size: 2px 100%;\n",
       "  background-repeat: no-repeat;\n",
       "  background-position: center center;\n",
       "}\n",
       "\n",
       "/* Parallel-specific style estimator block */\n",
       "\n",
<<<<<<< Updated upstream
       "#sk-container-id-14 div.sk-parallel-item::after {\n",
=======
       "#sk-container-id-6 div.sk-parallel-item::after {\n",
>>>>>>> Stashed changes
       "  content: \"\";\n",
       "  width: 100%;\n",
       "  border-bottom: 2px solid var(--sklearn-color-text-on-default-background);\n",
       "  flex-grow: 1;\n",
       "}\n",
       "\n",
<<<<<<< Updated upstream
       "#sk-container-id-14 div.sk-parallel {\n",
=======
       "#sk-container-id-6 div.sk-parallel {\n",
>>>>>>> Stashed changes
       "  display: flex;\n",
       "  align-items: stretch;\n",
       "  justify-content: center;\n",
       "  background-color: var(--sklearn-color-background);\n",
       "  position: relative;\n",
       "}\n",
       "\n",
<<<<<<< Updated upstream
       "#sk-container-id-14 div.sk-parallel-item {\n",
=======
       "#sk-container-id-6 div.sk-parallel-item {\n",
>>>>>>> Stashed changes
       "  display: flex;\n",
       "  flex-direction: column;\n",
       "}\n",
       "\n",
<<<<<<< Updated upstream
       "#sk-container-id-14 div.sk-parallel-item:first-child::after {\n",
=======
       "#sk-container-id-6 div.sk-parallel-item:first-child::after {\n",
>>>>>>> Stashed changes
       "  align-self: flex-end;\n",
       "  width: 50%;\n",
       "}\n",
       "\n",
<<<<<<< Updated upstream
       "#sk-container-id-14 div.sk-parallel-item:last-child::after {\n",
=======
       "#sk-container-id-6 div.sk-parallel-item:last-child::after {\n",
>>>>>>> Stashed changes
       "  align-self: flex-start;\n",
       "  width: 50%;\n",
       "}\n",
       "\n",
<<<<<<< Updated upstream
       "#sk-container-id-14 div.sk-parallel-item:only-child::after {\n",
=======
       "#sk-container-id-6 div.sk-parallel-item:only-child::after {\n",
>>>>>>> Stashed changes
       "  width: 0;\n",
       "}\n",
       "\n",
       "/* Serial-specific style estimator block */\n",
       "\n",
<<<<<<< Updated upstream
       "#sk-container-id-14 div.sk-serial {\n",
=======
       "#sk-container-id-6 div.sk-serial {\n",
>>>>>>> Stashed changes
       "  display: flex;\n",
       "  flex-direction: column;\n",
       "  align-items: center;\n",
       "  background-color: var(--sklearn-color-background);\n",
       "  padding-right: 1em;\n",
       "  padding-left: 1em;\n",
       "}\n",
       "\n",
       "\n",
       "/* Toggleable style: style used for estimator/Pipeline/ColumnTransformer box that is\n",
       "clickable and can be expanded/collapsed.\n",
       "- Pipeline and ColumnTransformer use this feature and define the default style\n",
       "- Estimators will overwrite some part of the style using the `sk-estimator` class\n",
       "*/\n",
       "\n",
       "/* Pipeline and ColumnTransformer style (default) */\n",
       "\n",
<<<<<<< Updated upstream
       "#sk-container-id-14 div.sk-toggleable {\n",
=======
       "#sk-container-id-6 div.sk-toggleable {\n",
>>>>>>> Stashed changes
       "  /* Default theme specific background. It is overwritten whether we have a\n",
       "  specific estimator or a Pipeline/ColumnTransformer */\n",
       "  background-color: var(--sklearn-color-background);\n",
       "}\n",
       "\n",
       "/* Toggleable label */\n",
<<<<<<< Updated upstream
       "#sk-container-id-14 label.sk-toggleable__label {\n",
       "  cursor: pointer;\n",
       "  display: block;\n",
=======
       "#sk-container-id-6 label.sk-toggleable__label {\n",
       "  cursor: pointer;\n",
       "  display: flex;\n",
>>>>>>> Stashed changes
       "  width: 100%;\n",
       "  margin-bottom: 0;\n",
       "  padding: 0.5em;\n",
       "  box-sizing: border-box;\n",
       "  text-align: center;\n",
<<<<<<< Updated upstream
       "}\n",
       "\n",
       "#sk-container-id-14 label.sk-toggleable__label-arrow:before {\n",
=======
       "  align-items: start;\n",
       "  justify-content: space-between;\n",
       "  gap: 0.5em;\n",
       "}\n",
       "\n",
       "#sk-container-id-6 label.sk-toggleable__label .caption {\n",
       "  font-size: 0.6rem;\n",
       "  font-weight: lighter;\n",
       "  color: var(--sklearn-color-text-muted);\n",
       "}\n",
       "\n",
       "#sk-container-id-6 label.sk-toggleable__label-arrow:before {\n",
>>>>>>> Stashed changes
       "  /* Arrow on the left of the label */\n",
       "  content: \"▸\";\n",
       "  float: left;\n",
       "  margin-right: 0.25em;\n",
       "  color: var(--sklearn-color-icon);\n",
       "}\n",
       "\n",
<<<<<<< Updated upstream
       "#sk-container-id-14 label.sk-toggleable__label-arrow:hover:before {\n",
=======
       "#sk-container-id-6 label.sk-toggleable__label-arrow:hover:before {\n",
>>>>>>> Stashed changes
       "  color: var(--sklearn-color-text);\n",
       "}\n",
       "\n",
       "/* Toggleable content - dropdown */\n",
       "\n",
<<<<<<< Updated upstream
       "#sk-container-id-14 div.sk-toggleable__content {\n",
=======
       "#sk-container-id-6 div.sk-toggleable__content {\n",
>>>>>>> Stashed changes
       "  max-height: 0;\n",
       "  max-width: 0;\n",
       "  overflow: hidden;\n",
       "  text-align: left;\n",
       "  /* unfitted */\n",
       "  background-color: var(--sklearn-color-unfitted-level-0);\n",
       "}\n",
       "\n",
<<<<<<< Updated upstream
       "#sk-container-id-14 div.sk-toggleable__content.fitted {\n",
=======
       "#sk-container-id-6 div.sk-toggleable__content.fitted {\n",
>>>>>>> Stashed changes
       "  /* fitted */\n",
       "  background-color: var(--sklearn-color-fitted-level-0);\n",
       "}\n",
       "\n",
<<<<<<< Updated upstream
       "#sk-container-id-14 div.sk-toggleable__content pre {\n",
=======
       "#sk-container-id-6 div.sk-toggleable__content pre {\n",
>>>>>>> Stashed changes
       "  margin: 0.2em;\n",
       "  border-radius: 0.25em;\n",
       "  color: var(--sklearn-color-text);\n",
       "  /* unfitted */\n",
       "  background-color: var(--sklearn-color-unfitted-level-0);\n",
       "}\n",
       "\n",
<<<<<<< Updated upstream
       "#sk-container-id-14 div.sk-toggleable__content.fitted pre {\n",
=======
       "#sk-container-id-6 div.sk-toggleable__content.fitted pre {\n",
>>>>>>> Stashed changes
       "  /* unfitted */\n",
       "  background-color: var(--sklearn-color-fitted-level-0);\n",
       "}\n",
       "\n",
<<<<<<< Updated upstream
       "#sk-container-id-14 input.sk-toggleable__control:checked~div.sk-toggleable__content {\n",
=======
       "#sk-container-id-6 input.sk-toggleable__control:checked~div.sk-toggleable__content {\n",
>>>>>>> Stashed changes
       "  /* Expand drop-down */\n",
       "  max-height: 200px;\n",
       "  max-width: 100%;\n",
       "  overflow: auto;\n",
       "}\n",
       "\n",
<<<<<<< Updated upstream
       "#sk-container-id-14 input.sk-toggleable__control:checked~label.sk-toggleable__label-arrow:before {\n",
=======
       "#sk-container-id-6 input.sk-toggleable__control:checked~label.sk-toggleable__label-arrow:before {\n",
>>>>>>> Stashed changes
       "  content: \"▾\";\n",
       "}\n",
       "\n",
       "/* Pipeline/ColumnTransformer-specific style */\n",
       "\n",
<<<<<<< Updated upstream
       "#sk-container-id-14 div.sk-label input.sk-toggleable__control:checked~label.sk-toggleable__label {\n",
=======
       "#sk-container-id-6 div.sk-label input.sk-toggleable__control:checked~label.sk-toggleable__label {\n",
>>>>>>> Stashed changes
       "  color: var(--sklearn-color-text);\n",
       "  background-color: var(--sklearn-color-unfitted-level-2);\n",
       "}\n",
       "\n",
<<<<<<< Updated upstream
       "#sk-container-id-14 div.sk-label.fitted input.sk-toggleable__control:checked~label.sk-toggleable__label {\n",
=======
       "#sk-container-id-6 div.sk-label.fitted input.sk-toggleable__control:checked~label.sk-toggleable__label {\n",
>>>>>>> Stashed changes
       "  background-color: var(--sklearn-color-fitted-level-2);\n",
       "}\n",
       "\n",
       "/* Estimator-specific style */\n",
       "\n",
       "/* Colorize estimator box */\n",
<<<<<<< Updated upstream
       "#sk-container-id-14 div.sk-estimator input.sk-toggleable__control:checked~label.sk-toggleable__label {\n",
=======
       "#sk-container-id-6 div.sk-estimator input.sk-toggleable__control:checked~label.sk-toggleable__label {\n",
>>>>>>> Stashed changes
       "  /* unfitted */\n",
       "  background-color: var(--sklearn-color-unfitted-level-2);\n",
       "}\n",
       "\n",
<<<<<<< Updated upstream
       "#sk-container-id-14 div.sk-estimator.fitted input.sk-toggleable__control:checked~label.sk-toggleable__label {\n",
=======
       "#sk-container-id-6 div.sk-estimator.fitted input.sk-toggleable__control:checked~label.sk-toggleable__label {\n",
>>>>>>> Stashed changes
       "  /* fitted */\n",
       "  background-color: var(--sklearn-color-fitted-level-2);\n",
       "}\n",
       "\n",
<<<<<<< Updated upstream
       "#sk-container-id-14 div.sk-label label.sk-toggleable__label,\n",
       "#sk-container-id-14 div.sk-label label {\n",
=======
       "#sk-container-id-6 div.sk-label label.sk-toggleable__label,\n",
       "#sk-container-id-6 div.sk-label label {\n",
>>>>>>> Stashed changes
       "  /* The background is the default theme color */\n",
       "  color: var(--sklearn-color-text-on-default-background);\n",
       "}\n",
       "\n",
       "/* On hover, darken the color of the background */\n",
<<<<<<< Updated upstream
       "#sk-container-id-14 div.sk-label:hover label.sk-toggleable__label {\n",
=======
       "#sk-container-id-6 div.sk-label:hover label.sk-toggleable__label {\n",
>>>>>>> Stashed changes
       "  color: var(--sklearn-color-text);\n",
       "  background-color: var(--sklearn-color-unfitted-level-2);\n",
       "}\n",
       "\n",
       "/* Label box, darken color on hover, fitted */\n",
<<<<<<< Updated upstream
       "#sk-container-id-14 div.sk-label.fitted:hover label.sk-toggleable__label.fitted {\n",
=======
       "#sk-container-id-6 div.sk-label.fitted:hover label.sk-toggleable__label.fitted {\n",
>>>>>>> Stashed changes
       "  color: var(--sklearn-color-text);\n",
       "  background-color: var(--sklearn-color-fitted-level-2);\n",
       "}\n",
       "\n",
       "/* Estimator label */\n",
       "\n",
<<<<<<< Updated upstream
       "#sk-container-id-14 div.sk-label label {\n",
=======
       "#sk-container-id-6 div.sk-label label {\n",
>>>>>>> Stashed changes
       "  font-family: monospace;\n",
       "  font-weight: bold;\n",
       "  display: inline-block;\n",
       "  line-height: 1.2em;\n",
       "}\n",
       "\n",
<<<<<<< Updated upstream
       "#sk-container-id-14 div.sk-label-container {\n",
=======
       "#sk-container-id-6 div.sk-label-container {\n",
>>>>>>> Stashed changes
       "  text-align: center;\n",
       "}\n",
       "\n",
       "/* Estimator-specific */\n",
<<<<<<< Updated upstream
       "#sk-container-id-14 div.sk-estimator {\n",
=======
       "#sk-container-id-6 div.sk-estimator {\n",
>>>>>>> Stashed changes
       "  font-family: monospace;\n",
       "  border: 1px dotted var(--sklearn-color-border-box);\n",
       "  border-radius: 0.25em;\n",
       "  box-sizing: border-box;\n",
       "  margin-bottom: 0.5em;\n",
       "  /* unfitted */\n",
       "  background-color: var(--sklearn-color-unfitted-level-0);\n",
       "}\n",
       "\n",
<<<<<<< Updated upstream
       "#sk-container-id-14 div.sk-estimator.fitted {\n",
=======
       "#sk-container-id-6 div.sk-estimator.fitted {\n",
>>>>>>> Stashed changes
       "  /* fitted */\n",
       "  background-color: var(--sklearn-color-fitted-level-0);\n",
       "}\n",
       "\n",
       "/* on hover */\n",
<<<<<<< Updated upstream
       "#sk-container-id-14 div.sk-estimator:hover {\n",
=======
       "#sk-container-id-6 div.sk-estimator:hover {\n",
>>>>>>> Stashed changes
       "  /* unfitted */\n",
       "  background-color: var(--sklearn-color-unfitted-level-2);\n",
       "}\n",
       "\n",
<<<<<<< Updated upstream
       "#sk-container-id-14 div.sk-estimator.fitted:hover {\n",
=======
       "#sk-container-id-6 div.sk-estimator.fitted:hover {\n",
>>>>>>> Stashed changes
       "  /* fitted */\n",
       "  background-color: var(--sklearn-color-fitted-level-2);\n",
       "}\n",
       "\n",
       "/* Specification for estimator info (e.g. \"i\" and \"?\") */\n",
       "\n",
       "/* Common style for \"i\" and \"?\" */\n",
       "\n",
       ".sk-estimator-doc-link,\n",
       "a:link.sk-estimator-doc-link,\n",
       "a:visited.sk-estimator-doc-link {\n",
       "  float: right;\n",
       "  font-size: smaller;\n",
       "  line-height: 1em;\n",
       "  font-family: monospace;\n",
       "  background-color: var(--sklearn-color-background);\n",
       "  border-radius: 1em;\n",
       "  height: 1em;\n",
       "  width: 1em;\n",
       "  text-decoration: none !important;\n",
<<<<<<< Updated upstream
       "  margin-left: 1ex;\n",
=======
       "  margin-left: 0.5em;\n",
       "  text-align: center;\n",
>>>>>>> Stashed changes
       "  /* unfitted */\n",
       "  border: var(--sklearn-color-unfitted-level-1) 1pt solid;\n",
       "  color: var(--sklearn-color-unfitted-level-1);\n",
       "}\n",
       "\n",
       ".sk-estimator-doc-link.fitted,\n",
       "a:link.sk-estimator-doc-link.fitted,\n",
       "a:visited.sk-estimator-doc-link.fitted {\n",
       "  /* fitted */\n",
       "  border: var(--sklearn-color-fitted-level-1) 1pt solid;\n",
       "  color: var(--sklearn-color-fitted-level-1);\n",
       "}\n",
       "\n",
       "/* On hover */\n",
       "div.sk-estimator:hover .sk-estimator-doc-link:hover,\n",
       ".sk-estimator-doc-link:hover,\n",
       "div.sk-label-container:hover .sk-estimator-doc-link:hover,\n",
       ".sk-estimator-doc-link:hover {\n",
       "  /* unfitted */\n",
       "  background-color: var(--sklearn-color-unfitted-level-3);\n",
       "  color: var(--sklearn-color-background);\n",
       "  text-decoration: none;\n",
       "}\n",
       "\n",
       "div.sk-estimator.fitted:hover .sk-estimator-doc-link.fitted:hover,\n",
       ".sk-estimator-doc-link.fitted:hover,\n",
       "div.sk-label-container:hover .sk-estimator-doc-link.fitted:hover,\n",
       ".sk-estimator-doc-link.fitted:hover {\n",
       "  /* fitted */\n",
       "  background-color: var(--sklearn-color-fitted-level-3);\n",
       "  color: var(--sklearn-color-background);\n",
       "  text-decoration: none;\n",
       "}\n",
       "\n",
       "/* Span, style for the box shown on hovering the info icon */\n",
       ".sk-estimator-doc-link span {\n",
       "  display: none;\n",
       "  z-index: 9999;\n",
       "  position: relative;\n",
       "  font-weight: normal;\n",
       "  right: .2ex;\n",
       "  padding: .5ex;\n",
       "  margin: .5ex;\n",
       "  width: min-content;\n",
       "  min-width: 20ex;\n",
       "  max-width: 50ex;\n",
       "  color: var(--sklearn-color-text);\n",
       "  box-shadow: 2pt 2pt 4pt #999;\n",
       "  /* unfitted */\n",
       "  background: var(--sklearn-color-unfitted-level-0);\n",
       "  border: .5pt solid var(--sklearn-color-unfitted-level-3);\n",
       "}\n",
       "\n",
       ".sk-estimator-doc-link.fitted span {\n",
       "  /* fitted */\n",
       "  background: var(--sklearn-color-fitted-level-0);\n",
       "  border: var(--sklearn-color-fitted-level-3);\n",
       "}\n",
       "\n",
       ".sk-estimator-doc-link:hover span {\n",
       "  display: block;\n",
       "}\n",
       "\n",
       "/* \"?\"-specific style due to the `<a>` HTML tag */\n",
       "\n",
<<<<<<< Updated upstream
       "#sk-container-id-14 a.estimator_doc_link {\n",
=======
       "#sk-container-id-6 a.estimator_doc_link {\n",
>>>>>>> Stashed changes
       "  float: right;\n",
       "  font-size: 1rem;\n",
       "  line-height: 1em;\n",
       "  font-family: monospace;\n",
       "  background-color: var(--sklearn-color-background);\n",
       "  border-radius: 1rem;\n",
       "  height: 1rem;\n",
       "  width: 1rem;\n",
       "  text-decoration: none;\n",
       "  /* unfitted */\n",
       "  color: var(--sklearn-color-unfitted-level-1);\n",
       "  border: var(--sklearn-color-unfitted-level-1) 1pt solid;\n",
       "}\n",
       "\n",
<<<<<<< Updated upstream
       "#sk-container-id-14 a.estimator_doc_link.fitted {\n",
=======
       "#sk-container-id-6 a.estimator_doc_link.fitted {\n",
>>>>>>> Stashed changes
       "  /* fitted */\n",
       "  border: var(--sklearn-color-fitted-level-1) 1pt solid;\n",
       "  color: var(--sklearn-color-fitted-level-1);\n",
       "}\n",
       "\n",
       "/* On hover */\n",
<<<<<<< Updated upstream
       "#sk-container-id-14 a.estimator_doc_link:hover {\n",
=======
       "#sk-container-id-6 a.estimator_doc_link:hover {\n",
>>>>>>> Stashed changes
       "  /* unfitted */\n",
       "  background-color: var(--sklearn-color-unfitted-level-3);\n",
       "  color: var(--sklearn-color-background);\n",
       "  text-decoration: none;\n",
       "}\n",
       "\n",
<<<<<<< Updated upstream
       "#sk-container-id-14 a.estimator_doc_link.fitted:hover {\n",
       "  /* fitted */\n",
       "  background-color: var(--sklearn-color-fitted-level-3);\n",
       "}\n",
       "</style><div id=\"sk-container-id-14\" class=\"sk-top-container\"><div class=\"sk-text-repr-fallback\"><pre>RandomForestClassifier()</pre><b>In a Jupyter environment, please rerun this cell to show the HTML representation or trust the notebook. <br />On GitHub, the HTML representation is unable to render, please try loading this page with nbviewer.org.</b></div><div class=\"sk-container\" hidden><div class=\"sk-item\"><div class=\"sk-estimator fitted sk-toggleable\"><input class=\"sk-toggleable__control sk-hidden--visually\" id=\"sk-estimator-id-14\" type=\"checkbox\" checked><label for=\"sk-estimator-id-14\" class=\"sk-toggleable__label fitted sk-toggleable__label-arrow fitted\">&nbsp;&nbsp;RandomForestClassifier<a class=\"sk-estimator-doc-link fitted\" rel=\"noreferrer\" target=\"_blank\" href=\"https://scikit-learn.org/1.5/modules/generated/sklearn.ensemble.RandomForestClassifier.html\">?<span>Documentation for RandomForestClassifier</span></a><span class=\"sk-estimator-doc-link fitted\">i<span>Fitted</span></span></label><div class=\"sk-toggleable__content fitted\"><pre>RandomForestClassifier()</pre></div> </div></div></div></div>"
=======
       "#sk-container-id-6 a.estimator_doc_link.fitted:hover {\n",
       "  /* fitted */\n",
       "  background-color: var(--sklearn-color-fitted-level-3);\n",
       "}\n",
       "</style><div id=\"sk-container-id-6\" class=\"sk-top-container\"><div class=\"sk-text-repr-fallback\"><pre>RandomForestClassifier()</pre><b>In a Jupyter environment, please rerun this cell to show the HTML representation or trust the notebook. <br />On GitHub, the HTML representation is unable to render, please try loading this page with nbviewer.org.</b></div><div class=\"sk-container\" hidden><div class=\"sk-item\"><div class=\"sk-estimator fitted sk-toggleable\"><input class=\"sk-toggleable__control sk-hidden--visually\" id=\"sk-estimator-id-6\" type=\"checkbox\" checked><label for=\"sk-estimator-id-6\" class=\"sk-toggleable__label fitted sk-toggleable__label-arrow\"><div><div>RandomForestClassifier</div></div><div><a class=\"sk-estimator-doc-link fitted\" rel=\"noreferrer\" target=\"_blank\" href=\"https://scikit-learn.org/1.6/modules/generated/sklearn.ensemble.RandomForestClassifier.html\">?<span>Documentation for RandomForestClassifier</span></a><span class=\"sk-estimator-doc-link fitted\">i<span>Fitted</span></span></div></label><div class=\"sk-toggleable__content fitted\"><pre>RandomForestClassifier()</pre></div> </div></div></div></div>"
>>>>>>> Stashed changes
      ],
      "text/plain": [
       "RandomForestClassifier()"
      ]
     },
<<<<<<< Updated upstream
     "execution_count": 88,
=======
     "execution_count": 39,
>>>>>>> Stashed changes
     "metadata": {},
     "output_type": "execute_result"
    }
   ],
   "source": [
    "#random forest for slider\n",
    "rfc2 = RandomForestClassifier(n_estimators=100)\n",
    "rfc2.fit(X2_train, y2_train)\n"
   ]
  },
  {
   "cell_type": "code",
<<<<<<< Updated upstream
   "execution_count": 89,
=======
   "execution_count": 40,
>>>>>>> Stashed changes
   "metadata": {},
   "outputs": [
    {
     "name": "stdout",
     "output_type": "stream",
     "text": [
      "Epoch 1/50\n"
     ]
    },
    {
     "name": "stderr",
     "output_type": "stream",
     "text": [
<<<<<<< Updated upstream
      "c:\\Users\\maxim\\AppData\\Local\\Programs\\Python\\Python310\\lib\\site-packages\\keras\\src\\layers\\core\\dense.py:87: UserWarning:\n",
=======
      "c:\\Users\\isu_mvquirk_admin\\AppData\\Local\\Programs\\Python\\Python310\\lib\\site-packages\\keras\\src\\layers\\core\\dense.py:93: UserWarning:\n",
>>>>>>> Stashed changes
      "\n",
      "Do not pass an `input_shape`/`input_dim` argument to a layer. When using Sequential models, prefer using an `Input(shape)` object as the first layer in the model instead.\n",
      "\n"
     ]
    },
    {
     "name": "stdout",
     "output_type": "stream",
     "text": [
<<<<<<< Updated upstream
      "\u001b[1m3/3\u001b[0m \u001b[32m━━━━━━━━━━━━━━━━━━━━\u001b[0m\u001b[37m\u001b[0m \u001b[1m2s\u001b[0m 113ms/step - accuracy: 0.8826 - loss: 19.6858 - val_accuracy: 0.7647 - val_loss: 14.9857\n",
      "Epoch 2/50\n",
      "\u001b[1m3/3\u001b[0m \u001b[32m━━━━━━━━━━━━━━━━━━━━\u001b[0m\u001b[37m\u001b[0m \u001b[1m0s\u001b[0m 20ms/step - accuracy: 0.8415 - loss: 6.7544 - val_accuracy: 0.2353 - val_loss: 11.2052\n",
      "Epoch 3/50\n",
      "\u001b[1m3/3\u001b[0m \u001b[32m━━━━━━━━━━━━━━━━━━━━\u001b[0m\u001b[37m\u001b[0m \u001b[1m0s\u001b[0m 35ms/step - accuracy: 0.4210 - loss: 8.1421 - val_accuracy: 0.7647 - val_loss: 10.4708\n",
      "Epoch 4/50\n",
      "\u001b[1m3/3\u001b[0m \u001b[32m━━━━━━━━━━━━━━━━━━━━\u001b[0m\u001b[37m\u001b[0m \u001b[1m0s\u001b[0m 25ms/step - accuracy: 0.8904 - loss: 5.0828 - val_accuracy: 0.7647 - val_loss: 17.4411\n",
      "Epoch 5/50\n",
      "\u001b[1m3/3\u001b[0m \u001b[32m━━━━━━━━━━━━━━━━━━━━\u001b[0m\u001b[37m\u001b[0m \u001b[1m0s\u001b[0m 22ms/step - accuracy: 0.8826 - loss: 7.8847 - val_accuracy: 0.7647 - val_loss: 18.0129\n",
      "Epoch 6/50\n",
      "\u001b[1m3/3\u001b[0m \u001b[32m━━━━━━━━━━━━━━━━━━━━\u001b[0m\u001b[37m\u001b[0m \u001b[1m0s\u001b[0m 77ms/step - accuracy: 0.8826 - loss: 8.1658 - val_accuracy: 0.7647 - val_loss: 14.0108\n",
      "Epoch 7/50\n",
      "\u001b[1m3/3\u001b[0m \u001b[32m━━━━━━━━━━━━━━━━━━━━\u001b[0m\u001b[37m\u001b[0m \u001b[1m0s\u001b[0m 18ms/step - accuracy: 0.8904 - loss: 5.4813 - val_accuracy: 0.7647 - val_loss: 6.7448\n",
      "Epoch 8/50\n",
      "\u001b[1m3/3\u001b[0m \u001b[32m━━━━━━━━━━━━━━━━━━━━\u001b[0m\u001b[37m\u001b[0m \u001b[1m0s\u001b[0m 28ms/step - accuracy: 0.8709 - loss: 3.0347 - val_accuracy: 0.2353 - val_loss: 4.5429\n",
      "Epoch 9/50\n",
      "\u001b[1m3/3\u001b[0m \u001b[32m━━━━━━━━━━━━━━━━━━━━\u001b[0m\u001b[37m\u001b[0m \u001b[1m0s\u001b[0m 33ms/step - accuracy: 0.3417 - loss: 3.7433 - val_accuracy: 0.7647 - val_loss: 3.2938\n",
      "Epoch 10/50\n",
      "\u001b[1m3/3\u001b[0m \u001b[32m━━━━━━━━━━━━━━━━━━━━\u001b[0m\u001b[37m\u001b[0m \u001b[1m0s\u001b[0m 21ms/step - accuracy: 0.8787 - loss: 1.6022 - val_accuracy: 0.7647 - val_loss: 4.2522\n",
      "Epoch 11/50\n",
      "\u001b[1m3/3\u001b[0m \u001b[32m━━━━━━━━━━━━━━━━━━━━\u001b[0m\u001b[37m\u001b[0m \u001b[1m0s\u001b[0m 17ms/step - accuracy: 0.8787 - loss: 1.8788 - val_accuracy: 0.7647 - val_loss: 2.6969\n",
      "Epoch 12/50\n",
      "\u001b[1m3/3\u001b[0m \u001b[32m━━━━━━━━━━━━━━━━━━━━\u001b[0m\u001b[37m\u001b[0m \u001b[1m0s\u001b[0m 35ms/step - accuracy: 0.8982 - loss: 0.8180 - val_accuracy: 0.2353 - val_loss: 3.7730\n",
      "Epoch 13/50\n",
      "\u001b[1m3/3\u001b[0m \u001b[32m━━━━━━━━━━━━━━━━━━━━\u001b[0m\u001b[37m\u001b[0m \u001b[1m0s\u001b[0m 37ms/step - accuracy: 0.2227 - loss: 2.8911 - val_accuracy: 0.7647 - val_loss: 5.3503\n",
      "Epoch 14/50\n",
      "\u001b[1m3/3\u001b[0m \u001b[32m━━━━━━━━━━━━━━━━━━━━\u001b[0m\u001b[37m\u001b[0m \u001b[1m0s\u001b[0m 47ms/step - accuracy: 0.8591 - loss: 3.0033 - val_accuracy: 0.7647 - val_loss: 9.4102\n",
      "Epoch 15/50\n",
      "\u001b[1m3/3\u001b[0m \u001b[32m━━━━━━━━━━━━━━━━━━━━\u001b[0m\u001b[37m\u001b[0m \u001b[1m0s\u001b[0m 32ms/step - accuracy: 0.8787 - loss: 4.4784 - val_accuracy: 0.7647 - val_loss: 9.4432\n",
      "Epoch 16/50\n",
      "\u001b[1m3/3\u001b[0m \u001b[32m━━━━━━━━━━━━━━━━━━━━\u001b[0m\u001b[37m\u001b[0m \u001b[1m0s\u001b[0m 22ms/step - accuracy: 0.8826 - loss: 4.0371 - val_accuracy: 0.7647 - val_loss: 6.5354\n",
      "Epoch 17/50\n",
      "\u001b[1m3/3\u001b[0m \u001b[32m━━━━━━━━━━━━━━━━━━━━\u001b[0m\u001b[37m\u001b[0m \u001b[1m0s\u001b[0m 21ms/step - accuracy: 0.8631 - loss: 3.2016 - val_accuracy: 0.7647 - val_loss: 0.5740\n",
      "Epoch 18/50\n",
      "\u001b[1m3/3\u001b[0m \u001b[32m━━━━━━━━━━━━━━━━━━━━\u001b[0m\u001b[37m\u001b[0m \u001b[1m0s\u001b[0m 19ms/step - accuracy: 0.5781 - loss: 1.7771 - val_accuracy: 0.7647 - val_loss: 2.3571\n",
      "Epoch 19/50\n",
      "\u001b[1m3/3\u001b[0m \u001b[32m━━━━━━━━━━━━━━━━━━━━\u001b[0m\u001b[37m\u001b[0m \u001b[1m0s\u001b[0m 27ms/step - accuracy: 0.9060 - loss: 1.3116 - val_accuracy: 0.7647 - val_loss: 4.6877\n",
      "Epoch 20/50\n",
      "\u001b[1m3/3\u001b[0m \u001b[32m━━━━━━━━━━━━━━━━━━━━\u001b[0m\u001b[37m\u001b[0m \u001b[1m0s\u001b[0m 20ms/step - accuracy: 0.8865 - loss: 1.9854 - val_accuracy: 0.7647 - val_loss: 2.8948\n",
      "Epoch 21/50\n",
      "\u001b[1m3/3\u001b[0m \u001b[32m━━━━━━━━━━━━━━━━━━━━\u001b[0m\u001b[37m\u001b[0m \u001b[1m0s\u001b[0m 23ms/step - accuracy: 0.8904 - loss: 0.9867 - val_accuracy: 0.2353 - val_loss: 3.5700\n",
      "Epoch 22/50\n",
      "\u001b[1m3/3\u001b[0m \u001b[32m━━━━━━━━━━━━━━━━━━━━\u001b[0m\u001b[37m\u001b[0m \u001b[1m0s\u001b[0m 28ms/step - accuracy: 0.3309 - loss: 2.6854 - val_accuracy: 0.7647 - val_loss: 4.1733\n",
      "Epoch 23/50\n",
      "\u001b[1m3/3\u001b[0m \u001b[32m━━━━━━━━━━━━━━━━━━━━\u001b[0m\u001b[37m\u001b[0m \u001b[1m0s\u001b[0m 22ms/step - accuracy: 0.8865 - loss: 2.1051 - val_accuracy: 0.7647 - val_loss: 7.1735\n",
      "Epoch 24/50\n",
      "\u001b[1m3/3\u001b[0m \u001b[32m━━━━━━━━━━━━━━━━━━━━\u001b[0m\u001b[37m\u001b[0m \u001b[1m0s\u001b[0m 34ms/step - accuracy: 0.8865 - loss: 3.1809 - val_accuracy: 0.7647 - val_loss: 7.0794\n",
      "Epoch 25/50\n",
      "\u001b[1m3/3\u001b[0m \u001b[32m━━━━━━━━━━━━━━━━━━━━\u001b[0m\u001b[37m\u001b[0m \u001b[1m0s\u001b[0m 33ms/step - accuracy: 0.8709 - loss: 3.3891 - val_accuracy: 0.7647 - val_loss: 4.4839\n",
      "Epoch 26/50\n",
      "\u001b[1m3/3\u001b[0m \u001b[32m━━━━━━━━━━━━━━━━━━━━\u001b[0m\u001b[37m\u001b[0m \u001b[1m0s\u001b[0m 29ms/step - accuracy: 0.8787 - loss: 1.8465 - val_accuracy: 0.6471 - val_loss: 0.5741\n",
      "Epoch 27/50\n",
      "\u001b[1m3/3\u001b[0m \u001b[32m━━━━━━━━━━━━━━━━━━━━\u001b[0m\u001b[37m\u001b[0m \u001b[1m0s\u001b[0m 26ms/step - accuracy: 0.6045 - loss: 0.8829 - val_accuracy: 0.7647 - val_loss: 1.9166\n",
      "Epoch 28/50\n",
      "\u001b[1m3/3\u001b[0m \u001b[32m━━━━━━━━━━━━━━━━━━━━\u001b[0m\u001b[37m\u001b[0m \u001b[1m0s\u001b[0m 28ms/step - accuracy: 0.8709 - loss: 0.9180 - val_accuracy: 0.7647 - val_loss: 1.3367\n",
      "Epoch 29/50\n",
      "\u001b[1m3/3\u001b[0m \u001b[32m━━━━━━━━━━━━━━━━━━━━\u001b[0m\u001b[37m\u001b[0m \u001b[1m0s\u001b[0m 36ms/step - accuracy: 0.8987 - loss: 0.3737 - val_accuracy: 0.3529 - val_loss: 1.5654\n",
      "Epoch 30/50\n",
      "\u001b[1m3/3\u001b[0m \u001b[32m━━━━━━━━━━━━━━━━━━━━\u001b[0m\u001b[37m\u001b[0m \u001b[1m0s\u001b[0m 28ms/step - accuracy: 0.4513 - loss: 1.2362 - val_accuracy: 0.7647 - val_loss: 4.3868\n",
      "Epoch 31/50\n",
      "\u001b[1m3/3\u001b[0m \u001b[32m━━━━━━━━━━━━━━━━━━━━\u001b[0m\u001b[37m\u001b[0m \u001b[1m0s\u001b[0m 25ms/step - accuracy: 0.8787 - loss: 2.1208 - val_accuracy: 0.7647 - val_loss: 5.7620\n",
      "Epoch 32/50\n",
      "\u001b[1m3/3\u001b[0m \u001b[32m━━━━━━━━━━━━━━━━━━━━\u001b[0m\u001b[37m\u001b[0m \u001b[1m0s\u001b[0m 24ms/step - accuracy: 0.8709 - loss: 2.8014 - val_accuracy: 0.7647 - val_loss: 4.1980\n",
      "Epoch 33/50\n",
      "\u001b[1m3/3\u001b[0m \u001b[32m━━━━━━━━━━━━━━━━━━━━\u001b[0m\u001b[37m\u001b[0m \u001b[1m0s\u001b[0m 18ms/step - accuracy: 0.8865 - loss: 1.6885 - val_accuracy: 0.7647 - val_loss: 0.7773\n",
      "Epoch 34/50\n",
      "\u001b[1m3/3\u001b[0m \u001b[32m━━━━━━━━━━━━━━━━━━━━\u001b[0m\u001b[37m\u001b[0m \u001b[1m0s\u001b[0m 25ms/step - accuracy: 0.6500 - loss: 0.9675 - val_accuracy: 0.7647 - val_loss: 2.4828\n",
      "Epoch 35/50\n",
      "\u001b[1m3/3\u001b[0m \u001b[32m━━━━━━━━━━━━━━━━━━━━\u001b[0m\u001b[37m\u001b[0m \u001b[1m0s\u001b[0m 26ms/step - accuracy: 0.8904 - loss: 1.2575 - val_accuracy: 0.7647 - val_loss: 3.5851\n",
      "Epoch 36/50\n",
      "\u001b[1m3/3\u001b[0m \u001b[32m━━━━━━━━━━━━━━━━━━━━\u001b[0m\u001b[37m\u001b[0m \u001b[1m0s\u001b[0m 58ms/step - accuracy: 0.9021 - loss: 1.1788 - val_accuracy: 0.2353 - val_loss: 1.7188\n",
      "Epoch 37/50\n",
      "\u001b[1m3/3\u001b[0m \u001b[32m━━━━━━━━━━━━━━━━━━━━\u001b[0m\u001b[37m\u001b[0m \u001b[1m0s\u001b[0m 18ms/step - accuracy: 0.3759 - loss: 1.4874 - val_accuracy: 0.7647 - val_loss: 2.7632\n",
      "Epoch 38/50\n",
      "\u001b[1m3/3\u001b[0m \u001b[32m━━━━━━━━━━━━━━━━━━━━\u001b[0m\u001b[37m\u001b[0m \u001b[1m0s\u001b[0m 19ms/step - accuracy: 0.8787 - loss: 1.3809 - val_accuracy: 0.7647 - val_loss: 3.8754\n",
      "Epoch 39/50\n",
      "\u001b[1m3/3\u001b[0m \u001b[32m━━━━━━━━━━━━━━━━━━━━\u001b[0m\u001b[37m\u001b[0m \u001b[1m0s\u001b[0m 21ms/step - accuracy: 0.8709 - loss: 1.8752 - val_accuracy: 0.7647 - val_loss: 2.0855\n",
      "Epoch 40/50\n",
      "\u001b[1m3/3\u001b[0m \u001b[32m━━━━━━━━━━━━━━━━━━━━\u001b[0m\u001b[37m\u001b[0m \u001b[1m0s\u001b[0m 21ms/step - accuracy: 0.8640 - loss: 0.8300 - val_accuracy: 0.7647 - val_loss: 0.7455\n",
      "Epoch 41/50\n",
      "\u001b[1m3/3\u001b[0m \u001b[32m━━━━━━━━━━━━━━━━━━━━\u001b[0m\u001b[37m\u001b[0m \u001b[1m0s\u001b[0m 28ms/step - accuracy: 0.8904 - loss: 0.4388 - val_accuracy: 0.7647 - val_loss: 0.8155\n",
      "Epoch 42/50\n",
      "\u001b[1m3/3\u001b[0m \u001b[32m━━━━━━━━━━━━━━━━━━━━\u001b[0m\u001b[37m\u001b[0m \u001b[1m0s\u001b[0m 32ms/step - accuracy: 0.6271 - loss: 0.7330 - val_accuracy: 0.7647 - val_loss: 1.3541\n",
      "Epoch 43/50\n",
      "\u001b[1m3/3\u001b[0m \u001b[32m━━━━━━━━━━━━━━━━━━━━\u001b[0m\u001b[37m\u001b[0m \u001b[1m0s\u001b[0m 21ms/step - accuracy: 0.8982 - loss: 0.5155 - val_accuracy: 0.3529 - val_loss: 1.5683\n",
      "Epoch 44/50\n",
      "\u001b[1m3/3\u001b[0m \u001b[32m━━━━━━━━━━━━━━━━━━━━\u001b[0m\u001b[37m\u001b[0m \u001b[1m0s\u001b[0m 21ms/step - accuracy: 0.4405 - loss: 1.2565 - val_accuracy: 0.7647 - val_loss: 1.7037\n",
      "Epoch 45/50\n",
      "\u001b[1m3/3\u001b[0m \u001b[32m━━━━━━━━━━━━━━━━━━━━\u001b[0m\u001b[37m\u001b[0m \u001b[1m0s\u001b[0m 26ms/step - accuracy: 0.9021 - loss: 0.5542 - val_accuracy: 0.5294 - val_loss: 0.8598\n",
      "Epoch 46/50\n",
      "\u001b[1m3/3\u001b[0m \u001b[32m━━━━━━━━━━━━━━━━━━━━\u001b[0m\u001b[37m\u001b[0m \u001b[1m0s\u001b[0m 36ms/step - accuracy: 0.6082 - loss: 0.8182 - val_accuracy: 0.7647 - val_loss: 1.0682\n",
      "Epoch 47/50\n",
      "\u001b[1m3/3\u001b[0m \u001b[32m━━━━━━━━━━━━━━━━━━━━\u001b[0m\u001b[37m\u001b[0m \u001b[1m0s\u001b[0m 26ms/step - accuracy: 0.6873 - loss: 0.6562 - val_accuracy: 0.7647 - val_loss: 1.4781\n",
      "Epoch 48/50\n",
      "\u001b[1m3/3\u001b[0m \u001b[32m━━━━━━━━━━━━━━━━━━━━\u001b[0m\u001b[37m\u001b[0m \u001b[1m0s\u001b[0m 26ms/step - accuracy: 0.8904 - loss: 0.7324 - val_accuracy: 0.7647 - val_loss: 1.5439\n",
      "Epoch 49/50\n",
      "\u001b[1m3/3\u001b[0m \u001b[32m━━━━━━━━━━━━━━━━━━━━\u001b[0m\u001b[37m\u001b[0m \u001b[1m0s\u001b[0m 28ms/step - accuracy: 0.8444 - loss: 0.8513 - val_accuracy: 0.7647 - val_loss: 1.0956\n",
      "Epoch 50/50\n",
      "\u001b[1m3/3\u001b[0m \u001b[32m━━━━━━━━━━━━━━━━━━━━\u001b[0m\u001b[37m\u001b[0m \u001b[1m0s\u001b[0m 19ms/step - accuracy: 0.8865 - loss: 0.6196 - val_accuracy: 0.7647 - val_loss: 2.1060\n"
=======
      "\u001b[1m3/3\u001b[0m \u001b[32m━━━━━━━━━━━━━━━━━━━━\u001b[0m\u001b[37m\u001b[0m \u001b[1m2s\u001b[0m 117ms/step - accuracy: 0.8504 - loss: 7.9770 - val_accuracy: 0.2857 - val_loss: 20.8925\n",
      "Epoch 2/50\n",
      "\u001b[1m3/3\u001b[0m \u001b[32m━━━━━━━━━━━━━━━━━━━━\u001b[0m\u001b[37m\u001b[0m \u001b[1m0s\u001b[0m 44ms/step - accuracy: 0.2468 - loss: 18.9104 - val_accuracy: 0.7143 - val_loss: 6.3324\n",
      "Epoch 3/50\n",
      "\u001b[1m3/3\u001b[0m \u001b[32m━━━━━━━━━━━━━━━━━━━━\u001b[0m\u001b[37m\u001b[0m \u001b[1m0s\u001b[0m 42ms/step - accuracy: 0.8544 - loss: 4.0640 - val_accuracy: 0.7143 - val_loss: 14.9257\n",
      "Epoch 4/50\n",
      "\u001b[1m3/3\u001b[0m \u001b[32m━━━━━━━━━━━━━━━━━━━━\u001b[0m\u001b[37m\u001b[0m \u001b[1m0s\u001b[0m 46ms/step - accuracy: 0.8661 - loss: 7.3070 - val_accuracy: 0.7143 - val_loss: 16.4746\n",
      "Epoch 5/50\n",
      "\u001b[1m3/3\u001b[0m \u001b[32m━━━━━━━━━━━━━━━━━━━━\u001b[0m\u001b[37m\u001b[0m \u001b[1m0s\u001b[0m 48ms/step - accuracy: 0.8465 - loss: 8.2387 - val_accuracy: 0.7143 - val_loss: 12.8133\n",
      "Epoch 6/50\n",
      "\u001b[1m3/3\u001b[0m \u001b[32m━━━━━━━━━━━━━━━━━━━━\u001b[0m\u001b[37m\u001b[0m \u001b[1m0s\u001b[0m 51ms/step - accuracy: 0.8504 - loss: 5.9107 - val_accuracy: 0.7143 - val_loss: 6.0578\n",
      "Epoch 7/50\n",
      "\u001b[1m3/3\u001b[0m \u001b[32m━━━━━━━━━━━━━━━━━━━━\u001b[0m\u001b[37m\u001b[0m \u001b[1m0s\u001b[0m 49ms/step - accuracy: 0.8661 - loss: 1.9583 - val_accuracy: 0.2857 - val_loss: 5.3425\n",
      "Epoch 8/50\n",
      "\u001b[1m3/3\u001b[0m \u001b[32m━━━━━━━━━━━━━━━━━━━━\u001b[0m\u001b[37m\u001b[0m \u001b[1m0s\u001b[0m 43ms/step - accuracy: 0.2448 - loss: 4.9245 - val_accuracy: 0.7143 - val_loss: 4.5208\n",
      "Epoch 9/50\n",
      "\u001b[1m3/3\u001b[0m \u001b[32m━━━━━━━━━━━━━━━━━━━━\u001b[0m\u001b[37m\u001b[0m \u001b[1m0s\u001b[0m 44ms/step - accuracy: 0.8661 - loss: 2.5602 - val_accuracy: 0.7143 - val_loss: 8.6978\n",
      "Epoch 10/50\n",
      "\u001b[1m3/3\u001b[0m \u001b[32m━━━━━━━━━━━━━━━━━━━━\u001b[0m\u001b[37m\u001b[0m \u001b[1m0s\u001b[0m 64ms/step - accuracy: 0.8583 - loss: 4.0888 - val_accuracy: 0.7143 - val_loss: 7.9308\n",
      "Epoch 11/50\n",
      "\u001b[1m3/3\u001b[0m \u001b[32m━━━━━━━━━━━━━━━━━━━━\u001b[0m\u001b[37m\u001b[0m \u001b[1m0s\u001b[0m 58ms/step - accuracy: 0.8700 - loss: 3.1401 - val_accuracy: 0.7143 - val_loss: 3.6013\n",
      "Epoch 12/50\n",
      "\u001b[1m3/3\u001b[0m \u001b[32m━━━━━━━━━━━━━━━━━━━━\u001b[0m\u001b[37m\u001b[0m \u001b[1m0s\u001b[0m 45ms/step - accuracy: 0.7690 - loss: 1.4969 - val_accuracy: 0.2857 - val_loss: 1.1628\n",
      "Epoch 13/50\n",
      "\u001b[1m3/3\u001b[0m \u001b[32m━━━━━━━━━━━━━━━━━━━━\u001b[0m\u001b[37m\u001b[0m \u001b[1m0s\u001b[0m 50ms/step - accuracy: 0.4144 - loss: 1.4467 - val_accuracy: 0.7143 - val_loss: 4.6428\n",
      "Epoch 14/50\n",
      "\u001b[1m3/3\u001b[0m \u001b[32m━━━━━━━━━━━━━━━━━━━━\u001b[0m\u001b[37m\u001b[0m \u001b[1m0s\u001b[0m 46ms/step - accuracy: 0.8622 - loss: 2.2337 - val_accuracy: 0.7143 - val_loss: 4.5394\n",
      "Epoch 15/50\n",
      "\u001b[1m3/3\u001b[0m \u001b[32m━━━━━━━━━━━━━━━━━━━━\u001b[0m\u001b[37m\u001b[0m \u001b[1m0s\u001b[0m 47ms/step - accuracy: 0.8739 - loss: 1.5778 - val_accuracy: 0.7143 - val_loss: 0.8791\n",
      "Epoch 16/50\n",
      "\u001b[1m3/3\u001b[0m \u001b[32m━━━━━━━━━━━━━━━━━━━━\u001b[0m\u001b[37m\u001b[0m \u001b[1m0s\u001b[0m 43ms/step - accuracy: 0.6336 - loss: 0.8784 - val_accuracy: 0.7143 - val_loss: 1.9874\n",
      "Epoch 17/50\n",
      "\u001b[1m3/3\u001b[0m \u001b[32m━━━━━━━━━━━━━━━━━━━━\u001b[0m\u001b[37m\u001b[0m \u001b[1m0s\u001b[0m 46ms/step - accuracy: 0.8406 - loss: 1.0534 - val_accuracy: 0.7143 - val_loss: 1.5958\n",
      "Epoch 18/50\n",
      "\u001b[1m3/3\u001b[0m \u001b[32m━━━━━━━━━━━━━━━━━━━━\u001b[0m\u001b[37m\u001b[0m \u001b[1m0s\u001b[0m 48ms/step - accuracy: 0.8538 - loss: 0.4315 - val_accuracy: 0.6667 - val_loss: 0.6506\n",
      "Epoch 19/50\n",
      "\u001b[1m3/3\u001b[0m \u001b[32m━━━━━━━━━━━━━━━━━━━━\u001b[0m\u001b[37m\u001b[0m \u001b[1m0s\u001b[0m 42ms/step - accuracy: 0.7640 - loss: 0.5557 - val_accuracy: 0.7143 - val_loss: 1.5626\n",
      "Epoch 20/50\n",
      "\u001b[1m3/3\u001b[0m \u001b[32m━━━━━━━━━━━━━━━━━━━━\u001b[0m\u001b[37m\u001b[0m \u001b[1m0s\u001b[0m 41ms/step - accuracy: 0.7909 - loss: 0.6242 - val_accuracy: 0.7143 - val_loss: 0.7718\n",
      "Epoch 21/50\n",
      "\u001b[1m3/3\u001b[0m \u001b[32m━━━━━━━━━━━━━━━━━━━━\u001b[0m\u001b[37m\u001b[0m \u001b[1m0s\u001b[0m 48ms/step - accuracy: 0.8406 - loss: 0.6126 - val_accuracy: 0.7143 - val_loss: 0.9231\n",
      "Epoch 22/50\n",
      "\u001b[1m3/3\u001b[0m \u001b[32m━━━━━━━━━━━━━━━━━━━━\u001b[0m\u001b[37m\u001b[0m \u001b[1m0s\u001b[0m 54ms/step - accuracy: 0.8326 - loss: 0.4897 - val_accuracy: 0.7143 - val_loss: 0.9810\n",
      "Epoch 23/50\n",
      "\u001b[1m3/3\u001b[0m \u001b[32m━━━━━━━━━━━━━━━━━━━━\u001b[0m\u001b[37m\u001b[0m \u001b[1m0s\u001b[0m 54ms/step - accuracy: 0.8601 - loss: 0.5020 - val_accuracy: 0.6667 - val_loss: 0.6670\n",
      "Epoch 24/50\n",
      "\u001b[1m3/3\u001b[0m \u001b[32m━━━━━━━━━━━━━━━━━━━━\u001b[0m\u001b[37m\u001b[0m \u001b[1m0s\u001b[0m 74ms/step - accuracy: 0.7424 - loss: 0.5856 - val_accuracy: 0.7143 - val_loss: 0.7941\n",
      "Epoch 25/50\n",
      "\u001b[1m3/3\u001b[0m \u001b[32m━━━━━━━━━━━━━━━━━━━━\u001b[0m\u001b[37m\u001b[0m \u001b[1m0s\u001b[0m 47ms/step - accuracy: 0.8640 - loss: 0.3935 - val_accuracy: 0.7143 - val_loss: 0.6513\n",
      "Epoch 26/50\n",
      "\u001b[1m3/3\u001b[0m \u001b[32m━━━━━━━━━━━━━━━━━━━━\u001b[0m\u001b[37m\u001b[0m \u001b[1m0s\u001b[0m 44ms/step - accuracy: 0.8445 - loss: 0.4372 - val_accuracy: 0.7143 - val_loss: 0.6778\n",
      "Epoch 27/50\n",
      "\u001b[1m3/3\u001b[0m \u001b[32m━━━━━━━━━━━━━━━━━━━━\u001b[0m\u001b[37m\u001b[0m \u001b[1m0s\u001b[0m 43ms/step - accuracy: 0.8268 - loss: 0.4380 - val_accuracy: 0.7143 - val_loss: 1.3130\n",
      "Epoch 28/50\n",
      "\u001b[1m3/3\u001b[0m \u001b[32m━━━━━━━━━━━━━━━━━━━━\u001b[0m\u001b[37m\u001b[0m \u001b[1m0s\u001b[0m 43ms/step - accuracy: 0.8523 - loss: 0.6237 - val_accuracy: 0.5714 - val_loss: 0.6613\n",
      "Epoch 29/50\n",
      "\u001b[1m3/3\u001b[0m \u001b[32m━━━━━━━━━━━━━━━━━━━━\u001b[0m\u001b[37m\u001b[0m \u001b[1m0s\u001b[0m 47ms/step - accuracy: 0.7816 - loss: 0.6511 - val_accuracy: 0.7143 - val_loss: 1.3314\n",
      "Epoch 30/50\n",
      "\u001b[1m3/3\u001b[0m \u001b[32m━━━━━━━━━━━━━━━━━━━━\u001b[0m\u001b[37m\u001b[0m \u001b[1m0s\u001b[0m 44ms/step - accuracy: 0.8147 - loss: 0.6472 - val_accuracy: 0.7143 - val_loss: 1.7679\n",
      "Epoch 31/50\n",
      "\u001b[1m3/3\u001b[0m \u001b[32m━━━━━━━━━━━━━━━━━━━━\u001b[0m\u001b[37m\u001b[0m \u001b[1m0s\u001b[0m 44ms/step - accuracy: 0.8856 - loss: 1.0792 - val_accuracy: 0.7143 - val_loss: 2.8266\n",
      "Epoch 32/50\n",
      "\u001b[1m3/3\u001b[0m \u001b[32m━━━━━━━━━━━━━━━━━━━━\u001b[0m\u001b[37m\u001b[0m \u001b[1m0s\u001b[0m 44ms/step - accuracy: 0.7552 - loss: 1.3112 - val_accuracy: 0.7143 - val_loss: 1.1410\n",
      "Epoch 33/50\n",
      "\u001b[1m3/3\u001b[0m \u001b[32m━━━━━━━━━━━━━━━━━━━━\u001b[0m\u001b[37m\u001b[0m \u001b[1m0s\u001b[0m 42ms/step - accuracy: 0.8583 - loss: 0.7919 - val_accuracy: 0.7143 - val_loss: 1.9966\n",
      "Epoch 34/50\n",
      "\u001b[1m3/3\u001b[0m \u001b[32m━━━━━━━━━━━━━━━━━━━━\u001b[0m\u001b[37m\u001b[0m \u001b[1m0s\u001b[0m 43ms/step - accuracy: 0.8185 - loss: 0.7319 - val_accuracy: 0.7143 - val_loss: 0.6541\n",
      "Epoch 35/50\n",
      "\u001b[1m3/3\u001b[0m \u001b[32m━━━━━━━━━━━━━━━━━━━━\u001b[0m\u001b[37m\u001b[0m \u001b[1m0s\u001b[0m 44ms/step - accuracy: 0.8073 - loss: 0.5059 - val_accuracy: 0.7143 - val_loss: 1.1090\n",
      "Epoch 36/50\n",
      "\u001b[1m3/3\u001b[0m \u001b[32m━━━━━━━━━━━━━━━━━━━━\u001b[0m\u001b[37m\u001b[0m \u001b[1m0s\u001b[0m 45ms/step - accuracy: 0.8289 - loss: 0.5930 - val_accuracy: 0.7143 - val_loss: 0.8496\n",
      "Epoch 37/50\n",
      "\u001b[1m3/3\u001b[0m \u001b[32m━━━━━━━━━━━━━━━━━━━━\u001b[0m\u001b[37m\u001b[0m \u001b[1m0s\u001b[0m 41ms/step - accuracy: 0.8484 - loss: 0.4345 - val_accuracy: 0.6667 - val_loss: 0.6539\n",
      "Epoch 38/50\n",
      "\u001b[1m3/3\u001b[0m \u001b[32m━━━━━━━━━━━━━━━━━━━━\u001b[0m\u001b[37m\u001b[0m \u001b[1m0s\u001b[0m 51ms/step - accuracy: 0.7640 - loss: 0.5482 - val_accuracy: 0.7143 - val_loss: 0.9873\n",
      "Epoch 39/50\n",
      "\u001b[1m3/3\u001b[0m \u001b[32m━━━━━━━━━━━━━━━━━━━━\u001b[0m\u001b[37m\u001b[0m \u001b[1m0s\u001b[0m 43ms/step - accuracy: 0.8385 - loss: 0.4837 - val_accuracy: 0.7143 - val_loss: 1.0870\n",
      "Epoch 40/50\n",
      "\u001b[1m3/3\u001b[0m \u001b[32m━━━━━━━━━━━━━━━━━━━━\u001b[0m\u001b[37m\u001b[0m \u001b[1m0s\u001b[0m 45ms/step - accuracy: 0.8718 - loss: 0.5158 - val_accuracy: 0.3810 - val_loss: 0.7366\n",
      "Epoch 41/50\n",
      "\u001b[1m3/3\u001b[0m \u001b[32m━━━━━━━━━━━━━━━━━━━━\u001b[0m\u001b[37m\u001b[0m \u001b[1m0s\u001b[0m 42ms/step - accuracy: 0.6246 - loss: 0.6339 - val_accuracy: 0.7143 - val_loss: 1.1264\n",
      "Epoch 42/50\n",
      "\u001b[1m3/3\u001b[0m \u001b[32m━━━━━━━━━━━━━━━━━━━━\u001b[0m\u001b[37m\u001b[0m \u001b[1m0s\u001b[0m 43ms/step - accuracy: 0.7532 - loss: 0.6182 - val_accuracy: 0.7143 - val_loss: 2.0769\n",
      "Epoch 43/50\n",
      "\u001b[1m3/3\u001b[0m \u001b[32m━━━━━━━━━━━━━━━━━━━━\u001b[0m\u001b[37m\u001b[0m \u001b[1m0s\u001b[0m 42ms/step - accuracy: 0.8661 - loss: 1.3417 - val_accuracy: 0.7143 - val_loss: 4.2609\n",
      "Epoch 44/50\n",
      "\u001b[1m3/3\u001b[0m \u001b[32m━━━━━━━━━━━━━━━━━━━━\u001b[0m\u001b[37m\u001b[0m \u001b[1m0s\u001b[0m 43ms/step - accuracy: 0.8465 - loss: 1.9454 - val_accuracy: 0.3810 - val_loss: 0.7807\n",
      "Epoch 45/50\n",
      "\u001b[1m3/3\u001b[0m \u001b[32m━━━━━━━━━━━━━━━━━━━━\u001b[0m\u001b[37m\u001b[0m \u001b[1m0s\u001b[0m 44ms/step - accuracy: 0.3823 - loss: 0.8908 - val_accuracy: 0.7143 - val_loss: 4.3758\n",
      "Epoch 46/50\n",
      "\u001b[1m3/3\u001b[0m \u001b[32m━━━━━━━━━━━━━━━━━━━━\u001b[0m\u001b[37m\u001b[0m \u001b[1m0s\u001b[0m 45ms/step - accuracy: 0.8661 - loss: 2.2822 - val_accuracy: 0.7143 - val_loss: 5.9113\n",
      "Epoch 47/50\n",
      "\u001b[1m3/3\u001b[0m \u001b[32m━━━━━━━━━━━━━━━━━━━━\u001b[0m\u001b[37m\u001b[0m \u001b[1m0s\u001b[0m 50ms/step - accuracy: 0.8583 - loss: 2.5090 - val_accuracy: 0.7143 - val_loss: 1.3036\n",
      "Epoch 48/50\n",
      "\u001b[1m3/3\u001b[0m \u001b[32m━━━━━━━━━━━━━━━━━━━━\u001b[0m\u001b[37m\u001b[0m \u001b[1m0s\u001b[0m 56ms/step - accuracy: 0.6019 - loss: 1.5921 - val_accuracy: 0.7143 - val_loss: 1.9963\n",
      "Epoch 49/50\n",
      "\u001b[1m3/3\u001b[0m \u001b[32m━━━━━━━━━━━━━━━━━━━━\u001b[0m\u001b[37m\u001b[0m \u001b[1m0s\u001b[0m 50ms/step - accuracy: 0.8544 - loss: 1.0542 - val_accuracy: 0.7143 - val_loss: 1.6405\n",
      "Epoch 50/50\n",
      "\u001b[1m3/3\u001b[0m \u001b[32m━━━━━━━━━━━━━━━━━━━━\u001b[0m\u001b[37m\u001b[0m \u001b[1m0s\u001b[0m 52ms/step - accuracy: 0.8025 - loss: 0.5576 - val_accuracy: 0.7143 - val_loss: 1.2182\n"
>>>>>>> Stashed changes
     ]
    }
   ],
   "source": [
    "#SLIDER MODEL\n",
    "slider_model = train_model(X2, y2)"
   ]
  },
  {
   "cell_type": "code",
<<<<<<< Updated upstream
   "execution_count": 90,
=======
   "execution_count": 41,
>>>>>>> Stashed changes
   "metadata": {},
   "outputs": [
    {
     "data": {
      "text/html": [
<<<<<<< Updated upstream
       "<style>#sk-container-id-15 {\n",
       "  /* Definition of color scheme common for light and dark mode */\n",
       "  --sklearn-color-text: black;\n",
=======
       "<style>#sk-container-id-7 {\n",
       "  /* Definition of color scheme common for light and dark mode */\n",
       "  --sklearn-color-text: #000;\n",
       "  --sklearn-color-text-muted: #666;\n",
>>>>>>> Stashed changes
       "  --sklearn-color-line: gray;\n",
       "  /* Definition of color scheme for unfitted estimators */\n",
       "  --sklearn-color-unfitted-level-0: #fff5e6;\n",
       "  --sklearn-color-unfitted-level-1: #f6e4d2;\n",
       "  --sklearn-color-unfitted-level-2: #ffe0b3;\n",
       "  --sklearn-color-unfitted-level-3: chocolate;\n",
       "  /* Definition of color scheme for fitted estimators */\n",
       "  --sklearn-color-fitted-level-0: #f0f8ff;\n",
       "  --sklearn-color-fitted-level-1: #d4ebff;\n",
       "  --sklearn-color-fitted-level-2: #b3dbfd;\n",
       "  --sklearn-color-fitted-level-3: cornflowerblue;\n",
       "\n",
       "  /* Specific color for light theme */\n",
       "  --sklearn-color-text-on-default-background: var(--sg-text-color, var(--theme-code-foreground, var(--jp-content-font-color1, black)));\n",
       "  --sklearn-color-background: var(--sg-background-color, var(--theme-background, var(--jp-layout-color0, white)));\n",
       "  --sklearn-color-border-box: var(--sg-text-color, var(--theme-code-foreground, var(--jp-content-font-color1, black)));\n",
       "  --sklearn-color-icon: #696969;\n",
       "\n",
       "  @media (prefers-color-scheme: dark) {\n",
       "    /* Redefinition of color scheme for dark theme */\n",
       "    --sklearn-color-text-on-default-background: var(--sg-text-color, var(--theme-code-foreground, var(--jp-content-font-color1, white)));\n",
       "    --sklearn-color-background: var(--sg-background-color, var(--theme-background, var(--jp-layout-color0, #111)));\n",
       "    --sklearn-color-border-box: var(--sg-text-color, var(--theme-code-foreground, var(--jp-content-font-color1, white)));\n",
       "    --sklearn-color-icon: #878787;\n",
       "  }\n",
       "}\n",
       "\n",
<<<<<<< Updated upstream
       "#sk-container-id-15 {\n",
       "  color: var(--sklearn-color-text);\n",
       "}\n",
       "\n",
       "#sk-container-id-15 pre {\n",
       "  padding: 0;\n",
       "}\n",
       "\n",
       "#sk-container-id-15 input.sk-hidden--visually {\n",
=======
       "#sk-container-id-7 {\n",
       "  color: var(--sklearn-color-text);\n",
       "}\n",
       "\n",
       "#sk-container-id-7 pre {\n",
       "  padding: 0;\n",
       "}\n",
       "\n",
       "#sk-container-id-7 input.sk-hidden--visually {\n",
>>>>>>> Stashed changes
       "  border: 0;\n",
       "  clip: rect(1px 1px 1px 1px);\n",
       "  clip: rect(1px, 1px, 1px, 1px);\n",
       "  height: 1px;\n",
       "  margin: -1px;\n",
       "  overflow: hidden;\n",
       "  padding: 0;\n",
       "  position: absolute;\n",
       "  width: 1px;\n",
       "}\n",
       "\n",
<<<<<<< Updated upstream
       "#sk-container-id-15 div.sk-dashed-wrapped {\n",
=======
       "#sk-container-id-7 div.sk-dashed-wrapped {\n",
>>>>>>> Stashed changes
       "  border: 1px dashed var(--sklearn-color-line);\n",
       "  margin: 0 0.4em 0.5em 0.4em;\n",
       "  box-sizing: border-box;\n",
       "  padding-bottom: 0.4em;\n",
       "  background-color: var(--sklearn-color-background);\n",
       "}\n",
       "\n",
<<<<<<< Updated upstream
       "#sk-container-id-15 div.sk-container {\n",
=======
       "#sk-container-id-7 div.sk-container {\n",
>>>>>>> Stashed changes
       "  /* jupyter's `normalize.less` sets `[hidden] { display: none; }`\n",
       "     but bootstrap.min.css set `[hidden] { display: none !important; }`\n",
       "     so we also need the `!important` here to be able to override the\n",
       "     default hidden behavior on the sphinx rendered scikit-learn.org.\n",
       "     See: https://github.com/scikit-learn/scikit-learn/issues/21755 */\n",
       "  display: inline-block !important;\n",
       "  position: relative;\n",
       "}\n",
       "\n",
<<<<<<< Updated upstream
       "#sk-container-id-15 div.sk-text-repr-fallback {\n",
=======
       "#sk-container-id-7 div.sk-text-repr-fallback {\n",
>>>>>>> Stashed changes
       "  display: none;\n",
       "}\n",
       "\n",
       "div.sk-parallel-item,\n",
       "div.sk-serial,\n",
       "div.sk-item {\n",
       "  /* draw centered vertical line to link estimators */\n",
       "  background-image: linear-gradient(var(--sklearn-color-text-on-default-background), var(--sklearn-color-text-on-default-background));\n",
       "  background-size: 2px 100%;\n",
       "  background-repeat: no-repeat;\n",
       "  background-position: center center;\n",
       "}\n",
       "\n",
       "/* Parallel-specific style estimator block */\n",
       "\n",
<<<<<<< Updated upstream
       "#sk-container-id-15 div.sk-parallel-item::after {\n",
=======
       "#sk-container-id-7 div.sk-parallel-item::after {\n",
>>>>>>> Stashed changes
       "  content: \"\";\n",
       "  width: 100%;\n",
       "  border-bottom: 2px solid var(--sklearn-color-text-on-default-background);\n",
       "  flex-grow: 1;\n",
       "}\n",
       "\n",
<<<<<<< Updated upstream
       "#sk-container-id-15 div.sk-parallel {\n",
=======
       "#sk-container-id-7 div.sk-parallel {\n",
>>>>>>> Stashed changes
       "  display: flex;\n",
       "  align-items: stretch;\n",
       "  justify-content: center;\n",
       "  background-color: var(--sklearn-color-background);\n",
       "  position: relative;\n",
       "}\n",
       "\n",
<<<<<<< Updated upstream
       "#sk-container-id-15 div.sk-parallel-item {\n",
=======
       "#sk-container-id-7 div.sk-parallel-item {\n",
>>>>>>> Stashed changes
       "  display: flex;\n",
       "  flex-direction: column;\n",
       "}\n",
       "\n",
<<<<<<< Updated upstream
       "#sk-container-id-15 div.sk-parallel-item:first-child::after {\n",
=======
       "#sk-container-id-7 div.sk-parallel-item:first-child::after {\n",
>>>>>>> Stashed changes
       "  align-self: flex-end;\n",
       "  width: 50%;\n",
       "}\n",
       "\n",
<<<<<<< Updated upstream
       "#sk-container-id-15 div.sk-parallel-item:last-child::after {\n",
=======
       "#sk-container-id-7 div.sk-parallel-item:last-child::after {\n",
>>>>>>> Stashed changes
       "  align-self: flex-start;\n",
       "  width: 50%;\n",
       "}\n",
       "\n",
<<<<<<< Updated upstream
       "#sk-container-id-15 div.sk-parallel-item:only-child::after {\n",
=======
       "#sk-container-id-7 div.sk-parallel-item:only-child::after {\n",
>>>>>>> Stashed changes
       "  width: 0;\n",
       "}\n",
       "\n",
       "/* Serial-specific style estimator block */\n",
       "\n",
<<<<<<< Updated upstream
       "#sk-container-id-15 div.sk-serial {\n",
=======
       "#sk-container-id-7 div.sk-serial {\n",
>>>>>>> Stashed changes
       "  display: flex;\n",
       "  flex-direction: column;\n",
       "  align-items: center;\n",
       "  background-color: var(--sklearn-color-background);\n",
       "  padding-right: 1em;\n",
       "  padding-left: 1em;\n",
       "}\n",
       "\n",
       "\n",
       "/* Toggleable style: style used for estimator/Pipeline/ColumnTransformer box that is\n",
       "clickable and can be expanded/collapsed.\n",
       "- Pipeline and ColumnTransformer use this feature and define the default style\n",
       "- Estimators will overwrite some part of the style using the `sk-estimator` class\n",
       "*/\n",
       "\n",
       "/* Pipeline and ColumnTransformer style (default) */\n",
       "\n",
<<<<<<< Updated upstream
       "#sk-container-id-15 div.sk-toggleable {\n",
=======
       "#sk-container-id-7 div.sk-toggleable {\n",
>>>>>>> Stashed changes
       "  /* Default theme specific background. It is overwritten whether we have a\n",
       "  specific estimator or a Pipeline/ColumnTransformer */\n",
       "  background-color: var(--sklearn-color-background);\n",
       "}\n",
       "\n",
       "/* Toggleable label */\n",
<<<<<<< Updated upstream
       "#sk-container-id-15 label.sk-toggleable__label {\n",
       "  cursor: pointer;\n",
       "  display: block;\n",
=======
       "#sk-container-id-7 label.sk-toggleable__label {\n",
       "  cursor: pointer;\n",
       "  display: flex;\n",
>>>>>>> Stashed changes
       "  width: 100%;\n",
       "  margin-bottom: 0;\n",
       "  padding: 0.5em;\n",
       "  box-sizing: border-box;\n",
       "  text-align: center;\n",
<<<<<<< Updated upstream
       "}\n",
       "\n",
       "#sk-container-id-15 label.sk-toggleable__label-arrow:before {\n",
=======
       "  align-items: start;\n",
       "  justify-content: space-between;\n",
       "  gap: 0.5em;\n",
       "}\n",
       "\n",
       "#sk-container-id-7 label.sk-toggleable__label .caption {\n",
       "  font-size: 0.6rem;\n",
       "  font-weight: lighter;\n",
       "  color: var(--sklearn-color-text-muted);\n",
       "}\n",
       "\n",
       "#sk-container-id-7 label.sk-toggleable__label-arrow:before {\n",
>>>>>>> Stashed changes
       "  /* Arrow on the left of the label */\n",
       "  content: \"▸\";\n",
       "  float: left;\n",
       "  margin-right: 0.25em;\n",
       "  color: var(--sklearn-color-icon);\n",
       "}\n",
       "\n",
<<<<<<< Updated upstream
       "#sk-container-id-15 label.sk-toggleable__label-arrow:hover:before {\n",
=======
       "#sk-container-id-7 label.sk-toggleable__label-arrow:hover:before {\n",
>>>>>>> Stashed changes
       "  color: var(--sklearn-color-text);\n",
       "}\n",
       "\n",
       "/* Toggleable content - dropdown */\n",
       "\n",
<<<<<<< Updated upstream
       "#sk-container-id-15 div.sk-toggleable__content {\n",
=======
       "#sk-container-id-7 div.sk-toggleable__content {\n",
>>>>>>> Stashed changes
       "  max-height: 0;\n",
       "  max-width: 0;\n",
       "  overflow: hidden;\n",
       "  text-align: left;\n",
       "  /* unfitted */\n",
       "  background-color: var(--sklearn-color-unfitted-level-0);\n",
       "}\n",
       "\n",
<<<<<<< Updated upstream
       "#sk-container-id-15 div.sk-toggleable__content.fitted {\n",
=======
       "#sk-container-id-7 div.sk-toggleable__content.fitted {\n",
>>>>>>> Stashed changes
       "  /* fitted */\n",
       "  background-color: var(--sklearn-color-fitted-level-0);\n",
       "}\n",
       "\n",
<<<<<<< Updated upstream
       "#sk-container-id-15 div.sk-toggleable__content pre {\n",
=======
       "#sk-container-id-7 div.sk-toggleable__content pre {\n",
>>>>>>> Stashed changes
       "  margin: 0.2em;\n",
       "  border-radius: 0.25em;\n",
       "  color: var(--sklearn-color-text);\n",
       "  /* unfitted */\n",
       "  background-color: var(--sklearn-color-unfitted-level-0);\n",
       "}\n",
       "\n",
<<<<<<< Updated upstream
       "#sk-container-id-15 div.sk-toggleable__content.fitted pre {\n",
=======
       "#sk-container-id-7 div.sk-toggleable__content.fitted pre {\n",
>>>>>>> Stashed changes
       "  /* unfitted */\n",
       "  background-color: var(--sklearn-color-fitted-level-0);\n",
       "}\n",
       "\n",
<<<<<<< Updated upstream
       "#sk-container-id-15 input.sk-toggleable__control:checked~div.sk-toggleable__content {\n",
=======
       "#sk-container-id-7 input.sk-toggleable__control:checked~div.sk-toggleable__content {\n",
>>>>>>> Stashed changes
       "  /* Expand drop-down */\n",
       "  max-height: 200px;\n",
       "  max-width: 100%;\n",
       "  overflow: auto;\n",
       "}\n",
       "\n",
<<<<<<< Updated upstream
       "#sk-container-id-15 input.sk-toggleable__control:checked~label.sk-toggleable__label-arrow:before {\n",
=======
       "#sk-container-id-7 input.sk-toggleable__control:checked~label.sk-toggleable__label-arrow:before {\n",
>>>>>>> Stashed changes
       "  content: \"▾\";\n",
       "}\n",
       "\n",
       "/* Pipeline/ColumnTransformer-specific style */\n",
       "\n",
<<<<<<< Updated upstream
       "#sk-container-id-15 div.sk-label input.sk-toggleable__control:checked~label.sk-toggleable__label {\n",
=======
       "#sk-container-id-7 div.sk-label input.sk-toggleable__control:checked~label.sk-toggleable__label {\n",
>>>>>>> Stashed changes
       "  color: var(--sklearn-color-text);\n",
       "  background-color: var(--sklearn-color-unfitted-level-2);\n",
       "}\n",
       "\n",
<<<<<<< Updated upstream
       "#sk-container-id-15 div.sk-label.fitted input.sk-toggleable__control:checked~label.sk-toggleable__label {\n",
=======
       "#sk-container-id-7 div.sk-label.fitted input.sk-toggleable__control:checked~label.sk-toggleable__label {\n",
>>>>>>> Stashed changes
       "  background-color: var(--sklearn-color-fitted-level-2);\n",
       "}\n",
       "\n",
       "/* Estimator-specific style */\n",
       "\n",
       "/* Colorize estimator box */\n",
<<<<<<< Updated upstream
       "#sk-container-id-15 div.sk-estimator input.sk-toggleable__control:checked~label.sk-toggleable__label {\n",
=======
       "#sk-container-id-7 div.sk-estimator input.sk-toggleable__control:checked~label.sk-toggleable__label {\n",
>>>>>>> Stashed changes
       "  /* unfitted */\n",
       "  background-color: var(--sklearn-color-unfitted-level-2);\n",
       "}\n",
       "\n",
<<<<<<< Updated upstream
       "#sk-container-id-15 div.sk-estimator.fitted input.sk-toggleable__control:checked~label.sk-toggleable__label {\n",
=======
       "#sk-container-id-7 div.sk-estimator.fitted input.sk-toggleable__control:checked~label.sk-toggleable__label {\n",
>>>>>>> Stashed changes
       "  /* fitted */\n",
       "  background-color: var(--sklearn-color-fitted-level-2);\n",
       "}\n",
       "\n",
<<<<<<< Updated upstream
       "#sk-container-id-15 div.sk-label label.sk-toggleable__label,\n",
       "#sk-container-id-15 div.sk-label label {\n",
=======
       "#sk-container-id-7 div.sk-label label.sk-toggleable__label,\n",
       "#sk-container-id-7 div.sk-label label {\n",
>>>>>>> Stashed changes
       "  /* The background is the default theme color */\n",
       "  color: var(--sklearn-color-text-on-default-background);\n",
       "}\n",
       "\n",
       "/* On hover, darken the color of the background */\n",
<<<<<<< Updated upstream
       "#sk-container-id-15 div.sk-label:hover label.sk-toggleable__label {\n",
=======
       "#sk-container-id-7 div.sk-label:hover label.sk-toggleable__label {\n",
>>>>>>> Stashed changes
       "  color: var(--sklearn-color-text);\n",
       "  background-color: var(--sklearn-color-unfitted-level-2);\n",
       "}\n",
       "\n",
       "/* Label box, darken color on hover, fitted */\n",
<<<<<<< Updated upstream
       "#sk-container-id-15 div.sk-label.fitted:hover label.sk-toggleable__label.fitted {\n",
=======
       "#sk-container-id-7 div.sk-label.fitted:hover label.sk-toggleable__label.fitted {\n",
>>>>>>> Stashed changes
       "  color: var(--sklearn-color-text);\n",
       "  background-color: var(--sklearn-color-fitted-level-2);\n",
       "}\n",
       "\n",
       "/* Estimator label */\n",
       "\n",
<<<<<<< Updated upstream
       "#sk-container-id-15 div.sk-label label {\n",
=======
       "#sk-container-id-7 div.sk-label label {\n",
>>>>>>> Stashed changes
       "  font-family: monospace;\n",
       "  font-weight: bold;\n",
       "  display: inline-block;\n",
       "  line-height: 1.2em;\n",
       "}\n",
       "\n",
<<<<<<< Updated upstream
       "#sk-container-id-15 div.sk-label-container {\n",
=======
       "#sk-container-id-7 div.sk-label-container {\n",
>>>>>>> Stashed changes
       "  text-align: center;\n",
       "}\n",
       "\n",
       "/* Estimator-specific */\n",
<<<<<<< Updated upstream
       "#sk-container-id-15 div.sk-estimator {\n",
=======
       "#sk-container-id-7 div.sk-estimator {\n",
>>>>>>> Stashed changes
       "  font-family: monospace;\n",
       "  border: 1px dotted var(--sklearn-color-border-box);\n",
       "  border-radius: 0.25em;\n",
       "  box-sizing: border-box;\n",
       "  margin-bottom: 0.5em;\n",
       "  /* unfitted */\n",
       "  background-color: var(--sklearn-color-unfitted-level-0);\n",
       "}\n",
       "\n",
<<<<<<< Updated upstream
       "#sk-container-id-15 div.sk-estimator.fitted {\n",
=======
       "#sk-container-id-7 div.sk-estimator.fitted {\n",
>>>>>>> Stashed changes
       "  /* fitted */\n",
       "  background-color: var(--sklearn-color-fitted-level-0);\n",
       "}\n",
       "\n",
       "/* on hover */\n",
<<<<<<< Updated upstream
       "#sk-container-id-15 div.sk-estimator:hover {\n",
=======
       "#sk-container-id-7 div.sk-estimator:hover {\n",
>>>>>>> Stashed changes
       "  /* unfitted */\n",
       "  background-color: var(--sklearn-color-unfitted-level-2);\n",
       "}\n",
       "\n",
<<<<<<< Updated upstream
       "#sk-container-id-15 div.sk-estimator.fitted:hover {\n",
=======
       "#sk-container-id-7 div.sk-estimator.fitted:hover {\n",
>>>>>>> Stashed changes
       "  /* fitted */\n",
       "  background-color: var(--sklearn-color-fitted-level-2);\n",
       "}\n",
       "\n",
       "/* Specification for estimator info (e.g. \"i\" and \"?\") */\n",
       "\n",
       "/* Common style for \"i\" and \"?\" */\n",
       "\n",
       ".sk-estimator-doc-link,\n",
       "a:link.sk-estimator-doc-link,\n",
       "a:visited.sk-estimator-doc-link {\n",
       "  float: right;\n",
       "  font-size: smaller;\n",
       "  line-height: 1em;\n",
       "  font-family: monospace;\n",
       "  background-color: var(--sklearn-color-background);\n",
       "  border-radius: 1em;\n",
       "  height: 1em;\n",
       "  width: 1em;\n",
       "  text-decoration: none !important;\n",
<<<<<<< Updated upstream
       "  margin-left: 1ex;\n",
=======
       "  margin-left: 0.5em;\n",
       "  text-align: center;\n",
>>>>>>> Stashed changes
       "  /* unfitted */\n",
       "  border: var(--sklearn-color-unfitted-level-1) 1pt solid;\n",
       "  color: var(--sklearn-color-unfitted-level-1);\n",
       "}\n",
       "\n",
       ".sk-estimator-doc-link.fitted,\n",
       "a:link.sk-estimator-doc-link.fitted,\n",
       "a:visited.sk-estimator-doc-link.fitted {\n",
       "  /* fitted */\n",
       "  border: var(--sklearn-color-fitted-level-1) 1pt solid;\n",
       "  color: var(--sklearn-color-fitted-level-1);\n",
       "}\n",
       "\n",
       "/* On hover */\n",
       "div.sk-estimator:hover .sk-estimator-doc-link:hover,\n",
       ".sk-estimator-doc-link:hover,\n",
       "div.sk-label-container:hover .sk-estimator-doc-link:hover,\n",
       ".sk-estimator-doc-link:hover {\n",
       "  /* unfitted */\n",
       "  background-color: var(--sklearn-color-unfitted-level-3);\n",
       "  color: var(--sklearn-color-background);\n",
       "  text-decoration: none;\n",
       "}\n",
       "\n",
       "div.sk-estimator.fitted:hover .sk-estimator-doc-link.fitted:hover,\n",
       ".sk-estimator-doc-link.fitted:hover,\n",
       "div.sk-label-container:hover .sk-estimator-doc-link.fitted:hover,\n",
       ".sk-estimator-doc-link.fitted:hover {\n",
       "  /* fitted */\n",
       "  background-color: var(--sklearn-color-fitted-level-3);\n",
       "  color: var(--sklearn-color-background);\n",
       "  text-decoration: none;\n",
       "}\n",
       "\n",
       "/* Span, style for the box shown on hovering the info icon */\n",
       ".sk-estimator-doc-link span {\n",
       "  display: none;\n",
       "  z-index: 9999;\n",
       "  position: relative;\n",
       "  font-weight: normal;\n",
       "  right: .2ex;\n",
       "  padding: .5ex;\n",
       "  margin: .5ex;\n",
       "  width: min-content;\n",
       "  min-width: 20ex;\n",
       "  max-width: 50ex;\n",
       "  color: var(--sklearn-color-text);\n",
       "  box-shadow: 2pt 2pt 4pt #999;\n",
       "  /* unfitted */\n",
       "  background: var(--sklearn-color-unfitted-level-0);\n",
       "  border: .5pt solid var(--sklearn-color-unfitted-level-3);\n",
       "}\n",
       "\n",
       ".sk-estimator-doc-link.fitted span {\n",
       "  /* fitted */\n",
       "  background: var(--sklearn-color-fitted-level-0);\n",
       "  border: var(--sklearn-color-fitted-level-3);\n",
       "}\n",
       "\n",
       ".sk-estimator-doc-link:hover span {\n",
       "  display: block;\n",
       "}\n",
       "\n",
       "/* \"?\"-specific style due to the `<a>` HTML tag */\n",
       "\n",
<<<<<<< Updated upstream
       "#sk-container-id-15 a.estimator_doc_link {\n",
=======
       "#sk-container-id-7 a.estimator_doc_link {\n",
>>>>>>> Stashed changes
       "  float: right;\n",
       "  font-size: 1rem;\n",
       "  line-height: 1em;\n",
       "  font-family: monospace;\n",
       "  background-color: var(--sklearn-color-background);\n",
       "  border-radius: 1rem;\n",
       "  height: 1rem;\n",
       "  width: 1rem;\n",
       "  text-decoration: none;\n",
       "  /* unfitted */\n",
       "  color: var(--sklearn-color-unfitted-level-1);\n",
       "  border: var(--sklearn-color-unfitted-level-1) 1pt solid;\n",
       "}\n",
       "\n",
<<<<<<< Updated upstream
       "#sk-container-id-15 a.estimator_doc_link.fitted {\n",
=======
       "#sk-container-id-7 a.estimator_doc_link.fitted {\n",
>>>>>>> Stashed changes
       "  /* fitted */\n",
       "  border: var(--sklearn-color-fitted-level-1) 1pt solid;\n",
       "  color: var(--sklearn-color-fitted-level-1);\n",
       "}\n",
       "\n",
       "/* On hover */\n",
<<<<<<< Updated upstream
       "#sk-container-id-15 a.estimator_doc_link:hover {\n",
=======
       "#sk-container-id-7 a.estimator_doc_link:hover {\n",
>>>>>>> Stashed changes
       "  /* unfitted */\n",
       "  background-color: var(--sklearn-color-unfitted-level-3);\n",
       "  color: var(--sklearn-color-background);\n",
       "  text-decoration: none;\n",
       "}\n",
       "\n",
<<<<<<< Updated upstream
       "#sk-container-id-15 a.estimator_doc_link.fitted:hover {\n",
       "  /* fitted */\n",
       "  background-color: var(--sklearn-color-fitted-level-3);\n",
       "}\n",
       "</style><div id=\"sk-container-id-15\" class=\"sk-top-container\"><div class=\"sk-text-repr-fallback\"><pre>XGBClassifier(base_score=None, booster=None, callbacks=None,\n",
=======
       "#sk-container-id-7 a.estimator_doc_link.fitted:hover {\n",
       "  /* fitted */\n",
       "  background-color: var(--sklearn-color-fitted-level-3);\n",
       "}\n",
       "</style><div id=\"sk-container-id-7\" class=\"sk-top-container\"><div class=\"sk-text-repr-fallback\"><pre>XGBClassifier(base_score=None, booster=None, callbacks=None,\n",
>>>>>>> Stashed changes
       "              colsample_bylevel=None, colsample_bynode=None,\n",
       "              colsample_bytree=None, device=None, early_stopping_rounds=None,\n",
       "              enable_categorical=False, eval_metric=None, feature_types=None,\n",
       "              feature_weights=None, gamma=None, grow_policy=None,\n",
       "              importance_type=None, interaction_constraints=None,\n",
       "              learning_rate=None, max_bin=None, max_cat_threshold=None,\n",
       "              max_cat_to_onehot=None, max_delta_step=None, max_depth=None,\n",
       "              max_leaves=None, min_child_weight=None, missing=nan,\n",
       "              monotone_constraints=None, multi_strategy=None, n_estimators=None,\n",
<<<<<<< Updated upstream
       "              n_jobs=None, num_parallel_tree=None, ...)</pre><b>In a Jupyter environment, please rerun this cell to show the HTML representation or trust the notebook. <br />On GitHub, the HTML representation is unable to render, please try loading this page with nbviewer.org.</b></div><div class=\"sk-container\" hidden><div class=\"sk-item\"><div class=\"sk-estimator fitted sk-toggleable\"><input class=\"sk-toggleable__control sk-hidden--visually\" id=\"sk-estimator-id-15\" type=\"checkbox\" checked><label for=\"sk-estimator-id-15\" class=\"sk-toggleable__label fitted sk-toggleable__label-arrow fitted\">&nbsp;&nbsp;XGBClassifier<a class=\"sk-estimator-doc-link fitted\" rel=\"noreferrer\" target=\"_blank\" href=\"https://xgboost.readthedocs.io/en/release_3.0.0/python/python_api.html#xgboost.XGBClassifier\">?<span>Documentation for XGBClassifier</span></a><span class=\"sk-estimator-doc-link fitted\">i<span>Fitted</span></span></label><div class=\"sk-toggleable__content fitted\"><pre>XGBClassifier(base_score=None, booster=None, callbacks=None,\n",
=======
       "              n_jobs=None, num_parallel_tree=None, ...)</pre><b>In a Jupyter environment, please rerun this cell to show the HTML representation or trust the notebook. <br />On GitHub, the HTML representation is unable to render, please try loading this page with nbviewer.org.</b></div><div class=\"sk-container\" hidden><div class=\"sk-item\"><div class=\"sk-estimator fitted sk-toggleable\"><input class=\"sk-toggleable__control sk-hidden--visually\" id=\"sk-estimator-id-7\" type=\"checkbox\" checked><label for=\"sk-estimator-id-7\" class=\"sk-toggleable__label fitted sk-toggleable__label-arrow\"><div><div>XGBClassifier</div></div><div><a class=\"sk-estimator-doc-link fitted\" rel=\"noreferrer\" target=\"_blank\" href=\"https://xgboost.readthedocs.io/en/release_3.0.0/python/python_api.html#xgboost.XGBClassifier\">?<span>Documentation for XGBClassifier</span></a><span class=\"sk-estimator-doc-link fitted\">i<span>Fitted</span></span></div></label><div class=\"sk-toggleable__content fitted\"><pre>XGBClassifier(base_score=None, booster=None, callbacks=None,\n",
>>>>>>> Stashed changes
       "              colsample_bylevel=None, colsample_bynode=None,\n",
       "              colsample_bytree=None, device=None, early_stopping_rounds=None,\n",
       "              enable_categorical=False, eval_metric=None, feature_types=None,\n",
       "              feature_weights=None, gamma=None, grow_policy=None,\n",
       "              importance_type=None, interaction_constraints=None,\n",
       "              learning_rate=None, max_bin=None, max_cat_threshold=None,\n",
       "              max_cat_to_onehot=None, max_delta_step=None, max_depth=None,\n",
       "              max_leaves=None, min_child_weight=None, missing=nan,\n",
       "              monotone_constraints=None, multi_strategy=None, n_estimators=None,\n",
       "              n_jobs=None, num_parallel_tree=None, ...)</pre></div> </div></div></div></div>"
      ],
      "text/plain": [
       "XGBClassifier(base_score=None, booster=None, callbacks=None,\n",
       "              colsample_bylevel=None, colsample_bynode=None,\n",
       "              colsample_bytree=None, device=None, early_stopping_rounds=None,\n",
       "              enable_categorical=False, eval_metric=None, feature_types=None,\n",
       "              feature_weights=None, gamma=None, grow_policy=None,\n",
       "              importance_type=None, interaction_constraints=None,\n",
       "              learning_rate=None, max_bin=None, max_cat_threshold=None,\n",
       "              max_cat_to_onehot=None, max_delta_step=None, max_depth=None,\n",
       "              max_leaves=None, min_child_weight=None, missing=nan,\n",
       "              monotone_constraints=None, multi_strategy=None, n_estimators=None,\n",
       "              n_jobs=None, num_parallel_tree=None, ...)"
      ]
     },
<<<<<<< Updated upstream
     "execution_count": 90,
=======
     "execution_count": 41,
>>>>>>> Stashed changes
     "metadata": {},
     "output_type": "execute_result"
    }
   ],
   "source": [
<<<<<<< Updated upstream
    "#xgboost for changeup\n",
=======
    "#xgboost for Changeup\n",
>>>>>>> Stashed changes
    "xgb_model3 = XGBClassifier()\n",
    "xgb_model3.fit(X3_train, y3_train)"
   ]
  },
  {
   "cell_type": "code",
<<<<<<< Updated upstream
   "execution_count": 91,
=======
   "execution_count": 42,
>>>>>>> Stashed changes
   "metadata": {},
   "outputs": [
    {
     "data": {
      "text/html": [
<<<<<<< Updated upstream
       "<style>#sk-container-id-16 {\n",
       "  /* Definition of color scheme common for light and dark mode */\n",
       "  --sklearn-color-text: black;\n",
=======
       "<style>#sk-container-id-8 {\n",
       "  /* Definition of color scheme common for light and dark mode */\n",
       "  --sklearn-color-text: #000;\n",
       "  --sklearn-color-text-muted: #666;\n",
>>>>>>> Stashed changes
       "  --sklearn-color-line: gray;\n",
       "  /* Definition of color scheme for unfitted estimators */\n",
       "  --sklearn-color-unfitted-level-0: #fff5e6;\n",
       "  --sklearn-color-unfitted-level-1: #f6e4d2;\n",
       "  --sklearn-color-unfitted-level-2: #ffe0b3;\n",
       "  --sklearn-color-unfitted-level-3: chocolate;\n",
       "  /* Definition of color scheme for fitted estimators */\n",
       "  --sklearn-color-fitted-level-0: #f0f8ff;\n",
       "  --sklearn-color-fitted-level-1: #d4ebff;\n",
       "  --sklearn-color-fitted-level-2: #b3dbfd;\n",
       "  --sklearn-color-fitted-level-3: cornflowerblue;\n",
       "\n",
       "  /* Specific color for light theme */\n",
       "  --sklearn-color-text-on-default-background: var(--sg-text-color, var(--theme-code-foreground, var(--jp-content-font-color1, black)));\n",
       "  --sklearn-color-background: var(--sg-background-color, var(--theme-background, var(--jp-layout-color0, white)));\n",
       "  --sklearn-color-border-box: var(--sg-text-color, var(--theme-code-foreground, var(--jp-content-font-color1, black)));\n",
       "  --sklearn-color-icon: #696969;\n",
       "\n",
       "  @media (prefers-color-scheme: dark) {\n",
       "    /* Redefinition of color scheme for dark theme */\n",
       "    --sklearn-color-text-on-default-background: var(--sg-text-color, var(--theme-code-foreground, var(--jp-content-font-color1, white)));\n",
       "    --sklearn-color-background: var(--sg-background-color, var(--theme-background, var(--jp-layout-color0, #111)));\n",
       "    --sklearn-color-border-box: var(--sg-text-color, var(--theme-code-foreground, var(--jp-content-font-color1, white)));\n",
       "    --sklearn-color-icon: #878787;\n",
       "  }\n",
       "}\n",
       "\n",
<<<<<<< Updated upstream
       "#sk-container-id-16 {\n",
       "  color: var(--sklearn-color-text);\n",
       "}\n",
       "\n",
       "#sk-container-id-16 pre {\n",
       "  padding: 0;\n",
       "}\n",
       "\n",
       "#sk-container-id-16 input.sk-hidden--visually {\n",
=======
       "#sk-container-id-8 {\n",
       "  color: var(--sklearn-color-text);\n",
       "}\n",
       "\n",
       "#sk-container-id-8 pre {\n",
       "  padding: 0;\n",
       "}\n",
       "\n",
       "#sk-container-id-8 input.sk-hidden--visually {\n",
>>>>>>> Stashed changes
       "  border: 0;\n",
       "  clip: rect(1px 1px 1px 1px);\n",
       "  clip: rect(1px, 1px, 1px, 1px);\n",
       "  height: 1px;\n",
       "  margin: -1px;\n",
       "  overflow: hidden;\n",
       "  padding: 0;\n",
       "  position: absolute;\n",
       "  width: 1px;\n",
       "}\n",
       "\n",
<<<<<<< Updated upstream
       "#sk-container-id-16 div.sk-dashed-wrapped {\n",
=======
       "#sk-container-id-8 div.sk-dashed-wrapped {\n",
>>>>>>> Stashed changes
       "  border: 1px dashed var(--sklearn-color-line);\n",
       "  margin: 0 0.4em 0.5em 0.4em;\n",
       "  box-sizing: border-box;\n",
       "  padding-bottom: 0.4em;\n",
       "  background-color: var(--sklearn-color-background);\n",
       "}\n",
       "\n",
<<<<<<< Updated upstream
       "#sk-container-id-16 div.sk-container {\n",
=======
       "#sk-container-id-8 div.sk-container {\n",
>>>>>>> Stashed changes
       "  /* jupyter's `normalize.less` sets `[hidden] { display: none; }`\n",
       "     but bootstrap.min.css set `[hidden] { display: none !important; }`\n",
       "     so we also need the `!important` here to be able to override the\n",
       "     default hidden behavior on the sphinx rendered scikit-learn.org.\n",
       "     See: https://github.com/scikit-learn/scikit-learn/issues/21755 */\n",
       "  display: inline-block !important;\n",
       "  position: relative;\n",
       "}\n",
       "\n",
<<<<<<< Updated upstream
       "#sk-container-id-16 div.sk-text-repr-fallback {\n",
=======
       "#sk-container-id-8 div.sk-text-repr-fallback {\n",
>>>>>>> Stashed changes
       "  display: none;\n",
       "}\n",
       "\n",
       "div.sk-parallel-item,\n",
       "div.sk-serial,\n",
       "div.sk-item {\n",
       "  /* draw centered vertical line to link estimators */\n",
       "  background-image: linear-gradient(var(--sklearn-color-text-on-default-background), var(--sklearn-color-text-on-default-background));\n",
       "  background-size: 2px 100%;\n",
       "  background-repeat: no-repeat;\n",
       "  background-position: center center;\n",
       "}\n",
       "\n",
       "/* Parallel-specific style estimator block */\n",
       "\n",
<<<<<<< Updated upstream
       "#sk-container-id-16 div.sk-parallel-item::after {\n",
=======
       "#sk-container-id-8 div.sk-parallel-item::after {\n",
>>>>>>> Stashed changes
       "  content: \"\";\n",
       "  width: 100%;\n",
       "  border-bottom: 2px solid var(--sklearn-color-text-on-default-background);\n",
       "  flex-grow: 1;\n",
       "}\n",
       "\n",
<<<<<<< Updated upstream
       "#sk-container-id-16 div.sk-parallel {\n",
=======
       "#sk-container-id-8 div.sk-parallel {\n",
>>>>>>> Stashed changes
       "  display: flex;\n",
       "  align-items: stretch;\n",
       "  justify-content: center;\n",
       "  background-color: var(--sklearn-color-background);\n",
       "  position: relative;\n",
       "}\n",
       "\n",
<<<<<<< Updated upstream
       "#sk-container-id-16 div.sk-parallel-item {\n",
=======
       "#sk-container-id-8 div.sk-parallel-item {\n",
>>>>>>> Stashed changes
       "  display: flex;\n",
       "  flex-direction: column;\n",
       "}\n",
       "\n",
<<<<<<< Updated upstream
       "#sk-container-id-16 div.sk-parallel-item:first-child::after {\n",
=======
       "#sk-container-id-8 div.sk-parallel-item:first-child::after {\n",
>>>>>>> Stashed changes
       "  align-self: flex-end;\n",
       "  width: 50%;\n",
       "}\n",
       "\n",
<<<<<<< Updated upstream
       "#sk-container-id-16 div.sk-parallel-item:last-child::after {\n",
=======
       "#sk-container-id-8 div.sk-parallel-item:last-child::after {\n",
>>>>>>> Stashed changes
       "  align-self: flex-start;\n",
       "  width: 50%;\n",
       "}\n",
       "\n",
<<<<<<< Updated upstream
       "#sk-container-id-16 div.sk-parallel-item:only-child::after {\n",
=======
       "#sk-container-id-8 div.sk-parallel-item:only-child::after {\n",
>>>>>>> Stashed changes
       "  width: 0;\n",
       "}\n",
       "\n",
       "/* Serial-specific style estimator block */\n",
       "\n",
<<<<<<< Updated upstream
       "#sk-container-id-16 div.sk-serial {\n",
=======
       "#sk-container-id-8 div.sk-serial {\n",
>>>>>>> Stashed changes
       "  display: flex;\n",
       "  flex-direction: column;\n",
       "  align-items: center;\n",
       "  background-color: var(--sklearn-color-background);\n",
       "  padding-right: 1em;\n",
       "  padding-left: 1em;\n",
       "}\n",
       "\n",
       "\n",
       "/* Toggleable style: style used for estimator/Pipeline/ColumnTransformer box that is\n",
       "clickable and can be expanded/collapsed.\n",
       "- Pipeline and ColumnTransformer use this feature and define the default style\n",
       "- Estimators will overwrite some part of the style using the `sk-estimator` class\n",
       "*/\n",
       "\n",
       "/* Pipeline and ColumnTransformer style (default) */\n",
       "\n",
<<<<<<< Updated upstream
       "#sk-container-id-16 div.sk-toggleable {\n",
=======
       "#sk-container-id-8 div.sk-toggleable {\n",
>>>>>>> Stashed changes
       "  /* Default theme specific background. It is overwritten whether we have a\n",
       "  specific estimator or a Pipeline/ColumnTransformer */\n",
       "  background-color: var(--sklearn-color-background);\n",
       "}\n",
       "\n",
       "/* Toggleable label */\n",
<<<<<<< Updated upstream
       "#sk-container-id-16 label.sk-toggleable__label {\n",
       "  cursor: pointer;\n",
       "  display: block;\n",
=======
       "#sk-container-id-8 label.sk-toggleable__label {\n",
       "  cursor: pointer;\n",
       "  display: flex;\n",
>>>>>>> Stashed changes
       "  width: 100%;\n",
       "  margin-bottom: 0;\n",
       "  padding: 0.5em;\n",
       "  box-sizing: border-box;\n",
       "  text-align: center;\n",
<<<<<<< Updated upstream
       "}\n",
       "\n",
       "#sk-container-id-16 label.sk-toggleable__label-arrow:before {\n",
=======
       "  align-items: start;\n",
       "  justify-content: space-between;\n",
       "  gap: 0.5em;\n",
       "}\n",
       "\n",
       "#sk-container-id-8 label.sk-toggleable__label .caption {\n",
       "  font-size: 0.6rem;\n",
       "  font-weight: lighter;\n",
       "  color: var(--sklearn-color-text-muted);\n",
       "}\n",
       "\n",
       "#sk-container-id-8 label.sk-toggleable__label-arrow:before {\n",
>>>>>>> Stashed changes
       "  /* Arrow on the left of the label */\n",
       "  content: \"▸\";\n",
       "  float: left;\n",
       "  margin-right: 0.25em;\n",
       "  color: var(--sklearn-color-icon);\n",
       "}\n",
       "\n",
<<<<<<< Updated upstream
       "#sk-container-id-16 label.sk-toggleable__label-arrow:hover:before {\n",
=======
       "#sk-container-id-8 label.sk-toggleable__label-arrow:hover:before {\n",
>>>>>>> Stashed changes
       "  color: var(--sklearn-color-text);\n",
       "}\n",
       "\n",
       "/* Toggleable content - dropdown */\n",
       "\n",
<<<<<<< Updated upstream
       "#sk-container-id-16 div.sk-toggleable__content {\n",
=======
       "#sk-container-id-8 div.sk-toggleable__content {\n",
>>>>>>> Stashed changes
       "  max-height: 0;\n",
       "  max-width: 0;\n",
       "  overflow: hidden;\n",
       "  text-align: left;\n",
       "  /* unfitted */\n",
       "  background-color: var(--sklearn-color-unfitted-level-0);\n",
       "}\n",
       "\n",
<<<<<<< Updated upstream
       "#sk-container-id-16 div.sk-toggleable__content.fitted {\n",
=======
       "#sk-container-id-8 div.sk-toggleable__content.fitted {\n",
>>>>>>> Stashed changes
       "  /* fitted */\n",
       "  background-color: var(--sklearn-color-fitted-level-0);\n",
       "}\n",
       "\n",
<<<<<<< Updated upstream
       "#sk-container-id-16 div.sk-toggleable__content pre {\n",
=======
       "#sk-container-id-8 div.sk-toggleable__content pre {\n",
>>>>>>> Stashed changes
       "  margin: 0.2em;\n",
       "  border-radius: 0.25em;\n",
       "  color: var(--sklearn-color-text);\n",
       "  /* unfitted */\n",
       "  background-color: var(--sklearn-color-unfitted-level-0);\n",
       "}\n",
       "\n",
<<<<<<< Updated upstream
       "#sk-container-id-16 div.sk-toggleable__content.fitted pre {\n",
=======
       "#sk-container-id-8 div.sk-toggleable__content.fitted pre {\n",
>>>>>>> Stashed changes
       "  /* unfitted */\n",
       "  background-color: var(--sklearn-color-fitted-level-0);\n",
       "}\n",
       "\n",
<<<<<<< Updated upstream
       "#sk-container-id-16 input.sk-toggleable__control:checked~div.sk-toggleable__content {\n",
=======
       "#sk-container-id-8 input.sk-toggleable__control:checked~div.sk-toggleable__content {\n",
>>>>>>> Stashed changes
       "  /* Expand drop-down */\n",
       "  max-height: 200px;\n",
       "  max-width: 100%;\n",
       "  overflow: auto;\n",
       "}\n",
       "\n",
<<<<<<< Updated upstream
       "#sk-container-id-16 input.sk-toggleable__control:checked~label.sk-toggleable__label-arrow:before {\n",
=======
       "#sk-container-id-8 input.sk-toggleable__control:checked~label.sk-toggleable__label-arrow:before {\n",
>>>>>>> Stashed changes
       "  content: \"▾\";\n",
       "}\n",
       "\n",
       "/* Pipeline/ColumnTransformer-specific style */\n",
       "\n",
<<<<<<< Updated upstream
       "#sk-container-id-16 div.sk-label input.sk-toggleable__control:checked~label.sk-toggleable__label {\n",
=======
       "#sk-container-id-8 div.sk-label input.sk-toggleable__control:checked~label.sk-toggleable__label {\n",
>>>>>>> Stashed changes
       "  color: var(--sklearn-color-text);\n",
       "  background-color: var(--sklearn-color-unfitted-level-2);\n",
       "}\n",
       "\n",
<<<<<<< Updated upstream
       "#sk-container-id-16 div.sk-label.fitted input.sk-toggleable__control:checked~label.sk-toggleable__label {\n",
=======
       "#sk-container-id-8 div.sk-label.fitted input.sk-toggleable__control:checked~label.sk-toggleable__label {\n",
>>>>>>> Stashed changes
       "  background-color: var(--sklearn-color-fitted-level-2);\n",
       "}\n",
       "\n",
       "/* Estimator-specific style */\n",
       "\n",
       "/* Colorize estimator box */\n",
<<<<<<< Updated upstream
       "#sk-container-id-16 div.sk-estimator input.sk-toggleable__control:checked~label.sk-toggleable__label {\n",
=======
       "#sk-container-id-8 div.sk-estimator input.sk-toggleable__control:checked~label.sk-toggleable__label {\n",
>>>>>>> Stashed changes
       "  /* unfitted */\n",
       "  background-color: var(--sklearn-color-unfitted-level-2);\n",
       "}\n",
       "\n",
<<<<<<< Updated upstream
       "#sk-container-id-16 div.sk-estimator.fitted input.sk-toggleable__control:checked~label.sk-toggleable__label {\n",
=======
       "#sk-container-id-8 div.sk-estimator.fitted input.sk-toggleable__control:checked~label.sk-toggleable__label {\n",
>>>>>>> Stashed changes
       "  /* fitted */\n",
       "  background-color: var(--sklearn-color-fitted-level-2);\n",
       "}\n",
       "\n",
<<<<<<< Updated upstream
       "#sk-container-id-16 div.sk-label label.sk-toggleable__label,\n",
       "#sk-container-id-16 div.sk-label label {\n",
=======
       "#sk-container-id-8 div.sk-label label.sk-toggleable__label,\n",
       "#sk-container-id-8 div.sk-label label {\n",
>>>>>>> Stashed changes
       "  /* The background is the default theme color */\n",
       "  color: var(--sklearn-color-text-on-default-background);\n",
       "}\n",
       "\n",
       "/* On hover, darken the color of the background */\n",
<<<<<<< Updated upstream
       "#sk-container-id-16 div.sk-label:hover label.sk-toggleable__label {\n",
=======
       "#sk-container-id-8 div.sk-label:hover label.sk-toggleable__label {\n",
>>>>>>> Stashed changes
       "  color: var(--sklearn-color-text);\n",
       "  background-color: var(--sklearn-color-unfitted-level-2);\n",
       "}\n",
       "\n",
       "/* Label box, darken color on hover, fitted */\n",
<<<<<<< Updated upstream
       "#sk-container-id-16 div.sk-label.fitted:hover label.sk-toggleable__label.fitted {\n",
=======
       "#sk-container-id-8 div.sk-label.fitted:hover label.sk-toggleable__label.fitted {\n",
>>>>>>> Stashed changes
       "  color: var(--sklearn-color-text);\n",
       "  background-color: var(--sklearn-color-fitted-level-2);\n",
       "}\n",
       "\n",
       "/* Estimator label */\n",
       "\n",
<<<<<<< Updated upstream
       "#sk-container-id-16 div.sk-label label {\n",
=======
       "#sk-container-id-8 div.sk-label label {\n",
>>>>>>> Stashed changes
       "  font-family: monospace;\n",
       "  font-weight: bold;\n",
       "  display: inline-block;\n",
       "  line-height: 1.2em;\n",
       "}\n",
       "\n",
<<<<<<< Updated upstream
       "#sk-container-id-16 div.sk-label-container {\n",
=======
       "#sk-container-id-8 div.sk-label-container {\n",
>>>>>>> Stashed changes
       "  text-align: center;\n",
       "}\n",
       "\n",
       "/* Estimator-specific */\n",
<<<<<<< Updated upstream
       "#sk-container-id-16 div.sk-estimator {\n",
=======
       "#sk-container-id-8 div.sk-estimator {\n",
>>>>>>> Stashed changes
       "  font-family: monospace;\n",
       "  border: 1px dotted var(--sklearn-color-border-box);\n",
       "  border-radius: 0.25em;\n",
       "  box-sizing: border-box;\n",
       "  margin-bottom: 0.5em;\n",
       "  /* unfitted */\n",
       "  background-color: var(--sklearn-color-unfitted-level-0);\n",
       "}\n",
       "\n",
<<<<<<< Updated upstream
       "#sk-container-id-16 div.sk-estimator.fitted {\n",
=======
       "#sk-container-id-8 div.sk-estimator.fitted {\n",
>>>>>>> Stashed changes
       "  /* fitted */\n",
       "  background-color: var(--sklearn-color-fitted-level-0);\n",
       "}\n",
       "\n",
       "/* on hover */\n",
<<<<<<< Updated upstream
       "#sk-container-id-16 div.sk-estimator:hover {\n",
=======
       "#sk-container-id-8 div.sk-estimator:hover {\n",
>>>>>>> Stashed changes
       "  /* unfitted */\n",
       "  background-color: var(--sklearn-color-unfitted-level-2);\n",
       "}\n",
       "\n",
<<<<<<< Updated upstream
       "#sk-container-id-16 div.sk-estimator.fitted:hover {\n",
=======
       "#sk-container-id-8 div.sk-estimator.fitted:hover {\n",
>>>>>>> Stashed changes
       "  /* fitted */\n",
       "  background-color: var(--sklearn-color-fitted-level-2);\n",
       "}\n",
       "\n",
       "/* Specification for estimator info (e.g. \"i\" and \"?\") */\n",
       "\n",
       "/* Common style for \"i\" and \"?\" */\n",
       "\n",
       ".sk-estimator-doc-link,\n",
       "a:link.sk-estimator-doc-link,\n",
       "a:visited.sk-estimator-doc-link {\n",
       "  float: right;\n",
       "  font-size: smaller;\n",
       "  line-height: 1em;\n",
       "  font-family: monospace;\n",
       "  background-color: var(--sklearn-color-background);\n",
       "  border-radius: 1em;\n",
       "  height: 1em;\n",
       "  width: 1em;\n",
       "  text-decoration: none !important;\n",
<<<<<<< Updated upstream
       "  margin-left: 1ex;\n",
=======
       "  margin-left: 0.5em;\n",
       "  text-align: center;\n",
>>>>>>> Stashed changes
       "  /* unfitted */\n",
       "  border: var(--sklearn-color-unfitted-level-1) 1pt solid;\n",
       "  color: var(--sklearn-color-unfitted-level-1);\n",
       "}\n",
       "\n",
       ".sk-estimator-doc-link.fitted,\n",
       "a:link.sk-estimator-doc-link.fitted,\n",
       "a:visited.sk-estimator-doc-link.fitted {\n",
       "  /* fitted */\n",
       "  border: var(--sklearn-color-fitted-level-1) 1pt solid;\n",
       "  color: var(--sklearn-color-fitted-level-1);\n",
       "}\n",
       "\n",
       "/* On hover */\n",
       "div.sk-estimator:hover .sk-estimator-doc-link:hover,\n",
       ".sk-estimator-doc-link:hover,\n",
       "div.sk-label-container:hover .sk-estimator-doc-link:hover,\n",
       ".sk-estimator-doc-link:hover {\n",
       "  /* unfitted */\n",
       "  background-color: var(--sklearn-color-unfitted-level-3);\n",
       "  color: var(--sklearn-color-background);\n",
       "  text-decoration: none;\n",
       "}\n",
       "\n",
       "div.sk-estimator.fitted:hover .sk-estimator-doc-link.fitted:hover,\n",
       ".sk-estimator-doc-link.fitted:hover,\n",
       "div.sk-label-container:hover .sk-estimator-doc-link.fitted:hover,\n",
       ".sk-estimator-doc-link.fitted:hover {\n",
       "  /* fitted */\n",
       "  background-color: var(--sklearn-color-fitted-level-3);\n",
       "  color: var(--sklearn-color-background);\n",
       "  text-decoration: none;\n",
       "}\n",
       "\n",
       "/* Span, style for the box shown on hovering the info icon */\n",
       ".sk-estimator-doc-link span {\n",
       "  display: none;\n",
       "  z-index: 9999;\n",
       "  position: relative;\n",
       "  font-weight: normal;\n",
       "  right: .2ex;\n",
       "  padding: .5ex;\n",
       "  margin: .5ex;\n",
       "  width: min-content;\n",
       "  min-width: 20ex;\n",
       "  max-width: 50ex;\n",
       "  color: var(--sklearn-color-text);\n",
       "  box-shadow: 2pt 2pt 4pt #999;\n",
       "  /* unfitted */\n",
       "  background: var(--sklearn-color-unfitted-level-0);\n",
       "  border: .5pt solid var(--sklearn-color-unfitted-level-3);\n",
       "}\n",
       "\n",
       ".sk-estimator-doc-link.fitted span {\n",
       "  /* fitted */\n",
       "  background: var(--sklearn-color-fitted-level-0);\n",
       "  border: var(--sklearn-color-fitted-level-3);\n",
       "}\n",
       "\n",
       ".sk-estimator-doc-link:hover span {\n",
       "  display: block;\n",
       "}\n",
       "\n",
       "/* \"?\"-specific style due to the `<a>` HTML tag */\n",
       "\n",
<<<<<<< Updated upstream
       "#sk-container-id-16 a.estimator_doc_link {\n",
=======
       "#sk-container-id-8 a.estimator_doc_link {\n",
>>>>>>> Stashed changes
       "  float: right;\n",
       "  font-size: 1rem;\n",
       "  line-height: 1em;\n",
       "  font-family: monospace;\n",
       "  background-color: var(--sklearn-color-background);\n",
       "  border-radius: 1rem;\n",
       "  height: 1rem;\n",
       "  width: 1rem;\n",
       "  text-decoration: none;\n",
       "  /* unfitted */\n",
       "  color: var(--sklearn-color-unfitted-level-1);\n",
       "  border: var(--sklearn-color-unfitted-level-1) 1pt solid;\n",
       "}\n",
       "\n",
<<<<<<< Updated upstream
       "#sk-container-id-16 a.estimator_doc_link.fitted {\n",
=======
       "#sk-container-id-8 a.estimator_doc_link.fitted {\n",
>>>>>>> Stashed changes
       "  /* fitted */\n",
       "  border: var(--sklearn-color-fitted-level-1) 1pt solid;\n",
       "  color: var(--sklearn-color-fitted-level-1);\n",
       "}\n",
       "\n",
       "/* On hover */\n",
<<<<<<< Updated upstream
       "#sk-container-id-16 a.estimator_doc_link:hover {\n",
=======
       "#sk-container-id-8 a.estimator_doc_link:hover {\n",
>>>>>>> Stashed changes
       "  /* unfitted */\n",
       "  background-color: var(--sklearn-color-unfitted-level-3);\n",
       "  color: var(--sklearn-color-background);\n",
       "  text-decoration: none;\n",
       "}\n",
       "\n",
<<<<<<< Updated upstream
       "#sk-container-id-16 a.estimator_doc_link.fitted:hover {\n",
       "  /* fitted */\n",
       "  background-color: var(--sklearn-color-fitted-level-3);\n",
       "}\n",
       "</style><div id=\"sk-container-id-16\" class=\"sk-top-container\"><div class=\"sk-text-repr-fallback\"><pre>RandomForestClassifier()</pre><b>In a Jupyter environment, please rerun this cell to show the HTML representation or trust the notebook. <br />On GitHub, the HTML representation is unable to render, please try loading this page with nbviewer.org.</b></div><div class=\"sk-container\" hidden><div class=\"sk-item\"><div class=\"sk-estimator fitted sk-toggleable\"><input class=\"sk-toggleable__control sk-hidden--visually\" id=\"sk-estimator-id-16\" type=\"checkbox\" checked><label for=\"sk-estimator-id-16\" class=\"sk-toggleable__label fitted sk-toggleable__label-arrow fitted\">&nbsp;&nbsp;RandomForestClassifier<a class=\"sk-estimator-doc-link fitted\" rel=\"noreferrer\" target=\"_blank\" href=\"https://scikit-learn.org/1.5/modules/generated/sklearn.ensemble.RandomForestClassifier.html\">?<span>Documentation for RandomForestClassifier</span></a><span class=\"sk-estimator-doc-link fitted\">i<span>Fitted</span></span></label><div class=\"sk-toggleable__content fitted\"><pre>RandomForestClassifier()</pre></div> </div></div></div></div>"
=======
       "#sk-container-id-8 a.estimator_doc_link.fitted:hover {\n",
       "  /* fitted */\n",
       "  background-color: var(--sklearn-color-fitted-level-3);\n",
       "}\n",
       "</style><div id=\"sk-container-id-8\" class=\"sk-top-container\"><div class=\"sk-text-repr-fallback\"><pre>RandomForestClassifier()</pre><b>In a Jupyter environment, please rerun this cell to show the HTML representation or trust the notebook. <br />On GitHub, the HTML representation is unable to render, please try loading this page with nbviewer.org.</b></div><div class=\"sk-container\" hidden><div class=\"sk-item\"><div class=\"sk-estimator fitted sk-toggleable\"><input class=\"sk-toggleable__control sk-hidden--visually\" id=\"sk-estimator-id-8\" type=\"checkbox\" checked><label for=\"sk-estimator-id-8\" class=\"sk-toggleable__label fitted sk-toggleable__label-arrow\"><div><div>RandomForestClassifier</div></div><div><a class=\"sk-estimator-doc-link fitted\" rel=\"noreferrer\" target=\"_blank\" href=\"https://scikit-learn.org/1.6/modules/generated/sklearn.ensemble.RandomForestClassifier.html\">?<span>Documentation for RandomForestClassifier</span></a><span class=\"sk-estimator-doc-link fitted\">i<span>Fitted</span></span></div></label><div class=\"sk-toggleable__content fitted\"><pre>RandomForestClassifier()</pre></div> </div></div></div></div>"
>>>>>>> Stashed changes
      ],
      "text/plain": [
       "RandomForestClassifier()"
      ]
     },
<<<<<<< Updated upstream
     "execution_count": 91,
=======
     "execution_count": 42,
>>>>>>> Stashed changes
     "metadata": {},
     "output_type": "execute_result"
    }
   ],
   "source": [
<<<<<<< Updated upstream
    "#random forest for changeup\n",
=======
    "#random forest for Changeup\n",
>>>>>>> Stashed changes
    "rfc3 = RandomForestClassifier(n_estimators=100)\n",
    "rfc3.fit(X3_train, y3_train)"
   ]
  },
  {
   "cell_type": "code",
<<<<<<< Updated upstream
   "execution_count": 92,
=======
   "execution_count": 43,
>>>>>>> Stashed changes
   "metadata": {},
   "outputs": [
    {
     "name": "stdout",
     "output_type": "stream",
     "text": [
      "Epoch 1/50\n"
     ]
    },
    {
     "name": "stderr",
     "output_type": "stream",
     "text": [
<<<<<<< Updated upstream
      "c:\\Users\\maxim\\AppData\\Local\\Programs\\Python\\Python310\\lib\\site-packages\\keras\\src\\layers\\core\\dense.py:87: UserWarning:\n",
=======
      "c:\\Users\\isu_mvquirk_admin\\AppData\\Local\\Programs\\Python\\Python310\\lib\\site-packages\\keras\\src\\layers\\core\\dense.py:93: UserWarning:\n",
>>>>>>> Stashed changes
      "\n",
      "Do not pass an `input_shape`/`input_dim` argument to a layer. When using Sequential models, prefer using an `Input(shape)` object as the first layer in the model instead.\n",
      "\n"
     ]
    },
    {
     "name": "stdout",
     "output_type": "stream",
     "text": [
<<<<<<< Updated upstream
      "\u001b[1m2/2\u001b[0m \u001b[32m━━━━━━━━━━━━━━━━━━━━\u001b[0m\u001b[37m\u001b[0m \u001b[1m2s\u001b[0m 294ms/step - accuracy: 0.7042 - loss: 7.1369 - val_accuracy: 1.0000 - val_loss: 3.5761e-04\n",
      "Epoch 2/50\n",
      "\u001b[1m2/2\u001b[0m \u001b[32m━━━━━━━━━━━━━━━━━━━━\u001b[0m\u001b[37m\u001b[0m \u001b[1m0s\u001b[0m 38ms/step - accuracy: 0.7348 - loss: 2.7745 - val_accuracy: 1.0000 - val_loss: 5.3768e-07\n",
      "Epoch 3/50\n",
      "\u001b[1m2/2\u001b[0m \u001b[32m━━━━━━━━━━━━━━━━━━━━\u001b[0m\u001b[37m\u001b[0m \u001b[1m0s\u001b[0m 162ms/step - accuracy: 0.7244 - loss: 4.8084 - val_accuracy: 1.0000 - val_loss: 0.0170\n",
      "Epoch 4/50\n",
      "\u001b[1m2/2\u001b[0m \u001b[32m━━━━━━━━━━━━━━━━━━━━\u001b[0m\u001b[37m\u001b[0m \u001b[1m0s\u001b[0m 33ms/step - accuracy: 0.7042 - loss: 1.5395 - val_accuracy: 0.4444 - val_loss: 1.1558\n",
      "Epoch 5/50\n",
      "\u001b[1m2/2\u001b[0m \u001b[32m━━━━━━━━━━━━━━━━━━━━\u001b[0m\u001b[37m\u001b[0m \u001b[1m0s\u001b[0m 89ms/step - accuracy: 0.5101 - loss: 1.2997 - val_accuracy: 1.0000 - val_loss: 6.9010e-04\n",
      "Epoch 6/50\n",
      "\u001b[1m2/2\u001b[0m \u001b[32m━━━━━━━━━━━━━━━━━━━━\u001b[0m\u001b[37m\u001b[0m \u001b[1m0s\u001b[0m 44ms/step - accuracy: 0.7244 - loss: 2.4573 - val_accuracy: 1.0000 - val_loss: 5.2066e-05\n",
      "Epoch 7/50\n",
      "\u001b[1m2/2\u001b[0m \u001b[32m━━━━━━━━━━━━━━━━━━━━\u001b[0m\u001b[37m\u001b[0m \u001b[1m0s\u001b[0m 77ms/step - accuracy: 0.7348 - loss: 3.1325 - val_accuracy: 1.0000 - val_loss: 0.1608\n",
      "Epoch 8/50\n",
      "\u001b[1m2/2\u001b[0m \u001b[32m━━━━━━━━━━━━━━━━━━━━\u001b[0m\u001b[37m\u001b[0m \u001b[1m0s\u001b[0m 44ms/step - accuracy: 0.6938 - loss: 0.8781 - val_accuracy: 0.0000e+00 - val_loss: 10.9935\n",
      "Epoch 9/50\n",
      "\u001b[1m2/2\u001b[0m \u001b[32m━━━━━━━━━━━━━━━━━━━━\u001b[0m\u001b[37m\u001b[0m \u001b[1m0s\u001b[0m 62ms/step - accuracy: 0.2756 - loss: 9.6113 - val_accuracy: 0.1111 - val_loss: 6.0079\n",
      "Epoch 10/50\n",
      "\u001b[1m2/2\u001b[0m \u001b[32m━━━━━━━━━━━━━━━━━━━━\u001b[0m\u001b[37m\u001b[0m \u001b[1m0s\u001b[0m 64ms/step - accuracy: 0.3264 - loss: 5.2055 - val_accuracy: 1.0000 - val_loss: 1.1764e-05\n",
      "Epoch 11/50\n",
      "\u001b[1m2/2\u001b[0m \u001b[32m━━━━━━━━━━━━━━━━━━━━\u001b[0m\u001b[37m\u001b[0m \u001b[1m0s\u001b[0m 57ms/step - accuracy: 0.7244 - loss: 3.7438 - val_accuracy: 1.0000 - val_loss: 7.9820e-10\n",
      "Epoch 12/50\n",
      "\u001b[1m2/2\u001b[0m \u001b[32m━━━━━━━━━━━━━━━━━━━━\u001b[0m\u001b[37m\u001b[0m \u001b[1m0s\u001b[0m 63ms/step - accuracy: 0.7244 - loss: 7.3462 - val_accuracy: 1.0000 - val_loss: 9.6662e-12\n",
      "Epoch 13/50\n",
      "\u001b[1m2/2\u001b[0m \u001b[32m━━━━━━━━━━━━━━━━━━━━\u001b[0m\u001b[37m\u001b[0m \u001b[1m0s\u001b[0m 73ms/step - accuracy: 0.7244 - loss: 9.2415 - val_accuracy: 1.0000 - val_loss: 3.4063e-12\n",
      "Epoch 14/50\n",
      "\u001b[1m2/2\u001b[0m \u001b[32m━━━━━━━━━━━━━━━━━━━━\u001b[0m\u001b[37m\u001b[0m \u001b[1m0s\u001b[0m 52ms/step - accuracy: 0.7244 - loss: 9.7181 - val_accuracy: 1.0000 - val_loss: 1.8068e-11\n",
      "Epoch 15/50\n",
      "\u001b[1m2/2\u001b[0m \u001b[32m━━━━━━━━━━━━━━━━━━━━\u001b[0m\u001b[37m\u001b[0m \u001b[1m0s\u001b[0m 35ms/step - accuracy: 0.7244 - loss: 9.0099 - val_accuracy: 1.0000 - val_loss: 1.0010e-09\n",
      "Epoch 16/50\n",
      "\u001b[1m2/2\u001b[0m \u001b[32m━━━━━━━━━━━━━━━━━━━━\u001b[0m\u001b[37m\u001b[0m \u001b[1m0s\u001b[0m 61ms/step - accuracy: 0.7348 - loss: 6.9666 - val_accuracy: 1.0000 - val_loss: 1.0429e-04\n",
      "Epoch 17/50\n",
      "\u001b[1m2/2\u001b[0m \u001b[32m━━━━━━━━━━━━━━━━━━━━\u001b[0m\u001b[37m\u001b[0m \u001b[1m0s\u001b[0m 39ms/step - accuracy: 0.7042 - loss: 3.0541 - val_accuracy: 0.1111 - val_loss: 7.7043\n",
      "Epoch 18/50\n",
      "\u001b[1m2/2\u001b[0m \u001b[32m━━━━━━━━━━━━━━━━━━━━\u001b[0m\u001b[37m\u001b[0m \u001b[1m0s\u001b[0m 41ms/step - accuracy: 0.2958 - loss: 6.8910 - val_accuracy: 0.1111 - val_loss: 9.9366\n",
      "Epoch 19/50\n",
      "\u001b[1m2/2\u001b[0m \u001b[32m━━━━━━━━━━━━━━━━━━━━\u001b[0m\u001b[37m\u001b[0m \u001b[1m0s\u001b[0m 38ms/step - accuracy: 0.2756 - loss: 8.5128 - val_accuracy: 1.0000 - val_loss: 0.0124\n",
      "Epoch 20/50\n",
      "\u001b[1m2/2\u001b[0m \u001b[32m━━━━━━━━━━━━━━━━━━━━\u001b[0m\u001b[37m\u001b[0m \u001b[1m0s\u001b[0m 70ms/step - accuracy: 0.7348 - loss: 1.6560 - val_accuracy: 1.0000 - val_loss: 2.4227e-07\n",
      "Epoch 21/50\n",
      "\u001b[1m2/2\u001b[0m \u001b[32m━━━━━━━━━━━━━━━━━━━━\u001b[0m\u001b[37m\u001b[0m \u001b[1m0s\u001b[0m 40ms/step - accuracy: 0.7348 - loss: 4.8715 - val_accuracy: 1.0000 - val_loss: 9.0611e-06\n",
      "Epoch 22/50\n",
      "\u001b[1m2/2\u001b[0m \u001b[32m━━━━━━━━━━━━━━━━━━━━\u001b[0m\u001b[37m\u001b[0m \u001b[1m0s\u001b[0m 35ms/step - accuracy: 0.7348 - loss: 3.5430 - val_accuracy: 0.1111 - val_loss: 3.6778\n",
      "Epoch 23/50\n",
      "\u001b[1m2/2\u001b[0m \u001b[32m━━━━━━━━━━━━━━━━━━━━\u001b[0m\u001b[37m\u001b[0m \u001b[1m0s\u001b[0m 64ms/step - accuracy: 0.3062 - loss: 3.4473 - val_accuracy: 0.1111 - val_loss: 8.2008\n",
      "Epoch 24/50\n",
      "\u001b[1m2/2\u001b[0m \u001b[32m━━━━━━━━━━━━━━━━━━━━\u001b[0m\u001b[37m\u001b[0m \u001b[1m0s\u001b[0m 47ms/step - accuracy: 0.3062 - loss: 7.0174 - val_accuracy: 1.0000 - val_loss: 0.0016\n",
      "Epoch 25/50\n",
      "\u001b[1m2/2\u001b[0m \u001b[32m━━━━━━━━━━━━━━━━━━━━\u001b[0m\u001b[37m\u001b[0m \u001b[1m0s\u001b[0m 49ms/step - accuracy: 0.7348 - loss: 2.3439 - val_accuracy: 1.0000 - val_loss: 2.3762e-07\n",
      "Epoch 26/50\n",
      "\u001b[1m2/2\u001b[0m \u001b[32m━━━━━━━━━━━━━━━━━━━━\u001b[0m\u001b[37m\u001b[0m \u001b[1m0s\u001b[0m 51ms/step - accuracy: 0.7348 - loss: 4.9467 - val_accuracy: 1.0000 - val_loss: 5.7129e-05\n",
      "Epoch 27/50\n",
      "\u001b[1m2/2\u001b[0m \u001b[32m━━━━━━━━━━━━━━━━━━━━\u001b[0m\u001b[37m\u001b[0m \u001b[1m0s\u001b[0m 38ms/step - accuracy: 0.7244 - loss: 3.2380 - val_accuracy: 0.1111 - val_loss: 2.6912\n",
      "Epoch 28/50\n",
      "\u001b[1m2/2\u001b[0m \u001b[32m━━━━━━━━━━━━━━━━━━━━\u001b[0m\u001b[37m\u001b[0m \u001b[1m0s\u001b[0m 48ms/step - accuracy: 0.3368 - loss: 2.5564 - val_accuracy: 0.1111 - val_loss: 2.5587\n",
      "Epoch 29/50\n",
      "\u001b[1m2/2\u001b[0m \u001b[32m━━━━━━━━━━━━━━━━━━━━\u001b[0m\u001b[37m\u001b[0m \u001b[1m0s\u001b[0m 43ms/step - accuracy: 0.3570 - loss: 2.3736 - val_accuracy: 1.0000 - val_loss: 6.8387e-04\n",
      "Epoch 30/50\n",
      "\u001b[1m2/2\u001b[0m \u001b[32m━━━━━━━━━━━━━━━━━━━━\u001b[0m\u001b[37m\u001b[0m \u001b[1m0s\u001b[0m 51ms/step - accuracy: 0.7244 - loss: 2.4397 - val_accuracy: 1.0000 - val_loss: 3.6534e-06\n",
      "Epoch 31/50\n",
      "\u001b[1m2/2\u001b[0m \u001b[32m━━━━━━━━━━━━━━━━━━━━\u001b[0m\u001b[37m\u001b[0m \u001b[1m0s\u001b[0m 41ms/step - accuracy: 0.7244 - loss: 4.1926 - val_accuracy: 1.0000 - val_loss: 7.0809e-07\n",
      "Epoch 32/50\n",
      "\u001b[1m2/2\u001b[0m \u001b[32m━━━━━━━━━━━━━━━━━━━━\u001b[0m\u001b[37m\u001b[0m \u001b[1m0s\u001b[0m 38ms/step - accuracy: 0.7348 - loss: 4.5907 - val_accuracy: 1.0000 - val_loss: 2.0033e-04\n",
      "Epoch 33/50\n",
      "\u001b[1m2/2\u001b[0m \u001b[32m━━━━━━━━━━━━━━━━━━━━\u001b[0m\u001b[37m\u001b[0m \u001b[1m0s\u001b[0m 43ms/step - accuracy: 0.7348 - loss: 2.6019 - val_accuracy: 0.1111 - val_loss: 7.4150\n",
      "Epoch 34/50\n",
      "\u001b[1m2/2\u001b[0m \u001b[32m━━━━━━━━━━━━━━━━━━━━\u001b[0m\u001b[37m\u001b[0m \u001b[1m0s\u001b[0m 41ms/step - accuracy: 0.3062 - loss: 6.6625 - val_accuracy: 0.0000e+00 - val_loss: 12.8724\n",
      "Epoch 35/50\n",
      "\u001b[1m2/2\u001b[0m \u001b[32m━━━━━━━━━━━━━━━━━━━━\u001b[0m\u001b[37m\u001b[0m \u001b[1m0s\u001b[0m 47ms/step - accuracy: 0.2756 - loss: 11.0842 - val_accuracy: 0.2222 - val_loss: 2.3754\n",
      "Epoch 36/50\n",
      "\u001b[1m2/2\u001b[0m \u001b[32m━━━━━━━━━━━━━━━━━━━━\u001b[0m\u001b[37m\u001b[0m \u001b[1m0s\u001b[0m 54ms/step - accuracy: 0.3062 - loss: 2.4310 - val_accuracy: 1.0000 - val_loss: 1.7544e-05\n",
      "Epoch 37/50\n",
      "\u001b[1m2/2\u001b[0m \u001b[32m━━━━━━━━━━━━━━━━━━━━\u001b[0m\u001b[37m\u001b[0m \u001b[1m0s\u001b[0m 66ms/step - accuracy: 0.7244 - loss: 3.6391 - val_accuracy: 1.0000 - val_loss: 4.2020e-07\n",
      "Epoch 38/50\n",
      "\u001b[1m2/2\u001b[0m \u001b[32m━━━━━━━━━━━━━━━━━━━━\u001b[0m\u001b[37m\u001b[0m \u001b[1m0s\u001b[0m 66ms/step - accuracy: 0.7348 - loss: 4.8334 - val_accuracy: 1.0000 - val_loss: 7.6127e-06\n",
      "Epoch 39/50\n",
      "\u001b[1m2/2\u001b[0m \u001b[32m━━━━━━━━━━━━━━━━━━━━\u001b[0m\u001b[37m\u001b[0m \u001b[1m0s\u001b[0m 54ms/step - accuracy: 0.7244 - loss: 3.9299 - val_accuracy: 1.0000 - val_loss: 0.0818\n",
      "Epoch 40/50\n",
      "\u001b[1m2/2\u001b[0m \u001b[32m━━━━━━━━━━━━━━━━━━━━\u001b[0m\u001b[37m\u001b[0m \u001b[1m0s\u001b[0m 42ms/step - accuracy: 0.6736 - loss: 1.0971 - val_accuracy: 0.1111 - val_loss: 2.5255\n",
      "Epoch 41/50\n",
      "\u001b[1m2/2\u001b[0m \u001b[32m━━━━━━━━━━━━━━━━━━━━\u001b[0m\u001b[37m\u001b[0m \u001b[1m0s\u001b[0m 33ms/step - accuracy: 0.3368 - loss: 2.2280 - val_accuracy: 1.0000 - val_loss: 1.1150e-04\n",
      "Epoch 42/50\n",
      "\u001b[1m2/2\u001b[0m \u001b[32m━━━━━━━━━━━━━━━━━━━━\u001b[0m\u001b[37m\u001b[0m \u001b[1m0s\u001b[0m 42ms/step - accuracy: 0.7348 - loss: 3.0794 - val_accuracy: 1.0000 - val_loss: 5.0616e-08\n",
      "Epoch 43/50\n",
      "\u001b[1m2/2\u001b[0m \u001b[32m━━━━━━━━━━━━━━━━━━━━\u001b[0m\u001b[37m\u001b[0m \u001b[1m0s\u001b[0m 44ms/step - accuracy: 0.7244 - loss: 5.8276 - val_accuracy: 1.0000 - val_loss: 3.0962e-08\n",
      "Epoch 44/50\n",
      "\u001b[1m2/2\u001b[0m \u001b[32m━━━━━━━━━━━━━━━━━━━━\u001b[0m\u001b[37m\u001b[0m \u001b[1m0s\u001b[0m 40ms/step - accuracy: 0.7348 - loss: 5.7649 - val_accuracy: 1.0000 - val_loss: 9.9100e-06\n",
      "Epoch 45/50\n",
      "\u001b[1m2/2\u001b[0m \u001b[32m━━━━━━━━━━━━━━━━━━━━\u001b[0m\u001b[37m\u001b[0m \u001b[1m0s\u001b[0m 61ms/step - accuracy: 0.7244 - loss: 3.8483 - val_accuracy: 0.3333 - val_loss: 1.2783\n",
      "Epoch 46/50\n",
      "\u001b[1m2/2\u001b[0m \u001b[32m━━━━━━━━━━━━━━━━━━━━\u001b[0m\u001b[37m\u001b[0m \u001b[1m0s\u001b[0m 77ms/step - accuracy: 0.3980 - loss: 1.4936 - val_accuracy: 0.1111 - val_loss: 2.3988\n",
      "Epoch 47/50\n",
      "\u001b[1m2/2\u001b[0m \u001b[32m━━━━━━━━━━━━━━━━━━━━\u001b[0m\u001b[37m\u001b[0m \u001b[1m0s\u001b[0m 54ms/step - accuracy: 0.3062 - loss: 2.3348 - val_accuracy: 1.0000 - val_loss: 0.1026\n",
      "Epoch 48/50\n",
      "\u001b[1m2/2\u001b[0m \u001b[32m━━━━━━━━━━━━━━━━━━━━\u001b[0m\u001b[37m\u001b[0m \u001b[1m0s\u001b[0m 53ms/step - accuracy: 0.6736 - loss: 0.9624 - val_accuracy: 0.1111 - val_loss: 2.6196\n",
      "Epoch 49/50\n",
      "\u001b[1m2/2\u001b[0m \u001b[32m━━━━━━━━━━━━━━━━━━━━\u001b[0m\u001b[37m\u001b[0m \u001b[1m0s\u001b[0m 43ms/step - accuracy: 0.3264 - loss: 2.4498 - val_accuracy: 0.1111 - val_loss: 4.8030\n",
      "Epoch 50/50\n",
      "\u001b[1m2/2\u001b[0m \u001b[32m━━━━━━━━━━━━━━━━━━━━\u001b[0m\u001b[37m\u001b[0m \u001b[1m0s\u001b[0m 44ms/step - accuracy: 0.3062 - loss: 4.2174 - val_accuracy: 1.0000 - val_loss: 0.0389\n"
=======
      "\u001b[1m2/2\u001b[0m \u001b[32m━━━━━━━━━━━━━━━━━━━━\u001b[0m\u001b[37m\u001b[0m \u001b[1m1s\u001b[0m 215ms/step - accuracy: 0.3056 - loss: 3.9639 - val_accuracy: 0.7000 - val_loss: 14.0789\n",
      "Epoch 2/50\n",
      "\u001b[1m2/2\u001b[0m \u001b[32m━━━━━━━━━━━━━━━━━━━━\u001b[0m\u001b[37m\u001b[0m \u001b[1m0s\u001b[0m 63ms/step - accuracy: 0.7685 - loss: 11.5103 - val_accuracy: 0.7000 - val_loss: 18.4728\n",
      "Epoch 3/50\n",
      "\u001b[1m2/2\u001b[0m \u001b[32m━━━━━━━━━━━━━━━━━━━━\u001b[0m\u001b[37m\u001b[0m \u001b[1m0s\u001b[0m 111ms/step - accuracy: 0.7685 - loss: 15.1373 - val_accuracy: 0.7000 - val_loss: 18.7419\n",
      "Epoch 4/50\n",
      "\u001b[1m2/2\u001b[0m \u001b[32m━━━━━━━━━━━━━━━━━━━━\u001b[0m\u001b[37m\u001b[0m \u001b[1m0s\u001b[0m 76ms/step - accuracy: 0.7685 - loss: 15.3766 - val_accuracy: 0.7000 - val_loss: 16.7750\n",
      "Epoch 5/50\n",
      "\u001b[1m2/2\u001b[0m \u001b[32m━━━━━━━━━━━━━━━━━━━━\u001b[0m\u001b[37m\u001b[0m \u001b[1m0s\u001b[0m 82ms/step - accuracy: 0.7685 - loss: 13.7622 - val_accuracy: 0.7000 - val_loss: 13.3004\n",
      "Epoch 6/50\n",
      "\u001b[1m2/2\u001b[0m \u001b[32m━━━━━━━━━━━━━━━━━━━━\u001b[0m\u001b[37m\u001b[0m \u001b[1m0s\u001b[0m 74ms/step - accuracy: 0.7685 - loss: 10.9096 - val_accuracy: 0.7000 - val_loss: 8.7297\n",
      "Epoch 7/50\n",
      "\u001b[1m2/2\u001b[0m \u001b[32m━━━━━━━━━━━━━━━━━━━━\u001b[0m\u001b[37m\u001b[0m \u001b[1m0s\u001b[0m 81ms/step - accuracy: 0.7685 - loss: 7.1567 - val_accuracy: 0.7000 - val_loss: 3.3263\n",
      "Epoch 8/50\n",
      "\u001b[1m2/2\u001b[0m \u001b[32m━━━━━━━━━━━━━━━━━━━━\u001b[0m\u001b[37m\u001b[0m \u001b[1m0s\u001b[0m 72ms/step - accuracy: 0.7894 - loss: 2.1273 - val_accuracy: 0.3000 - val_loss: 7.3109\n",
      "Epoch 9/50\n",
      "\u001b[1m2/2\u001b[0m \u001b[32m━━━━━━━━━━━━━━━━━━━━\u001b[0m\u001b[37m\u001b[0m \u001b[1m0s\u001b[0m 83ms/step - accuracy: 0.2315 - loss: 8.8931 - val_accuracy: 0.3000 - val_loss: 2.0949\n",
      "Epoch 10/50\n",
      "\u001b[1m2/2\u001b[0m \u001b[32m━━━━━━━━━━━━━━━━━━━━\u001b[0m\u001b[37m\u001b[0m \u001b[1m0s\u001b[0m 78ms/step - accuracy: 0.2581 - loss: 2.6352 - val_accuracy: 0.7000 - val_loss: 5.1333\n",
      "Epoch 11/50\n",
      "\u001b[1m2/2\u001b[0m \u001b[32m━━━━━━━━━━━━━━━━━━━━\u001b[0m\u001b[37m\u001b[0m \u001b[1m0s\u001b[0m 77ms/step - accuracy: 0.7685 - loss: 4.2242 - val_accuracy: 0.7000 - val_loss: 8.2822\n",
      "Epoch 12/50\n",
      "\u001b[1m2/2\u001b[0m \u001b[32m━━━━━━━━━━━━━━━━━━━━\u001b[0m\u001b[37m\u001b[0m \u001b[1m0s\u001b[0m 82ms/step - accuracy: 0.7894 - loss: 6.3477 - val_accuracy: 0.7000 - val_loss: 8.9672\n",
      "Epoch 13/50\n",
      "\u001b[1m2/2\u001b[0m \u001b[32m━━━━━━━━━━━━━━━━━━━━\u001b[0m\u001b[37m\u001b[0m \u001b[1m0s\u001b[0m 79ms/step - accuracy: 0.7789 - loss: 6.9988 - val_accuracy: 0.7000 - val_loss: 7.1752\n",
      "Epoch 14/50\n",
      "\u001b[1m2/2\u001b[0m \u001b[32m━━━━━━━━━━━━━━━━━━━━\u001b[0m\u001b[37m\u001b[0m \u001b[1m0s\u001b[0m 62ms/step - accuracy: 0.7789 - loss: 5.5248 - val_accuracy: 0.7000 - val_loss: 3.7929\n",
      "Epoch 15/50\n",
      "\u001b[1m2/2\u001b[0m \u001b[32m━━━━━━━━━━━━━━━━━━━━\u001b[0m\u001b[37m\u001b[0m \u001b[1m0s\u001b[0m 86ms/step - accuracy: 0.7789 - loss: 2.8729 - val_accuracy: 0.3000 - val_loss: 2.0362\n",
      "Epoch 16/50\n",
      "\u001b[1m2/2\u001b[0m \u001b[32m━━━━━━━━━━━━━━━━━━━━\u001b[0m\u001b[37m\u001b[0m \u001b[1m0s\u001b[0m 87ms/step - accuracy: 0.2315 - loss: 2.6652 - val_accuracy: 0.6000 - val_loss: 0.6424\n",
      "Epoch 17/50\n",
      "\u001b[1m2/2\u001b[0m \u001b[32m━━━━━━━━━━━━━━━━━━━━\u001b[0m\u001b[37m\u001b[0m \u001b[1m0s\u001b[0m 95ms/step - accuracy: 0.4896 - loss: 0.7084 - val_accuracy: 0.7000 - val_loss: 3.1862\n",
      "Epoch 18/50\n",
      "\u001b[1m2/2\u001b[0m \u001b[32m━━━━━━━━━━━━━━━━━━━━\u001b[0m\u001b[37m\u001b[0m \u001b[1m0s\u001b[0m 130ms/step - accuracy: 0.7685 - loss: 2.6071 - val_accuracy: 0.7000 - val_loss: 4.3709\n",
      "Epoch 19/50\n",
      "\u001b[1m2/2\u001b[0m \u001b[32m━━━━━━━━━━━━━━━━━━━━\u001b[0m\u001b[37m\u001b[0m \u001b[1m0s\u001b[0m 130ms/step - accuracy: 0.7685 - loss: 3.5806 - val_accuracy: 0.7000 - val_loss: 4.3935\n",
      "Epoch 20/50\n",
      "\u001b[1m2/2\u001b[0m \u001b[32m━━━━━━━━━━━━━━━━━━━━\u001b[0m\u001b[37m\u001b[0m \u001b[1m0s\u001b[0m 96ms/step - accuracy: 0.7685 - loss: 3.5996 - val_accuracy: 0.7000 - val_loss: 3.4439\n",
      "Epoch 21/50\n",
      "\u001b[1m2/2\u001b[0m \u001b[32m━━━━━━━━━━━━━━━━━━━━\u001b[0m\u001b[37m\u001b[0m \u001b[1m0s\u001b[0m 98ms/step - accuracy: 0.7789 - loss: 2.5810 - val_accuracy: 0.7000 - val_loss: 1.1842\n",
      "Epoch 22/50\n",
      "\u001b[1m2/2\u001b[0m \u001b[32m━━━━━━━━━━━━━━━━━━━━\u001b[0m\u001b[37m\u001b[0m \u001b[1m0s\u001b[0m 92ms/step - accuracy: 0.7419 - loss: 0.9778 - val_accuracy: 0.3000 - val_loss: 2.0402\n",
      "Epoch 23/50\n",
      "\u001b[1m2/2\u001b[0m \u001b[32m━━━━━━━━━━━━━━━━━━━━\u001b[0m\u001b[37m\u001b[0m \u001b[1m0s\u001b[0m 84ms/step - accuracy: 0.2581 - loss: 2.4209 - val_accuracy: 0.7000 - val_loss: 1.4834\n",
      "Epoch 24/50\n",
      "\u001b[1m2/2\u001b[0m \u001b[32m━━━━━━━━━━━━━━━━━━━━\u001b[0m\u001b[37m\u001b[0m \u001b[1m0s\u001b[0m 106ms/step - accuracy: 0.7894 - loss: 1.1777 - val_accuracy: 0.7000 - val_loss: 1.6170\n",
      "Epoch 25/50\n",
      "\u001b[1m2/2\u001b[0m \u001b[32m━━━━━━━━━━━━━━━━━━━━\u001b[0m\u001b[37m\u001b[0m \u001b[1m0s\u001b[0m 80ms/step - accuracy: 0.7894 - loss: 1.0964 - val_accuracy: 0.3000 - val_loss: 1.9409\n",
      "Epoch 26/50\n",
      "\u001b[1m2/2\u001b[0m \u001b[32m━━━━━━━━━━━━━━━━━━━━\u001b[0m\u001b[37m\u001b[0m \u001b[1m0s\u001b[0m 100ms/step - accuracy: 0.2211 - loss: 2.4112 - val_accuracy: 0.7000 - val_loss: 0.7723\n",
      "Epoch 27/50\n",
      "\u001b[1m2/2\u001b[0m \u001b[32m━━━━━━━━━━━━━━━━━━━━\u001b[0m\u001b[37m\u001b[0m \u001b[1m0s\u001b[0m 98ms/step - accuracy: 0.7685 - loss: 0.6460 - val_accuracy: 0.7000 - val_loss: 2.6505\n",
      "Epoch 28/50\n",
      "\u001b[1m2/2\u001b[0m \u001b[32m━━━━━━━━━━━━━━━━━━━━\u001b[0m\u001b[37m\u001b[0m \u001b[1m0s\u001b[0m 88ms/step - accuracy: 0.7789 - loss: 2.0796 - val_accuracy: 0.7000 - val_loss: 2.8681\n",
      "Epoch 29/50\n",
      "\u001b[1m2/2\u001b[0m \u001b[32m━━━━━━━━━━━━━━━━━━━━\u001b[0m\u001b[37m\u001b[0m \u001b[1m0s\u001b[0m 86ms/step - accuracy: 0.7894 - loss: 2.0974 - val_accuracy: 0.7000 - val_loss: 0.9288\n",
      "Epoch 30/50\n",
      "\u001b[1m2/2\u001b[0m \u001b[32m━━━━━━━━━━━━━━━━━━━━\u001b[0m\u001b[37m\u001b[0m \u001b[1m0s\u001b[0m 90ms/step - accuracy: 0.6944 - loss: 0.9715 - val_accuracy: 0.3000 - val_loss: 1.0320\n",
      "Epoch 31/50\n",
      "\u001b[1m2/2\u001b[0m \u001b[32m━━━━━━━━━━━━━━━━━━━━\u001b[0m\u001b[37m\u001b[0m \u001b[1m0s\u001b[0m 86ms/step - accuracy: 0.2975 - loss: 1.3432 - val_accuracy: 0.7000 - val_loss: 1.6498\n",
      "Epoch 32/50\n",
      "\u001b[1m2/2\u001b[0m \u001b[32m━━━━━━━━━━━━━━━━━━━━\u001b[0m\u001b[37m\u001b[0m \u001b[1m0s\u001b[0m 90ms/step - accuracy: 0.7789 - loss: 1.2978 - val_accuracy: 0.7000 - val_loss: 1.2843\n",
      "Epoch 33/50\n",
      "\u001b[1m2/2\u001b[0m \u001b[32m━━━━━━━━━━━━━━━━━━━━\u001b[0m\u001b[37m\u001b[0m \u001b[1m0s\u001b[0m 99ms/step - accuracy: 0.7789 - loss: 0.9624 - val_accuracy: 0.4000 - val_loss: 1.2248\n",
      "Epoch 34/50\n",
      "\u001b[1m2/2\u001b[0m \u001b[32m━━━━━━━━━━━━━━━━━━━━\u001b[0m\u001b[37m\u001b[0m \u001b[1m0s\u001b[0m 100ms/step - accuracy: 0.3553 - loss: 1.4393 - val_accuracy: 0.7000 - val_loss: 1.0923\n",
      "Epoch 35/50\n",
      "\u001b[1m2/2\u001b[0m \u001b[32m━━━━━━━━━━━━━━━━━━━━\u001b[0m\u001b[37m\u001b[0m \u001b[1m0s\u001b[0m 89ms/step - accuracy: 0.7789 - loss: 0.9081 - val_accuracy: 0.7000 - val_loss: 2.0540\n",
      "Epoch 36/50\n",
      "\u001b[1m2/2\u001b[0m \u001b[32m━━━━━━━━━━━━━━━━━━━━\u001b[0m\u001b[37m\u001b[0m \u001b[1m0s\u001b[0m 90ms/step - accuracy: 0.7894 - loss: 1.5006 - val_accuracy: 0.7000 - val_loss: 0.8674\n",
      "Epoch 37/50\n",
      "\u001b[1m2/2\u001b[0m \u001b[32m━━━━━━━━━━━━━━━━━━━━\u001b[0m\u001b[37m\u001b[0m \u001b[1m0s\u001b[0m 87ms/step - accuracy: 0.6944 - loss: 0.8301 - val_accuracy: 0.4000 - val_loss: 1.3094\n",
      "Epoch 38/50\n",
      "\u001b[1m2/2\u001b[0m \u001b[32m━━━━━━━━━━━━━━━━━━━━\u001b[0m\u001b[37m\u001b[0m \u001b[1m0s\u001b[0m 98ms/step - accuracy: 0.3449 - loss: 1.4830 - val_accuracy: 0.7000 - val_loss: 1.4357\n",
      "Epoch 39/50\n",
      "\u001b[1m2/2\u001b[0m \u001b[32m━━━━━━━━━━━━━━━━━━━━\u001b[0m\u001b[37m\u001b[0m \u001b[1m0s\u001b[0m 112ms/step - accuracy: 0.7685 - loss: 1.1670 - val_accuracy: 0.7000 - val_loss: 1.8938\n",
      "Epoch 40/50\n",
      "\u001b[1m2/2\u001b[0m \u001b[32m━━━━━━━━━━━━━━━━━━━━\u001b[0m\u001b[37m\u001b[0m \u001b[1m0s\u001b[0m 103ms/step - accuracy: 0.7685 - loss: 1.5420 - val_accuracy: 0.7000 - val_loss: 1.4029\n",
      "Epoch 41/50\n",
      "\u001b[1m2/2\u001b[0m \u001b[32m━━━━━━━━━━━━━━━━━━━━\u001b[0m\u001b[37m\u001b[0m \u001b[1m0s\u001b[0m 87ms/step - accuracy: 0.7789 - loss: 1.0620 - val_accuracy: 0.6000 - val_loss: 0.7401\n",
      "Epoch 42/50\n",
      "\u001b[1m2/2\u001b[0m \u001b[32m━━━━━━━━━━━━━━━━━━━━\u001b[0m\u001b[37m\u001b[0m \u001b[1m0s\u001b[0m 108ms/step - accuracy: 0.4028 - loss: 0.8353 - val_accuracy: 0.7000 - val_loss: 0.6454\n",
      "Epoch 43/50\n",
      "\u001b[1m2/2\u001b[0m \u001b[32m━━━━━━━━━━━━━━━━━━━━\u001b[0m\u001b[37m\u001b[0m \u001b[1m0s\u001b[0m 87ms/step - accuracy: 0.7685 - loss: 0.5736 - val_accuracy: 0.7000 - val_loss: 1.3205\n",
      "Epoch 44/50\n",
      "\u001b[1m2/2\u001b[0m \u001b[32m━━━━━━━━━━━━━━━━━━━━\u001b[0m\u001b[37m\u001b[0m \u001b[1m0s\u001b[0m 89ms/step - accuracy: 0.7894 - loss: 1.0061 - val_accuracy: 0.7000 - val_loss: 0.6988\n",
      "Epoch 45/50\n",
      "\u001b[1m2/2\u001b[0m \u001b[32m━━━━━━━━━━━━━━━━━━━━\u001b[0m\u001b[37m\u001b[0m \u001b[1m0s\u001b[0m 100ms/step - accuracy: 0.7604 - loss: 0.6113 - val_accuracy: 0.4000 - val_loss: 0.8160\n",
      "Epoch 46/50\n",
      "\u001b[1m2/2\u001b[0m \u001b[32m━━━━━━━━━━━━━━━━━━━━\u001b[0m\u001b[37m\u001b[0m \u001b[1m0s\u001b[0m 100ms/step - accuracy: 0.4028 - loss: 0.9022 - val_accuracy: 0.7000 - val_loss: 1.4494\n",
      "Epoch 47/50\n",
      "\u001b[1m2/2\u001b[0m \u001b[32m━━━━━━━━━━━━━━━━━━━━\u001b[0m\u001b[37m\u001b[0m \u001b[1m0s\u001b[0m 87ms/step - accuracy: 0.7894 - loss: 1.1011 - val_accuracy: 0.7000 - val_loss: 0.8221\n",
      "Epoch 48/50\n",
      "\u001b[1m2/2\u001b[0m \u001b[32m━━━━━━━━━━━━━━━━━━━━\u001b[0m\u001b[37m\u001b[0m \u001b[1m0s\u001b[0m 156ms/step - accuracy: 0.6944 - loss: 0.8080 - val_accuracy: 0.7000 - val_loss: 0.6228\n",
      "Epoch 49/50\n",
      "\u001b[1m2/2\u001b[0m \u001b[32m━━━━━━━━━━━━━━━━━━━━\u001b[0m\u001b[37m\u001b[0m \u001b[1m0s\u001b[0m 105ms/step - accuracy: 0.7419 - loss: 0.6990 - val_accuracy: 0.7000 - val_loss: 0.7573\n",
      "Epoch 50/50\n",
      "\u001b[1m2/2\u001b[0m \u001b[32m━━━━━━━━━━━━━━━━━━━━\u001b[0m\u001b[37m\u001b[0m \u001b[1m0s\u001b[0m 83ms/step - accuracy: 0.7604 - loss: 0.6295 - val_accuracy: 0.5000 - val_loss: 0.6286\n"
>>>>>>> Stashed changes
     ]
    }
   ],
   "source": [
<<<<<<< Updated upstream
    "#CHANGEUP MODEL\n",
    "changeup_model = train_model(X3, y3)"
=======
    "#Changeup MODEL\n",
    "Changeup_model = train_model(X3, y3)"
>>>>>>> Stashed changes
   ]
  },
  {
   "cell_type": "code",
<<<<<<< Updated upstream
   "execution_count": 93,
=======
   "execution_count": 44,
>>>>>>> Stashed changes
   "metadata": {},
   "outputs": [
    {
     "name": "stdout",
     "output_type": "stream",
     "text": [
<<<<<<< Updated upstream
      "XGBoost Fastball RMSE: 0.3517262290563295\n"
=======
      "XGBoost Fastball RMSE: 0.4402254531628119\n"
>>>>>>> Stashed changes
     ]
    }
   ],
   "source": [
    "#find rmse for fastball\n",
    "predictions = xgb_model.predict(X_test)\n",
    "print('XGBoost Fastball RMSE:', np.sqrt(mean_squared_error(y_test, predictions)))"
   ]
  },
  {
   "cell_type": "code",
<<<<<<< Updated upstream
   "execution_count": 94,
=======
   "execution_count": 45,
>>>>>>> Stashed changes
   "metadata": {},
   "outputs": [
    {
     "name": "stdout",
     "output_type": "stream",
     "text": [
<<<<<<< Updated upstream
      "Random Forest Fastball RMSE: 0.32108064953396775\n"
=======
      "Random Forest Fastball RMSE: 0.3937496154790789\n"
>>>>>>> Stashed changes
     ]
    }
   ],
   "source": [
    "#find rmse for fastball\n",
    "predictions = rfc.predict(X_test)\n",
    "print('Random Forest Fastball RMSE:', np.sqrt(mean_squared_error(y_test, predictions)))"
   ]
  },
  {
   "cell_type": "code",
<<<<<<< Updated upstream
   "execution_count": 95,
=======
   "execution_count": 46,
>>>>>>> Stashed changes
   "metadata": {},
   "outputs": [
    {
     "name": "stdout",
     "output_type": "stream",
     "text": [
<<<<<<< Updated upstream
      "\u001b[1m4/4\u001b[0m \u001b[32m━━━━━━━━━━━━━━━━━━━━\u001b[0m\u001b[37m\u001b[0m \u001b[1m0s\u001b[0m 16ms/step\n",
      "Neural Network Fastball RMSE: 0.8804993987624133\n"
=======
      "\u001b[1m5/5\u001b[0m \u001b[32m━━━━━━━━━━━━━━━━━━━━\u001b[0m\u001b[37m\u001b[0m \u001b[1m0s\u001b[0m 29ms/step\n",
      "Neural Network Fastball RMSE: 0.3859171217198587\n"
>>>>>>> Stashed changes
     ]
    }
   ],
   "source": [
    "#find rmse for Fastball nn\n",
    "predictions = fastball_model.predict(X_test)\n",
    "print('Neural Network Fastball RMSE:', np.sqrt(mean_squared_error(y_test, predictions)))"
   ]
  },
  {
   "cell_type": "code",
<<<<<<< Updated upstream
   "execution_count": 96,
=======
   "execution_count": 47,
>>>>>>> Stashed changes
   "metadata": {},
   "outputs": [],
   "source": [
    "#create a new column in the dfb2 dataframe called xWhiff_xg and set it equal to the predicted probability of a whiff as predicted by the xgboost model\n",
    "dfb2['xWhiff_xg'] = xgb_model.predict_proba(dfb2[['RelSpeed', 'SpinRate', 'differential_break', 'RelHeight', 'ABS_RelSide', 'Extension']])[:,1]\n"
   ]
  },
  {
   "cell_type": "code",
<<<<<<< Updated upstream
   "execution_count": 97,
=======
   "execution_count": 48,
>>>>>>> Stashed changes
   "metadata": {},
   "outputs": [],
   "source": [
    "#create a new column in the dfb2 dataframe called xWhiff_xg and set it equal to the predicted probability of a whiff as predicted by the xgboost model\n",
    "dcb2['xWhiff_xg'] = xgb_model1.predict_proba(dcb2[['RelSpeed', 'SpinRate', 'InducedVertBreak', 'ABS_Horizontal','RelHeight', 'ABS_RelSide', 'Extension']])[:,1]"
   ]
  },
  {
   "cell_type": "code",
<<<<<<< Updated upstream
   "execution_count": 98,
=======
   "execution_count": 49,
>>>>>>> Stashed changes
   "metadata": {},
   "outputs": [],
   "source": [
    "#create a new column in the dsl2 dataframe called xWhiff and use the model tp predict the expected whiff rate given the same variables\n",
    "dsl2['xWhiff_xg'] = xgb_model2.predict_proba(dsl2[['RelSpeed', 'SpinRate', 'InducedVertBreak', 'ABS_Horizontal','RelHeight', 'ABS_RelSide', 'Extension']])[:,1]"
   ]
  },
  {
   "cell_type": "code",
<<<<<<< Updated upstream
   "execution_count": 99,
=======
   "execution_count": 50,
>>>>>>> Stashed changes
   "metadata": {},
   "outputs": [],
   "source": [
    "#create a new column in the dch2 dataframe called xWhiff and use the model tp predict the expected whiff rate given the same variables\n",
    "dch2['xWhiff_xg'] = xgb_model3.predict_proba(dch2[['RelSpeed', 'SpinRate', 'InducedVertBreak', 'ABS_Horizontal','RelHeight', 'ABS_RelSide', 'Extension']])[:,1]"
   ]
  },
  {
   "cell_type": "code",
<<<<<<< Updated upstream
   "execution_count": 100,
=======
   "execution_count": 51,
>>>>>>> Stashed changes
   "metadata": {},
   "outputs": [],
   "source": [
    "#create a new column in the dfb2 dataframe called xWhiff_rf and set it equal to the predicted probability of a whiff as predicted by the random forest model\n",
    "dfb2['xWhiff_rf'] = rfc.predict_proba(dfb2[['RelSpeed', 'SpinRate', 'differential_break', 'RelHeight', 'ABS_RelSide', 'Extension']])[:,1]\n"
   ]
  },
  {
   "cell_type": "code",
<<<<<<< Updated upstream
   "execution_count": 101,
=======
   "execution_count": 52,
>>>>>>> Stashed changes
   "metadata": {},
   "outputs": [],
   "source": [
    "#create a new column in the dfb2 dataframe called xWhiff_rf and set it equal to the predicted probability of a whiff as predicted by the random forest model\n",
    "dcb2['xWhiff_rf'] = rfc1.predict_proba(dcb2[['RelSpeed', 'SpinRate', 'InducedVertBreak', 'ABS_Horizontal','RelHeight', 'ABS_RelSide', 'Extension']])[:,1]"
   ]
  },
  {
   "cell_type": "code",
<<<<<<< Updated upstream
   "execution_count": 102,
=======
   "execution_count": 53,
>>>>>>> Stashed changes
   "metadata": {},
   "outputs": [],
   "source": [
    "#create a new column in the dsl2 dataframe called xWhiff and use the model tp predict the expected whiff rate given the same variables\n",
    "dsl2['xWhiff_rf'] = rfc2.predict_proba(dsl2[['RelSpeed', 'SpinRate', 'InducedVertBreak', 'ABS_Horizontal','RelHeight', 'ABS_RelSide', 'Extension']])[:,1]"
   ]
  },
  {
   "cell_type": "code",
<<<<<<< Updated upstream
   "execution_count": 103,
=======
   "execution_count": 54,
>>>>>>> Stashed changes
   "metadata": {},
   "outputs": [],
   "source": [
    "#create a new column in the dch2 dataframe called xWhiff and use the model tp predict the expected whiff rate given the same variables\n",
    "dch2['xWhiff_rf'] = rfc3.predict_proba(dch2[['RelSpeed', 'SpinRate', 'InducedVertBreak', 'ABS_Horizontal','RelHeight', 'ABS_RelSide', 'Extension']])[:,1]"
   ]
  },
  {
   "cell_type": "code",
<<<<<<< Updated upstream
   "execution_count": 104,
=======
   "execution_count": 55,
>>>>>>> Stashed changes
   "metadata": {},
   "outputs": [
    {
     "name": "stdout",
     "output_type": "stream",
     "text": [
<<<<<<< Updated upstream
      "\u001b[1m15/15\u001b[0m \u001b[32m━━━━━━━━━━━━━━━━━━━━\u001b[0m\u001b[37m\u001b[0m \u001b[1m0s\u001b[0m 1ms/step \n"
=======
      "\u001b[1m21/21\u001b[0m \u001b[32m━━━━━━━━━━━━━━━━━━━━\u001b[0m\u001b[37m\u001b[0m \u001b[1m0s\u001b[0m 3ms/step \n"
>>>>>>> Stashed changes
     ]
    }
   ],
   "source": [
    "#USE NEURAL NETWORK TO PREDICT WHIFF RATE FOR FASTBALL AND ADD TO DATAFRAME\n",
    "dfb2['xWhiff_nn'] = fastball_model.predict(dfb2[['RelSpeed', 'SpinRate', 'differential_break', 'RelHeight', 'ABS_RelSide', 'Extension']])"
   ]
  },
  {
   "cell_type": "code",
<<<<<<< Updated upstream
   "execution_count": 105,
=======
   "execution_count": 56,
>>>>>>> Stashed changes
   "metadata": {},
   "outputs": [
    {
     "name": "stdout",
     "output_type": "stream",
     "text": [
<<<<<<< Updated upstream
      "\u001b[1m2/2\u001b[0m \u001b[32m━━━━━━━━━━━━━━━━━━━━\u001b[0m\u001b[37m\u001b[0m \u001b[1m0s\u001b[0m 31ms/step\n"
=======
      "\u001b[1m3/3\u001b[0m \u001b[32m━━━━━━━━━━━━━━━━━━━━\u001b[0m\u001b[37m\u001b[0m \u001b[1m0s\u001b[0m 31ms/step\n"
>>>>>>> Stashed changes
     ]
    }
   ],
   "source": [
    "#USE NEURAL NETWORK TO PREDICT WHIFF RATE FOR CURVEBALL AND ADD TO DATAFRAME\n",
    "dcb2['xWhiff_nn'] = curveball_model.predict(dcb2[['RelSpeed', 'SpinRate', 'InducedVertBreak', 'ABS_Horizontal','RelHeight', 'ABS_RelSide', 'Extension']])"
   ]
  },
  {
   "cell_type": "code",
<<<<<<< Updated upstream
   "execution_count": 106,
=======
   "execution_count": 57,
>>>>>>> Stashed changes
   "metadata": {},
   "outputs": [
    {
     "name": "stdout",
     "output_type": "stream",
     "text": [
<<<<<<< Updated upstream
      "\u001b[1m1/4\u001b[0m \u001b[32m━━━━━\u001b[0m\u001b[37m━━━━━━━━━━━━━━━\u001b[0m \u001b[1m0s\u001b[0m 73ms/stepWARNING:tensorflow:5 out of the last 22 calls to <function TensorFlowTrainer.make_predict_function.<locals>.one_step_on_data_distributed at 0x000001AF797C3400> triggered tf.function retracing. Tracing is expensive and the excessive number of tracings could be due to (1) creating @tf.function repeatedly in a loop, (2) passing tensors with different shapes, (3) passing Python objects instead of tensors. For (1), please define your @tf.function outside of the loop. For (2), @tf.function has reduce_retracing=True option that can avoid unnecessary retracing. For (3), please refer to https://www.tensorflow.org/guide/function#controlling_retracing and https://www.tensorflow.org/api_docs/python/tf/function for  more details.\n",
      "\u001b[1m4/4\u001b[0m \u001b[32m━━━━━━━━━━━━━━━━━━━━\u001b[0m\u001b[37m\u001b[0m \u001b[1m0s\u001b[0m 28ms/step\n"
=======
      "\u001b[1m1/5\u001b[0m \u001b[32m━━━━\u001b[0m\u001b[37m━━━━━━━━━━━━━━━━\u001b[0m \u001b[1m0s\u001b[0m 73ms/stepWARNING:tensorflow:5 out of the last 30 calls to <function TensorFlowTrainer.make_predict_function.<locals>.one_step_on_data_distributed at 0x000001CA401D2D40> triggered tf.function retracing. Tracing is expensive and the excessive number of tracings could be due to (1) creating @tf.function repeatedly in a loop, (2) passing tensors with different shapes, (3) passing Python objects instead of tensors. For (1), please define your @tf.function outside of the loop. For (2), @tf.function has reduce_retracing=True option that can avoid unnecessary retracing. For (3), please refer to https://www.tensorflow.org/guide/function#controlling_retracing and https://www.tensorflow.org/api_docs/python/tf/function for  more details.\n",
      "\u001b[1m5/5\u001b[0m \u001b[32m━━━━━━━━━━━━━━━━━━━━\u001b[0m\u001b[37m\u001b[0m \u001b[1m0s\u001b[0m 21ms/step\n"
>>>>>>> Stashed changes
     ]
    }
   ],
   "source": [
    "#USE NEURAL NETWORK TO PREDICT WHIFF RATE FOR SLIDER AND ADD TO DATAFRAME\n",
    "dsl2['xWhiff_nn'] = slider_model.predict(dsl2[['RelSpeed', 'SpinRate', 'InducedVertBreak', 'ABS_Horizontal','RelHeight', 'ABS_RelSide', 'Extension']])"
   ]
  },
  {
   "cell_type": "code",
<<<<<<< Updated upstream
   "execution_count": 107,
=======
   "execution_count": 58,
>>>>>>> Stashed changes
   "metadata": {},
   "outputs": [
    {
     "name": "stdout",
     "output_type": "stream",
     "text": [
<<<<<<< Updated upstream
      "WARNING:tensorflow:6 out of the last 23 calls to <function TensorFlowTrainer.make_predict_function.<locals>.one_step_on_data_distributed at 0x000001AF797C3490> triggered tf.function retracing. Tracing is expensive and the excessive number of tracings could be due to (1) creating @tf.function repeatedly in a loop, (2) passing tensors with different shapes, (3) passing Python objects instead of tensors. For (1), please define your @tf.function outside of the loop. For (2), @tf.function has reduce_retracing=True option that can avoid unnecessary retracing. For (3), please refer to https://www.tensorflow.org/guide/function#controlling_retracing and https://www.tensorflow.org/api_docs/python/tf/function for  more details.\n",
      "\u001b[1m1/1\u001b[0m \u001b[32m━━━━━━━━━━━━━━━━━━━━\u001b[0m\u001b[37m\u001b[0m \u001b[1m0s\u001b[0m 65ms/step\n"
=======
      "WARNING:tensorflow:6 out of the last 31 calls to <function TensorFlowTrainer.make_predict_function.<locals>.one_step_on_data_distributed at 0x000001CA401D2EF0> triggered tf.function retracing. Tracing is expensive and the excessive number of tracings could be due to (1) creating @tf.function repeatedly in a loop, (2) passing tensors with different shapes, (3) passing Python objects instead of tensors. For (1), please define your @tf.function outside of the loop. For (2), @tf.function has reduce_retracing=True option that can avoid unnecessary retracing. For (3), please refer to https://www.tensorflow.org/guide/function#controlling_retracing and https://www.tensorflow.org/api_docs/python/tf/function for  more details.\n",
      "\u001b[1m2/2\u001b[0m \u001b[32m━━━━━━━━━━━━━━━━━━━━\u001b[0m\u001b[37m\u001b[0m \u001b[1m0s\u001b[0m 70ms/step\n"
>>>>>>> Stashed changes
     ]
    }
   ],
   "source": [
<<<<<<< Updated upstream
    "#USE NEURAL NETWORK TO PREDICT WHIFF RATE FOR CHANGEUP AND ADD TO DATAFRAME\n",
    "dch2['xWhiff_nn'] = changeup_model.predict(dch2[['RelSpeed', 'SpinRate', 'InducedVertBreak', 'ABS_Horizontal','RelHeight', 'ABS_RelSide', 'Extension']])"
=======
    "#USE NEURAL NETWORK TO PREDICT WHIFF RATE FOR Changeup AND ADD TO DATAFRAME\n",
    "dch2['xWhiff_nn'] = Changeup_model.predict(dch2[['RelSpeed', 'SpinRate', 'InducedVertBreak', 'ABS_Horizontal','RelHeight', 'ABS_RelSide', 'Extension']])"
>>>>>>> Stashed changes
   ]
  },
  {
   "cell_type": "code",
<<<<<<< Updated upstream
   "execution_count": 108,
=======
   "execution_count": 71,
>>>>>>> Stashed changes
   "metadata": {},
   "outputs": [],
   "source": [
    "#take the average of the Three models to get the final expected whiff rate\n",
    "dfb2['xWhiff'] = (dfb2['xWhiff_xg'] + dfb2['xWhiff_rf'] + dfb2['xWhiff_nn'])/3\n",
    "dcb2['xWhiff'] = (dcb2['xWhiff_xg'] + dcb2['xWhiff_rf'] + dcb2['xWhiff_nn'])/3\n",
    "dsl2['xWhiff'] = (dsl2['xWhiff_xg'] + dsl2['xWhiff_rf'] + dsl2['xWhiff_nn'])/3\n",
    "dch2['xWhiff'] = (dch2['xWhiff_xg'] + dch2['xWhiff_rf'] + dch2['xWhiff_nn'])/3"
   ]
  },
  {
   "cell_type": "code",
<<<<<<< Updated upstream
   "execution_count": 109,
=======
   "execution_count": 72,
>>>>>>> Stashed changes
   "metadata": {},
   "outputs": [
    {
     "data": {
      "text/plain": [
<<<<<<< Updated upstream
       "0.3901033919580815"
      ]
     },
     "execution_count": 109,
=======
       "np.float64(0.08769174464018871)"
      ]
     },
     "execution_count": 72,
>>>>>>> Stashed changes
     "metadata": {},
     "output_type": "execute_result"
    }
   ],
   "source": [
    "#find the mean of the xWhiff column\n",
    "dfb2['xWhiff'].mean()"
   ]
  },
  {
   "cell_type": "code",
<<<<<<< Updated upstream
   "execution_count": 110,
=======
   "execution_count": 73,
>>>>>>> Stashed changes
   "metadata": {},
   "outputs": [
    {
     "data": {
      "text/plain": [
<<<<<<< Updated upstream
       "0.5364029500309645"
      ]
     },
     "execution_count": 110,
=======
       "np.float64(0.13388864863149347)"
      ]
     },
     "execution_count": 73,
>>>>>>> Stashed changes
     "metadata": {},
     "output_type": "execute_result"
    }
   ],
   "source": [
    "#find the mean of the xWhiff column\n",
    "dcb2['xWhiff'].mean()"
   ]
  },
  {
   "cell_type": "code",
<<<<<<< Updated upstream
   "execution_count": 111,
=======
   "execution_count": 74,
>>>>>>> Stashed changes
   "metadata": {},
   "outputs": [
    {
     "data": {
      "text/plain": [
<<<<<<< Updated upstream
       "0.14422342036397373"
      ]
     },
     "execution_count": 111,
=======
       "np.float64(0.15354942049291356)"
      ]
     },
     "execution_count": 74,
>>>>>>> Stashed changes
     "metadata": {},
     "output_type": "execute_result"
    }
   ],
   "source": [
    "#find the mean of the xWhiff column\n",
    "dsl2['xWhiff'].mean()"
   ]
  },
  {
   "cell_type": "code",
<<<<<<< Updated upstream
   "execution_count": 112,
=======
   "execution_count": 75,
>>>>>>> Stashed changes
   "metadata": {},
   "outputs": [
    {
     "data": {
      "text/plain": [
<<<<<<< Updated upstream
       "0.07442604709129472"
      ]
     },
     "execution_count": 112,
=======
       "np.float64(0.2682031895013606)"
      ]
     },
     "execution_count": 75,
>>>>>>> Stashed changes
     "metadata": {},
     "output_type": "execute_result"
    }
   ],
   "source": [
    "#find the mean of the xWhiff column\n",
    "dch2['xWhiff'].mean()"
   ]
  },
  {
   "cell_type": "code",
<<<<<<< Updated upstream
   "execution_count": 113,
=======
   "execution_count": 76,
>>>>>>> Stashed changes
   "metadata": {},
   "outputs": [],
   "source": [
    "#create a new column in dfb2 called stuff+ which is (xWhiff / mean of xWhiff for dfb2) * 100\n",
    "dfb2['stuff+'] = (dfb2['xWhiff'] / dfb2['xWhiff'].mean()) * 100\n",
    "#create a new column in dcb2 called stuff+ which is (xWhiff / mean of xWhiff for dcb2) * 100\n",
    "dcb2['stuff+'] = (dcb2['xWhiff'] / dcb2['xWhiff'].mean()) * 100\n",
    "#create a new column in dsl2 called stuff+ which is (xWhiff / mean of xWhiff for dsl2) * 100\n",
    "dsl2['stuff+'] = (dsl2['xWhiff'] / dsl2['xWhiff'].mean()) * 100\n",
    "#create a new column in dch2 called stuff+ which is (xWhiff / mean of xWhiff for dch2) * 100\n",
    "dch2['stuff+'] = (dch2['xWhiff'] / dch2['xWhiff'].mean()) * 100"
   ]
  },
  {
   "cell_type": "code",
<<<<<<< Updated upstream
   "execution_count": 114,
=======
   "execution_count": 77,
>>>>>>> Stashed changes
   "metadata": {},
   "outputs": [
    {
     "data": {
      "text/plain": [
<<<<<<< Updated upstream
       "0.3799623050753883"
      ]
     },
     "execution_count": 114,
=======
       "np.float64(0.1100534847745016)"
      ]
     },
     "execution_count": 77,
>>>>>>> Stashed changes
     "metadata": {},
     "output_type": "execute_result"
    }
   ],
   "source": [
    "#find correlation between each xWhiff and stuff+ column\n",
    "dfb2['xWhiff_nn'].corr(dfb2['stuff+'])"
   ]
  },
  {
   "cell_type": "code",
<<<<<<< Updated upstream
   "execution_count": 115,
=======
   "execution_count": 78,
>>>>>>> Stashed changes
   "metadata": {},
   "outputs": [
    {
     "data": {
      "text/plain": [
<<<<<<< Updated upstream
       "99.99999999999999"
      ]
     },
     "execution_count": 115,
=======
       "np.float64(99.99999999999999)"
      ]
     },
     "execution_count": 78,
>>>>>>> Stashed changes
     "metadata": {},
     "output_type": "execute_result"
    }
   ],
   "source": [
    "#calulcate the mean of stuff+ for dfb2\n",
    "dfb2['stuff+'].mean()"
   ]
  },
  {
   "cell_type": "code",
<<<<<<< Updated upstream
   "execution_count": 116,
=======
   "execution_count": 79,
>>>>>>> Stashed changes
   "metadata": {},
   "outputs": [
    {
     "data": {
      "text/plain": [
<<<<<<< Updated upstream
       "100.0"
      ]
     },
     "execution_count": 116,
=======
       "np.float64(99.99999999999997)"
      ]
     },
     "execution_count": 79,
>>>>>>> Stashed changes
     "metadata": {},
     "output_type": "execute_result"
    }
   ],
   "source": [
    "#calulcate the mean of stuff+ for dcb2\n",
    "dcb2['stuff+'].mean()"
   ]
  },
  {
   "cell_type": "code",
<<<<<<< Updated upstream
   "execution_count": 117,
=======
   "execution_count": 80,
>>>>>>> Stashed changes
   "metadata": {},
   "outputs": [
    {
     "data": {
      "text/plain": [
<<<<<<< Updated upstream
       "100.00000000000001"
      ]
     },
     "execution_count": 117,
=======
       "np.float64(100.0)"
      ]
     },
     "execution_count": 80,
>>>>>>> Stashed changes
     "metadata": {},
     "output_type": "execute_result"
    }
   ],
   "source": [
    "#calulcate the mean of stuff+ for dsl2\n",
    "dsl2['stuff+'].mean()\n"
   ]
  },
  {
   "cell_type": "code",
<<<<<<< Updated upstream
   "execution_count": 118,
=======
   "execution_count": 81,
>>>>>>> Stashed changes
   "metadata": {},
   "outputs": [
    {
     "data": {
      "text/plain": [
<<<<<<< Updated upstream
       "99.99999999999999"
      ]
     },
     "execution_count": 118,
=======
       "np.float64(100.00000000000001)"
      ]
     },
     "execution_count": 81,
>>>>>>> Stashed changes
     "metadata": {},
     "output_type": "execute_result"
    }
   ],
   "source": [
    "#calulcate the mean of stuff+ for dch2\n",
    "dch2['stuff+'].mean()"
   ]
  },
  {
   "cell_type": "code",
<<<<<<< Updated upstream
   "execution_count": 119,
=======
   "execution_count": 82,
>>>>>>> Stashed changes
   "metadata": {},
   "outputs": [
    {
     "data": {
      "text/plain": [
       "<BarContainer object of 4 artists>"
      ]
     },
<<<<<<< Updated upstream
     "execution_count": 119,
=======
     "execution_count": 82,
>>>>>>> Stashed changes
     "metadata": {},
     "output_type": "execute_result"
    },
    {
     "data": {
<<<<<<< Updated upstream
      "image/png": "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",
=======
      "image/png": "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",
>>>>>>> Stashed changes
      "text/plain": [
       "<Figure size 640x480 with 1 Axes>"
      ]
     },
     "metadata": {},
     "output_type": "display_data"
    }
   ],
   "source": [
    "#creat a visualization of the mean of stuff+ for each pitch type \n",
    "plt.bar(['Fastball', 'Curveball', 'Slider', 'Changeup'], [dfb2['stuff+'].mean(), dcb2['stuff+'].mean(), dsl2['stuff+'].mean(), dch2['stuff+'].mean()])\n"
   ]
  },
  {
   "cell_type": "code",
<<<<<<< Updated upstream
   "execution_count": 120,
=======
   "execution_count": 92,
>>>>>>> Stashed changes
   "metadata": {},
   "outputs": [],
   "source": [
    "#reccombine the dataframes\n",
    "College_Final_Stuff = pd.concat([dfb2, dsl2, dcb2, dch2], ignore_index=True)"
   ]
  },
  {
   "cell_type": "code",
<<<<<<< Updated upstream
   "execution_count": 121,
=======
   "execution_count": 84,
>>>>>>> Stashed changes
   "metadata": {},
   "outputs": [
    {
     "data": {
      "text/html": [
       "<div>\n",
       "<style scoped>\n",
       "    .dataframe tbody tr th:only-of-type {\n",
       "        vertical-align: middle;\n",
       "    }\n",
       "\n",
       "    .dataframe tbody tr th {\n",
       "        vertical-align: top;\n",
       "    }\n",
       "\n",
       "    .dataframe thead th {\n",
       "        text-align: right;\n",
       "    }\n",
       "</style>\n",
       "<table border=\"1\" class=\"dataframe\">\n",
       "  <thead>\n",
       "    <tr style=\"text-align: right;\">\n",
       "      <th></th>\n",
       "      <th>Pitcher</th>\n",
       "      <th>PitcherTeam</th>\n",
       "      <th>TaggedPitchType</th>\n",
       "      <th>PitchCall</th>\n",
       "      <th>PlayResult</th>\n",
       "      <th>RelSpeed</th>\n",
       "      <th>SpinRate</th>\n",
       "      <th>RelHeight</th>\n",
       "      <th>RelSide</th>\n",
       "      <th>Extension</th>\n",
       "      <th>...</th>\n",
       "      <th>PlateLocHeight</th>\n",
       "      <th>PlateLocSide</th>\n",
       "      <th>ABS_Horizontal</th>\n",
       "      <th>ABS_RelSide</th>\n",
       "      <th>differential_break</th>\n",
       "      <th>xWhiff_xg</th>\n",
       "      <th>xWhiff_rf</th>\n",
       "      <th>xWhiff_nn</th>\n",
       "      <th>xWhiff</th>\n",
       "      <th>stuff+</th>\n",
       "    </tr>\n",
       "  </thead>\n",
       "  <tbody>\n",
       "    <tr>\n",
       "      <th>0</th>\n",
<<<<<<< Updated upstream
       "      <td>Samuel Guadamuz</td>\n",
       "      <td>Rex baseball 2025</td>\n",
       "      <td>Fastball</td>\n",
       "      <td>InPlay</td>\n",
       "      <td>Out</td>\n",
       "      <td>83.747936</td>\n",
       "      <td>2157.399003</td>\n",
       "      <td>5.590344</td>\n",
       "      <td>4.158423</td>\n",
       "      <td>6.0</td>\n",
       "      <td>...</td>\n",
       "      <td>1.867057</td>\n",
       "      <td>1.049992</td>\n",
       "      <td>14.371757</td>\n",
       "      <td>4.158423</td>\n",
       "      <td>4.963272</td>\n",
       "      <td>0.010781</td>\n",
       "      <td>0.03</td>\n",
       "      <td>0.998640</td>\n",
       "      <td>0.346474</td>\n",
       "      <td>88.815853</td>\n",
       "    </tr>\n",
       "    <tr>\n",
       "      <th>1</th>\n",
       "      <td>Samuel Guadamuz</td>\n",
       "      <td>Rex baseball 2025</td>\n",
       "      <td>Fastball</td>\n",
       "      <td>InPlay</td>\n",
       "      <td>Out</td>\n",
       "      <td>89.071212</td>\n",
       "      <td>2141.345973</td>\n",
       "      <td>5.256668</td>\n",
       "      <td>2.914676</td>\n",
       "      <td>6.0</td>\n",
       "      <td>...</td>\n",
       "      <td>2.095018</td>\n",
       "      <td>-0.249994</td>\n",
       "      <td>14.956144</td>\n",
       "      <td>2.914676</td>\n",
       "      <td>2.322386</td>\n",
       "      <td>0.000751</td>\n",
       "      <td>0.00</td>\n",
       "      <td>0.994413</td>\n",
       "      <td>0.331721</td>\n",
       "      <td>85.034214</td>\n",
       "    </tr>\n",
       "    <tr>\n",
       "      <th>2</th>\n",
       "      <td>Samuel Guadamuz</td>\n",
       "      <td>Rex baseball 2025</td>\n",
       "      <td>Fastball</td>\n",
       "      <td>InPlay</td>\n",
       "      <td>Out</td>\n",
       "      <td>89.370579</td>\n",
       "      <td>2173.052825</td>\n",
       "      <td>5.664889</td>\n",
       "      <td>3.397011</td>\n",
       "      <td>6.0</td>\n",
       "      <td>...</td>\n",
       "      <td>2.329352</td>\n",
       "      <td>-0.340112</td>\n",
       "      <td>13.805704</td>\n",
       "      <td>3.397011</td>\n",
       "      <td>4.274694</td>\n",
       "      <td>0.013912</td>\n",
       "      <td>0.03</td>\n",
       "      <td>0.996230</td>\n",
       "      <td>0.346714</td>\n",
       "      <td>88.877455</td>\n",
       "    </tr>\n",
       "    <tr>\n",
       "      <th>3</th>\n",
       "      <td>Rj Bergren</td>\n",
       "      <td>Normal cornbelters</td>\n",
       "      <td>Fastball</td>\n",
       "      <td>StrikeSwinging</td>\n",
       "      <td>StrikeoutSwinging</td>\n",
       "      <td>88.088280</td>\n",
       "      <td>2324.829918</td>\n",
       "      <td>5.219541</td>\n",
       "      <td>0.758672</td>\n",
       "      <td>6.0</td>\n",
       "      <td>...</td>\n",
       "      <td>3.714265</td>\n",
       "      <td>-0.339573</td>\n",
       "      <td>9.070179</td>\n",
       "      <td>0.758672</td>\n",
       "      <td>6.906795</td>\n",
       "      <td>0.913629</td>\n",
       "      <td>0.61</td>\n",
       "      <td>0.999202</td>\n",
       "      <td>0.840944</td>\n",
       "      <td>215.569418</td>\n",
       "    </tr>\n",
       "    <tr>\n",
       "      <th>4</th>\n",
       "      <td>Rj Bergren</td>\n",
       "      <td>Normal cornbelters</td>\n",
       "      <td>Fastball</td>\n",
       "      <td>InPlay</td>\n",
       "      <td>Out</td>\n",
       "      <td>87.065017</td>\n",
       "      <td>2328.140039</td>\n",
       "      <td>5.035475</td>\n",
       "      <td>0.466773</td>\n",
       "      <td>6.0</td>\n",
       "      <td>...</td>\n",
       "      <td>2.850631</td>\n",
       "      <td>-0.074831</td>\n",
       "      <td>9.084601</td>\n",
       "      <td>0.466773</td>\n",
       "      <td>6.900633</td>\n",
       "      <td>0.718482</td>\n",
       "      <td>0.42</td>\n",
       "      <td>0.999336</td>\n",
       "      <td>0.712606</td>\n",
       "      <td>182.671077</td>\n",
=======
       "      <td>Graham Kasey</td>\n",
       "      <td>Normal cornbelters</td>\n",
       "      <td>Fastball</td>\n",
       "      <td>InPlay</td>\n",
       "      <td>Out</td>\n",
       "      <td>86.408408</td>\n",
       "      <td>2047.810776</td>\n",
       "      <td>4.498046</td>\n",
       "      <td>-1.312383</td>\n",
       "      <td>6.0</td>\n",
       "      <td>...</td>\n",
       "      <td>2.284539</td>\n",
       "      <td>-0.032549</td>\n",
       "      <td>14.565945</td>\n",
       "      <td>1.312383</td>\n",
       "      <td>0.847866</td>\n",
       "      <td>0.003567</td>\n",
       "      <td>0.04</td>\n",
       "      <td>0.021512</td>\n",
       "      <td>0.021693</td>\n",
       "      <td>24.737793</td>\n",
       "    </tr>\n",
       "    <tr>\n",
       "      <th>1</th>\n",
       "      <td>Graham Kasey</td>\n",
       "      <td>Normal cornbelters</td>\n",
       "      <td>Fastball</td>\n",
       "      <td>StrikeCalled</td>\n",
       "      <td>StrikeoutLooking</td>\n",
       "      <td>86.902150</td>\n",
       "      <td>2055.655904</td>\n",
       "      <td>4.546120</td>\n",
       "      <td>-1.718921</td>\n",
       "      <td>6.0</td>\n",
       "      <td>...</td>\n",
       "      <td>2.143809</td>\n",
       "      <td>-0.278251</td>\n",
       "      <td>12.437125</td>\n",
       "      <td>1.718921</td>\n",
       "      <td>3.338603</td>\n",
       "      <td>0.046543</td>\n",
       "      <td>0.24</td>\n",
       "      <td>0.021751</td>\n",
       "      <td>0.102765</td>\n",
       "      <td>117.188420</td>\n",
       "    </tr>\n",
       "    <tr>\n",
       "      <th>2</th>\n",
       "      <td>Graham Kasey</td>\n",
       "      <td>Normal cornbelters</td>\n",
       "      <td>Fastball</td>\n",
       "      <td>InPlay</td>\n",
       "      <td>Out</td>\n",
       "      <td>87.718288</td>\n",
       "      <td>2051.729611</td>\n",
       "      <td>4.888378</td>\n",
       "      <td>-1.720178</td>\n",
       "      <td>6.0</td>\n",
       "      <td>...</td>\n",
       "      <td>2.802205</td>\n",
       "      <td>-0.542450</td>\n",
       "      <td>12.082530</td>\n",
       "      <td>1.720178</td>\n",
       "      <td>3.316992</td>\n",
       "      <td>0.006582</td>\n",
       "      <td>0.03</td>\n",
       "      <td>0.019365</td>\n",
       "      <td>0.018649</td>\n",
       "      <td>21.266474</td>\n",
       "    </tr>\n",
       "    <tr>\n",
       "      <th>3</th>\n",
       "      <td>Alex Logan</td>\n",
       "      <td>Burlington bees 2025</td>\n",
       "      <td>Fastball</td>\n",
       "      <td>InPlay</td>\n",
       "      <td>Out</td>\n",
       "      <td>86.722338</td>\n",
       "      <td>2242.424565</td>\n",
       "      <td>5.606737</td>\n",
       "      <td>2.750172</td>\n",
       "      <td>6.0</td>\n",
       "      <td>...</td>\n",
       "      <td>1.852299</td>\n",
       "      <td>-0.325950</td>\n",
       "      <td>7.051352</td>\n",
       "      <td>2.750172</td>\n",
       "      <td>10.822921</td>\n",
       "      <td>0.000692</td>\n",
       "      <td>0.01</td>\n",
       "      <td>0.038688</td>\n",
       "      <td>0.016460</td>\n",
       "      <td>18.770011</td>\n",
       "    </tr>\n",
       "    <tr>\n",
       "      <th>4</th>\n",
       "      <td>Alex Logan</td>\n",
       "      <td>Burlington bees 2025</td>\n",
       "      <td>Fastball</td>\n",
       "      <td>InPlay</td>\n",
       "      <td>Single</td>\n",
       "      <td>86.639869</td>\n",
       "      <td>2285.893859</td>\n",
       "      <td>5.207776</td>\n",
       "      <td>3.993518</td>\n",
       "      <td>6.0</td>\n",
       "      <td>...</td>\n",
       "      <td>2.208482</td>\n",
       "      <td>0.025761</td>\n",
       "      <td>3.422529</td>\n",
       "      <td>3.993518</td>\n",
       "      <td>13.352673</td>\n",
       "      <td>0.067472</td>\n",
       "      <td>0.16</td>\n",
       "      <td>0.046705</td>\n",
       "      <td>0.091392</td>\n",
       "      <td>104.219950</td>\n",
>>>>>>> Stashed changes
       "    </tr>\n",
       "    <tr>\n",
       "      <th>...</th>\n",
       "      <td>...</td>\n",
       "      <td>...</td>\n",
       "      <td>...</td>\n",
       "      <td>...</td>\n",
       "      <td>...</td>\n",
       "      <td>...</td>\n",
       "      <td>...</td>\n",
       "      <td>...</td>\n",
       "      <td>...</td>\n",
       "      <td>...</td>\n",
       "      <td>...</td>\n",
       "      <td>...</td>\n",
       "      <td>...</td>\n",
       "      <td>...</td>\n",
       "      <td>...</td>\n",
       "      <td>...</td>\n",
       "      <td>...</td>\n",
       "      <td>...</td>\n",
       "      <td>...</td>\n",
       "      <td>...</td>\n",
       "      <td>...</td>\n",
       "    </tr>\n",
       "    <tr>\n",
<<<<<<< Updated upstream
       "      <th>634</th>\n",
       "      <td>Zach Leuschen</td>\n",
       "      <td>Burlington bees 2025</td>\n",
       "      <td>Splitter</td>\n",
       "      <td>StrikeSwinging</td>\n",
       "      <td>StrikeoutSwinging</td>\n",
       "      <td>70.296943</td>\n",
       "      <td>1385.137657</td>\n",
       "      <td>5.176068</td>\n",
       "      <td>-2.085633</td>\n",
       "      <td>6.0</td>\n",
       "      <td>...</td>\n",
       "      <td>2.231392</td>\n",
       "      <td>1.527230</td>\n",
       "      <td>15.352559</td>\n",
       "      <td>2.085633</td>\n",
       "      <td>8.394110</td>\n",
       "      <td>0.350442</td>\n",
       "      <td>0.31</td>\n",
       "      <td>0.004241</td>\n",
       "      <td>0.221561</td>\n",
       "      <td>297.692666</td>\n",
       "    </tr>\n",
       "    <tr>\n",
       "      <th>635</th>\n",
       "      <td>Ab Trier</td>\n",
       "      <td>Danville dans 2025</td>\n",
       "      <td>Splitter</td>\n",
       "      <td>InPlay</td>\n",
       "      <td>Out</td>\n",
       "      <td>77.707644</td>\n",
       "      <td>866.948505</td>\n",
       "      <td>5.294981</td>\n",
       "      <td>2.795740</td>\n",
       "      <td>6.0</td>\n",
       "      <td>...</td>\n",
       "      <td>1.983099</td>\n",
       "      <td>-1.351933</td>\n",
       "      <td>9.118649</td>\n",
       "      <td>2.795740</td>\n",
       "      <td>8.005491</td>\n",
       "      <td>0.005638</td>\n",
       "      <td>0.01</td>\n",
       "      <td>0.000426</td>\n",
       "      <td>0.005355</td>\n",
       "      <td>7.194758</td>\n",
       "    </tr>\n",
       "    <tr>\n",
       "      <th>636</th>\n",
       "      <td>Ab Trier</td>\n",
       "      <td>Danville dans 2025</td>\n",
       "      <td>Splitter</td>\n",
       "      <td>InPlay</td>\n",
       "      <td>Single</td>\n",
       "      <td>77.516673</td>\n",
       "      <td>844.614097</td>\n",
       "      <td>5.031740</td>\n",
       "      <td>3.747129</td>\n",
       "      <td>6.0</td>\n",
       "      <td>...</td>\n",
       "      <td>2.924715</td>\n",
       "      <td>0.339537</td>\n",
       "      <td>9.110352</td>\n",
       "      <td>3.747129</td>\n",
       "      <td>9.089382</td>\n",
       "      <td>0.008154</td>\n",
       "      <td>0.06</td>\n",
       "      <td>0.000263</td>\n",
       "      <td>0.022806</td>\n",
       "      <td>30.642088</td>\n",
       "    </tr>\n",
       "    <tr>\n",
       "      <th>637</th>\n",
       "      <td>Devan Tupper</td>\n",
       "      <td>Kcl groundsloths 2025</td>\n",
       "      <td>Splitter</td>\n",
       "      <td>InPlay</td>\n",
       "      <td>Single</td>\n",
       "      <td>77.087252</td>\n",
       "      <td>2085.848824</td>\n",
       "      <td>5.358140</td>\n",
       "      <td>2.174936</td>\n",
       "      <td>6.0</td>\n",
       "      <td>...</td>\n",
       "      <td>2.794226</td>\n",
       "      <td>-0.786913</td>\n",
       "      <td>0.225714</td>\n",
       "      <td>2.174936</td>\n",
       "      <td>2.214007</td>\n",
       "      <td>0.006672</td>\n",
       "      <td>0.10</td>\n",
       "      <td>0.171028</td>\n",
       "      <td>0.092567</td>\n",
       "      <td>124.374236</td>\n",
       "    </tr>\n",
       "    <tr>\n",
       "      <th>638</th>\n",
=======
       "      <th>899</th>\n",
>>>>>>> Stashed changes
       "      <td>Brett Granger</td>\n",
       "      <td>Kcl merchants 2025</td>\n",
       "      <td>Splitter</td>\n",
       "      <td>InPlay</td>\n",
       "      <td>Out</td>\n",
       "      <td>65.082120</td>\n",
       "      <td>1011.628864</td>\n",
       "      <td>5.935922</td>\n",
       "      <td>2.741158</td>\n",
       "      <td>6.0</td>\n",
       "      <td>...</td>\n",
       "      <td>2.479037</td>\n",
       "      <td>-0.534164</td>\n",
       "      <td>3.769685</td>\n",
       "      <td>2.741158</td>\n",
       "      <td>11.630538</td>\n",
<<<<<<< Updated upstream
       "      <td>0.024269</td>\n",
       "      <td>0.01</td>\n",
       "      <td>0.055257</td>\n",
       "      <td>0.029842</td>\n",
       "      <td>40.096253</td>\n",
       "    </tr>\n",
       "  </tbody>\n",
       "</table>\n",
       "<p>639 rows × 22 columns</p>\n",
=======
       "      <td>0.024006</td>\n",
       "      <td>0.09</td>\n",
       "      <td>0.228929</td>\n",
       "      <td>0.114312</td>\n",
       "      <td>42.621357</td>\n",
       "    </tr>\n",
       "    <tr>\n",
       "      <th>900</th>\n",
       "      <td>Cameron Clifton</td>\n",
       "      <td>Kcl bobcats 2025</td>\n",
       "      <td>Changeup</td>\n",
       "      <td>InPlay</td>\n",
       "      <td>Single</td>\n",
       "      <td>68.626391</td>\n",
       "      <td>1990.825603</td>\n",
       "      <td>5.169860</td>\n",
       "      <td>2.037374</td>\n",
       "      <td>6.0</td>\n",
       "      <td>...</td>\n",
       "      <td>1.813793</td>\n",
       "      <td>-0.533372</td>\n",
       "      <td>11.373594</td>\n",
       "      <td>2.037374</td>\n",
       "      <td>9.002387</td>\n",
       "      <td>0.069176</td>\n",
       "      <td>0.26</td>\n",
       "      <td>0.107797</td>\n",
       "      <td>0.145658</td>\n",
       "      <td>54.308712</td>\n",
       "    </tr>\n",
       "    <tr>\n",
       "      <th>901</th>\n",
       "      <td>Brett Granger</td>\n",
       "      <td>Kcl merchants 2025</td>\n",
       "      <td>Changeup</td>\n",
       "      <td>InPlay</td>\n",
       "      <td>Out</td>\n",
       "      <td>68.404303</td>\n",
       "      <td>957.457249</td>\n",
       "      <td>5.544073</td>\n",
       "      <td>-4.847801</td>\n",
       "      <td>6.0</td>\n",
       "      <td>...</td>\n",
       "      <td>2.318172</td>\n",
       "      <td>-0.321566</td>\n",
       "      <td>4.195901</td>\n",
       "      <td>4.847801</td>\n",
       "      <td>10.983224</td>\n",
       "      <td>0.024006</td>\n",
       "      <td>0.04</td>\n",
       "      <td>0.178495</td>\n",
       "      <td>0.080834</td>\n",
       "      <td>30.139013</td>\n",
       "    </tr>\n",
       "    <tr>\n",
       "      <th>902</th>\n",
       "      <td>Nolan Bowles</td>\n",
       "      <td>Kcl groundsloths 2025</td>\n",
       "      <td>Changeup</td>\n",
       "      <td>StrikeSwinging</td>\n",
       "      <td>StrikeoutSwinging</td>\n",
       "      <td>72.749511</td>\n",
       "      <td>1677.420741</td>\n",
       "      <td>4.231994</td>\n",
       "      <td>2.673566</td>\n",
       "      <td>6.0</td>\n",
       "      <td>...</td>\n",
       "      <td>1.641936</td>\n",
       "      <td>-1.574158</td>\n",
       "      <td>15.033850</td>\n",
       "      <td>2.673566</td>\n",
       "      <td>2.857448</td>\n",
       "      <td>0.761019</td>\n",
       "      <td>0.79</td>\n",
       "      <td>0.469573</td>\n",
       "      <td>0.673531</td>\n",
       "      <td>251.127018</td>\n",
       "    </tr>\n",
       "    <tr>\n",
       "      <th>903</th>\n",
       "      <td>Braden Deverman</td>\n",
       "      <td>Kcl groundsloths 2025</td>\n",
       "      <td>Changeup</td>\n",
       "      <td>StrikeSwinging</td>\n",
       "      <td>StrikeoutSwinging</td>\n",
       "      <td>81.307161</td>\n",
       "      <td>2005.024117</td>\n",
       "      <td>5.543102</td>\n",
       "      <td>3.462256</td>\n",
       "      <td>6.0</td>\n",
       "      <td>...</td>\n",
       "      <td>1.558016</td>\n",
       "      <td>0.577819</td>\n",
       "      <td>14.247871</td>\n",
       "      <td>3.462256</td>\n",
       "      <td>2.715765</td>\n",
       "      <td>0.494531</td>\n",
       "      <td>0.66</td>\n",
       "      <td>0.332899</td>\n",
       "      <td>0.495810</td>\n",
       "      <td>184.863612</td>\n",
       "    </tr>\n",
       "  </tbody>\n",
       "</table>\n",
       "<p>904 rows × 22 columns</p>\n",
>>>>>>> Stashed changes
       "</div>"
      ],
      "text/plain": [
       "             Pitcher            PitcherTeam TaggedPitchType       PitchCall  \\\n",
<<<<<<< Updated upstream
       "0    Samuel Guadamuz      Rex baseball 2025        Fastball          InPlay   \n",
       "1    Samuel Guadamuz      Rex baseball 2025        Fastball          InPlay   \n",
       "2    Samuel Guadamuz      Rex baseball 2025        Fastball          InPlay   \n",
       "3         Rj Bergren     Normal cornbelters        Fastball  StrikeSwinging   \n",
       "4         Rj Bergren     Normal cornbelters        Fastball          InPlay   \n",
       "..               ...                    ...             ...             ...   \n",
       "634    Zach Leuschen   Burlington bees 2025        Splitter  StrikeSwinging   \n",
       "635         Ab Trier     Danville dans 2025        Splitter          InPlay   \n",
       "636         Ab Trier     Danville dans 2025        Splitter          InPlay   \n",
       "637     Devan Tupper  Kcl groundsloths 2025        Splitter          InPlay   \n",
       "638    Brett Granger     Kcl merchants 2025        Splitter          InPlay   \n",
       "\n",
       "            PlayResult   RelSpeed     SpinRate  RelHeight   RelSide  \\\n",
       "0                  Out  83.747936  2157.399003   5.590344  4.158423   \n",
       "1                  Out  89.071212  2141.345973   5.256668  2.914676   \n",
       "2                  Out  89.370579  2173.052825   5.664889  3.397011   \n",
       "3    StrikeoutSwinging  88.088280  2324.829918   5.219541  0.758672   \n",
       "4                  Out  87.065017  2328.140039   5.035475  0.466773   \n",
       "..                 ...        ...          ...        ...       ...   \n",
       "634  StrikeoutSwinging  70.296943  1385.137657   5.176068 -2.085633   \n",
       "635                Out  77.707644   866.948505   5.294981  2.795740   \n",
       "636             Single  77.516673   844.614097   5.031740  3.747129   \n",
       "637             Single  77.087252  2085.848824   5.358140  2.174936   \n",
       "638                Out  65.082120  1011.628864   5.935922  2.741158   \n",
       "\n",
       "     Extension  ...  PlateLocHeight  PlateLocSide  ABS_Horizontal  \\\n",
       "0          6.0  ...        1.867057      1.049992       14.371757   \n",
       "1          6.0  ...        2.095018     -0.249994       14.956144   \n",
       "2          6.0  ...        2.329352     -0.340112       13.805704   \n",
       "3          6.0  ...        3.714265     -0.339573        9.070179   \n",
       "4          6.0  ...        2.850631     -0.074831        9.084601   \n",
       "..         ...  ...             ...           ...             ...   \n",
       "634        6.0  ...        2.231392      1.527230       15.352559   \n",
       "635        6.0  ...        1.983099     -1.351933        9.118649   \n",
       "636        6.0  ...        2.924715      0.339537        9.110352   \n",
       "637        6.0  ...        2.794226     -0.786913        0.225714   \n",
       "638        6.0  ...        2.479037     -0.534164        3.769685   \n",
       "\n",
       "     ABS_RelSide  differential_break  xWhiff_xg  xWhiff_rf  xWhiff_nn  \\\n",
       "0       4.158423            4.963272   0.010781       0.03   0.998640   \n",
       "1       2.914676            2.322386   0.000751       0.00   0.994413   \n",
       "2       3.397011            4.274694   0.013912       0.03   0.996230   \n",
       "3       0.758672            6.906795   0.913629       0.61   0.999202   \n",
       "4       0.466773            6.900633   0.718482       0.42   0.999336   \n",
       "..           ...                 ...        ...        ...        ...   \n",
       "634     2.085633            8.394110   0.350442       0.31   0.004241   \n",
       "635     2.795740            8.005491   0.005638       0.01   0.000426   \n",
       "636     3.747129            9.089382   0.008154       0.06   0.000263   \n",
       "637     2.174936            2.214007   0.006672       0.10   0.171028   \n",
       "638     2.741158           11.630538   0.024269       0.01   0.055257   \n",
       "\n",
       "       xWhiff      stuff+  \n",
       "0    0.346474   88.815853  \n",
       "1    0.331721   85.034214  \n",
       "2    0.346714   88.877455  \n",
       "3    0.840944  215.569418  \n",
       "4    0.712606  182.671077  \n",
       "..        ...         ...  \n",
       "634  0.221561  297.692666  \n",
       "635  0.005355    7.194758  \n",
       "636  0.022806   30.642088  \n",
       "637  0.092567  124.374236  \n",
       "638  0.029842   40.096253  \n",
       "\n",
       "[639 rows x 22 columns]"
      ]
     },
     "execution_count": 121,
=======
       "0       Graham Kasey     Normal cornbelters        Fastball          InPlay   \n",
       "1       Graham Kasey     Normal cornbelters        Fastball    StrikeCalled   \n",
       "2       Graham Kasey     Normal cornbelters        Fastball          InPlay   \n",
       "3         Alex Logan   Burlington bees 2025        Fastball          InPlay   \n",
       "4         Alex Logan   Burlington bees 2025        Fastball          InPlay   \n",
       "..               ...                    ...             ...             ...   \n",
       "899    Brett Granger     Kcl merchants 2025        Splitter          InPlay   \n",
       "900  Cameron Clifton       Kcl bobcats 2025        Changeup          InPlay   \n",
       "901    Brett Granger     Kcl merchants 2025        Changeup          InPlay   \n",
       "902     Nolan Bowles  Kcl groundsloths 2025        Changeup  StrikeSwinging   \n",
       "903  Braden Deverman  Kcl groundsloths 2025        Changeup  StrikeSwinging   \n",
       "\n",
       "            PlayResult   RelSpeed     SpinRate  RelHeight   RelSide  \\\n",
       "0                  Out  86.408408  2047.810776   4.498046 -1.312383   \n",
       "1     StrikeoutLooking  86.902150  2055.655904   4.546120 -1.718921   \n",
       "2                  Out  87.718288  2051.729611   4.888378 -1.720178   \n",
       "3                  Out  86.722338  2242.424565   5.606737  2.750172   \n",
       "4               Single  86.639869  2285.893859   5.207776  3.993518   \n",
       "..                 ...        ...          ...        ...       ...   \n",
       "899                Out  65.082120  1011.628864   5.935922  2.741158   \n",
       "900             Single  68.626391  1990.825603   5.169860  2.037374   \n",
       "901                Out  68.404303   957.457249   5.544073 -4.847801   \n",
       "902  StrikeoutSwinging  72.749511  1677.420741   4.231994  2.673566   \n",
       "903  StrikeoutSwinging  81.307161  2005.024117   5.543102  3.462256   \n",
       "\n",
       "     Extension  ...  PlateLocHeight  PlateLocSide  ABS_Horizontal  \\\n",
       "0          6.0  ...        2.284539     -0.032549       14.565945   \n",
       "1          6.0  ...        2.143809     -0.278251       12.437125   \n",
       "2          6.0  ...        2.802205     -0.542450       12.082530   \n",
       "3          6.0  ...        1.852299     -0.325950        7.051352   \n",
       "4          6.0  ...        2.208482      0.025761        3.422529   \n",
       "..         ...  ...             ...           ...             ...   \n",
       "899        6.0  ...        2.479037     -0.534164        3.769685   \n",
       "900        6.0  ...        1.813793     -0.533372       11.373594   \n",
       "901        6.0  ...        2.318172     -0.321566        4.195901   \n",
       "902        6.0  ...        1.641936     -1.574158       15.033850   \n",
       "903        6.0  ...        1.558016      0.577819       14.247871   \n",
       "\n",
       "     ABS_RelSide  differential_break  xWhiff_xg  xWhiff_rf  xWhiff_nn  \\\n",
       "0       1.312383            0.847866   0.003567       0.04   0.021512   \n",
       "1       1.718921            3.338603   0.046543       0.24   0.021751   \n",
       "2       1.720178            3.316992   0.006582       0.03   0.019365   \n",
       "3       2.750172           10.822921   0.000692       0.01   0.038688   \n",
       "4       3.993518           13.352673   0.067472       0.16   0.046705   \n",
       "..           ...                 ...        ...        ...        ...   \n",
       "899     2.741158           11.630538   0.024006       0.09   0.228929   \n",
       "900     2.037374            9.002387   0.069176       0.26   0.107797   \n",
       "901     4.847801           10.983224   0.024006       0.04   0.178495   \n",
       "902     2.673566            2.857448   0.761019       0.79   0.469573   \n",
       "903     3.462256            2.715765   0.494531       0.66   0.332899   \n",
       "\n",
       "       xWhiff      stuff+  \n",
       "0    0.021693   24.737793  \n",
       "1    0.102765  117.188420  \n",
       "2    0.018649   21.266474  \n",
       "3    0.016460   18.770011  \n",
       "4    0.091392  104.219950  \n",
       "..        ...         ...  \n",
       "899  0.114312   42.621357  \n",
       "900  0.145658   54.308712  \n",
       "901  0.080834   30.139013  \n",
       "902  0.673531  251.127018  \n",
       "903  0.495810  184.863612  \n",
       "\n",
       "[904 rows x 22 columns]"
      ]
     },
     "execution_count": 84,
>>>>>>> Stashed changes
     "metadata": {},
     "output_type": "execute_result"
    }
   ],
   "source": [
    "College_Final_Stuff"
   ]
  },
  {
   "cell_type": "code",
<<<<<<< Updated upstream
   "execution_count": 122,
   "metadata": {},
   "outputs": [],
   "source": [
    "College_Final_Stuff.to_csv('out.csv',index=False)"
=======
   "execution_count": 93,
   "metadata": {},
   "outputs": [
    {
     "name": "stdout",
     "output_type": "stream",
     "text": [
      "['Normal cornbelters' 'Burlington bees 2025' 'Lafayette aviators 2025'\n",
      " 'Chillicothe paints 2025' 'Danville dans 2025' 'Rex baseball 2025'\n",
      " 'Kcl merchants 2025' 'Kcl groundsloths 2025' 'Kcl bobcats 2025'\n",
      " 'Kcl bluecaps 2025' 'Burlington bees 2019']\n"
     ]
    }
   ],
   "source": [
    "print(College_Final_Stuff['PitcherTeam'].unique())"
   ]
  },
  {
   "cell_type": "code",
   "execution_count": 95,
   "metadata": {},
   "outputs": [],
   "source": [
    "KCL = College_Final_Stuff[College_Final_Stuff['PitcherTeam'].isin([\n",
    "    'Kcl merchants 2025',\n",
    "    'Kcl groundsloths 2025',\n",
    "    'Kcl bobcats 2025',\n",
    "    'Kcl bluecaps 2025'\n",
    "])]"
>>>>>>> Stashed changes
   ]
  },
  {
   "cell_type": "code",
   "execution_count": null,
   "metadata": {},
   "outputs": [],
<<<<<<< Updated upstream
   "source": []
=======
   "source": [
    "Cornbelters = College_Final_Stuff[College_Final_Stuff['PitcherTeam'] == 'Normal cornbelters']"
   ]
>>>>>>> Stashed changes
  },
  {
   "cell_type": "code",
   "execution_count": null,
   "metadata": {},
   "outputs": [],
<<<<<<< Updated upstream
   "source": []
  },
  {
   "cell_type": "code",
   "execution_count": null,
   "metadata": {},
   "outputs": [],
   "source": []
=======
   "source": [
    "Cornbelters.to_csv('Cornbelters2025wStuff+.csv',index=False)"
   ]
  },
  {
   "cell_type": "code",
   "execution_count": 96,
   "metadata": {},
   "outputs": [],
   "source": [
    "KCL.to_csv('KCL2025wStuff+.csv',index=False)"
   ]
>>>>>>> Stashed changes
  },
  {
   "cell_type": "code",
   "execution_count": null,
   "metadata": {},
   "outputs": [],
   "source": []
  },
  {
   "cell_type": "code",
   "execution_count": null,
   "metadata": {},
   "outputs": [],
   "source": []
  },
  {
   "cell_type": "code",
   "execution_count": null,
   "metadata": {},
   "outputs": [],
   "source": []
  },
  {
   "cell_type": "code",
   "execution_count": null,
   "metadata": {},
   "outputs": [],
   "source": []
  },
  {
   "cell_type": "code",
   "execution_count": null,
   "metadata": {},
   "outputs": [],
   "source": []
  },
  {
   "cell_type": "code",
   "execution_count": null,
   "metadata": {},
   "outputs": [],
   "source": []
  },
  {
   "cell_type": "code",
   "execution_count": null,
   "metadata": {},
   "outputs": [],
   "source": []
  },
  {
   "cell_type": "code",
   "execution_count": null,
   "metadata": {},
   "outputs": [],
   "source": []
  },
  {
   "cell_type": "code",
   "execution_count": null,
   "metadata": {},
   "outputs": [],
   "source": []
  },
  {
   "cell_type": "code",
   "execution_count": null,
   "metadata": {},
   "outputs": [],
   "source": []
  }
 ],
 "metadata": {
  "kernelspec": {
   "display_name": "Python 3",
   "language": "python",
   "name": "python3"
  },
  "language_info": {
   "codemirror_mode": {
    "name": "ipython",
    "version": 3
   },
   "file_extension": ".py",
   "mimetype": "text/x-python",
   "name": "python",
   "nbconvert_exporter": "python",
   "pygments_lexer": "ipython3",
   "version": "3.10.7"
  },
  "orig_nbformat": 4
 },
 "nbformat": 4,
 "nbformat_minor": 2
}
