{
 "cells": [
  {
   "cell_type": "code",
   "execution_count": 4,
   "id": "42002abd",
   "metadata": {},
   "outputs": [
    {
     "name": "stdout",
     "output_type": "stream",
     "text": [
      "               Batter  xBA_per_AB  xBA_percentile\n",
      "3     Braden Deverman    0.777778        1.000000\n",
      "17         Colin Karr    0.555556        0.984615\n",
      "52     Sammy Driscoll    0.518519        0.969231\n",
      "31     Justin Trusner    0.500000        0.953846\n",
      "28     Jake Zimmerman    0.422222        0.938462\n",
      "..                ...         ...             ...\n",
      "46       Nolan Hunter    0.018519        0.076923\n",
      "21        Gabe Peters    0.000000        0.038462\n",
      "4         Braden Mehn    0.000000        0.038462\n",
      "1   Andrew Schweigert    0.000000        0.038462\n",
      "45       Nolan Bowles    0.000000        0.038462\n",
      "\n",
      "[65 rows x 3 columns]\n"
     ]
    }
   ],
   "source": [
    "import pandas as pd\n",
    "\n",
    "# Load the CSV\n",
    "df = pd.read_csv(\"kcl_xba_data.csv\")\n",
    "# Define what counts as an AB (at-bat)\n",
    "# Exclude: Walks, HitByPitch, Sacrifice, CatcherInterference, IntentionalWalk, etc.\n",
    "# Include: Out, Error, FieldersChoice, Single, Double, Triple, HomeRun, etc.\n",
    "\n",
    "# You may need to adjust these based on your dataset's PlayResult or KorBB values\n",
    "not_ab = [\n",
    "    \"Walk\", \"IntentionalWalk\", \"HitByPitch\", \"SacrificeBunt\", \"SacrificeFly\", \"CatcherInterference\"\n",
    "]\n",
    "# If you have a column for PlayResult or KorBB, use it to filter\n",
    "ab_mask = ~df[\"PlayResult\"].isin(not_ab)\n",
    "\n",
    "# Group by batter and calculate xBA/AB\n",
    "result = (\n",
    "    df[ab_mask]\n",
    "    .groupby(\"Batter\")\n",
    "    .agg(\n",
    "        AB=(\"PlayResult\", \"count\"),\n",
    "        xBA_sum=(\"xBA\", \"sum\")\n",
    "    )\n",
    "    .assign(xBA_per_AB=lambda x: x[\"xBA_sum\"] / x[\"AB\"])\n",
    "    .reset_index()\n",
    "    .sort_values(\"xBA_per_AB\", ascending=False)\n",
    ")\n",
    "\n",
    "result[\"xBA_percentile\"] = result[\"xBA_per_AB\"].rank(pct=True)\n",
    "\n",
    "# Sort by xBA_per_AB descending\n",
    "result = result.sort_values(\"xBA_per_AB\", ascending=False)\n",
    "\n",
    "# Show the result\n",
    "print(result[[\"Batter\", \"xBA_per_AB\", \"xBA_percentile\"]])"
   ]
  },
  {
   "cell_type": "code",
   "execution_count": 5,
   "id": "e1e31d6c",
   "metadata": {},
   "outputs": [],
   "source": [
    "result.to_csv(\"kcl_xba.csv\", index=False)"
   ]
  },
  {
   "cell_type": "code",
   "execution_count": null,
   "id": "074b629f",
   "metadata": {},
   "outputs": [],
   "source": []
  }
 ],
 "metadata": {
  "kernelspec": {
   "display_name": "Python 3",
   "language": "python",
   "name": "python3"
  },
  "language_info": {
   "codemirror_mode": {
    "name": "ipython",
    "version": 3
   },
   "file_extension": ".py",
   "mimetype": "text/x-python",
   "name": "python",
   "nbconvert_exporter": "python",
   "pygments_lexer": "ipython3",
   "version": "3.10.7"
  }
 },
 "nbformat": 4,
 "nbformat_minor": 5
}
