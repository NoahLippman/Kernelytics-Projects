{
 "cells": [
  {
   "cell_type": "code",
   "execution_count": 4,
   "id": "db42a583",
   "metadata": {},
   "outputs": [
    {
     "name": "stdout",
     "output_type": "stream",
     "text": [
      "             Batter  xBA_per_AB  xBA_percentile  AB\n",
      "11   Tyler Thompson    0.409357        1.000000  19\n",
      "2      Cole Freeman    0.326797        0.923077  17\n",
      "10     Shea Zbrozek    0.320988        0.846154  18\n",
      "4     Jackson Smith    0.312757        0.769231  27\n",
      "12   Zach Zychowski    0.296296        0.692308  18\n",
      "3        Jack Novak    0.248677        0.615385  21\n",
      "8   Nolan Mccrossin    0.246914        0.538462  18\n",
      "0       Caleb Royer    0.241830        0.461538  17\n",
      "7     Michael Kuska    0.212121        0.384615  11\n",
      "5    Jackson Stanek    0.188034        0.307692  13\n",
      "1    Charlie Graham    0.161616        0.230769  11\n",
      "9      Ryan Colucci    0.059829        0.153846  13\n",
      "6     Kannan Kleine    0.018519        0.076923   6\n"
     ]
    }
   ],
   "source": [
    "import pandas as pd\n",
    "\n",
    "# Load the CSV\n",
    "df = pd.read_csv(\"cornbelters_xba.csv\")\n",
    "df = df[df['BatterTeam'] == 'Normal cornbelters']\n",
    "# Define what counts as an AB (at-bat)\n",
    "# Exclude: Walks, HitByPitch, Sacrifice, CatcherInterference, IntentionalWalk, etc.\n",
    "# Include: Out, Error, FieldersChoice, Single, Double, Triple, HomeRun, etc.\n",
    "\n",
    "# You may need to adjust these based on your dataset's PlayResult or KorBB values\n",
    "not_ab = [\n",
    "    \"Walk\", \"IntentionalWalk\", \"HitByPitch\", \"SacrificeBunt\", \"SacrificeFly\", \"CatcherInterference\"\n",
    "]\n",
    "# If you have a column for PlayResult or KorBB, use it to filter\n",
    "ab_mask = ~df[\"PlayResult\"].isin(not_ab)\n",
    "\n",
    "# Group by batter and calculate xBA/AB\n",
    "result = (\n",
    "    df[ab_mask]\n",
    "    .groupby(\"Batter\")\n",
    "    .agg(\n",
    "        AB=(\"PlayResult\", \"count\"),\n",
    "        xBA_sum=(\"xBA\", \"sum\")\n",
    "    )\n",
    "    .assign(xBA_per_AB=lambda x: x[\"xBA_sum\"] / x[\"AB\"])\n",
    "    .reset_index()\n",
    "    .sort_values(\"xBA_per_AB\", ascending=False)\n",
    ")\n",
    "\n",
    "result[\"xBA_percentile\"] = result[\"xBA_per_AB\"].rank(pct=True)\n",
    "\n",
    "# Sort by xBA_per_AB descending\n",
    "result = result.sort_values(\"xBA_per_AB\", ascending=False)\n",
    "\n",
    "# Show the result\n",
    "print(result[[\"Batter\", \"xBA_per_AB\", \"xBA_percentile\", \"AB\"]])"
   ]
  },
  {
   "cell_type": "code",
   "execution_count": null,
   "id": "501f22dd",
   "metadata": {},
   "outputs": [],
   "source": [
    "result.to_csv(\"cornbelters_xba.csv\" , index=False)"
   ]
  },
  {
   "cell_type": "code",
   "execution_count": null,
   "id": "b98df929",
   "metadata": {},
   "outputs": [],
   "source": []
  }
 ],
 "metadata": {
  "kernelspec": {
   "display_name": "Python 3",
   "language": "python",
   "name": "python3"
  },
  "language_info": {
   "codemirror_mode": {
    "name": "ipython",
    "version": 3
   },
   "file_extension": ".py",
   "mimetype": "text/x-python",
   "name": "python",
   "nbconvert_exporter": "python",
   "pygments_lexer": "ipython3",
   "version": "3.10.7"
  }
 },
 "nbformat": 4,
 "nbformat_minor": 5
}
