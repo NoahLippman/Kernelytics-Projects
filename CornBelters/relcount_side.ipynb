{
 "cells": [
  {
   "cell_type": "code",
   "execution_count": 1,
   "id": "f83b8ec5",
   "metadata": {},
   "outputs": [],
   "source": [
    "import pandas as pd\n",
    "import seaborn as sns"
   ]
  },
  {
   "cell_type": "code",
   "execution_count": 3,
   "id": "f0e7daf1",
   "metadata": {},
   "outputs": [],
   "source": [
    "df = pd.read_csv('Data/BeltersRex6-11.csv')"
   ]
  },
  {
   "cell_type": "code",
   "execution_count": 5,
   "id": "6b14794a",
   "metadata": {},
   "outputs": [],
   "source": [
    "df = df[['RelHeight','RelSide']]"
   ]
  },
  {
   "cell_type": "code",
   "execution_count": null,
   "id": "e7bf5982",
   "metadata": {},
   "outputs": [],
   "source": [
    "sns.histplot(data=df, x='RelHeight', y='RelSide', cbar=True,alpha=0.5)"
   ]
  }
 ],
 "metadata": {
  "kernelspec": {
   "display_name": "Python 3",
   "language": "python",
   "name": "python3"
  },
  "language_info": {
   "codemirror_mode": {
    "name": "ipython",
    "version": 3
   },
   "file_extension": ".py",
   "mimetype": "text/x-python",
   "name": "python",
   "nbconvert_exporter": "python",
   "pygments_lexer": "ipython3",
   "version": "3.10.7"
  }
 },
 "nbformat": 4,
 "nbformat_minor": 5
}
