{
 "cells": [
  {
   "cell_type": "code",
   "execution_count": 2,
   "id": "d1becd21",
   "metadata": {},
   "outputs": [],
   "source": [
    "import pandas as pd"
   ]
  },
  {
   "cell_type": "code",
   "execution_count": 4,
   "id": "d214e061",
   "metadata": {},
   "outputs": [],
   "source": [
    "df = pd.read_csv('Data/BeesBelters5-28.csv')"
   ]
  },
  {
   "cell_type": "code",
   "execution_count": null,
   "id": "8d73a9c0",
   "metadata": {},
   "outputs": [],
   "source": [
    "hit_chart_data = [df['Batter'] == 'Cole Freeman']"
   ]
  }
 ],
 "metadata": {
  "kernelspec": {
   "display_name": "Python 3",
   "language": "python",
   "name": "python3"
  },
  "language_info": {
   "codemirror_mode": {
    "name": "ipython",
    "version": 3
   },
   "file_extension": ".py",
   "mimetype": "text/x-python",
   "name": "python",
   "nbconvert_exporter": "python",
   "pygments_lexer": "ipython3",
   "version": "3.10.7"
  }
 },
 "nbformat": 4,
 "nbformat_minor": 5
}
