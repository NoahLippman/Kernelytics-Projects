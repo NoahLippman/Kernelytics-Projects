{
 "cells": [
  {
   "cell_type": "code",
   "execution_count": 1,
   "id": "2b7fadeb",
   "metadata": {},
   "outputs": [],
   "source": [
    "import pandas as pd"
   ]
  },
  {
   "cell_type": "code",
   "execution_count": null,
   "id": "0fe28625",
   "metadata": {},
   "outputs": [],
   "source": [
    "df = pd.read_csv('2025wStuff+.csv')"
   ]
  },
  {
   "cell_type": "code",
   "execution_count": null,
   "id": "6cca49a5",
   "metadata": {},
   "outputs": [
    {
     "name": "stderr",
     "output_type": "stream",
     "text": [
      "C:\\Users\\maxim\\AppData\\Local\\Temp\\ipykernel_7412\\388033212.py:4: DtypeWarning: Columns (6,10) have mixed types. Specify dtype option on import or set low_memory=False.\n",
      "  df1 = pd.read_csv('2025.csv')  # Replace with your first CSV file path\n"
     ]
    }
   ],
   "source": [
    "import pandas as pd\n",
    "\n",
    "# Load the two CSV files\n",
    "df1 = pd.read_csv('../Data/2025.csv')  # Replace with your first CSV file path\n",
    "df2 = pd.read_csv('CollegeStuff.csv')  # Replace with your second CSV file path\n",
    "\n",
    "# Merge the DataFrames on the common columns, including stuff+ from the second file\n",
    "common_columns = ['Pitcher', 'PitcherTeam', 'TaggedPitchType', 'PitchCall', 'PlayResult', \n",
    "                  'RelSpeed', 'SpinRate', 'RelHeight', 'RelSide', 'Extension', \n",
    "                  'InducedVertBreak', 'HorzBreak', 'PlateLocHeight', 'PlateLocSide']\n",
    "df_merged = pd.merge(df1, df2[common_columns + ['xWhiff','stuff+']], \n",
    "                     on=common_columns, \n",
    "                     how='inner')\n",
    "\n",
    "# Save the merged DataFrame to a new CSV file (optional)\n",
    "df_merged.to_csv('merged_file.csv', index=False)"
   ]
  },
  {
   "cell_type": "code",
   "execution_count": null,
   "id": "5e54f31f",
   "metadata": {},
   "outputs": [],
   "source": []
  }
 ],
 "metadata": {
  "kernelspec": {
   "display_name": "Python 3",
   "language": "python",
   "name": "python3"
  },
  "language_info": {
   "codemirror_mode": {
    "name": "ipython",
    "version": 3
   },
   "file_extension": ".py",
   "mimetype": "text/x-python",
   "name": "python",
   "nbconvert_exporter": "python",
   "pygments_lexer": "ipython3",
   "version": "3.10.7"
  }
 },
 "nbformat": 4,
 "nbformat_minor": 5
}
