{
 "cells": [
  {
   "cell_type": "code",
   "execution_count": 1,
   "id": "0b2a3499",
   "metadata": {},
   "outputs": [],
   "source": [
    "import pandas as pd"
   ]
  },
  {
   "cell_type": "code",
   "execution_count": 3,
   "id": "15a88b2b",
   "metadata": {},
   "outputs": [],
   "source": [
    "df = pd.read_csv('Data/BeltersAviators6-3.csv')"
   ]
  },
  {
   "cell_type": "code",
   "execution_count": null,
   "id": "0f8249cf",
   "metadata": {},
   "outputs": [],
   "source": [
    "df = df[df['Pitcher']==\"Zach O'Donnell\"]"
   ]
  },
  {
   "cell_type": "code",
   "execution_count": 5,
   "id": "244be485",
   "metadata": {},
   "outputs": [
    {
     "data": {
      "text/html": [
       "<div>\n",
       "<style scoped>\n",
       "    .dataframe tbody tr th:only-of-type {\n",
       "        vertical-align: middle;\n",
       "    }\n",
       "\n",
       "    .dataframe tbody tr th {\n",
       "        vertical-align: top;\n",
       "    }\n",
       "\n",
       "    .dataframe thead th {\n",
       "        text-align: right;\n",
       "    }\n",
       "</style>\n",
       "<table border=\"1\" class=\"dataframe\">\n",
       "  <thead>\n",
       "    <tr style=\"text-align: right;\">\n",
       "      <th></th>\n",
       "      <th>PitchNo</th>\n",
       "      <th>Date</th>\n",
       "      <th>Time</th>\n",
       "      <th>PAofInning</th>\n",
       "      <th>PitchofPA</th>\n",
       "      <th>Pitcher</th>\n",
       "      <th>PitcherId</th>\n",
       "      <th>PitcherThrows</th>\n",
       "      <th>PitcherTeam</th>\n",
       "      <th>Batter</th>\n",
       "      <th>...</th>\n",
       "      <th>In-zone take</th>\n",
       "      <th>In-zone whiff</th>\n",
       "      <th>In-zone/swing</th>\n",
       "      <th>LA&lt;10</th>\n",
       "      <th>Ground Ball?</th>\n",
       "      <th>Fly Ball?</th>\n",
       "      <th>EV&gt;90</th>\n",
       "      <th>EV&gt;100</th>\n",
       "      <th>EV&gt;105</th>\n",
       "      <th>Good Swing Decision</th>\n",
       "    </tr>\n",
       "  </thead>\n",
       "  <tbody>\n",
       "  </tbody>\n",
       "</table>\n",
       "<p>0 rows × 148 columns</p>\n",
       "</div>"
      ],
      "text/plain": [
       "Empty DataFrame\n",
       "Columns: [PitchNo, Date, Time, PAofInning, PitchofPA, Pitcher, PitcherId, PitcherThrows, PitcherTeam, Batter, BatterId, BatterSide, BatterTeam, PitcherSet, Inning, Top/Bottom, Outs, Balls, Strikes, TaggedPitchType, AutoPitchType, PitchCall, KorBB, TaggedHitType, PlayResult, OutsOnPlay, RunsScored, Notes, RelSpeed, VertRelAngle, HorzRelAngle, SpinRate, SpinAxis, Tilt, RelHeight, RelSide, Extension, VertBreak, InducedVertBreak, HorzBreak, PlateLocHeight, PlateLocSide, ZoneSpeed, VertApprAngle, HorzApprAngle, ZoneTime, ExitSpeed, Angle, Direction, HitSpinRate, PositionAt110X, PositionAt110Y, PositionAt110Z, Distance, LastTrackedDistance, Bearing, HangTime, pfxx, pfxz, x0, y0, z0, vx0, vy0, vz0, ax0, ay0, az0, HomeTeam, AwayTeam, Stadium, Level, League, GameID, PitchUUID, yt_RelSpeed, yt_RelHeight, yt_RelSide, yt_VertRelAngle, yt_HorzRelAngle, yt_ZoneSpeed, yt_PlateLocHeight, yt_PlateLocSide, yt_VertApprAngle, yt_HorzApprAngle, yt_ZoneTime, yt_HorzBreak, yt_InducedVertBreak, yt_OutOfPlane, yt_FSRI, yt_EffectiveSpin, yt_GyroSpin, yt_Efficiency, yt_SpinComponentX, yt_SpinComponentY, yt_SpinComponentZ, yt_HitVelocityX, yt_HitVelocityY, yt_HitVelocityZ, yt_HitLocationX, ...]\n",
       "Index: []\n",
       "\n",
       "[0 rows x 148 columns]"
      ]
     },
     "execution_count": 5,
     "metadata": {},
     "output_type": "execute_result"
    }
   ],
   "source": [
    "df[df['TaggedPitchType'] == 'Slider']"
   ]
  },
  {
   "cell_type": "code",
   "execution_count": null,
   "id": "d6150fdf",
   "metadata": {},
   "outputs": [],
   "source": []
  }
 ],
 "metadata": {
  "kernelspec": {
   "display_name": "Python 3",
   "language": "python",
   "name": "python3"
  },
  "language_info": {
   "codemirror_mode": {
    "name": "ipython",
    "version": 3
   },
   "file_extension": ".py",
   "mimetype": "text/x-python",
   "name": "python",
   "nbconvert_exporter": "python",
   "pygments_lexer": "ipython3",
   "version": "3.10.7"
  }
 },
 "nbformat": 4,
 "nbformat_minor": 5
}
