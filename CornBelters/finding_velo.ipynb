{
 "cells": [
  {
   "cell_type": "code",
   "execution_count": 1,
   "id": "0b2a3499",
   "metadata": {},
   "outputs": [],
   "source": [
    "import pandas as pd"
   ]
  },
  {
   "cell_type": "code",
   "execution_count": 3,
   "id": "15a88b2b",
   "metadata": {},
   "outputs": [],
   "source": [
    "df = pd.read_csv('Data/BeltersAviators6-3.csv')"
   ]
  },
  {
   "cell_type": "code",
   "execution_count": null,
   "id": "0f8249cf",
   "metadata": {},
   "outputs": [],
   "source": [
    "df = df[df['Pitcher']==\"Zach O'Donnell\"]"
   ]
  },
  {
   "cell_type": "code",
   "execution_count": null,
   "id": "244be485",
   "metadata": {},
   "outputs": [],
   "source": [
    "df['TaggedPitchType']"
   ]
  }
 ],
 "metadata": {
  "kernelspec": {
   "display_name": "Python 3",
   "language": "python",
   "name": "python3"
  },
  "language_info": {
   "codemirror_mode": {
    "name": "ipython",
    "version": 3
   },
   "file_extension": ".py",
   "mimetype": "text/x-python",
   "name": "python",
   "nbconvert_exporter": "python",
   "pygments_lexer": "ipython3",
   "version": "3.10.7"
  }
 },
 "nbformat": 4,
 "nbformat_minor": 5
}
