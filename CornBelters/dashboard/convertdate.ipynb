{
 "cells": [
  {
   "cell_type": "code",
   "execution_count": 2,
   "id": "da63b2e6",
   "metadata": {},
   "outputs": [
    {
     "name": "stdout",
     "output_type": "stream",
     "text": [
      "Converted dates saved to Data/2025.csv\n"
     ]
    }
   ],
   "source": [
    "import pandas as pd\n",
    "from dateutil import parser\n",
    "\n",
    "input_file = \"Data/2025.csv\"\n",
    "output_file = \"Data/2025.csv\"\n",
    "\n",
    "# Read the CSV\n",
    "df = pd.read_csv(input_file, dtype=str)\n",
    "\n",
    "def convert_date(date_str):\n",
    "    try:\n",
    "        dt = parser.parse(date_str, dayfirst=False)\n",
    "        return dt.strftime(\"%m/%d/%Y\")\n",
    "    except Exception:\n",
    "        return date_str  # leave unchanged if parsing fails\n",
    "\n",
    "df['Date'] = df['Date'].apply(convert_date)\n",
    "\n",
    "df.to_csv(output_file, index=False)\n",
    "print(f\"Converted dates saved to {output_file}\")"
   ]
  },
  {
   "cell_type": "code",
   "execution_count": null,
   "id": "2c4bf999",
   "metadata": {},
   "outputs": [],
   "source": []
  }
 ],
 "metadata": {
  "kernelspec": {
   "display_name": "Python 3",
   "language": "python",
   "name": "python3"
  },
  "language_info": {
   "codemirror_mode": {
    "name": "ipython",
    "version": 3
   },
   "file_extension": ".py",
   "mimetype": "text/x-python",
   "name": "python",
   "nbconvert_exporter": "python",
   "pygments_lexer": "ipython3",
   "version": "3.10.7"
  }
 },
 "nbformat": 4,
 "nbformat_minor": 5
}
