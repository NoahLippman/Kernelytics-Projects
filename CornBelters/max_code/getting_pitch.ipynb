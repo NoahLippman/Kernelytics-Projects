{
 "cells": [
  {
   "cell_type": "code",
   "execution_count": 1,
   "id": "c278e9d3",
   "metadata": {},
   "outputs": [],
   "source": [
    "import pandas as pd"
   ]
  },
  {
   "cell_type": "code",
   "execution_count": 13,
   "id": "68e82b02",
   "metadata": {},
   "outputs": [],
   "source": [
    "df = pd.read_csv('Data/BeesBelters5-29.csv')"
   ]
  },
  {
   "cell_type": "code",
   "execution_count": 14,
   "id": "bcdada44",
   "metadata": {},
   "outputs": [],
   "source": [
    "df = df[['Pitcher','SpinRate','InducedVertBreak','HorzBreak','TaggedPitchType','RelSpeed']]"
   ]
  },
  {
   "cell_type": "code",
   "execution_count": 15,
   "id": "d42ea2b8",
   "metadata": {},
   "outputs": [],
   "source": [
    "df = df[df['Pitcher'] == \"Zach O'donnell\"]"
   ]
  },
  {
   "cell_type": "code",
   "execution_count": 16,
   "id": "d2c7bec0",
   "metadata": {},
   "outputs": [],
   "source": [
    "df = df[df['TaggedPitchType'] == 'Fastball']"
   ]
  },
  {
   "cell_type": "code",
   "execution_count": 17,
   "id": "76baaa76",
   "metadata": {},
   "outputs": [],
   "source": [
    "df = df[df['RelSpeed'] < 80]"
   ]
  },
  {
   "cell_type": "code",
   "execution_count": 18,
   "id": "30997074",
   "metadata": {},
   "outputs": [
    {
     "data": {
      "text/html": [
       "<div>\n",
       "<style scoped>\n",
       "    .dataframe tbody tr th:only-of-type {\n",
       "        vertical-align: middle;\n",
       "    }\n",
       "\n",
       "    .dataframe tbody tr th {\n",
       "        vertical-align: top;\n",
       "    }\n",
       "\n",
       "    .dataframe thead th {\n",
       "        text-align: right;\n",
       "    }\n",
       "</style>\n",
       "<table border=\"1\" class=\"dataframe\">\n",
       "  <thead>\n",
       "    <tr style=\"text-align: right;\">\n",
       "      <th></th>\n",
       "      <th>Pitcher</th>\n",
       "      <th>SpinRate</th>\n",
       "      <th>InducedVertBreak</th>\n",
       "      <th>HorzBreak</th>\n",
       "      <th>TaggedPitchType</th>\n",
       "      <th>RelSpeed</th>\n",
       "    </tr>\n",
       "  </thead>\n",
       "  <tbody>\n",
       "    <tr>\n",
       "      <th>66</th>\n",
       "      <td>Zach O'donnell</td>\n",
       "      <td>1299.846975</td>\n",
       "      <td>7.670199</td>\n",
       "      <td>-17.14771</td>\n",
       "      <td>Fastball</td>\n",
       "      <td>77.475955</td>\n",
       "    </tr>\n",
       "  </tbody>\n",
       "</table>\n",
       "</div>"
      ],
      "text/plain": [
       "           Pitcher     SpinRate  InducedVertBreak  HorzBreak TaggedPitchType  \\\n",
       "66  Zach O'donnell  1299.846975          7.670199  -17.14771        Fastball   \n",
       "\n",
       "     RelSpeed  \n",
       "66  77.475955  "
      ]
     },
     "execution_count": 18,
     "metadata": {},
     "output_type": "execute_result"
    }
   ],
   "source": [
    "df"
   ]
  },
  {
   "cell_type": "code",
   "execution_count": null,
   "id": "56c4265b",
   "metadata": {},
   "outputs": [],
   "source": []
  }
 ],
 "metadata": {
  "kernelspec": {
   "display_name": "Python 3",
   "language": "python",
   "name": "python3"
  },
  "language_info": {
   "codemirror_mode": {
    "name": "ipython",
    "version": 3
   },
   "file_extension": ".py",
   "mimetype": "text/x-python",
   "name": "python",
   "nbconvert_exporter": "python",
   "pygments_lexer": "ipython3",
   "version": "3.10.7"
  }
 },
 "nbformat": 4,
 "nbformat_minor": 5
}
