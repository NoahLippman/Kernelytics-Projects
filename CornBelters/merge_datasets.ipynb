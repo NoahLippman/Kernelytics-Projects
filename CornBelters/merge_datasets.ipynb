{
 "cells": [
  {
   "cell_type": "code",
   "execution_count": 1,
   "id": "e7dd8110",
   "metadata": {},
   "outputs": [],
   "source": [
    "import pandas as pd"
   ]
  },
  {
   "cell_type": "code",
   "execution_count": 2,
   "id": "b164bf77",
   "metadata": {},
   "outputs": [],
   "source": [
    "\n",
    "df2 = pd.read_csv('Data/BeltersRex6-5.csv')\n",
    "df3 = pd.read_csv('Data/2025.csv')"
   ]
  },
  {
   "cell_type": "code",
   "execution_count": 3,
   "id": "0537f70f",
   "metadata": {},
   "outputs": [],
   "source": [
    "frames = [df2, df3]\n",
    "\n",
    "result = pd.concat(frames)"
   ]
  },
  {
   "cell_type": "code",
   "execution_count": 4,
   "id": "f241e61a",
   "metadata": {},
   "outputs": [],
   "source": [
    "result.to_csv('Data/2025.csv')"
   ]
  },
  {
   "cell_type": "code",
   "execution_count": 4,
   "id": "4eac5d19",
   "metadata": {},
   "outputs": [],
   "source": [
    "import glob\n",
    "import pandas as pd"
   ]
  },
  {
   "cell_type": "code",
   "execution_count": 5,
   "id": "b1c8cb43",
   "metadata": {},
   "outputs": [],
   "source": [
    "cornbelters_files = glob.glob(\"../CornBeltersData/*.csv\")\n",
    "\n",
    "all_files = cornbelters_files \n",
    "\n",
    "# Read and concatenate all CSVs into one DataFrame\n",
    "xba_data_list = [pd.read_csv(f) for f in all_files]\n",
    "df = pd.concat(xba_data_list, ignore_index=True)\n",
    "df.to_csv('Data/2025.csv', index=False)\n"
   ]
  },
  {
   "cell_type": "code",
   "execution_count": null,
   "id": "ba0df368",
   "metadata": {},
   "outputs": [],
   "source": []
  }
 ],
 "metadata": {
  "kernelspec": {
   "display_name": "Python 3",
   "language": "python",
   "name": "python3"
  },
  "language_info": {
   "codemirror_mode": {
    "name": "ipython",
    "version": 3
   },
   "file_extension": ".py",
   "mimetype": "text/x-python",
   "name": "python",
   "nbconvert_exporter": "python",
   "pygments_lexer": "ipython3",
   "version": "3.10.7"
  }
 },
 "nbformat": 4,
 "nbformat_minor": 5
}
